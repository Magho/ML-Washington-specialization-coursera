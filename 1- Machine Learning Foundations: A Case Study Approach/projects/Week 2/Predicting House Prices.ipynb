{
 "cells": [
  {
   "cell_type": "markdown",
   "metadata": {},
   "source": [
    "# Fire up graphlab create\n",
    "(See [Getting Started with SFrames](../Week%201/Getting%20Started%20with%20SFrames.ipynb) for setup instructions)"
   ]
  },
  {
   "cell_type": "code",
   "execution_count": 1,
   "metadata": {
    "collapsed": false
   },
   "outputs": [],
   "source": [
    "import graphlab"
   ]
  },
  {
   "cell_type": "code",
   "execution_count": 2,
   "metadata": {
    "collapsed": false
   },
   "outputs": [
    {
     "name": "stdout",
     "output_type": "stream",
     "text": [
      "This non-commercial license of GraphLab Create for academic use is assigned to mmaghraby134@gmail.com and will expire on November 15, 2018.\n"
     ]
    },
    {
     "name": "stderr",
     "output_type": "stream",
     "text": [
      "[INFO] graphlab.cython.cy_server: GraphLab Create v2.1 started. Logging: /tmp/graphlab_server_1519660988.log\n",
      "INFO:graphlab.cython.cy_server:GraphLab Create v2.1 started. Logging: /tmp/graphlab_server_1519660988.log\n"
     ]
    }
   ],
   "source": [
    "# Limit number of worker processes. This preserves system memory, which prevents hosted notebooks from crashing.\n",
    "graphlab.set_runtime_config('GRAPHLAB_DEFAULT_NUM_PYLAMBDA_WORKERS', 4)"
   ]
  },
  {
   "cell_type": "markdown",
   "metadata": {},
   "source": [
    "# Load some house sales data\n",
    "\n",
    "Dataset is from house sales in King County, the region where the city of Seattle, WA is located."
   ]
  },
  {
   "cell_type": "code",
   "execution_count": 3,
   "metadata": {
    "collapsed": false
   },
   "outputs": [],
   "source": [
    "sales = graphlab.SFrame('home_data.gl/')"
   ]
  },
  {
   "cell_type": "code",
   "execution_count": 4,
   "metadata": {
    "collapsed": false
   },
   "outputs": [
    {
     "data": {
      "text/html": [
       "<div style=\"max-height:1000px;max-width:1500px;overflow:auto;\"><table frame=\"box\" rules=\"cols\">\n",
       "    <tr>\n",
       "        <th style=\"padding-left: 1em; padding-right: 1em; text-align: center\">id</th>\n",
       "        <th style=\"padding-left: 1em; padding-right: 1em; text-align: center\">date</th>\n",
       "        <th style=\"padding-left: 1em; padding-right: 1em; text-align: center\">price</th>\n",
       "        <th style=\"padding-left: 1em; padding-right: 1em; text-align: center\">bedrooms</th>\n",
       "        <th style=\"padding-left: 1em; padding-right: 1em; text-align: center\">bathrooms</th>\n",
       "        <th style=\"padding-left: 1em; padding-right: 1em; text-align: center\">sqft_living</th>\n",
       "        <th style=\"padding-left: 1em; padding-right: 1em; text-align: center\">sqft_lot</th>\n",
       "        <th style=\"padding-left: 1em; padding-right: 1em; text-align: center\">floors</th>\n",
       "        <th style=\"padding-left: 1em; padding-right: 1em; text-align: center\">waterfront</th>\n",
       "    </tr>\n",
       "    <tr>\n",
       "        <td style=\"padding-left: 1em; padding-right: 1em; text-align: center; vertical-align: top\">7129300520</td>\n",
       "        <td style=\"padding-left: 1em; padding-right: 1em; text-align: center; vertical-align: top\">2014-10-13 00:00:00+00:00</td>\n",
       "        <td style=\"padding-left: 1em; padding-right: 1em; text-align: center; vertical-align: top\">221900</td>\n",
       "        <td style=\"padding-left: 1em; padding-right: 1em; text-align: center; vertical-align: top\">3</td>\n",
       "        <td style=\"padding-left: 1em; padding-right: 1em; text-align: center; vertical-align: top\">1</td>\n",
       "        <td style=\"padding-left: 1em; padding-right: 1em; text-align: center; vertical-align: top\">1180</td>\n",
       "        <td style=\"padding-left: 1em; padding-right: 1em; text-align: center; vertical-align: top\">5650</td>\n",
       "        <td style=\"padding-left: 1em; padding-right: 1em; text-align: center; vertical-align: top\">1</td>\n",
       "        <td style=\"padding-left: 1em; padding-right: 1em; text-align: center; vertical-align: top\">0</td>\n",
       "    </tr>\n",
       "    <tr>\n",
       "        <td style=\"padding-left: 1em; padding-right: 1em; text-align: center; vertical-align: top\">6414100192</td>\n",
       "        <td style=\"padding-left: 1em; padding-right: 1em; text-align: center; vertical-align: top\">2014-12-09 00:00:00+00:00</td>\n",
       "        <td style=\"padding-left: 1em; padding-right: 1em; text-align: center; vertical-align: top\">538000</td>\n",
       "        <td style=\"padding-left: 1em; padding-right: 1em; text-align: center; vertical-align: top\">3</td>\n",
       "        <td style=\"padding-left: 1em; padding-right: 1em; text-align: center; vertical-align: top\">2.25</td>\n",
       "        <td style=\"padding-left: 1em; padding-right: 1em; text-align: center; vertical-align: top\">2570</td>\n",
       "        <td style=\"padding-left: 1em; padding-right: 1em; text-align: center; vertical-align: top\">7242</td>\n",
       "        <td style=\"padding-left: 1em; padding-right: 1em; text-align: center; vertical-align: top\">2</td>\n",
       "        <td style=\"padding-left: 1em; padding-right: 1em; text-align: center; vertical-align: top\">0</td>\n",
       "    </tr>\n",
       "    <tr>\n",
       "        <td style=\"padding-left: 1em; padding-right: 1em; text-align: center; vertical-align: top\">5631500400</td>\n",
       "        <td style=\"padding-left: 1em; padding-right: 1em; text-align: center; vertical-align: top\">2015-02-25 00:00:00+00:00</td>\n",
       "        <td style=\"padding-left: 1em; padding-right: 1em; text-align: center; vertical-align: top\">180000</td>\n",
       "        <td style=\"padding-left: 1em; padding-right: 1em; text-align: center; vertical-align: top\">2</td>\n",
       "        <td style=\"padding-left: 1em; padding-right: 1em; text-align: center; vertical-align: top\">1</td>\n",
       "        <td style=\"padding-left: 1em; padding-right: 1em; text-align: center; vertical-align: top\">770</td>\n",
       "        <td style=\"padding-left: 1em; padding-right: 1em; text-align: center; vertical-align: top\">10000</td>\n",
       "        <td style=\"padding-left: 1em; padding-right: 1em; text-align: center; vertical-align: top\">1</td>\n",
       "        <td style=\"padding-left: 1em; padding-right: 1em; text-align: center; vertical-align: top\">0</td>\n",
       "    </tr>\n",
       "    <tr>\n",
       "        <td style=\"padding-left: 1em; padding-right: 1em; text-align: center; vertical-align: top\">2487200875</td>\n",
       "        <td style=\"padding-left: 1em; padding-right: 1em; text-align: center; vertical-align: top\">2014-12-09 00:00:00+00:00</td>\n",
       "        <td style=\"padding-left: 1em; padding-right: 1em; text-align: center; vertical-align: top\">604000</td>\n",
       "        <td style=\"padding-left: 1em; padding-right: 1em; text-align: center; vertical-align: top\">4</td>\n",
       "        <td style=\"padding-left: 1em; padding-right: 1em; text-align: center; vertical-align: top\">3</td>\n",
       "        <td style=\"padding-left: 1em; padding-right: 1em; text-align: center; vertical-align: top\">1960</td>\n",
       "        <td style=\"padding-left: 1em; padding-right: 1em; text-align: center; vertical-align: top\">5000</td>\n",
       "        <td style=\"padding-left: 1em; padding-right: 1em; text-align: center; vertical-align: top\">1</td>\n",
       "        <td style=\"padding-left: 1em; padding-right: 1em; text-align: center; vertical-align: top\">0</td>\n",
       "    </tr>\n",
       "    <tr>\n",
       "        <td style=\"padding-left: 1em; padding-right: 1em; text-align: center; vertical-align: top\">1954400510</td>\n",
       "        <td style=\"padding-left: 1em; padding-right: 1em; text-align: center; vertical-align: top\">2015-02-18 00:00:00+00:00</td>\n",
       "        <td style=\"padding-left: 1em; padding-right: 1em; text-align: center; vertical-align: top\">510000</td>\n",
       "        <td style=\"padding-left: 1em; padding-right: 1em; text-align: center; vertical-align: top\">3</td>\n",
       "        <td style=\"padding-left: 1em; padding-right: 1em; text-align: center; vertical-align: top\">2</td>\n",
       "        <td style=\"padding-left: 1em; padding-right: 1em; text-align: center; vertical-align: top\">1680</td>\n",
       "        <td style=\"padding-left: 1em; padding-right: 1em; text-align: center; vertical-align: top\">8080</td>\n",
       "        <td style=\"padding-left: 1em; padding-right: 1em; text-align: center; vertical-align: top\">1</td>\n",
       "        <td style=\"padding-left: 1em; padding-right: 1em; text-align: center; vertical-align: top\">0</td>\n",
       "    </tr>\n",
       "    <tr>\n",
       "        <td style=\"padding-left: 1em; padding-right: 1em; text-align: center; vertical-align: top\">7237550310</td>\n",
       "        <td style=\"padding-left: 1em; padding-right: 1em; text-align: center; vertical-align: top\">2014-05-12 00:00:00+00:00</td>\n",
       "        <td style=\"padding-left: 1em; padding-right: 1em; text-align: center; vertical-align: top\">1225000</td>\n",
       "        <td style=\"padding-left: 1em; padding-right: 1em; text-align: center; vertical-align: top\">4</td>\n",
       "        <td style=\"padding-left: 1em; padding-right: 1em; text-align: center; vertical-align: top\">4.5</td>\n",
       "        <td style=\"padding-left: 1em; padding-right: 1em; text-align: center; vertical-align: top\">5420</td>\n",
       "        <td style=\"padding-left: 1em; padding-right: 1em; text-align: center; vertical-align: top\">101930</td>\n",
       "        <td style=\"padding-left: 1em; padding-right: 1em; text-align: center; vertical-align: top\">1</td>\n",
       "        <td style=\"padding-left: 1em; padding-right: 1em; text-align: center; vertical-align: top\">0</td>\n",
       "    </tr>\n",
       "    <tr>\n",
       "        <td style=\"padding-left: 1em; padding-right: 1em; text-align: center; vertical-align: top\">1321400060</td>\n",
       "        <td style=\"padding-left: 1em; padding-right: 1em; text-align: center; vertical-align: top\">2014-06-27 00:00:00+00:00</td>\n",
       "        <td style=\"padding-left: 1em; padding-right: 1em; text-align: center; vertical-align: top\">257500</td>\n",
       "        <td style=\"padding-left: 1em; padding-right: 1em; text-align: center; vertical-align: top\">3</td>\n",
       "        <td style=\"padding-left: 1em; padding-right: 1em; text-align: center; vertical-align: top\">2.25</td>\n",
       "        <td style=\"padding-left: 1em; padding-right: 1em; text-align: center; vertical-align: top\">1715</td>\n",
       "        <td style=\"padding-left: 1em; padding-right: 1em; text-align: center; vertical-align: top\">6819</td>\n",
       "        <td style=\"padding-left: 1em; padding-right: 1em; text-align: center; vertical-align: top\">2</td>\n",
       "        <td style=\"padding-left: 1em; padding-right: 1em; text-align: center; vertical-align: top\">0</td>\n",
       "    </tr>\n",
       "    <tr>\n",
       "        <td style=\"padding-left: 1em; padding-right: 1em; text-align: center; vertical-align: top\">2008000270</td>\n",
       "        <td style=\"padding-left: 1em; padding-right: 1em; text-align: center; vertical-align: top\">2015-01-15 00:00:00+00:00</td>\n",
       "        <td style=\"padding-left: 1em; padding-right: 1em; text-align: center; vertical-align: top\">291850</td>\n",
       "        <td style=\"padding-left: 1em; padding-right: 1em; text-align: center; vertical-align: top\">3</td>\n",
       "        <td style=\"padding-left: 1em; padding-right: 1em; text-align: center; vertical-align: top\">1.5</td>\n",
       "        <td style=\"padding-left: 1em; padding-right: 1em; text-align: center; vertical-align: top\">1060</td>\n",
       "        <td style=\"padding-left: 1em; padding-right: 1em; text-align: center; vertical-align: top\">9711</td>\n",
       "        <td style=\"padding-left: 1em; padding-right: 1em; text-align: center; vertical-align: top\">1</td>\n",
       "        <td style=\"padding-left: 1em; padding-right: 1em; text-align: center; vertical-align: top\">0</td>\n",
       "    </tr>\n",
       "    <tr>\n",
       "        <td style=\"padding-left: 1em; padding-right: 1em; text-align: center; vertical-align: top\">2414600126</td>\n",
       "        <td style=\"padding-left: 1em; padding-right: 1em; text-align: center; vertical-align: top\">2015-04-15 00:00:00+00:00</td>\n",
       "        <td style=\"padding-left: 1em; padding-right: 1em; text-align: center; vertical-align: top\">229500</td>\n",
       "        <td style=\"padding-left: 1em; padding-right: 1em; text-align: center; vertical-align: top\">3</td>\n",
       "        <td style=\"padding-left: 1em; padding-right: 1em; text-align: center; vertical-align: top\">1</td>\n",
       "        <td style=\"padding-left: 1em; padding-right: 1em; text-align: center; vertical-align: top\">1780</td>\n",
       "        <td style=\"padding-left: 1em; padding-right: 1em; text-align: center; vertical-align: top\">7470</td>\n",
       "        <td style=\"padding-left: 1em; padding-right: 1em; text-align: center; vertical-align: top\">1</td>\n",
       "        <td style=\"padding-left: 1em; padding-right: 1em; text-align: center; vertical-align: top\">0</td>\n",
       "    </tr>\n",
       "    <tr>\n",
       "        <td style=\"padding-left: 1em; padding-right: 1em; text-align: center; vertical-align: top\">3793500160</td>\n",
       "        <td style=\"padding-left: 1em; padding-right: 1em; text-align: center; vertical-align: top\">2015-03-12 00:00:00+00:00</td>\n",
       "        <td style=\"padding-left: 1em; padding-right: 1em; text-align: center; vertical-align: top\">323000</td>\n",
       "        <td style=\"padding-left: 1em; padding-right: 1em; text-align: center; vertical-align: top\">3</td>\n",
       "        <td style=\"padding-left: 1em; padding-right: 1em; text-align: center; vertical-align: top\">2.5</td>\n",
       "        <td style=\"padding-left: 1em; padding-right: 1em; text-align: center; vertical-align: top\">1890</td>\n",
       "        <td style=\"padding-left: 1em; padding-right: 1em; text-align: center; vertical-align: top\">6560</td>\n",
       "        <td style=\"padding-left: 1em; padding-right: 1em; text-align: center; vertical-align: top\">2</td>\n",
       "        <td style=\"padding-left: 1em; padding-right: 1em; text-align: center; vertical-align: top\">0</td>\n",
       "    </tr>\n",
       "</table>\n",
       "<table frame=\"box\" rules=\"cols\">\n",
       "    <tr>\n",
       "        <th style=\"padding-left: 1em; padding-right: 1em; text-align: center\">view</th>\n",
       "        <th style=\"padding-left: 1em; padding-right: 1em; text-align: center\">condition</th>\n",
       "        <th style=\"padding-left: 1em; padding-right: 1em; text-align: center\">grade</th>\n",
       "        <th style=\"padding-left: 1em; padding-right: 1em; text-align: center\">sqft_above</th>\n",
       "        <th style=\"padding-left: 1em; padding-right: 1em; text-align: center\">sqft_basement</th>\n",
       "        <th style=\"padding-left: 1em; padding-right: 1em; text-align: center\">yr_built</th>\n",
       "        <th style=\"padding-left: 1em; padding-right: 1em; text-align: center\">yr_renovated</th>\n",
       "        <th style=\"padding-left: 1em; padding-right: 1em; text-align: center\">zipcode</th>\n",
       "        <th style=\"padding-left: 1em; padding-right: 1em; text-align: center\">lat</th>\n",
       "    </tr>\n",
       "    <tr>\n",
       "        <td style=\"padding-left: 1em; padding-right: 1em; text-align: center; vertical-align: top\">0</td>\n",
       "        <td style=\"padding-left: 1em; padding-right: 1em; text-align: center; vertical-align: top\">3</td>\n",
       "        <td style=\"padding-left: 1em; padding-right: 1em; text-align: center; vertical-align: top\">7</td>\n",
       "        <td style=\"padding-left: 1em; padding-right: 1em; text-align: center; vertical-align: top\">1180</td>\n",
       "        <td style=\"padding-left: 1em; padding-right: 1em; text-align: center; vertical-align: top\">0</td>\n",
       "        <td style=\"padding-left: 1em; padding-right: 1em; text-align: center; vertical-align: top\">1955</td>\n",
       "        <td style=\"padding-left: 1em; padding-right: 1em; text-align: center; vertical-align: top\">0</td>\n",
       "        <td style=\"padding-left: 1em; padding-right: 1em; text-align: center; vertical-align: top\">98178</td>\n",
       "        <td style=\"padding-left: 1em; padding-right: 1em; text-align: center; vertical-align: top\">47.51123398</td>\n",
       "    </tr>\n",
       "    <tr>\n",
       "        <td style=\"padding-left: 1em; padding-right: 1em; text-align: center; vertical-align: top\">0</td>\n",
       "        <td style=\"padding-left: 1em; padding-right: 1em; text-align: center; vertical-align: top\">3</td>\n",
       "        <td style=\"padding-left: 1em; padding-right: 1em; text-align: center; vertical-align: top\">7</td>\n",
       "        <td style=\"padding-left: 1em; padding-right: 1em; text-align: center; vertical-align: top\">2170</td>\n",
       "        <td style=\"padding-left: 1em; padding-right: 1em; text-align: center; vertical-align: top\">400</td>\n",
       "        <td style=\"padding-left: 1em; padding-right: 1em; text-align: center; vertical-align: top\">1951</td>\n",
       "        <td style=\"padding-left: 1em; padding-right: 1em; text-align: center; vertical-align: top\">1991</td>\n",
       "        <td style=\"padding-left: 1em; padding-right: 1em; text-align: center; vertical-align: top\">98125</td>\n",
       "        <td style=\"padding-left: 1em; padding-right: 1em; text-align: center; vertical-align: top\">47.72102274</td>\n",
       "    </tr>\n",
       "    <tr>\n",
       "        <td style=\"padding-left: 1em; padding-right: 1em; text-align: center; vertical-align: top\">0</td>\n",
       "        <td style=\"padding-left: 1em; padding-right: 1em; text-align: center; vertical-align: top\">3</td>\n",
       "        <td style=\"padding-left: 1em; padding-right: 1em; text-align: center; vertical-align: top\">6</td>\n",
       "        <td style=\"padding-left: 1em; padding-right: 1em; text-align: center; vertical-align: top\">770</td>\n",
       "        <td style=\"padding-left: 1em; padding-right: 1em; text-align: center; vertical-align: top\">0</td>\n",
       "        <td style=\"padding-left: 1em; padding-right: 1em; text-align: center; vertical-align: top\">1933</td>\n",
       "        <td style=\"padding-left: 1em; padding-right: 1em; text-align: center; vertical-align: top\">0</td>\n",
       "        <td style=\"padding-left: 1em; padding-right: 1em; text-align: center; vertical-align: top\">98028</td>\n",
       "        <td style=\"padding-left: 1em; padding-right: 1em; text-align: center; vertical-align: top\">47.73792661</td>\n",
       "    </tr>\n",
       "    <tr>\n",
       "        <td style=\"padding-left: 1em; padding-right: 1em; text-align: center; vertical-align: top\">0</td>\n",
       "        <td style=\"padding-left: 1em; padding-right: 1em; text-align: center; vertical-align: top\">5</td>\n",
       "        <td style=\"padding-left: 1em; padding-right: 1em; text-align: center; vertical-align: top\">7</td>\n",
       "        <td style=\"padding-left: 1em; padding-right: 1em; text-align: center; vertical-align: top\">1050</td>\n",
       "        <td style=\"padding-left: 1em; padding-right: 1em; text-align: center; vertical-align: top\">910</td>\n",
       "        <td style=\"padding-left: 1em; padding-right: 1em; text-align: center; vertical-align: top\">1965</td>\n",
       "        <td style=\"padding-left: 1em; padding-right: 1em; text-align: center; vertical-align: top\">0</td>\n",
       "        <td style=\"padding-left: 1em; padding-right: 1em; text-align: center; vertical-align: top\">98136</td>\n",
       "        <td style=\"padding-left: 1em; padding-right: 1em; text-align: center; vertical-align: top\">47.52082</td>\n",
       "    </tr>\n",
       "    <tr>\n",
       "        <td style=\"padding-left: 1em; padding-right: 1em; text-align: center; vertical-align: top\">0</td>\n",
       "        <td style=\"padding-left: 1em; padding-right: 1em; text-align: center; vertical-align: top\">3</td>\n",
       "        <td style=\"padding-left: 1em; padding-right: 1em; text-align: center; vertical-align: top\">8</td>\n",
       "        <td style=\"padding-left: 1em; padding-right: 1em; text-align: center; vertical-align: top\">1680</td>\n",
       "        <td style=\"padding-left: 1em; padding-right: 1em; text-align: center; vertical-align: top\">0</td>\n",
       "        <td style=\"padding-left: 1em; padding-right: 1em; text-align: center; vertical-align: top\">1987</td>\n",
       "        <td style=\"padding-left: 1em; padding-right: 1em; text-align: center; vertical-align: top\">0</td>\n",
       "        <td style=\"padding-left: 1em; padding-right: 1em; text-align: center; vertical-align: top\">98074</td>\n",
       "        <td style=\"padding-left: 1em; padding-right: 1em; text-align: center; vertical-align: top\">47.61681228</td>\n",
       "    </tr>\n",
       "    <tr>\n",
       "        <td style=\"padding-left: 1em; padding-right: 1em; text-align: center; vertical-align: top\">0</td>\n",
       "        <td style=\"padding-left: 1em; padding-right: 1em; text-align: center; vertical-align: top\">3</td>\n",
       "        <td style=\"padding-left: 1em; padding-right: 1em; text-align: center; vertical-align: top\">11</td>\n",
       "        <td style=\"padding-left: 1em; padding-right: 1em; text-align: center; vertical-align: top\">3890</td>\n",
       "        <td style=\"padding-left: 1em; padding-right: 1em; text-align: center; vertical-align: top\">1530</td>\n",
       "        <td style=\"padding-left: 1em; padding-right: 1em; text-align: center; vertical-align: top\">2001</td>\n",
       "        <td style=\"padding-left: 1em; padding-right: 1em; text-align: center; vertical-align: top\">0</td>\n",
       "        <td style=\"padding-left: 1em; padding-right: 1em; text-align: center; vertical-align: top\">98053</td>\n",
       "        <td style=\"padding-left: 1em; padding-right: 1em; text-align: center; vertical-align: top\">47.65611835</td>\n",
       "    </tr>\n",
       "    <tr>\n",
       "        <td style=\"padding-left: 1em; padding-right: 1em; text-align: center; vertical-align: top\">0</td>\n",
       "        <td style=\"padding-left: 1em; padding-right: 1em; text-align: center; vertical-align: top\">3</td>\n",
       "        <td style=\"padding-left: 1em; padding-right: 1em; text-align: center; vertical-align: top\">7</td>\n",
       "        <td style=\"padding-left: 1em; padding-right: 1em; text-align: center; vertical-align: top\">1715</td>\n",
       "        <td style=\"padding-left: 1em; padding-right: 1em; text-align: center; vertical-align: top\">0</td>\n",
       "        <td style=\"padding-left: 1em; padding-right: 1em; text-align: center; vertical-align: top\">1995</td>\n",
       "        <td style=\"padding-left: 1em; padding-right: 1em; text-align: center; vertical-align: top\">0</td>\n",
       "        <td style=\"padding-left: 1em; padding-right: 1em; text-align: center; vertical-align: top\">98003</td>\n",
       "        <td style=\"padding-left: 1em; padding-right: 1em; text-align: center; vertical-align: top\">47.30972002</td>\n",
       "    </tr>\n",
       "    <tr>\n",
       "        <td style=\"padding-left: 1em; padding-right: 1em; text-align: center; vertical-align: top\">0</td>\n",
       "        <td style=\"padding-left: 1em; padding-right: 1em; text-align: center; vertical-align: top\">3</td>\n",
       "        <td style=\"padding-left: 1em; padding-right: 1em; text-align: center; vertical-align: top\">7</td>\n",
       "        <td style=\"padding-left: 1em; padding-right: 1em; text-align: center; vertical-align: top\">1060</td>\n",
       "        <td style=\"padding-left: 1em; padding-right: 1em; text-align: center; vertical-align: top\">0</td>\n",
       "        <td style=\"padding-left: 1em; padding-right: 1em; text-align: center; vertical-align: top\">1963</td>\n",
       "        <td style=\"padding-left: 1em; padding-right: 1em; text-align: center; vertical-align: top\">0</td>\n",
       "        <td style=\"padding-left: 1em; padding-right: 1em; text-align: center; vertical-align: top\">98198</td>\n",
       "        <td style=\"padding-left: 1em; padding-right: 1em; text-align: center; vertical-align: top\">47.40949984</td>\n",
       "    </tr>\n",
       "    <tr>\n",
       "        <td style=\"padding-left: 1em; padding-right: 1em; text-align: center; vertical-align: top\">0</td>\n",
       "        <td style=\"padding-left: 1em; padding-right: 1em; text-align: center; vertical-align: top\">3</td>\n",
       "        <td style=\"padding-left: 1em; padding-right: 1em; text-align: center; vertical-align: top\">7</td>\n",
       "        <td style=\"padding-left: 1em; padding-right: 1em; text-align: center; vertical-align: top\">1050</td>\n",
       "        <td style=\"padding-left: 1em; padding-right: 1em; text-align: center; vertical-align: top\">730</td>\n",
       "        <td style=\"padding-left: 1em; padding-right: 1em; text-align: center; vertical-align: top\">1960</td>\n",
       "        <td style=\"padding-left: 1em; padding-right: 1em; text-align: center; vertical-align: top\">0</td>\n",
       "        <td style=\"padding-left: 1em; padding-right: 1em; text-align: center; vertical-align: top\">98146</td>\n",
       "        <td style=\"padding-left: 1em; padding-right: 1em; text-align: center; vertical-align: top\">47.51229381</td>\n",
       "    </tr>\n",
       "    <tr>\n",
       "        <td style=\"padding-left: 1em; padding-right: 1em; text-align: center; vertical-align: top\">0</td>\n",
       "        <td style=\"padding-left: 1em; padding-right: 1em; text-align: center; vertical-align: top\">3</td>\n",
       "        <td style=\"padding-left: 1em; padding-right: 1em; text-align: center; vertical-align: top\">7</td>\n",
       "        <td style=\"padding-left: 1em; padding-right: 1em; text-align: center; vertical-align: top\">1890</td>\n",
       "        <td style=\"padding-left: 1em; padding-right: 1em; text-align: center; vertical-align: top\">0</td>\n",
       "        <td style=\"padding-left: 1em; padding-right: 1em; text-align: center; vertical-align: top\">2003</td>\n",
       "        <td style=\"padding-left: 1em; padding-right: 1em; text-align: center; vertical-align: top\">0</td>\n",
       "        <td style=\"padding-left: 1em; padding-right: 1em; text-align: center; vertical-align: top\">98038</td>\n",
       "        <td style=\"padding-left: 1em; padding-right: 1em; text-align: center; vertical-align: top\">47.36840673</td>\n",
       "    </tr>\n",
       "</table>\n",
       "<table frame=\"box\" rules=\"cols\">\n",
       "    <tr>\n",
       "        <th style=\"padding-left: 1em; padding-right: 1em; text-align: center\">long</th>\n",
       "        <th style=\"padding-left: 1em; padding-right: 1em; text-align: center\">sqft_living15</th>\n",
       "        <th style=\"padding-left: 1em; padding-right: 1em; text-align: center\">sqft_lot15</th>\n",
       "    </tr>\n",
       "    <tr>\n",
       "        <td style=\"padding-left: 1em; padding-right: 1em; text-align: center; vertical-align: top\">-122.25677536</td>\n",
       "        <td style=\"padding-left: 1em; padding-right: 1em; text-align: center; vertical-align: top\">1340.0</td>\n",
       "        <td style=\"padding-left: 1em; padding-right: 1em; text-align: center; vertical-align: top\">5650.0</td>\n",
       "    </tr>\n",
       "    <tr>\n",
       "        <td style=\"padding-left: 1em; padding-right: 1em; text-align: center; vertical-align: top\">-122.3188624</td>\n",
       "        <td style=\"padding-left: 1em; padding-right: 1em; text-align: center; vertical-align: top\">1690.0</td>\n",
       "        <td style=\"padding-left: 1em; padding-right: 1em; text-align: center; vertical-align: top\">7639.0</td>\n",
       "    </tr>\n",
       "    <tr>\n",
       "        <td style=\"padding-left: 1em; padding-right: 1em; text-align: center; vertical-align: top\">-122.23319601</td>\n",
       "        <td style=\"padding-left: 1em; padding-right: 1em; text-align: center; vertical-align: top\">2720.0</td>\n",
       "        <td style=\"padding-left: 1em; padding-right: 1em; text-align: center; vertical-align: top\">8062.0</td>\n",
       "    </tr>\n",
       "    <tr>\n",
       "        <td style=\"padding-left: 1em; padding-right: 1em; text-align: center; vertical-align: top\">-122.39318505</td>\n",
       "        <td style=\"padding-left: 1em; padding-right: 1em; text-align: center; vertical-align: top\">1360.0</td>\n",
       "        <td style=\"padding-left: 1em; padding-right: 1em; text-align: center; vertical-align: top\">5000.0</td>\n",
       "    </tr>\n",
       "    <tr>\n",
       "        <td style=\"padding-left: 1em; padding-right: 1em; text-align: center; vertical-align: top\">-122.04490059</td>\n",
       "        <td style=\"padding-left: 1em; padding-right: 1em; text-align: center; vertical-align: top\">1800.0</td>\n",
       "        <td style=\"padding-left: 1em; padding-right: 1em; text-align: center; vertical-align: top\">7503.0</td>\n",
       "    </tr>\n",
       "    <tr>\n",
       "        <td style=\"padding-left: 1em; padding-right: 1em; text-align: center; vertical-align: top\">-122.00528655</td>\n",
       "        <td style=\"padding-left: 1em; padding-right: 1em; text-align: center; vertical-align: top\">4760.0</td>\n",
       "        <td style=\"padding-left: 1em; padding-right: 1em; text-align: center; vertical-align: top\">101930.0</td>\n",
       "    </tr>\n",
       "    <tr>\n",
       "        <td style=\"padding-left: 1em; padding-right: 1em; text-align: center; vertical-align: top\">-122.32704857</td>\n",
       "        <td style=\"padding-left: 1em; padding-right: 1em; text-align: center; vertical-align: top\">2238.0</td>\n",
       "        <td style=\"padding-left: 1em; padding-right: 1em; text-align: center; vertical-align: top\">6819.0</td>\n",
       "    </tr>\n",
       "    <tr>\n",
       "        <td style=\"padding-left: 1em; padding-right: 1em; text-align: center; vertical-align: top\">-122.31457273</td>\n",
       "        <td style=\"padding-left: 1em; padding-right: 1em; text-align: center; vertical-align: top\">1650.0</td>\n",
       "        <td style=\"padding-left: 1em; padding-right: 1em; text-align: center; vertical-align: top\">9711.0</td>\n",
       "    </tr>\n",
       "    <tr>\n",
       "        <td style=\"padding-left: 1em; padding-right: 1em; text-align: center; vertical-align: top\">-122.33659507</td>\n",
       "        <td style=\"padding-left: 1em; padding-right: 1em; text-align: center; vertical-align: top\">1780.0</td>\n",
       "        <td style=\"padding-left: 1em; padding-right: 1em; text-align: center; vertical-align: top\">8113.0</td>\n",
       "    </tr>\n",
       "    <tr>\n",
       "        <td style=\"padding-left: 1em; padding-right: 1em; text-align: center; vertical-align: top\">-122.0308176</td>\n",
       "        <td style=\"padding-left: 1em; padding-right: 1em; text-align: center; vertical-align: top\">2390.0</td>\n",
       "        <td style=\"padding-left: 1em; padding-right: 1em; text-align: center; vertical-align: top\">7570.0</td>\n",
       "    </tr>\n",
       "</table>\n",
       "[21613 rows x 21 columns]<br/>Note: Only the head of the SFrame is printed.<br/>You can use print_rows(num_rows=m, num_columns=n) to print more rows and columns.\n",
       "</div>"
      ],
      "text/plain": [
       "Columns:\n",
       "\tid\tstr\n",
       "\tdate\tdatetime\n",
       "\tprice\tint\n",
       "\tbedrooms\tstr\n",
       "\tbathrooms\tstr\n",
       "\tsqft_living\tint\n",
       "\tsqft_lot\tint\n",
       "\tfloors\tstr\n",
       "\twaterfront\tint\n",
       "\tview\tint\n",
       "\tcondition\tint\n",
       "\tgrade\tint\n",
       "\tsqft_above\tint\n",
       "\tsqft_basement\tint\n",
       "\tyr_built\tint\n",
       "\tyr_renovated\tint\n",
       "\tzipcode\tstr\n",
       "\tlat\tfloat\n",
       "\tlong\tfloat\n",
       "\tsqft_living15\tfloat\n",
       "\tsqft_lot15\tfloat\n",
       "\n",
       "Rows: 21613\n",
       "\n",
       "Data:\n",
       "+------------+---------------------------+---------+----------+-----------+-------------+\n",
       "|     id     |            date           |  price  | bedrooms | bathrooms | sqft_living |\n",
       "+------------+---------------------------+---------+----------+-----------+-------------+\n",
       "| 7129300520 | 2014-10-13 00:00:00+00:00 |  221900 |    3     |     1     |     1180    |\n",
       "| 6414100192 | 2014-12-09 00:00:00+00:00 |  538000 |    3     |    2.25   |     2570    |\n",
       "| 5631500400 | 2015-02-25 00:00:00+00:00 |  180000 |    2     |     1     |     770     |\n",
       "| 2487200875 | 2014-12-09 00:00:00+00:00 |  604000 |    4     |     3     |     1960    |\n",
       "| 1954400510 | 2015-02-18 00:00:00+00:00 |  510000 |    3     |     2     |     1680    |\n",
       "| 7237550310 | 2014-05-12 00:00:00+00:00 | 1225000 |    4     |    4.5    |     5420    |\n",
       "| 1321400060 | 2014-06-27 00:00:00+00:00 |  257500 |    3     |    2.25   |     1715    |\n",
       "| 2008000270 | 2015-01-15 00:00:00+00:00 |  291850 |    3     |    1.5    |     1060    |\n",
       "| 2414600126 | 2015-04-15 00:00:00+00:00 |  229500 |    3     |     1     |     1780    |\n",
       "| 3793500160 | 2015-03-12 00:00:00+00:00 |  323000 |    3     |    2.5    |     1890    |\n",
       "+------------+---------------------------+---------+----------+-----------+-------------+\n",
       "+----------+--------+------------+------+-----------+-------+------------+---------------+\n",
       "| sqft_lot | floors | waterfront | view | condition | grade | sqft_above | sqft_basement |\n",
       "+----------+--------+------------+------+-----------+-------+------------+---------------+\n",
       "|   5650   |   1    |     0      |  0   |     3     |   7   |    1180    |       0       |\n",
       "|   7242   |   2    |     0      |  0   |     3     |   7   |    2170    |      400      |\n",
       "|  10000   |   1    |     0      |  0   |     3     |   6   |    770     |       0       |\n",
       "|   5000   |   1    |     0      |  0   |     5     |   7   |    1050    |      910      |\n",
       "|   8080   |   1    |     0      |  0   |     3     |   8   |    1680    |       0       |\n",
       "|  101930  |   1    |     0      |  0   |     3     |   11  |    3890    |      1530     |\n",
       "|   6819   |   2    |     0      |  0   |     3     |   7   |    1715    |       0       |\n",
       "|   9711   |   1    |     0      |  0   |     3     |   7   |    1060    |       0       |\n",
       "|   7470   |   1    |     0      |  0   |     3     |   7   |    1050    |      730      |\n",
       "|   6560   |   2    |     0      |  0   |     3     |   7   |    1890    |       0       |\n",
       "+----------+--------+------------+------+-----------+-------+------------+---------------+\n",
       "+----------+--------------+---------+-------------+---------------+---------------+-----+\n",
       "| yr_built | yr_renovated | zipcode |     lat     |      long     | sqft_living15 | ... |\n",
       "+----------+--------------+---------+-------------+---------------+---------------+-----+\n",
       "|   1955   |      0       |  98178  | 47.51123398 | -122.25677536 |     1340.0    | ... |\n",
       "|   1951   |     1991     |  98125  | 47.72102274 |  -122.3188624 |     1690.0    | ... |\n",
       "|   1933   |      0       |  98028  | 47.73792661 | -122.23319601 |     2720.0    | ... |\n",
       "|   1965   |      0       |  98136  |   47.52082  | -122.39318505 |     1360.0    | ... |\n",
       "|   1987   |      0       |  98074  | 47.61681228 | -122.04490059 |     1800.0    | ... |\n",
       "|   2001   |      0       |  98053  | 47.65611835 | -122.00528655 |     4760.0    | ... |\n",
       "|   1995   |      0       |  98003  | 47.30972002 | -122.32704857 |     2238.0    | ... |\n",
       "|   1963   |      0       |  98198  | 47.40949984 | -122.31457273 |     1650.0    | ... |\n",
       "|   1960   |      0       |  98146  | 47.51229381 | -122.33659507 |     1780.0    | ... |\n",
       "|   2003   |      0       |  98038  | 47.36840673 |  -122.0308176 |     2390.0    | ... |\n",
       "+----------+--------------+---------+-------------+---------------+---------------+-----+\n",
       "[21613 rows x 21 columns]\n",
       "Note: Only the head of the SFrame is printed.\n",
       "You can use print_rows(num_rows=m, num_columns=n) to print more rows and columns."
      ]
     },
     "execution_count": 4,
     "metadata": {},
     "output_type": "execute_result"
    }
   ],
   "source": [
    "sales"
   ]
  },
  {
   "cell_type": "markdown",
   "metadata": {},
   "source": [
    "# Exploring the data for housing sales "
   ]
  },
  {
   "cell_type": "markdown",
   "metadata": {},
   "source": [
    "The house price is correlated with the number of square feet of living space."
   ]
  },
  {
   "cell_type": "code",
   "execution_count": 5,
   "metadata": {
    "collapsed": false
   },
   "outputs": [
    {
     "data": {
      "application/javascript": [
       "$(\"head\").append($(\"<link/>\").attr({\n",
       "  rel:  \"stylesheet\",\n",
       "  type: \"text/css\",\n",
       "  href: \"//cdnjs.cloudflare.com/ajax/libs/font-awesome/4.1.0/css/font-awesome.min.css\"\n",
       "}));\n",
       "$(\"head\").append($(\"<link/>\").attr({\n",
       "  rel:  \"stylesheet\",\n",
       "  type: \"text/css\",\n",
       "  href: \"https://static.turi.com/products/graphlab-create/2.1/canvas/css/canvas.css\"\n",
       "}));\n",
       "\n",
       "            (function(){\n",
       "\n",
       "                var e = null;\n",
       "                if (typeof element == 'undefined') {\n",
       "                    var scripts = document.getElementsByTagName('script');\n",
       "                    var thisScriptTag = scripts[scripts.length-1];\n",
       "                    var parentDiv = thisScriptTag.parentNode;\n",
       "                    e = document.createElement('div');\n",
       "                    parentDiv.appendChild(e);\n",
       "                } else {\n",
       "                    e = element[0];\n",
       "                }\n",
       "\n",
       "                if (typeof requirejs !== 'undefined') {\n",
       "                    // disable load timeout; ipython_app.js is large and can take a while to load.\n",
       "                    requirejs.config({waitSeconds: 0});\n",
       "                }\n",
       "\n",
       "                require(['https://static.turi.com/products/graphlab-create/2.1/canvas/js/ipython_app.js'], function(IPythonApp){\n",
       "                    var app = new IPythonApp();\n",
       "                    app.attachView('sframe','Plots', {\"selected_variable\": {\"name\": [\"sales\"], \"descriptives\": {\"rows\": 21613, \"columns\": 21}, \"view_component\": \"Plots\", \"view_file\": \"sframe\", \"view_params\": {\"y\": \"price\", \"x\": \"sqft_living\", \"columns\": [\"id\", \"date\", \"price\", \"bedrooms\", \"bathrooms\", \"sqft_living\", \"sqft_lot\", \"floors\", \"waterfront\", \"view\", \"condition\", \"grade\", \"sqft_above\", \"sqft_basement\", \"yr_built\", \"yr_renovated\", \"zipcode\", \"lat\", \"long\", \"sqft_living15\", \"sqft_lot15\"], \"view\": \"Scatter Plot\"}, \"view_components\": [\"Summary\", \"Table\", \"Bar Chart\", \"BoxWhisker Plot\", \"Line Chart\", \"Scatter Plot\", \"Heat Map\", \"Plots\"], \"type\": \"SFrame\", \"columns\": [{\"dtype\": \"str\", \"name\": \"id\"}, {\"dtype\": \"datetime\", \"name\": \"date\"}, {\"dtype\": \"int\", \"name\": \"price\"}, {\"dtype\": \"str\", \"name\": \"bedrooms\"}, {\"dtype\": \"str\", \"name\": \"bathrooms\"}, {\"dtype\": \"int\", \"name\": \"sqft_living\"}, {\"dtype\": \"int\", \"name\": \"sqft_lot\"}, {\"dtype\": \"str\", \"name\": \"floors\"}, {\"dtype\": \"int\", \"name\": \"waterfront\"}, {\"dtype\": \"int\", \"name\": \"view\"}, {\"dtype\": \"int\", \"name\": \"condition\"}, {\"dtype\": \"int\", \"name\": \"grade\"}, {\"dtype\": \"int\", \"name\": \"sqft_above\"}, {\"dtype\": \"int\", \"name\": \"sqft_basement\"}, {\"dtype\": \"int\", \"name\": \"yr_built\"}, {\"dtype\": \"int\", \"name\": \"yr_renovated\"}, {\"dtype\": \"str\", \"name\": \"zipcode\"}, {\"dtype\": \"float\", \"name\": \"lat\"}, {\"dtype\": \"float\", \"name\": \"long\"}, {\"dtype\": \"float\", \"name\": \"sqft_living15\"}, {\"dtype\": \"float\", \"name\": \"sqft_lot15\"}], \"column_identifiers\": [\"bathrooms\", \"sqft_living15\", \"sqft_above\", \"grade\", \"yr_built\", \"price\", \"bedrooms\", \"zipcode\", \"long\", \"id\", \"sqft_lot15\", \"sqft_living\", \"floors\", \"sqft_lot\", \"date\", \"waterfront\", \"sqft_basement\", \"yr_renovated\", \"lat\", \"condition\", \"view\"]}, \"complete\": 1, \"ipython\": true, \"progress\": 1.0, \"data\": [[860, 405000], [2200, 585000], [5170, 1680000], [1320, 455000], [1260, 530000], [1400, 220000], [1030, 595000], [2330, 580000], [1570, 495000], [2780, 563500], [4220, 1060000], [2200, 300000], [2380, 1160000], [1390, 306500], [3010, 830000], [1350, 250000], [1760, 470000], [1990, 625000], [1500, 219950], [1120, 552000], [1940, 780000], [2460, 563225], [750, 435000], [3770, 950000], [1300, 439888], [1410, 440000], [2240, 750000], [1626, 526000], [3320, 409124], [1440, 274000], [1610, 286950], [1610, 319502], [1010, 290000], [3110, 386500], [940, 249950], [1200, 306000], [1410, 380500], [2360, 640000], [2010, 605000], [1550, 725000], [2570, 625000], [1720, 547500], [2780, 439950], [1300, 252000], [1890, 430000], [1220, 287500], [2420, 600000], [3220, 800000], [2100, 317000], [2753, 1350000], [3600, 679950], [1400, 210000], [1840, 785200], [4700, 1135000], [1300, 492000], [1570, 695000], [2060, 242550], [3550, 2100000], [3250, 951000], [2160, 625000], [1860, 427000], [1650, 500000], [2250, 308900], [3060, 415000], [3090, 760000], [2100, 309900], [3630, 698000], [1540, 450000], [2080, 365000], [2790, 865000], [1620, 345000], [1610, 630000], [3110, 379900], [1750, 368000], [1040, 396000], [1690, 230500], [990, 285000], [1810, 230000], [1410, 410000], [1600, 270000], [1710, 620000], [1570, 458000], [1830, 439000], [1384, 273000], [1250, 170000], [1050, 521000], [2660, 305000], [1540, 433500], [1010, 390000], [2700, 525000], [3281, 471835], [1450, 240000], [2740, 1225000], [1400, 359950], [1580, 700000], [1090, 140000], [1940, 265000], [1430, 384000], [2730, 770000], [2330, 308000], [1050, 310000], [1980, 555000], [3440, 554000], [3500, 1047000], [3980, 760000], [970, 172380], [2530, 734000], [1560, 1200000], [1900, 504975], [1260, 216000], [1670, 605000], [1980, 380000], [950, 162950], [1470, 638000], [2270, 735000], [2190, 320000], [1590, 518500], [1500, 239000], [680, 365000], [2640, 739375], [820, 295000], [2420, 441500], [2570, 472000], [3800, 894000], [1130, 179950], [1220, 443000], [2050, 568000], [2080, 450000], [1160, 255000], [2740, 675000], [4600, 805000], [720, 151000], [1560, 537000], [1140, 455000], [2298, 372000], [1680, 213400], [2650, 695000], [1020, 235000], [3870, 645000], [1870, 345000], [2040, 294000], [2370, 675000], [1550, 805000], [2390, 695000], [2030, 500000], [2470, 625000], [2550, 890000], [2520, 560000], [4870, 1735000], [1150, 338500], [1670, 451000], [2031, 335000], [1180, 347500], [2300, 350000], [2830, 539000], [3050, 890000], [1460, 470000], [1610, 270000], [2020, 319000], [910, 165000], [1270, 475000], [1450, 362500], [2240, 975000], [2140, 621500], [2460, 347500], [2090, 545000], [2470, 305000], [1810, 362000], [2410, 822000], [2230, 549950], [1340, 376000], [1370, 280000], [1400, 419500], [2190, 503000], [2480, 495000], [2540, 485000], [3220, 558000], [1390, 425000], [1460, 265000], [2420, 649950], [2730, 542500], [1200, 450000], [1980, 660000], [2690, 620000], [1690, 275000], [1910, 247200], [3200, 490000], [3530, 695000], [2390, 1200000], [1060, 826000], [2980, 750000], [1460, 265800], [3960, 1220000], [1820, 227490], [1930, 360000], [2100, 515000], [2250, 1060000], [1530, 371025], [1630, 260000], [2130, 355000], [1300, 397500], [910, 285000], [3240, 902500], [3260, 1050000], [1670, 500000], [2510, 225000], [1030, 385000], [1830, 249000], [1990, 529219], [3150, 762500], [1460, 465000], [1730, 566950], [1390, 299950], [1510, 549000], [828, 110000], [2980, 1155000], [3200, 360000], [2170, 442500], [1590, 419190], [1250, 318000], [1255, 360000], [3060, 753000], [2110, 280000], [1613, 279500], [1560, 511100], [2350, 367000], [1480, 280000], [1510, 402000], [1030, 249000], [2400, 299000], [1690, 475000], [2360, 348000], [4060, 1017100], [1440, 375000], [890, 334000], [1980, 418000], [1150, 464500], [1470, 380000], [1560, 360000], [3520, 1662000], [1910, 498688], [1950, 585000], [2770, 700000], [1260, 249000], [1060, 325000], [2740, 363000], [1530, 317000], [3700, 650000], [2160, 340000], [1560, 481000], [2830, 779000], [1120, 439800], [2040, 240000], [1550, 599000], [2150, 260000], [2220, 500000], [2690, 730000], [1230, 325000], [2560, 880000], [2030, 365000], [3190, 765000], [1380, 435000], [3440, 740000], [1720, 169000], [1980, 299950], [1900, 463000], [2670, 465750], [1050, 285000], [1210, 340000], [3320, 852600], [1330, 458450], [1950, 430000], [1760, 688500], [770, 205000], [1720, 399950], [1380, 475000], [2030, 565000], [2610, 810000], [900, 205000], [1760, 625000], [1230, 400000], [1600, 205000], [2010, 502000], [1880, 419000], [2410, 325000], [2310, 713000], [2240, 649000], [2520, 605000], [1340, 332000], [2650, 398651], [1430, 466500], [1140, 276000], [2160, 440000], [2450, 525000], [810, 125000], [1240, 315000], [1080, 192500], [1330, 230000], [1070, 241000], [2720, 594950], [910, 405000], [2400, 510000], [960, 265000], [2130, 320000], [2700, 674725], [1090, 289000], [940, 255000], [2070, 379500], [1570, 525000], [1700, 148900], [2570, 370000], [2590, 537250], [3695, 994900], [2140, 495000], [2230, 900000], [2320, 934550], [1890, 535000], [2440, 489990], [1628, 250000], [800, 268750], [1690, 600000], [1270, 415000], [760, 352000], [2010, 570000], [1910, 260000], [390, 245000], [3030, 274975], [1060, 480000], [3000, 800000], [2370, 790000], [3210, 756450], [2470, 635000], [2200, 525000], [1670, 550000], [2490, 940000], [1060, 275500], [3020, 530000], [1160, 351000], [770, 176000], [1740, 245000], [3280, 458000], [4090, 1680000], [3560, 882566], [1190, 329000], [2920, 795000], [1000, 165000], [2480, 729000], [1360, 296000], [1460, 312000], [1460, 355000], [1130, 325000], [2320, 350000], [1900, 315000], [2100, 605000], [1600, 380000], [1120, 345000], [1830, 378500], [1100, 229900], [1750, 432000], [1720, 420000], [1910, 395000], [1310, 230000], [1130, 220000], [1730, 270000], [1840, 550000], [2780, 645000], [1420, 345000], [1350, 200000], [1270, 320000], [3140, 740000], [1370, 205000], [1400, 303000], [1880, 320000], [2390, 570000], [1110, 365000], [1960, 605000], [1640, 450000], [2600, 555000], [1450, 265000], [1140, 399995], [3740, 789000], [1440, 350000], [3580, 1406888], [1060, 506000], [1440, 395000], [1340, 223000], [890, 358000], [2120, 360000], [2550, 808000], [2500, 315000], [1730, 312000], [1320, 393000], [1660, 535000], [610, 314200], [1480, 598950], [850, 325000], [1430, 285000], [2010, 660000], [2140, 524000], [1860, 715000], [2970, 549995], [3520, 870000], [860, 198000], [4860, 1680000], [3030, 820000], [1760, 224000], [2660, 1444000], [4260, 3400000], [2630, 589500], [1200, 227000], [1460, 305000], [1240, 290000], [2610, 925000], [3030, 1470000], [1410, 275000], [1350, 626000], [3190, 864000], [1230, 343000], [1200, 374000], [2070, 410000], [750, 263500], [2260, 551000], [1380, 230000], [1510, 445000], [1870, 680000], [1630, 415000], [2420, 445000], [2500, 241500], [2150, 513000], [1040, 240000], [1910, 333000], [1620, 490000], [1620, 260656], [1770, 729000], [1260, 437500], [2530, 349900], [3300, 850000], [1940, 299000], [1400, 447000], [2940, 482500], [2750, 615000], [1180, 383001], [1530, 675000], [3850, 820000], [940, 205000], [2240, 432500], [3510, 729950], [1509, 410000], [2280, 500000], [1600, 240000], [1080, 525000], [1800, 335620], [4168, 442000], [2242, 310000], [1800, 445000], [1760, 450000], [3000, 607500], [1500, 475500], [910, 244500], [1700, 539000], [1860, 239900], [1650, 266750], [2060, 415000], [1620, 218000], [2670, 494995], [2620, 804000], [3280, 730000], [1850, 325000], [4040, 1650000], [770, 315000], [1420, 569950], [960, 500000], [4110, 1199000], [2200, 305000], [1020, 245000], [1490, 263000], [900, 144975], [2290, 425000], [630, 315000], [1900, 450000], [1770, 439950], [2240, 600000], [2560, 619000], [1250, 205000], [1470, 399950], [1500, 182568], [3223, 469950], [1540, 550000], [2210, 335000], [2440, 745641], [2820, 1450000], [1620, 305000], [1170, 299950], [2240, 1350000], [2550, 277500], [3280, 645000], [740, 255000], [2600, 805000], [920, 202000], [1110, 255000], [2580, 449500], [3100, 967000], [1270, 340000], [3390, 1054690], [2050, 760000], [2650, 370000], [2550, 349000], [2680, 1160000], [740, 230500], [1260, 305000], [1620, 484000], [1800, 508000], [1840, 809000], [1250, 340000], [690, 484000], [1370, 264500], [920, 189950], [1850, 565000], [1150, 213500], [680, 179900], [5150, 2140000], [1060, 349950], [2910, 1200000], [1610, 305000], [1700, 335000], [2120, 550000], [1670, 349170], [2320, 728050], [1960, 300000], [2009, 303210], [1130, 345000], [3960, 1395713], [4740, 970000], [1095, 302282], [1950, 220000], [1370, 375000], [1630, 419900], [2010, 279000], [830, 200000], [5270, 1795000], [1900, 340000], [2849, 798000], [1180, 490000], [2870, 710000], [2150, 550000], [1520, 650000], [1870, 299950], [990, 208000], [2500, 539900], [1480, 283000], [3480, 1580000], [2380, 590000], [1250, 439000], [2980, 932800], [1720, 537000], [1220, 555950], [1090, 196700], [800, 109500], [2750, 750000], [3830, 1700000], [2700, 950000], [2520, 410000], [1240, 310000], [1890, 435000], [1890, 291000], [2320, 425000], [1240, 425000], [1560, 296000], [1570, 240000], [3430, 850000], [1780, 252500], [1290, 265000], [2000, 1350000], [1250, 225000], [1750, 510000], [3010, 359950], [1950, 615000], [1280, 405000], [4000, 771005], [2010, 475000], [2080, 360000], [2310, 760500], [2660, 545000], [1260, 350000], [3660, 785000], [3130, 598000], [3720, 760000], [1780, 588000], [1790, 800000], [1120, 225000], [1760, 629000], [1670, 456000], [1020, 242500], [2130, 610000], [2110, 607500], [1540, 500000], [2890, 740000], [1340, 495000], [1820, 245000], [2790, 738000], [1940, 488000], [2130, 779000], [1710, 380000], [2440, 562500], [770, 257000], [3550, 469000], [3990, 825000], [1920, 245000], [4120, 1300000], [2510, 479900], [2590, 538250], [4410, 1500000], [1800, 442500], [2910, 589000], [2170, 765000], [1520, 307300], [2780, 475000], [2044, 1000000], [1370, 203000], [960, 300000], [2410, 608000], [1490, 425000], [2860, 1010000], [1030, 240000], [1690, 419990], [1250, 208000], [2620, 470000], [1480, 409000], [3150, 1003000], [3500, 879950], [3000, 600000], [2050, 385000], [2547, 392440], [1780, 279000], [3490, 1225000], [4350, 1375000], [1200, 214000], [2660, 751305], [3176, 819000], [1920, 429000], [2320, 360000], [3860, 1051000], [1640, 275000], [1740, 299950], [1570, 660000], [1890, 375000], [1530, 381800], [2540, 675000], [1500, 470000], [2320, 530000], [1230, 839000], [2700, 744500], [3160, 1190000], [1068, 239950], [1490, 490000], [1280, 280000], [1470, 350000], [1430, 667750], [3870, 1440000], [1600, 490000], [4300, 1130000], [1810, 327000], [2020, 495000], [1800, 515000], [1490, 429900], [2550, 587000], [1990, 430000], [3420, 1195000], [1590, 489950], [5370, 884900], [1720, 770000], [1572, 299000], [2320, 400950], [2440, 765000], [3300, 725000], [1870, 497000], [1010, 280000], [3350, 790500], [1660, 288000], [2130, 233000], [2760, 830000], [2750, 1650000], [910, 455000], [2040, 551000], [1940, 330000], [1990, 564800], [2185, 374000], [1800, 500000], [1430, 399000], [1970, 540000], [2770, 492000], [4010, 1096500], [3060, 657000], [1920, 170000], [1010, 245000], [2080, 424240], [2440, 720000], [1620, 355000], [2080, 530000], [2480, 775000], [1530, 380000], [3270, 939000], [1610, 495000], [3300, 510000], [2620, 978000], [1800, 228000], [1350, 259950], [1850, 249000], [2550, 675000], [2060, 607000], [1230, 349950], [1450, 243000], [2390, 845000], [3300, 1350000], [4560, 695000], [3060, 446500], [1250, 579500], [2160, 518000], [1670, 1300000], [1980, 437000], [1670, 589950], [1000, 484950], [1870, 565000], [1220, 483000], [1390, 288790], [1870, 770000], [2050, 394950], [2520, 598500], [1090, 249000], [2980, 820000], [1780, 320000], [2430, 305000], [1300, 445950], [4130, 900000], [770, 275000], [940, 362500], [2320, 316000], [920, 650000], [5180, 1075000], [1280, 296500], [4060, 970000], [1140, 320000], [1970, 437500], [2280, 718000], [2030, 440000], [1730, 258000], [2510, 330000], [1140, 476000], [2330, 565000], [2230, 323000], [1850, 218000], [2060, 326989], [3890, 2250000], [2820, 456700], [1570, 365000], [2890, 585000], [3620, 919000], [3000, 380000], [1390, 465000], [2570, 1180000], [2010, 364000], [1340, 255000], [990, 269950], [1690, 197000], [2410, 938000], [2250, 675000], [3180, 585000], [1100, 260000], [1790, 392000], [1060, 279475], [1600, 523500], [2520, 508500], [3090, 659000], [1100, 450000], [1000, 525000], [1220, 452000], [1880, 280000], [2370, 495000], [1690, 215000], [2150, 346500], [1940, 362500], [880, 416000], [3200, 497300], [2020, 355000], [2090, 248500], [2190, 765000], [1970, 599950], [1420, 404000], [1340, 389000], [1700, 268000], [1730, 522000], [1860, 730000], [2230, 809950], [2680, 499000], [2807, 630000], [1540, 180500], [1290, 250800], [2210, 614306], [370, 276000], [1790, 250000], [1270, 425000], [4690, 2048000], [1880, 595000], [2250, 589000], [1710, 575000], [2370, 522500], [3040, 825000], [2360, 525000], [700, 260000], [1830, 354000], [3590, 1100000], [1300, 305240], [2340, 597000], [2060, 595000], [4890, 2400000], [2410, 635000], [1190, 390000], [3080, 490000], [1960, 565000], [2070, 405000], [2140, 603500], [1640, 570000], [1600, 492500], [1500, 418000], [1810, 431000], [2230, 770000], [2960, 800000], [2000, 275000], [1830, 275000], [700, 208000], [2080, 813000], [3480, 2500000], [1660, 484000], [1912, 353000], [1720, 575000], [1700, 284700], [2230, 334950], [2370, 350000], [1894, 280000], [1490, 289000], [2330, 625000], [2330, 335000], [2040, 499000], [2060, 294000], [1660, 270000], [2680, 460000], [3040, 598555], [2540, 800000], [1540, 582500], [1440, 290000], [2500, 640000], [1358, 280000], [1960, 285500], [1700, 619500], [1270, 369950], [1370, 530000], [2600, 525000], [3840, 884250], [2420, 390000], [1960, 613000], [2910, 998000], [2500, 565000], [2170, 340000], [1210, 299950], [930, 351000], [2920, 1250000], [2440, 710000], [1680, 255000], [1500, 250000], [2656, 495000], [2680, 676000], [1660, 530000], [1750, 495000], [1470, 220000], [2070, 575000], [4140, 825000], [1280, 440000], [1010, 306888], [1800, 575000], [1330, 310000], [3520, 1500000], [1640, 602000], [1310, 187300], [4980, 1250000], [900, 230000], [1250, 333000], [2080, 480000], [2040, 561750], [1880, 449950], [1170, 205000], [2650, 525000], [1270, 433000], [710, 285950], [1240, 324950], [1960, 285750], [1740, 261500], [2580, 650000], [1600, 393500], [3760, 998000], [3056, 524225], [1160, 215000], [4710, 2180000], [1220, 405000], [1870, 245000], [1540, 345000], [1770, 289950], [1410, 355000], [2490, 390000], [1330, 443500], [3010, 775000], [3600, 682000], [2960, 654000], [3140, 345000], [2100, 384000], [1180, 244000], [960, 225000], [2720, 550000], [1320, 370000], [1890, 690000], [1740, 225000], [1010, 440000], [2130, 1339000], [1740, 568000], [3970, 810000], [1656, 462500], [1570, 195000], [1680, 629950], [2010, 550000], [4300, 975000], [3430, 829950], [1620, 499100], [1800, 334998], [1680, 466000], [1580, 575000], [1460, 306000], [1620, 370000], [1600, 550000], [3140, 915000], [2210, 590000], [1090, 680000], [1220, 286700], [1480, 520000], [940, 543000], [2490, 364900], [1840, 265000], [1400, 210000], [4160, 1045000], [2230, 1321500], [1620, 430000], [1240, 403000], [1410, 435000], [3920, 1605000], [2750, 430000], [1690, 338000], [780, 464050], [1340, 263000], [1088, 238000], [2380, 330000], [1040, 440000], [3800, 472000], [1050, 350000], [1150, 358000], [2700, 569950], [1020, 505000], [2940, 420000], [2040, 355000], [1470, 399950], [650, 295000], [1560, 385000], [2730, 780000], [2120, 637000], [1030, 397380], [1510, 397500], [3240, 1199500], [2550, 369000], [1400, 276500], [2510, 510000], [2560, 399500], [1500, 707500], [1130, 182200], [1820, 480000], [1470, 487000], [1780, 246000], [2420, 692500], [980, 393000], [2420, 590000], [1490, 615000], [1630, 385000], [1500, 399000], [1750, 370000], [1900, 530000], [980, 352500], [1900, 550000], [1260, 785000], [1000, 189900], [1570, 229950], [2270, 732350], [1800, 416000], [1630, 925000], [1970, 690000]], \"columns\": [{\"dtype\": \"str\", \"name\": \"id\"}, {\"dtype\": \"datetime\", \"name\": \"date\"}, {\"dtype\": \"int\", \"name\": \"price\"}, {\"dtype\": \"str\", \"name\": \"bedrooms\"}, {\"dtype\": \"str\", \"name\": \"bathrooms\"}, {\"dtype\": \"int\", \"name\": \"sqft_living\"}, {\"dtype\": \"int\", \"name\": \"sqft_lot\"}, {\"dtype\": \"str\", \"name\": \"floors\"}, {\"dtype\": \"int\", \"name\": \"waterfront\"}, {\"dtype\": \"int\", \"name\": \"view\"}, {\"dtype\": \"int\", \"name\": \"condition\"}, {\"dtype\": \"int\", \"name\": \"grade\"}, {\"dtype\": \"int\", \"name\": \"sqft_above\"}, {\"dtype\": \"int\", \"name\": \"sqft_basement\"}, {\"dtype\": \"int\", \"name\": \"yr_built\"}, {\"dtype\": \"int\", \"name\": \"yr_renovated\"}, {\"dtype\": \"str\", \"name\": \"zipcode\"}, {\"dtype\": \"float\", \"name\": \"lat\"}, {\"dtype\": \"float\", \"name\": \"long\"}, {\"dtype\": \"float\", \"name\": \"sqft_living15\"}, {\"dtype\": \"float\", \"name\": \"sqft_lot15\"}]}, e);\n",
       "                });\n",
       "            })();\n",
       "        "
      ]
     },
     "metadata": {},
     "output_type": "display_data"
    }
   ],
   "source": [
    "graphlab.canvas.set_target('ipynb')\n",
    "sales.show(view=\"Scatter Plot\", x=\"sqft_living\", y=\"price\")"
   ]
  },
  {
   "cell_type": "markdown",
   "metadata": {},
   "source": [
    "# Create a simple regression model of sqft_living to price"
   ]
  },
  {
   "cell_type": "markdown",
   "metadata": {},
   "source": [
    "Split data into training and testing.  \n",
    "We use seed=0 so that everyone running this notebook gets the same results.  In practice, you may set a random seed (or let GraphLab Create pick a random seed for you).  "
   ]
  },
  {
   "cell_type": "code",
   "execution_count": 10,
   "metadata": {
    "collapsed": false
   },
   "outputs": [],
   "source": [
    "train_data,test_data = sales.random_split(.8,seed=0)"
   ]
  },
  {
   "cell_type": "markdown",
   "metadata": {},
   "source": [
    "## Build the regression model using only sqft_living as a feature"
   ]
  },
  {
   "cell_type": "code",
   "execution_count": 11,
   "metadata": {
    "collapsed": false
   },
   "outputs": [
    {
     "data": {
      "text/html": [
       "<pre>Linear regression:</pre>"
      ],
      "text/plain": [
       "Linear regression:"
      ]
     },
     "metadata": {},
     "output_type": "display_data"
    },
    {
     "data": {
      "text/html": [
       "<pre>--------------------------------------------------------</pre>"
      ],
      "text/plain": [
       "--------------------------------------------------------"
      ]
     },
     "metadata": {},
     "output_type": "display_data"
    },
    {
     "data": {
      "text/html": [
       "<pre>Number of examples          : 17384</pre>"
      ],
      "text/plain": [
       "Number of examples          : 17384"
      ]
     },
     "metadata": {},
     "output_type": "display_data"
    },
    {
     "data": {
      "text/html": [
       "<pre>Number of features          : 1</pre>"
      ],
      "text/plain": [
       "Number of features          : 1"
      ]
     },
     "metadata": {},
     "output_type": "display_data"
    },
    {
     "data": {
      "text/html": [
       "<pre>Number of unpacked features : 1</pre>"
      ],
      "text/plain": [
       "Number of unpacked features : 1"
      ]
     },
     "metadata": {},
     "output_type": "display_data"
    },
    {
     "data": {
      "text/html": [
       "<pre>Number of coefficients    : 2</pre>"
      ],
      "text/plain": [
       "Number of coefficients    : 2"
      ]
     },
     "metadata": {},
     "output_type": "display_data"
    },
    {
     "data": {
      "text/html": [
       "<pre>Starting Newton Method</pre>"
      ],
      "text/plain": [
       "Starting Newton Method"
      ]
     },
     "metadata": {},
     "output_type": "display_data"
    },
    {
     "data": {
      "text/html": [
       "<pre>--------------------------------------------------------</pre>"
      ],
      "text/plain": [
       "--------------------------------------------------------"
      ]
     },
     "metadata": {},
     "output_type": "display_data"
    },
    {
     "data": {
      "text/html": [
       "<pre>+-----------+----------+--------------+--------------------+---------------+</pre>"
      ],
      "text/plain": [
       "+-----------+----------+--------------+--------------------+---------------+"
      ]
     },
     "metadata": {},
     "output_type": "display_data"
    },
    {
     "data": {
      "text/html": [
       "<pre>| Iteration | Passes   | Elapsed Time | Training-max_error | Training-rmse |</pre>"
      ],
      "text/plain": [
       "| Iteration | Passes   | Elapsed Time | Training-max_error | Training-rmse |"
      ]
     },
     "metadata": {},
     "output_type": "display_data"
    },
    {
     "data": {
      "text/html": [
       "<pre>+-----------+----------+--------------+--------------------+---------------+</pre>"
      ],
      "text/plain": [
       "+-----------+----------+--------------+--------------------+---------------+"
      ]
     },
     "metadata": {},
     "output_type": "display_data"
    },
    {
     "data": {
      "text/html": [
       "<pre>| 1         | 2        | 1.077555     | 4349521.926170     | 262943.613754 |</pre>"
      ],
      "text/plain": [
       "| 1         | 2        | 1.077555     | 4349521.926170     | 262943.613754 |"
      ]
     },
     "metadata": {},
     "output_type": "display_data"
    },
    {
     "data": {
      "text/html": [
       "<pre>+-----------+----------+--------------+--------------------+---------------+</pre>"
      ],
      "text/plain": [
       "+-----------+----------+--------------+--------------------+---------------+"
      ]
     },
     "metadata": {},
     "output_type": "display_data"
    },
    {
     "data": {
      "text/html": [
       "<pre>SUCCESS: Optimal solution found.</pre>"
      ],
      "text/plain": [
       "SUCCESS: Optimal solution found."
      ]
     },
     "metadata": {},
     "output_type": "display_data"
    },
    {
     "data": {
      "text/html": [
       "<pre></pre>"
      ],
      "text/plain": []
     },
     "metadata": {},
     "output_type": "display_data"
    }
   ],
   "source": [
    "sqft_model = graphlab.linear_regression.create(train_data, target='price', features=['sqft_living'],validation_set=None)"
   ]
  },
  {
   "cell_type": "markdown",
   "metadata": {},
   "source": [
    "# Evaluate the simple model"
   ]
  },
  {
   "cell_type": "code",
   "execution_count": 12,
   "metadata": {
    "collapsed": false
   },
   "outputs": [
    {
     "name": "stdout",
     "output_type": "stream",
     "text": [
      "543054.042563\n"
     ]
    }
   ],
   "source": [
    "print test_data['price'].mean()"
   ]
  },
  {
   "cell_type": "code",
   "execution_count": 13,
   "metadata": {
    "collapsed": false
   },
   "outputs": [
    {
     "name": "stdout",
     "output_type": "stream",
     "text": [
      "{'max_error': 4143550.8825285914, 'rmse': 255191.02870527367}\n"
     ]
    }
   ],
   "source": [
    "print sqft_model.evaluate(test_data)"
   ]
  },
  {
   "cell_type": "markdown",
   "metadata": {},
   "source": [
    "RMSE of about \\$255,170!"
   ]
  },
  {
   "cell_type": "markdown",
   "metadata": {},
   "source": [
    "# Let's show what our predictions look like"
   ]
  },
  {
   "cell_type": "markdown",
   "metadata": {},
   "source": [
    "Matplotlib is a Python plotting library that is also useful for plotting.  You can install it with:\n",
    "\n",
    "'pip install matplotlib'"
   ]
  },
  {
   "cell_type": "code",
   "execution_count": 14,
   "metadata": {
    "collapsed": false
   },
   "outputs": [
    {
     "name": "stderr",
     "output_type": "stream",
     "text": [
      "/opt/conda/lib/python2.7/site-packages/matplotlib/font_manager.py:273: UserWarning: Matplotlib is building the font cache using fc-list. This may take a moment.\n",
      "  warnings.warn('Matplotlib is building the font cache using fc-list. This may take a moment.')\n"
     ]
    }
   ],
   "source": [
    "import matplotlib.pyplot as plt\n",
    "%matplotlib inline"
   ]
  },
  {
   "cell_type": "code",
   "execution_count": 15,
   "metadata": {
    "collapsed": false,
    "scrolled": true
   },
   "outputs": [
    {
     "data": {
      "text/plain": [
       "[<matplotlib.lines.Line2D at 0x7fa588045ed0>,\n",
       " <matplotlib.lines.Line2D at 0x7fa5a45e9c50>]"
      ]
     },
     "execution_count": 15,
     "metadata": {},
     "output_type": "execute_result"
    },
    {
     "data": {
      "image/png": "[encoded data removed]",
      "text/plain": [
       "<matplotlib.figure.Figure at 0x7fa58806f590>"
      ]
     },
     "metadata": {},
     "output_type": "display_data"
    }
   ],
   "source": [
    "plt.plot(test_data['sqft_living'],test_data['price'],'.',\n",
    "        test_data['sqft_living'],sqft_model.predict(test_data),'-')"
   ]
  },
  {
   "cell_type": "markdown",
   "metadata": {},
   "source": [
    "Above:  blue dots are original data, green line is the prediction from the simple regression.\n",
    "\n",
    "Below: we can view the learned regression coefficients. "
   ]
  },
  {
   "cell_type": "code",
   "execution_count": 16,
   "metadata": {
    "collapsed": false
   },
   "outputs": [
    {
     "data": {
      "text/html": [
       "<div style=\"max-height:1000px;max-width:1500px;overflow:auto;\"><table frame=\"box\" rules=\"cols\">\n",
       "    <tr>\n",
       "        <th style=\"padding-left: 1em; padding-right: 1em; text-align: center\">name</th>\n",
       "        <th style=\"padding-left: 1em; padding-right: 1em; text-align: center\">index</th>\n",
       "        <th style=\"padding-left: 1em; padding-right: 1em; text-align: center\">value</th>\n",
       "        <th style=\"padding-left: 1em; padding-right: 1em; text-align: center\">stderr</th>\n",
       "    </tr>\n",
       "    <tr>\n",
       "        <td style=\"padding-left: 1em; padding-right: 1em; text-align: center; vertical-align: top\">(intercept)</td>\n",
       "        <td style=\"padding-left: 1em; padding-right: 1em; text-align: center; vertical-align: top\">None</td>\n",
       "        <td style=\"padding-left: 1em; padding-right: 1em; text-align: center; vertical-align: top\">-47114.0206702</td>\n",
       "        <td style=\"padding-left: 1em; padding-right: 1em; text-align: center; vertical-align: top\">4923.34437753</td>\n",
       "    </tr>\n",
       "    <tr>\n",
       "        <td style=\"padding-left: 1em; padding-right: 1em; text-align: center; vertical-align: top\">sqft_living</td>\n",
       "        <td style=\"padding-left: 1em; padding-right: 1em; text-align: center; vertical-align: top\">None</td>\n",
       "        <td style=\"padding-left: 1em; padding-right: 1em; text-align: center; vertical-align: top\">281.957850166</td>\n",
       "        <td style=\"padding-left: 1em; padding-right: 1em; text-align: center; vertical-align: top\">2.16405465323</td>\n",
       "    </tr>\n",
       "</table>\n",
       "[2 rows x 4 columns]<br/>\n",
       "</div>"
      ],
      "text/plain": [
       "Columns:\n",
       "\tname\tstr\n",
       "\tindex\tstr\n",
       "\tvalue\tfloat\n",
       "\tstderr\tfloat\n",
       "\n",
       "Rows: 2\n",
       "\n",
       "Data:\n",
       "+-------------+-------+----------------+---------------+\n",
       "|     name    | index |     value      |     stderr    |\n",
       "+-------------+-------+----------------+---------------+\n",
       "| (intercept) |  None | -47114.0206702 | 4923.34437753 |\n",
       "| sqft_living |  None | 281.957850166  | 2.16405465323 |\n",
       "+-------------+-------+----------------+---------------+\n",
       "[2 rows x 4 columns]"
      ]
     },
     "execution_count": 16,
     "metadata": {},
     "output_type": "execute_result"
    }
   ],
   "source": [
    "sqft_model.get('coefficients')"
   ]
  },
  {
   "cell_type": "markdown",
   "metadata": {},
   "source": [
    "# Explore other features in the data\n",
    "\n",
    "To build a more elaborate model, we will explore using more features."
   ]
  },
  {
   "cell_type": "code",
   "execution_count": 17,
   "metadata": {
    "collapsed": true
   },
   "outputs": [],
   "source": [
    "my_features = ['bedrooms', 'bathrooms', 'sqft_living', 'sqft_lot', 'floors', 'zipcode']"
   ]
  },
  {
   "cell_type": "code",
   "execution_count": 18,
   "metadata": {
    "collapsed": false
   },
   "outputs": [
    {
     "data": {
      "application/javascript": [
       "$(\"head\").append($(\"<link/>\").attr({\n",
       "  rel:  \"stylesheet\",\n",
       "  type: \"text/css\",\n",
       "  href: \"//cdnjs.cloudflare.com/ajax/libs/font-awesome/4.1.0/css/font-awesome.min.css\"\n",
       "}));\n",
       "$(\"head\").append($(\"<link/>\").attr({\n",
       "  rel:  \"stylesheet\",\n",
       "  type: \"text/css\",\n",
       "  href: \"https://static.turi.com/products/graphlab-create/2.1/canvas/css/canvas.css\"\n",
       "}));\n",
       "\n",
       "            (function(){\n",
       "\n",
       "                var e = null;\n",
       "                if (typeof element == 'undefined') {\n",
       "                    var scripts = document.getElementsByTagName('script');\n",
       "                    var thisScriptTag = scripts[scripts.length-1];\n",
       "                    var parentDiv = thisScriptTag.parentNode;\n",
       "                    e = document.createElement('div');\n",
       "                    parentDiv.appendChild(e);\n",
       "                } else {\n",
       "                    e = element[0];\n",
       "                }\n",
       "\n",
       "                if (typeof requirejs !== 'undefined') {\n",
       "                    // disable load timeout; ipython_app.js is large and can take a while to load.\n",
       "                    requirejs.config({waitSeconds: 0});\n",
       "                }\n",
       "\n",
       "                require(['https://static.turi.com/products/graphlab-create/2.1/canvas/js/ipython_app.js'], function(IPythonApp){\n",
       "                    var app = new IPythonApp();\n",
       "                    app.attachView('sframe','Summary', {\"ipython\": true, \"sketch\": {\"bathrooms\": {\"complete\": true, \"numeric\": false, \"num_unique\": 30, \"num_undefined\": 0, \"progress\": 1.0, \"frequent_items\": {\"1.5\": {\"frequency\": 1446, \"value\": \"1.5\"}, \"3.75\": {\"frequency\": 155, \"value\": \"3.75\"}, \"0.5\": {\"frequency\": 4, \"value\": \"0.5\"}, \"5.25\": {\"frequency\": 13, \"value\": \"5.25\"}, \"3.5\": {\"frequency\": 731, \"value\": \"3.5\"}, \"7.5\": {\"frequency\": 1, \"value\": \"7.5\"}, \"2.5\": {\"frequency\": 5380, \"value\": \"2.5\"}, \"4.5\": {\"frequency\": 100, \"value\": \"4.5\"}, \"5.5\": {\"frequency\": 10, \"value\": \"5.5\"}, \"1.75\": {\"frequency\": 3048, \"value\": \"1.75\"}, \"2.75\": {\"frequency\": 1185, \"value\": \"2.75\"}, \"5.75\": {\"frequency\": 4, \"value\": \"5.75\"}, \"1\": {\"frequency\": 3852, \"value\": \"1\"}, \"0\": {\"frequency\": 10, \"value\": \"0\"}, \"3\": {\"frequency\": 753, \"value\": \"3\"}, \"2\": {\"frequency\": 1930, \"value\": \"2\"}, \"3.25\": {\"frequency\": 589, \"value\": \"3.25\"}, \"4\": {\"frequency\": 136, \"value\": \"4\"}, \"6\": {\"frequency\": 6, \"value\": \"6\"}, \"5\": {\"frequency\": 21, \"value\": \"5\"}, \"6.25\": {\"frequency\": 2, \"value\": \"6.25\"}, \"6.75\": {\"frequency\": 2, \"value\": \"6.75\"}, \"0.75\": {\"frequency\": 72, \"value\": \"0.75\"}, \"8\": {\"frequency\": 2, \"value\": \"8\"}, \"4.25\": {\"frequency\": 79, \"value\": \"4.25\"}, \"4.75\": {\"frequency\": 23, \"value\": \"4.75\"}, \"6.5\": {\"frequency\": 2, \"value\": \"6.5\"}, \"7.75\": {\"frequency\": 1, \"value\": \"7.75\"}, \"1.25\": {\"frequency\": 9, \"value\": \"1.25\"}, \"2.25\": {\"frequency\": 2047, \"value\": \"2.25\"}}, \"size\": 21613}, \"bedrooms\": {\"complete\": true, \"numeric\": false, \"num_unique\": 13, \"num_undefined\": 0, \"progress\": 1.0, \"frequent_items\": {\"11\": {\"frequency\": 1, \"value\": \"11\"}, \"10\": {\"frequency\": 3, \"value\": \"10\"}, \"33\": {\"frequency\": 1, \"value\": \"33\"}, \"1\": {\"frequency\": 199, \"value\": \"1\"}, \"0\": {\"frequency\": 13, \"value\": \"0\"}, \"3\": {\"frequency\": 9824, \"value\": \"3\"}, \"2\": {\"frequency\": 2760, \"value\": \"2\"}, \"5\": {\"frequency\": 1601, \"value\": \"5\"}, \"4\": {\"frequency\": 6882, \"value\": \"4\"}, \"7\": {\"frequency\": 38, \"value\": \"7\"}, \"6\": {\"frequency\": 272, \"value\": \"6\"}, \"9\": {\"frequency\": 6, \"value\": \"9\"}, \"8\": {\"frequency\": 13, \"value\": \"8\"}}, \"size\": 21613}, \"zipcode\": {\"complete\": true, \"numeric\": false, \"num_unique\": 70, \"num_undefined\": 0, \"progress\": 1.0, \"frequent_items\": {\"98019\": {\"frequency\": 190, \"value\": \"98019\"}, \"98039\": {\"frequency\": 50, \"value\": \"98039\"}, \"98038\": {\"frequency\": 590, \"value\": \"98038\"}, \"98118\": {\"frequency\": 508, \"value\": \"98118\"}, \"98119\": {\"frequency\": 184, \"value\": \"98119\"}, \"98116\": {\"frequency\": 330, \"value\": \"98116\"}, \"98117\": {\"frequency\": 553, \"value\": \"98117\"}, \"98011\": {\"frequency\": 195, \"value\": \"98011\"}, \"98115\": {\"frequency\": 583, \"value\": \"98115\"}, \"98112\": {\"frequency\": 269, \"value\": \"98112\"}, \"98030\": {\"frequency\": 256, \"value\": \"98030\"}, \"98033\": {\"frequency\": 432, \"value\": \"98033\"}, \"98032\": {\"frequency\": 125, \"value\": \"98032\"}, \"98092\": {\"frequency\": 351, \"value\": \"98092\"}, \"98058\": {\"frequency\": 455, \"value\": \"98058\"}, \"98003\": {\"frequency\": 280, \"value\": \"98003\"}, \"98198\": {\"frequency\": 280, \"value\": \"98198\"}, \"98199\": {\"frequency\": 317, \"value\": \"98199\"}, \"98077\": {\"frequency\": 198, \"value\": \"98077\"}, \"98004\": {\"frequency\": 317, \"value\": \"98004\"}, \"98005\": {\"frequency\": 168, \"value\": \"98005\"}, \"98006\": {\"frequency\": 498, \"value\": \"98006\"}, \"98007\": {\"frequency\": 141, \"value\": \"98007\"}, \"98001\": {\"frequency\": 362, \"value\": \"98001\"}, \"98002\": {\"frequency\": 199, \"value\": \"98002\"}, \"98065\": {\"frequency\": 310, \"value\": \"98065\"}, \"98040\": {\"frequency\": 282, \"value\": \"98040\"}, \"98166\": {\"frequency\": 254, \"value\": \"98166\"}, \"98042\": {\"frequency\": 548, \"value\": \"98042\"}, \"98008\": {\"frequency\": 283, \"value\": \"98008\"}, \"98045\": {\"frequency\": 221, \"value\": \"98045\"}, \"98144\": {\"frequency\": 343, \"value\": \"98144\"}, \"98027\": {\"frequency\": 412, \"value\": \"98027\"}, \"98010\": {\"frequency\": 100, \"value\": \"98010\"}, \"98109\": {\"frequency\": 109, \"value\": \"98109\"}, \"98108\": {\"frequency\": 186, \"value\": \"98108\"}, \"98028\": {\"frequency\": 283, \"value\": \"98028\"}, \"98029\": {\"frequency\": 321, \"value\": \"98029\"}, \"98105\": {\"frequency\": 229, \"value\": \"98105\"}, \"98122\": {\"frequency\": 290, \"value\": \"98122\"}, \"98024\": {\"frequency\": 81, \"value\": \"98024\"}, \"98146\": {\"frequency\": 288, \"value\": \"98146\"}, \"98022\": {\"frequency\": 234, \"value\": \"98022\"}, \"98126\": {\"frequency\": 354, \"value\": \"98126\"}, \"98103\": {\"frequency\": 602, \"value\": \"98103\"}, \"98023\": {\"frequency\": 499, \"value\": \"98023\"}, \"98125\": {\"frequency\": 410, \"value\": \"98125\"}, \"98148\": {\"frequency\": 57, \"value\": \"98148\"}, \"98031\": {\"frequency\": 274, \"value\": \"98031\"}, \"98102\": {\"frequency\": 105, \"value\": \"98102\"}, \"98188\": {\"frequency\": 136, \"value\": \"98188\"}, \"98034\": {\"frequency\": 545, \"value\": \"98034\"}, \"98106\": {\"frequency\": 335, \"value\": \"98106\"}, \"98014\": {\"frequency\": 124, \"value\": \"98014\"}, \"98107\": {\"frequency\": 266, \"value\": \"98107\"}, \"98155\": {\"frequency\": 446, \"value\": \"98155\"}, \"98052\": {\"frequency\": 574, \"value\": \"98052\"}, \"98178\": {\"frequency\": 262, \"value\": \"98178\"}, \"98070\": {\"frequency\": 118, \"value\": \"98070\"}, \"98136\": {\"frequency\": 263, \"value\": \"98136\"}, \"98072\": {\"frequency\": 273, \"value\": \"98072\"}, \"98075\": {\"frequency\": 359, \"value\": \"98075\"}, \"98074\": {\"frequency\": 441, \"value\": \"98074\"}, \"98059\": {\"frequency\": 468, \"value\": \"98059\"}, \"98133\": {\"frequency\": 494, \"value\": \"98133\"}, \"98056\": {\"frequency\": 406, \"value\": \"98056\"}, \"98055\": {\"frequency\": 268, \"value\": \"98055\"}, \"98053\": {\"frequency\": 405, \"value\": \"98053\"}, \"98168\": {\"frequency\": 269, \"value\": \"98168\"}, \"98177\": {\"frequency\": 255, \"value\": \"98177\"}}, \"size\": 21613}, \"sqft_living\": {\"std\": 918.4196493828829, \"complete\": true, \"min\": 290.0, \"max\": 13540.0, \"quantile\": [290.0, 720.0, 790.0, 850.0, 900.0, 940.0, 970.0, 1010.0, 1030.0, 1060.0, 1090.0, 1120.0, 1150.0, 1170.0, 1200.0, 1220.0, 1240.0, 1260.0, 1280.0, 1300.0, 1320.0, 1340.0, 1360.0, 1390.0, 1400.0, 1430.0, 1440.0, 1460.0, 1480.0, 1500.0, 1520.0, 1540.0, 1560.0, 1580.0, 1600.0, 1613.0, 1640.0, 1650.0, 1670.0, 1690.0, 1710.0, 1730.0, 1750.0, 1770.0, 1790.0, 1810.0, 1830.0, 1850.0, 1870.0, 1890.0, 1910.0, 1940.0, 1960.0, 1980.0, 2000.0, 2020.0, 2050.0, 2070.0, 2090.0, 2110.0, 2130.0, 2160.0, 2180.0, 2210.0, 2230.0, 2260.0, 2290.0, 2310.0, 2340.0, 2370.0, 2400.0, 2420.0, 2450.0, 2490.0, 2517.0, 2550.0, 2580.0, 2620.0, 2650.0, 2690.0, 2730.0, 2770.0, 2815.0, 2860.0, 2910.0, 2970.0, 3010.0, 3070.0, 3130.0, 3190.0, 3250.0, 3330.0, 3420.0, 3510.0, 3630.0, 3760.0, 3920.0, 4130.0, 4410.0, 4930.0, 13540.0], \"median\": 1910.0, \"numeric\": true, \"num_unique\": 1036, \"num_undefined\": 0, \"var\": 843494.6523725776, \"progress\": 1.0, \"size\": 21613, \"frequent_items\": {\"2050\": {\"frequency\": 83, \"value\": 2050}, \"4100\": {\"frequency\": 5, \"value\": 4100}, \"2056\": {\"frequency\": 2, \"value\": 2056}, \"2732\": {\"frequency\": 2, \"value\": 2732}, \"2060\": {\"frequency\": 100, \"value\": 2060}, \"4110\": {\"frequency\": 10, \"value\": 4110}, \"2064\": {\"frequency\": 1, \"value\": 2064}, \"4115\": {\"frequency\": 1, \"value\": 4115}, \"2068\": {\"frequency\": 1, \"value\": 2068}, \"2070\": {\"frequency\": 92, \"value\": 2070}, \"4120\": {\"frequency\": 9, \"value\": 4120}, \"2052\": {\"frequency\": 1, \"value\": 2052}, \"2074\": {\"frequency\": 1, \"value\": 2074}, \"2075\": {\"frequency\": 2, \"value\": 2075}, \"2080\": {\"frequency\": 98, \"value\": 2080}, \"4130\": {\"frequency\": 8, \"value\": 4130}, \"2085\": {\"frequency\": 1, \"value\": 2085}, \"2090\": {\"frequency\": 95, \"value\": 2090}, \"4140\": {\"frequency\": 12, \"value\": 4140}, \"2093\": {\"frequency\": 1, \"value\": 2093}, \"2095\": {\"frequency\": 3, \"value\": 2095}, \"2099\": {\"frequency\": 1, \"value\": 2099}, \"2100\": {\"frequency\": 116, \"value\": 2100}, \"4150\": {\"frequency\": 10, \"value\": 4150}, \"6200\": {\"frequency\": 2, \"value\": 6200}, \"2105\": {\"frequency\": 1, \"value\": 2105}, \"2110\": {\"frequency\": 82, \"value\": 2110}, \"4160\": {\"frequency\": 7, \"value\": 4160}, \"6210\": {\"frequency\": 1, \"value\": 6210}, \"2115\": {\"frequency\": 1, \"value\": 2115}, \"2120\": {\"frequency\": 111, \"value\": 2120}, \"4170\": {\"frequency\": 6, \"value\": 4170}, \"2744\": {\"frequency\": 1, \"value\": 2744}, \"2130\": {\"frequency\": 94, \"value\": 2130}, \"4180\": {\"frequency\": 7, \"value\": 4180}, \"2134\": {\"frequency\": 1, \"value\": 2134}, \"2140\": {\"frequency\": 78, \"value\": 2140}, \"4190\": {\"frequency\": 6, \"value\": 4190}, \"6240\": {\"frequency\": 1, \"value\": 6240}, \"2145\": {\"frequency\": 1, \"value\": 2145}, \"2150\": {\"frequency\": 85, \"value\": 2150}, \"4200\": {\"frequency\": 6, \"value\": 4200}, \"2153\": {\"frequency\": 1, \"value\": 2153}, \"2154\": {\"frequency\": 2, \"value\": 2154}, \"2155\": {\"frequency\": 1, \"value\": 2155}, \"2156\": {\"frequency\": 1, \"value\": 2156}, \"2160\": {\"frequency\": 96, \"value\": 2160}, \"5480\": {\"frequency\": 4, \"value\": 5480}, \"4210\": {\"frequency\": 7, \"value\": 4210}, \"2163\": {\"frequency\": 2, \"value\": 2163}, \"6260\": {\"frequency\": 1, \"value\": 6260}, \"2166\": {\"frequency\": 1, \"value\": 2166}, \"2168\": {\"frequency\": 2, \"value\": 2168}, \"2170\": {\"frequency\": 80, \"value\": 2170}, \"4220\": {\"frequency\": 8, \"value\": 4220}, \"4225\": {\"frequency\": 1, \"value\": 4225}, \"2180\": {\"frequency\": 89, \"value\": 2180}, \"2181\": {\"frequency\": 1, \"value\": 2181}, \"4230\": {\"frequency\": 11, \"value\": 4230}, \"2185\": {\"frequency\": 1, \"value\": 2185}, \"2190\": {\"frequency\": 92, \"value\": 2190}, \"4240\": {\"frequency\": 7, \"value\": 4240}, \"3960\": {\"frequency\": 11, \"value\": 3960}, \"2195\": {\"frequency\": 1, \"value\": 2195}, \"2196\": {\"frequency\": 1, \"value\": 2196}, \"2414\": {\"frequency\": 1, \"value\": 2414}, \"2198\": {\"frequency\": 1, \"value\": 2198}, \"2200\": {\"frequency\": 93, \"value\": 2200}, \"2201\": {\"frequency\": 1, \"value\": 2201}, \"4250\": {\"frequency\": 10, \"value\": 4250}, \"6300\": {\"frequency\": 1, \"value\": 6300}, \"2206\": {\"frequency\": 1, \"value\": 2206}, \"2208\": {\"frequency\": 1, \"value\": 2208}, \"1392\": {\"frequency\": 1, \"value\": 1392}, \"2210\": {\"frequency\": 74, \"value\": 2210}, \"4260\": {\"frequency\": 6, \"value\": 4260}, \"2216\": {\"frequency\": 1, \"value\": 2216}, \"2217\": {\"frequency\": 1, \"value\": 2217}, \"2220\": {\"frequency\": 75, \"value\": 2220}, \"4270\": {\"frequency\": 11, \"value\": 4270}, \"2223\": {\"frequency\": 1, \"value\": 2223}, \"2229\": {\"frequency\": 1, \"value\": 2229}, \"2230\": {\"frequency\": 82, \"value\": 2230}, \"4280\": {\"frequency\": 9, \"value\": 4280}, \"2233\": {\"frequency\": 1, \"value\": 2233}, \"6330\": {\"frequency\": 1, \"value\": 6330}, \"2235\": {\"frequency\": 1, \"value\": 2235}, \"4285\": {\"frequency\": 2, \"value\": 4285}, \"2238\": {\"frequency\": 1, \"value\": 2238}, \"2240\": {\"frequency\": 101, \"value\": 2240}, \"4290\": {\"frequency\": 7, \"value\": 4290}, \"2244\": {\"frequency\": 1, \"value\": 2244}, \"2245\": {\"frequency\": 2, \"value\": 2245}, \"2250\": {\"frequency\": 68, \"value\": 2250}, \"2251\": {\"frequency\": 1, \"value\": 2251}, \"4300\": {\"frequency\": 8, \"value\": 4300}, \"2253\": {\"frequency\": 1, \"value\": 2253}, \"1741\": {\"frequency\": 2, \"value\": 1741}, \"2257\": {\"frequency\": 1, \"value\": 2257}, \"2259\": {\"frequency\": 1, \"value\": 2259}, \"2260\": {\"frequency\": 79, \"value\": 2260}, \"4310\": {\"frequency\": 5, \"value\": 4310}, \"2267\": {\"frequency\": 1, \"value\": 2267}, \"2270\": {\"frequency\": 62, \"value\": 2270}, \"4133\": {\"frequency\": 1, \"value\": 4133}, \"4320\": {\"frequency\": 9, \"value\": 4320}, \"6370\": {\"frequency\": 1, \"value\": 6370}, \"2280\": {\"frequency\": 81, \"value\": 2280}, \"4330\": {\"frequency\": 4, \"value\": 4330}, \"2283\": {\"frequency\": 1, \"value\": 2283}, \"6380\": {\"frequency\": 1, \"value\": 6380}, \"2286\": {\"frequency\": 1, \"value\": 2286}, \"2290\": {\"frequency\": 80, \"value\": 2290}, \"4340\": {\"frequency\": 8, \"value\": 4340}, \"6390\": {\"frequency\": 1, \"value\": 6390}, \"4168\": {\"frequency\": 1, \"value\": 4168}, \"2298\": {\"frequency\": 1, \"value\": 2298}, \"2300\": {\"frequency\": 84, \"value\": 2300}, \"2301\": {\"frequency\": 1, \"value\": 2301}, \"4350\": {\"frequency\": 7, \"value\": 4350}, \"2303\": {\"frequency\": 3, \"value\": 2303}, \"6400\": {\"frequency\": 1, \"value\": 6400}, \"2305\": {\"frequency\": 1, \"value\": 2305}, \"2310\": {\"frequency\": 59, \"value\": 2310}, \"2311\": {\"frequency\": 1, \"value\": 2311}, \"4360\": {\"frequency\": 9, \"value\": 4360}, \"2092\": {\"frequency\": 1, \"value\": 2092}, \"6410\": {\"frequency\": 1, \"value\": 6410}, \"6530\": {\"frequency\": 1, \"value\": 6530}, \"2320\": {\"frequency\": 90, \"value\": 2320}, \"1752\": {\"frequency\": 1, \"value\": 1752}, \"4370\": {\"frequency\": 8, \"value\": 4370}, \"3118\": {\"frequency\": 1, \"value\": 3118}, \"2329\": {\"frequency\": 2, \"value\": 2329}, \"2330\": {\"frequency\": 76, \"value\": 2330}, \"2331\": {\"frequency\": 1, \"value\": 2331}, \"4380\": {\"frequency\": 7, \"value\": 4380}, \"6430\": {\"frequency\": 1, \"value\": 6430}, \"1072\": {\"frequency\": 1, \"value\": 1072}, \"4386\": {\"frequency\": 1, \"value\": 4386}, \"2340\": {\"frequency\": 80, \"value\": 2340}, \"2341\": {\"frequency\": 1, \"value\": 2341}, \"4390\": {\"frequency\": 7, \"value\": 4390}, \"2344\": {\"frequency\": 2, \"value\": 2344}, \"2350\": {\"frequency\": 74, \"value\": 2350}, \"4400\": {\"frequency\": 5, \"value\": 4400}, \"3488\": {\"frequency\": 1, \"value\": 3488}, \"2738\": {\"frequency\": 1, \"value\": 2738}, \"2360\": {\"frequency\": 75, \"value\": 2360}, \"1076\": {\"frequency\": 1, \"value\": 1076}, \"4410\": {\"frequency\": 12, \"value\": 4410}, \"2370\": {\"frequency\": 75, \"value\": 2370}, \"4420\": {\"frequency\": 9, \"value\": 4420}, \"2375\": {\"frequency\": 1, \"value\": 2375}, \"2380\": {\"frequency\": 64, \"value\": 2380}, \"4430\": {\"frequency\": 6, \"value\": 4430}, \"3470\": {\"frequency\": 21, \"value\": 3470}, \"2390\": {\"frequency\": 85, \"value\": 2390}, \"4440\": {\"frequency\": 7, \"value\": 4440}, \"2393\": {\"frequency\": 1, \"value\": 2393}, \"6490\": {\"frequency\": 1, \"value\": 6490}, \"2395\": {\"frequency\": 1, \"value\": 2395}, \"2398\": {\"frequency\": 1, \"value\": 2398}, \"2400\": {\"frequency\": 84, \"value\": 2400}, \"4450\": {\"frequency\": 2, \"value\": 4450}, \"2403\": {\"frequency\": 1, \"value\": 2403}, \"6500\": {\"frequency\": 1, \"value\": 6500}, \"2406\": {\"frequency\": 1, \"value\": 2406}, \"1084\": {\"frequency\": 1, \"value\": 1084}, \"2410\": {\"frequency\": 57, \"value\": 2410}, \"4460\": {\"frequency\": 9, \"value\": 4460}, \"2413\": {\"frequency\": 1, \"value\": 2413}, \"6510\": {\"frequency\": 1, \"value\": 6510}, \"2415\": {\"frequency\": 1, \"value\": 2415}, \"370\": {\"frequency\": 1, \"value\": 370}, \"2420\": {\"frequency\": 88, \"value\": 2420}, \"4470\": {\"frequency\": 7, \"value\": 4470}, \"2423\": {\"frequency\": 1, \"value\": 2423}, \"2424\": {\"frequency\": 2, \"value\": 2424}, \"2425\": {\"frequency\": 1, \"value\": 2425}, \"4475\": {\"frequency\": 2, \"value\": 4475}, \"380\": {\"frequency\": 1, \"value\": 380}, \"2430\": {\"frequency\": 70, \"value\": 2430}, \"2432\": {\"frequency\": 1, \"value\": 2432}, \"3136\": {\"frequency\": 1, \"value\": 3136}, \"2434\": {\"frequency\": 1, \"value\": 2434}, \"2437\": {\"frequency\": 1, \"value\": 2437}, \"390\": {\"frequency\": 2, \"value\": 390}, \"2440\": {\"frequency\": 87, \"value\": 2440}, \"2441\": {\"frequency\": 1, \"value\": 2441}, \"4490\": {\"frequency\": 8, \"value\": 4490}, \"4495\": {\"frequency\": 1, \"value\": 4495}, \"2448\": {\"frequency\": 1, \"value\": 2448}, \"2450\": {\"frequency\": 52, \"value\": 2450}, \"4500\": {\"frequency\": 8, \"value\": 4500}, \"2798\": {\"frequency\": 2, \"value\": 2798}, \"6550\": {\"frequency\": 1, \"value\": 6550}, \"5810\": {\"frequency\": 1, \"value\": 5810}, \"2456\": {\"frequency\": 1, \"value\": 2456}, \"1092\": {\"frequency\": 1, \"value\": 1092}, \"410\": {\"frequency\": 1, \"value\": 410}, \"2460\": {\"frequency\": 66, \"value\": 2460}, \"4510\": {\"frequency\": 4, \"value\": 4510}, \"6563\": {\"frequency\": 1, \"value\": 6563}, \"420\": {\"frequency\": 2, \"value\": 420}, \"2470\": {\"frequency\": 52, \"value\": 2470}, \"4520\": {\"frequency\": 2, \"value\": 4520}, \"2473\": {\"frequency\": 1, \"value\": 2473}, \"2475\": {\"frequency\": 4, \"value\": 2475}, \"430\": {\"frequency\": 1, \"value\": 430}, \"2480\": {\"frequency\": 65, \"value\": 2480}, \"2481\": {\"frequency\": 1, \"value\": 2481}, \"4530\": {\"frequency\": 2, \"value\": 4530}, \"2483\": {\"frequency\": 2, \"value\": 2483}, \"440\": {\"frequency\": 1, \"value\": 440}, \"3828\": {\"frequency\": 1, \"value\": 3828}, \"2490\": {\"frequency\": 58, \"value\": 2490}, \"4540\": {\"frequency\": 1, \"value\": 4540}, \"2495\": {\"frequency\": 3, \"value\": 2495}, \"2496\": {\"frequency\": 1, \"value\": 2496}, \"2497\": {\"frequency\": 1, \"value\": 2497}, \"2500\": {\"frequency\": 90, \"value\": 2500}, \"1782\": {\"frequency\": 1, \"value\": 1782}, \"4550\": {\"frequency\": 2, \"value\": 4550}, \"3148\": {\"frequency\": 1, \"value\": 3148}, \"2506\": {\"frequency\": 2, \"value\": 2506}, \"2507\": {\"frequency\": 1, \"value\": 2507}, \"460\": {\"frequency\": 1, \"value\": 460}, \"2510\": {\"frequency\": 70, \"value\": 2510}, \"4560\": {\"frequency\": 8, \"value\": 4560}, \"2514\": {\"frequency\": 1, \"value\": 2514}, \"2517\": {\"frequency\": 1, \"value\": 2517}, \"2518\": {\"frequency\": 1, \"value\": 2518}, \"2519\": {\"frequency\": 1, \"value\": 2519}, \"2520\": {\"frequency\": 71, \"value\": 2520}, \"1444\": {\"frequency\": 1, \"value\": 1444}, \"4570\": {\"frequency\": 6, \"value\": 4570}, \"8670\": {\"frequency\": 1, \"value\": 8670}, \"4575\": {\"frequency\": 1, \"value\": 4575}, \"480\": {\"frequency\": 2, \"value\": 480}, \"2529\": {\"frequency\": 1, \"value\": 2529}, \"2530\": {\"frequency\": 48, \"value\": 2530}, \"2531\": {\"frequency\": 1, \"value\": 2531}, \"4580\": {\"frequency\": 2, \"value\": 4580}, \"6630\": {\"frequency\": 1, \"value\": 6630}, \"490\": {\"frequency\": 1, \"value\": 490}, \"2540\": {\"frequency\": 61, \"value\": 2540}, \"4590\": {\"frequency\": 7, \"value\": 4590}, \"6640\": {\"frequency\": 2, \"value\": 6640}, \"2547\": {\"frequency\": 1, \"value\": 2547}, \"500\": {\"frequency\": 1, \"value\": 500}, \"2550\": {\"frequency\": 74, \"value\": 2550}, \"4600\": {\"frequency\": 6, \"value\": 4600}, \"2555\": {\"frequency\": 1, \"value\": 2555}, \"2557\": {\"frequency\": 1, \"value\": 2557}, \"2560\": {\"frequency\": 58, \"value\": 2560}, \"4610\": {\"frequency\": 7, \"value\": 4610}, \"520\": {\"frequency\": 6, \"value\": 520}, \"2570\": {\"frequency\": 62, \"value\": 2570}, \"4620\": {\"frequency\": 3, \"value\": 4620}, \"6670\": {\"frequency\": 1, \"value\": 6670}, \"2575\": {\"frequency\": 1, \"value\": 2575}, \"2577\": {\"frequency\": 1, \"value\": 2577}, \"2578\": {\"frequency\": 1, \"value\": 2578}, \"2580\": {\"frequency\": 51, \"value\": 2580}, \"2478\": {\"frequency\": 1, \"value\": 2478}, \"4630\": {\"frequency\": 2, \"value\": 4630}, \"2584\": {\"frequency\": 1, \"value\": 2584}, \"540\": {\"frequency\": 2, \"value\": 540}, \"2590\": {\"frequency\": 55, \"value\": 2590}, \"4640\": {\"frequency\": 4, \"value\": 4640}, \"2594\": {\"frequency\": 1, \"value\": 2594}, \"4645\": {\"frequency\": 1, \"value\": 4645}, \"550\": {\"frequency\": 4, \"value\": 550}, \"2600\": {\"frequency\": 68, \"value\": 2600}, \"2601\": {\"frequency\": 1, \"value\": 2601}, \"4650\": {\"frequency\": 2, \"value\": 4650}, \"2605\": {\"frequency\": 3, \"value\": 2605}, \"560\": {\"frequency\": 4, \"value\": 560}, \"2610\": {\"frequency\": 51, \"value\": 2610}, \"4660\": {\"frequency\": 6, \"value\": 4660}, \"570\": {\"frequency\": 3, \"value\": 570}, \"2620\": {\"frequency\": 73, \"value\": 2620}, \"1802\": {\"frequency\": 1, \"value\": 1802}, \"4670\": {\"frequency\": 5, \"value\": 4670}, \"2623\": {\"frequency\": 1, \"value\": 2623}, \"580\": {\"frequency\": 5, \"value\": 580}, \"2630\": {\"frequency\": 53, \"value\": 2630}, \"2632\": {\"frequency\": 2, \"value\": 2632}, \"2828\": {\"frequency\": 1, \"value\": 2828}, \"1122\": {\"frequency\": 2, \"value\": 1122}, \"590\": {\"frequency\": 5, \"value\": 590}, \"2640\": {\"frequency\": 50, \"value\": 2640}, \"2641\": {\"frequency\": 2, \"value\": 2641}, \"4690\": {\"frequency\": 5, \"value\": 4690}, \"2643\": {\"frequency\": 1, \"value\": 2643}, \"600\": {\"frequency\": 7, \"value\": 600}, \"3172\": {\"frequency\": 1, \"value\": 3172}, \"2650\": {\"frequency\": 60, \"value\": 2650}, \"4700\": {\"frequency\": 8, \"value\": 4700}, \"2653\": {\"frequency\": 1, \"value\": 2653}, \"2655\": {\"frequency\": 1, \"value\": 2655}, \"2656\": {\"frequency\": 1, \"value\": 2656}, \"610\": {\"frequency\": 4, \"value\": 610}, \"2660\": {\"frequency\": 62, \"value\": 2660}, \"4710\": {\"frequency\": 1, \"value\": 4710}, \"2665\": {\"frequency\": 1, \"value\": 2665}, \"3362\": {\"frequency\": 1, \"value\": 3362}, \"620\": {\"frequency\": 12, \"value\": 620}, \"2669\": {\"frequency\": 1, \"value\": 2669}, \"2670\": {\"frequency\": 46, \"value\": 2670}, \"4720\": {\"frequency\": 4, \"value\": 4720}, \"2675\": {\"frequency\": 1, \"value\": 2675}, \"630\": {\"frequency\": 5, \"value\": 630}, \"2680\": {\"frequency\": 64, \"value\": 2680}, \"1812\": {\"frequency\": 1, \"value\": 1812}, \"4730\": {\"frequency\": 2, \"value\": 4730}, \"2683\": {\"frequency\": 1, \"value\": 2683}, \"640\": {\"frequency\": 5, \"value\": 640}, \"2689\": {\"frequency\": 2, \"value\": 2689}, \"2690\": {\"frequency\": 42, \"value\": 2690}, \"4740\": {\"frequency\": 5, \"value\": 4740}, \"1934\": {\"frequency\": 1, \"value\": 1934}, \"650\": {\"frequency\": 3, \"value\": 650}, \"2700\": {\"frequency\": 58, \"value\": 2700}, \"2701\": {\"frequency\": 2, \"value\": 2701}, \"4750\": {\"frequency\": 5, \"value\": 4750}, \"660\": {\"frequency\": 6, \"value\": 660}, \"2710\": {\"frequency\": 51, \"value\": 2710}, \"4760\": {\"frequency\": 1, \"value\": 4760}, \"2714\": {\"frequency\": 2, \"value\": 2714}, \"2716\": {\"frequency\": 1, \"value\": 2716}, \"2717\": {\"frequency\": 1, \"value\": 2717}, \"670\": {\"frequency\": 25, \"value\": 670}, \"2720\": {\"frequency\": 58, \"value\": 2720}, \"4770\": {\"frequency\": 2, \"value\": 4770}, \"2502\": {\"frequency\": 1, \"value\": 2502}, \"6160\": {\"frequency\": 1, \"value\": 6160}, \"680\": {\"frequency\": 13, \"value\": 680}, \"2730\": {\"frequency\": 48, \"value\": 2730}, \"4780\": {\"frequency\": 2, \"value\": 4780}, \"2734\": {\"frequency\": 1, \"value\": 2734}, \"690\": {\"frequency\": 8, \"value\": 690}, \"2740\": {\"frequency\": 53, \"value\": 2740}, \"4790\": {\"frequency\": 2, \"value\": 4790}, \"6840\": {\"frequency\": 1, \"value\": 6840}, \"700\": {\"frequency\": 36, \"value\": 700}, \"2750\": {\"frequency\": 40, \"value\": 2750}, \"4800\": {\"frequency\": 3, \"value\": 4800}, \"2753\": {\"frequency\": 1, \"value\": 2753}, \"2755\": {\"frequency\": 2, \"value\": 2755}, \"710\": {\"frequency\": 27, \"value\": 710}, \"2760\": {\"frequency\": 43, \"value\": 2760}, \"4810\": {\"frequency\": 2, \"value\": 4810}, \"720\": {\"frequency\": 49, \"value\": 720}, \"3192\": {\"frequency\": 1, \"value\": 3192}, \"2770\": {\"frequency\": 56, \"value\": 2770}, \"4820\": {\"frequency\": 1, \"value\": 4820}, \"730\": {\"frequency\": 14, \"value\": 730}, \"2780\": {\"frequency\": 47, \"value\": 2780}, \"4830\": {\"frequency\": 4, \"value\": 4830}, \"2783\": {\"frequency\": 1, \"value\": 2783}, \"6880\": {\"frequency\": 1, \"value\": 6880}, \"740\": {\"frequency\": 22, \"value\": 740}, \"2789\": {\"frequency\": 1, \"value\": 2789}, \"2790\": {\"frequency\": 52, \"value\": 2790}, \"2793\": {\"frequency\": 1, \"value\": 2793}, \"2795\": {\"frequency\": 1, \"value\": 2795}, \"2796\": {\"frequency\": 1, \"value\": 2796}, \"750\": {\"frequency\": 27, \"value\": 750}, \"2800\": {\"frequency\": 54, \"value\": 2800}, \"4850\": {\"frequency\": 4, \"value\": 4850}, \"2803\": {\"frequency\": 1, \"value\": 2803}, \"6900\": {\"frequency\": 1, \"value\": 6900}, \"2807\": {\"frequency\": 1, \"value\": 2807}, \"760\": {\"frequency\": 25, \"value\": 760}, \"2810\": {\"frequency\": 46, \"value\": 2810}, \"2811\": {\"frequency\": 1, \"value\": 2811}, \"4860\": {\"frequency\": 5, \"value\": 4860}, \"1834\": {\"frequency\": 1, \"value\": 1834}, \"2815\": {\"frequency\": 2, \"value\": 2815}, \"770\": {\"frequency\": 42, \"value\": 770}, \"2820\": {\"frequency\": 54, \"value\": 2820}, \"470\": {\"frequency\": 2, \"value\": 470}, \"4870\": {\"frequency\": 3, \"value\": 4870}, \"780\": {\"frequency\": 26, \"value\": 780}, \"3202\": {\"frequency\": 1, \"value\": 3202}, \"2830\": {\"frequency\": 46, \"value\": 2830}, \"6930\": {\"frequency\": 1, \"value\": 6930}, \"4883\": {\"frequency\": 1, \"value\": 4883}, \"790\": {\"frequency\": 38, \"value\": 790}, \"2840\": {\"frequency\": 49, \"value\": 2840}, \"4890\": {\"frequency\": 3, \"value\": 4890}, \"2844\": {\"frequency\": 1, \"value\": 2844}, \"2846\": {\"frequency\": 1, \"value\": 2846}, \"800\": {\"frequency\": 47, \"value\": 800}, \"2849\": {\"frequency\": 1, \"value\": 2849}, \"2850\": {\"frequency\": 38, \"value\": 2850}, \"809\": {\"frequency\": 1, \"value\": 809}, \"810\": {\"frequency\": 27, \"value\": 810}, \"2860\": {\"frequency\": 39, \"value\": 2860}, \"4910\": {\"frequency\": 4, \"value\": 4910}, \"2864\": {\"frequency\": 1, \"value\": 2864}, \"820\": {\"frequency\": 40, \"value\": 820}, \"1502\": {\"frequency\": 1, \"value\": 1502}, \"2870\": {\"frequency\": 38, \"value\": 2870}, \"4920\": {\"frequency\": 3, \"value\": 4920}, \"828\": {\"frequency\": 1, \"value\": 828}, \"830\": {\"frequency\": 36, \"value\": 830}, \"2880\": {\"frequency\": 46, \"value\": 2880}, \"833\": {\"frequency\": 1, \"value\": 833}, \"4930\": {\"frequency\": 4, \"value\": 4930}, \"6980\": {\"frequency\": 1, \"value\": 6980}, \"2885\": {\"frequency\": 1, \"value\": 2885}, \"840\": {\"frequency\": 56, \"value\": 840}, \"2890\": {\"frequency\": 34, \"value\": 2890}, \"2891\": {\"frequency\": 1, \"value\": 2891}, \"4940\": {\"frequency\": 1, \"value\": 4940}, \"850\": {\"frequency\": 26, \"value\": 850}, \"2900\": {\"frequency\": 35, \"value\": 2900}, \"7000\": {\"frequency\": 1, \"value\": 7000}, \"2905\": {\"frequency\": 1, \"value\": 2905}, \"2906\": {\"frequency\": 1, \"value\": 2906}, \"860\": {\"frequency\": 57, \"value\": 860}, \"2910\": {\"frequency\": 57, \"value\": 2910}, \"4960\": {\"frequency\": 2, \"value\": 4960}, \"2192\": {\"frequency\": 1, \"value\": 2192}, \"1510\": {\"frequency\": 114, \"value\": 1510}, \"870\": {\"frequency\": 36, \"value\": 870}, \"2920\": {\"frequency\": 43, \"value\": 2920}, \"2876\": {\"frequency\": 2, \"value\": 2876}, \"4970\": {\"frequency\": 1, \"value\": 4970}, \"2927\": {\"frequency\": 2, \"value\": 2927}, \"880\": {\"frequency\": 54, \"value\": 880}, \"2930\": {\"frequency\": 37, \"value\": 2930}, \"4980\": {\"frequency\": 2, \"value\": 4980}, \"3030\": {\"frequency\": 45, \"value\": 3030}, \"890\": {\"frequency\": 33, \"value\": 890}, \"2940\": {\"frequency\": 34, \"value\": 2940}, \"2538\": {\"frequency\": 1, \"value\": 2538}, \"894\": {\"frequency\": 1, \"value\": 894}, \"900\": {\"frequency\": 53, \"value\": 900}, \"901\": {\"frequency\": 1, \"value\": 901}, \"2950\": {\"frequency\": 32, \"value\": 2950}, \"5000\": {\"frequency\": 4, \"value\": 5000}, \"7050\": {\"frequency\": 1, \"value\": 7050}, \"3223\": {\"frequency\": 2, \"value\": 3223}, \"910\": {\"frequency\": 60, \"value\": 910}, \"2960\": {\"frequency\": 37, \"value\": 2960}, \"2961\": {\"frequency\": 1, \"value\": 2961}, \"5010\": {\"frequency\": 3, \"value\": 5010}, \"2963\": {\"frequency\": 1, \"value\": 2963}, \"2542\": {\"frequency\": 1, \"value\": 2542}, \"920\": {\"frequency\": 51, \"value\": 920}, \"2970\": {\"frequency\": 29, \"value\": 2970}, \"5020\": {\"frequency\": 3, \"value\": 5020}, \"2544\": {\"frequency\": 1, \"value\": 2544}, \"930\": {\"frequency\": 43, \"value\": 930}, \"2979\": {\"frequency\": 1, \"value\": 2979}, \"2980\": {\"frequency\": 57, \"value\": 2980}, \"5030\": {\"frequency\": 1, \"value\": 5030}, \"7080\": {\"frequency\": 1, \"value\": 7080}, \"940\": {\"frequency\": 62, \"value\": 940}, \"1522\": {\"frequency\": 1, \"value\": 1522}, \"2990\": {\"frequency\": 48, \"value\": 2990}, \"5040\": {\"frequency\": 3, \"value\": 5040}, \"2993\": {\"frequency\": 1, \"value\": 2993}, \"950\": {\"frequency\": 46, \"value\": 950}, \"3000\": {\"frequency\": 40, \"value\": 3000}, \"3001\": {\"frequency\": 1, \"value\": 3001}, \"5050\": {\"frequency\": 4, \"value\": 5050}, \"7100\": {\"frequency\": 1, \"value\": 7100}, \"960\": {\"frequency\": 82, \"value\": 960}, \"3010\": {\"frequency\": 48, \"value\": 3010}, \"1867\": {\"frequency\": 1, \"value\": 1867}, \"5060\": {\"frequency\": 1, \"value\": 5060}, \"844\": {\"frequency\": 1, \"value\": 844}, \"970\": {\"frequency\": 49, \"value\": 970}, \"5067\": {\"frequency\": 1, \"value\": 5067}, \"3020\": {\"frequency\": 41, \"value\": 3020}, \"5070\": {\"frequency\": 1, \"value\": 5070}, \"7120\": {\"frequency\": 1, \"value\": 7120}, \"980\": {\"frequency\": 53, \"value\": 980}, \"982\": {\"frequency\": 1, \"value\": 982}, \"5080\": {\"frequency\": 1, \"value\": 5080}, \"988\": {\"frequency\": 1, \"value\": 988}, \"990\": {\"frequency\": 53, \"value\": 990}, \"3040\": {\"frequency\": 45, \"value\": 3040}, \"5090\": {\"frequency\": 2, \"value\": 5090}, \"3238\": {\"frequency\": 1, \"value\": 3238}, \"998\": {\"frequency\": 2, \"value\": 998}, \"1000\": {\"frequency\": 73, \"value\": 1000}, \"3050\": {\"frequency\": 25, \"value\": 3050}, \"3052\": {\"frequency\": 1, \"value\": 3052}, \"1008\": {\"frequency\": 1, \"value\": 1008}, \"1010\": {\"frequency\": 129, \"value\": 1010}, \"3060\": {\"frequency\": 34, \"value\": 3060}, \"5110\": {\"frequency\": 2, \"value\": 5110}, \"3064\": {\"frequency\": 1, \"value\": 3064}, \"1876\": {\"frequency\": 1, \"value\": 1876}, \"1020\": {\"frequency\": 73, \"value\": 1020}, \"3070\": {\"frequency\": 36, \"value\": 3070}, \"5120\": {\"frequency\": 2, \"value\": 5120}, \"1030\": {\"frequency\": 57, \"value\": 1030}, \"3080\": {\"frequency\": 36, \"value\": 3080}, \"3444\": {\"frequency\": 1, \"value\": 3444}, \"5130\": {\"frequency\": 1, \"value\": 5130}, \"3085\": {\"frequency\": 1, \"value\": 3085}, \"12050\": {\"frequency\": 1, \"value\": 12050}, \"3087\": {\"frequency\": 1, \"value\": 3087}, \"1040\": {\"frequency\": 78, \"value\": 1040}, \"3090\": {\"frequency\": 38, \"value\": 3090}, \"1048\": {\"frequency\": 1, \"value\": 1048}, \"1050\": {\"frequency\": 68, \"value\": 1050}, \"3100\": {\"frequency\": 34, \"value\": 3100}, \"5150\": {\"frequency\": 3, \"value\": 5150}, \"1060\": {\"frequency\": 94, \"value\": 1060}, \"1061\": {\"frequency\": 1, \"value\": 1061}, \"3110\": {\"frequency\": 35, \"value\": 3110}, \"5160\": {\"frequency\": 1, \"value\": 5160}, \"1068\": {\"frequency\": 3, \"value\": 1068}, \"1070\": {\"frequency\": 76, \"value\": 1070}, \"3120\": {\"frequency\": 24, \"value\": 3120}, \"2568\": {\"frequency\": 1, \"value\": 2568}, \"5170\": {\"frequency\": 1, \"value\": 5170}, \"7220\": {\"frequency\": 1, \"value\": 7220}, \"1078\": {\"frequency\": 1, \"value\": 1078}, \"1080\": {\"frequency\": 50, \"value\": 1080}, \"3130\": {\"frequency\": 35, \"value\": 3130}, \"5180\": {\"frequency\": 5, \"value\": 5180}, \"3133\": {\"frequency\": 1, \"value\": 3133}, \"3135\": {\"frequency\": 1, \"value\": 3135}, \"1088\": {\"frequency\": 2, \"value\": 1088}, \"1090\": {\"frequency\": 69, \"value\": 1090}, \"3140\": {\"frequency\": 32, \"value\": 3140}, \"5190\": {\"frequency\": 3, \"value\": 5190}, \"1095\": {\"frequency\": 1, \"value\": 1095}, \"1100\": {\"frequency\": 79, \"value\": 1100}, \"3150\": {\"frequency\": 36, \"value\": 3150}, \"1108\": {\"frequency\": 1, \"value\": 1108}, \"1110\": {\"frequency\": 48, \"value\": 1110}, \"3160\": {\"frequency\": 49, \"value\": 3160}, \"5210\": {\"frequency\": 1, \"value\": 5210}, \"1120\": {\"frequency\": 86, \"value\": 1120}, \"1552\": {\"frequency\": 2, \"value\": 1552}, \"3170\": {\"frequency\": 22, \"value\": 3170}, \"5220\": {\"frequency\": 2, \"value\": 5220}, \"1894\": {\"frequency\": 1, \"value\": 1894}, \"7270\": {\"frequency\": 1, \"value\": 7270}, \"3176\": {\"frequency\": 1, \"value\": 3176}, \"1129\": {\"frequency\": 1, \"value\": 1129}, \"1130\": {\"frequency\": 56, \"value\": 1130}, \"1131\": {\"frequency\": 1, \"value\": 1131}, \"3180\": {\"frequency\": 41, \"value\": 3180}, \"3181\": {\"frequency\": 1, \"value\": 3181}, \"5230\": {\"frequency\": 3, \"value\": 5230}, \"1140\": {\"frequency\": 100, \"value\": 1140}, \"3190\": {\"frequency\": 47, \"value\": 3190}, \"5240\": {\"frequency\": 1, \"value\": 5240}, \"2708\": {\"frequency\": 1, \"value\": 2708}, \"1150\": {\"frequency\": 98, \"value\": 1150}, \"3200\": {\"frequency\": 36, \"value\": 3200}, \"5250\": {\"frequency\": 1, \"value\": 5250}, \"3206\": {\"frequency\": 1, \"value\": 3206}, \"1159\": {\"frequency\": 1, \"value\": 1159}, \"1160\": {\"frequency\": 91, \"value\": 1160}, \"3210\": {\"frequency\": 18, \"value\": 3210}, \"2242\": {\"frequency\": 5, \"value\": 2242}, \"3216\": {\"frequency\": 1, \"value\": 3216}, \"3217\": {\"frequency\": 1, \"value\": 3217}, \"1170\": {\"frequency\": 78, \"value\": 1170}, \"3220\": {\"frequency\": 40, \"value\": 3220}, \"5270\": {\"frequency\": 3, \"value\": 5270}, \"1175\": {\"frequency\": 2, \"value\": 1175}, \"7320\": {\"frequency\": 1, \"value\": 7320}, \"1180\": {\"frequency\": 89, \"value\": 1180}, \"3028\": {\"frequency\": 1, \"value\": 3028}, \"3230\": {\"frequency\": 36, \"value\": 3230}, \"5280\": {\"frequency\": 1, \"value\": 5280}, \"3236\": {\"frequency\": 1, \"value\": 3236}, \"1190\": {\"frequency\": 67, \"value\": 1190}, \"3240\": {\"frequency\": 31, \"value\": 3240}, \"2588\": {\"frequency\": 2, \"value\": 2588}, \"5290\": {\"frequency\": 2, \"value\": 5290}, \"1200\": {\"frequency\": 118, \"value\": 1200}, \"3250\": {\"frequency\": 28, \"value\": 3250}, \"5300\": {\"frequency\": 2, \"value\": 5300}, \"7350\": {\"frequency\": 1, \"value\": 7350}, \"5305\": {\"frequency\": 1, \"value\": 5305}, \"1210\": {\"frequency\": 88, \"value\": 1210}, \"3260\": {\"frequency\": 20, \"value\": 3260}, \"5310\": {\"frequency\": 4, \"value\": 5310}, \"3266\": {\"frequency\": 2, \"value\": 3266}, \"1220\": {\"frequency\": 92, \"value\": 1220}, \"3270\": {\"frequency\": 23, \"value\": 3270}, \"5320\": {\"frequency\": 1, \"value\": 5320}, \"3273\": {\"frequency\": 1, \"value\": 3273}, \"3274\": {\"frequency\": 1, \"value\": 3274}, \"3276\": {\"frequency\": 1, \"value\": 3276}, \"1230\": {\"frequency\": 82, \"value\": 1230}, \"3280\": {\"frequency\": 29, \"value\": 3280}, \"1233\": {\"frequency\": 1, \"value\": 1233}, \"5330\": {\"frequency\": 2, \"value\": 5330}, \"3284\": {\"frequency\": 1, \"value\": 3284}, \"1239\": {\"frequency\": 1, \"value\": 1239}, \"1240\": {\"frequency\": 112, \"value\": 1240}, \"1572\": {\"frequency\": 1, \"value\": 1572}, \"3290\": {\"frequency\": 29, \"value\": 3290}, \"5340\": {\"frequency\": 1, \"value\": 5340}, \"7390\": {\"frequency\": 1, \"value\": 7390}, \"1232\": {\"frequency\": 1, \"value\": 1232}, \"1250\": {\"frequency\": 120, \"value\": 1250}, \"13540\": {\"frequency\": 1, \"value\": 13540}, \"2598\": {\"frequency\": 1, \"value\": 2598}, \"5350\": {\"frequency\": 2, \"value\": 5350}, \"1255\": {\"frequency\": 2, \"value\": 1255}, \"1256\": {\"frequency\": 1, \"value\": 1256}, \"3305\": {\"frequency\": 1, \"value\": 3305}, \"1260\": {\"frequency\": 113, \"value\": 1260}, \"3310\": {\"frequency\": 23, \"value\": 3310}, \"893\": {\"frequency\": 1, \"value\": 893}, \"5360\": {\"frequency\": 1, \"value\": 5360}, \"3316\": {\"frequency\": 1, \"value\": 3316}, \"1270\": {\"frequency\": 102, \"value\": 1270}, \"3320\": {\"frequency\": 36, \"value\": 3320}, \"5370\": {\"frequency\": 5, \"value\": 5370}, \"1275\": {\"frequency\": 1, \"value\": 1275}, \"7420\": {\"frequency\": 1, \"value\": 7420}, \"1278\": {\"frequency\": 1, \"value\": 1278}, \"1280\": {\"frequency\": 100, \"value\": 1280}, \"3330\": {\"frequency\": 21, \"value\": 3330}, \"1290\": {\"frequency\": 74, \"value\": 1290}, \"3340\": {\"frequency\": 22, \"value\": 3340}, \"1295\": {\"frequency\": 1, \"value\": 1295}, \"7440\": {\"frequency\": 1, \"value\": 7440}, \"384\": {\"frequency\": 1, \"value\": 384}, \"1300\": {\"frequency\": 138, \"value\": 1300}, \"3350\": {\"frequency\": 22, \"value\": 3350}, \"5400\": {\"frequency\": 1, \"value\": 5400}, \"5403\": {\"frequency\": 1, \"value\": 5403}, \"1310\": {\"frequency\": 81, \"value\": 1310}, \"3360\": {\"frequency\": 22, \"value\": 3360}, \"3361\": {\"frequency\": 2, \"value\": 3361}, \"5410\": {\"frequency\": 1, \"value\": 5410}, \"1315\": {\"frequency\": 1, \"value\": 1315}, \"902\": {\"frequency\": 1, \"value\": 902}, \"3366\": {\"frequency\": 1, \"value\": 3366}, \"1320\": {\"frequency\": 122, \"value\": 1320}, \"3370\": {\"frequency\": 39, \"value\": 3370}, \"5420\": {\"frequency\": 1, \"value\": 5420}, \"7730\": {\"frequency\": 1, \"value\": 7730}, \"1330\": {\"frequency\": 89, \"value\": 1330}, \"3380\": {\"frequency\": 17, \"value\": 3380}, \"1333\": {\"frequency\": 1, \"value\": 1333}, \"5430\": {\"frequency\": 2, \"value\": 5430}, \"7480\": {\"frequency\": 1, \"value\": 7480}, \"2612\": {\"frequency\": 1, \"value\": 2612}, \"1340\": {\"frequency\": 113, \"value\": 1340}, \"3390\": {\"frequency\": 16, \"value\": 3390}, \"5440\": {\"frequency\": 2, \"value\": 5440}, \"1347\": {\"frequency\": 1, \"value\": 1347}, \"1350\": {\"frequency\": 95, \"value\": 1350}, \"3400\": {\"frequency\": 30, \"value\": 3400}, \"3402\": {\"frequency\": 1, \"value\": 3402}, \"1358\": {\"frequency\": 3, \"value\": 1358}, \"5860\": {\"frequency\": 3, \"value\": 5860}, \"1360\": {\"frequency\": 96, \"value\": 1360}, \"3410\": {\"frequency\": 24, \"value\": 3410}, \"5461\": {\"frequency\": 1, \"value\": 5461}, \"3300\": {\"frequency\": 24, \"value\": 3300}, \"1370\": {\"frequency\": 118, \"value\": 1370}, \"3420\": {\"frequency\": 32, \"value\": 3420}, \"5470\": {\"frequency\": 2, \"value\": 5470}, \"1380\": {\"frequency\": 85, \"value\": 1380}, \"1381\": {\"frequency\": 1, \"value\": 1381}, \"3430\": {\"frequency\": 20, \"value\": 3430}, \"1384\": {\"frequency\": 3, \"value\": 1384}, \"1390\": {\"frequency\": 89, \"value\": 1390}, \"3440\": {\"frequency\": 27, \"value\": 3440}, \"7400\": {\"frequency\": 1, \"value\": 7400}, \"5490\": {\"frequency\": 2, \"value\": 5490}, \"1396\": {\"frequency\": 1, \"value\": 1396}, \"1397\": {\"frequency\": 1, \"value\": 1397}, \"1400\": {\"frequency\": 135, \"value\": 1400}, \"3450\": {\"frequency\": 24, \"value\": 3450}, \"1405\": {\"frequency\": 1, \"value\": 1405}, \"1408\": {\"frequency\": 1, \"value\": 1408}, \"1410\": {\"frequency\": 109, \"value\": 1410}, \"3460\": {\"frequency\": 14, \"value\": 3460}, \"1413\": {\"frequency\": 2, \"value\": 1413}, \"3078\": {\"frequency\": 1, \"value\": 3078}, \"1420\": {\"frequency\": 92, \"value\": 1420}, \"1422\": {\"frequency\": 1, \"value\": 1422}, \"5520\": {\"frequency\": 1, \"value\": 5520}, \"1425\": {\"frequency\": 1, \"value\": 1425}, \"4480\": {\"frequency\": 3, \"value\": 4480}, \"1427\": {\"frequency\": 1, \"value\": 1427}, \"1430\": {\"frequency\": 116, \"value\": 1430}, \"3480\": {\"frequency\": 21, \"value\": 3480}, \"2628\": {\"frequency\": 1, \"value\": 2628}, \"5530\": {\"frequency\": 1, \"value\": 5530}, \"1435\": {\"frequency\": 1, \"value\": 1435}, \"1440\": {\"frequency\": 133, \"value\": 1440}, \"1264\": {\"frequency\": 1, \"value\": 1264}, \"3490\": {\"frequency\": 26, \"value\": 3490}, \"5540\": {\"frequency\": 2, \"value\": 5540}, \"1445\": {\"frequency\": 5, \"value\": 1445}, \"9640\": {\"frequency\": 1, \"value\": 9640}, \"5545\": {\"frequency\": 1, \"value\": 5545}, \"1450\": {\"frequency\": 91, \"value\": 1450}, \"1451\": {\"frequency\": 1, \"value\": 1451}, \"3500\": {\"frequency\": 29, \"value\": 3500}, \"1453\": {\"frequency\": 1, \"value\": 1453}, \"5550\": {\"frequency\": 4, \"value\": 5550}, \"3504\": {\"frequency\": 1, \"value\": 3504}, \"4680\": {\"frequency\": 2, \"value\": 4680}, \"1458\": {\"frequency\": 1, \"value\": 1458}, \"1460\": {\"frequency\": 116, \"value\": 1460}, \"3510\": {\"frequency\": 21, \"value\": 3510}, \"1463\": {\"frequency\": 1, \"value\": 1463}, \"1465\": {\"frequency\": 1, \"value\": 1465}, \"1470\": {\"frequency\": 112, \"value\": 1470}, \"3520\": {\"frequency\": 21, \"value\": 3520}, \"1952\": {\"frequency\": 1, \"value\": 1952}, \"5570\": {\"frequency\": 1, \"value\": 5570}, \"7620\": {\"frequency\": 1, \"value\": 7620}, \"3526\": {\"frequency\": 1, \"value\": 3526}, \"3527\": {\"frequency\": 1, \"value\": 3527}, \"1480\": {\"frequency\": 125, \"value\": 1480}, \"1481\": {\"frequency\": 2, \"value\": 1481}, \"3530\": {\"frequency\": 21, \"value\": 3530}, \"1484\": {\"frequency\": 1, \"value\": 1484}, \"1954\": {\"frequency\": 2, \"value\": 1954}, \"5584\": {\"frequency\": 1, \"value\": 5584}, \"1489\": {\"frequency\": 3, \"value\": 1489}, \"1490\": {\"frequency\": 99, \"value\": 1490}, \"3540\": {\"frequency\": 14, \"value\": 3540}, \"1494\": {\"frequency\": 2, \"value\": 1494}, \"1495\": {\"frequency\": 1, \"value\": 1495}, \"1496\": {\"frequency\": 1, \"value\": 1496}, \"3545\": {\"frequency\": 1, \"value\": 3545}, \"1500\": {\"frequency\": 112, \"value\": 1500}, \"3550\": {\"frequency\": 20, \"value\": 3550}, \"5600\": {\"frequency\": 1, \"value\": 5600}, \"3555\": {\"frequency\": 1, \"value\": 3555}, \"1509\": {\"frequency\": 3, \"value\": 1509}, \"1414\": {\"frequency\": 1, \"value\": 1414}, \"3560\": {\"frequency\": 28, \"value\": 3560}, \"5610\": {\"frequency\": 2, \"value\": 5610}, \"1516\": {\"frequency\": 1, \"value\": 1516}, \"1520\": {\"frequency\": 102, \"value\": 1520}, \"3569\": {\"frequency\": 1, \"value\": 3569}, \"3570\": {\"frequency\": 16, \"value\": 3570}, \"5620\": {\"frequency\": 2, \"value\": 5620}, \"1528\": {\"frequency\": 1, \"value\": 1528}, \"1530\": {\"frequency\": 109, \"value\": 1530}, \"3580\": {\"frequency\": 14, \"value\": 3580}, \"5635\": {\"frequency\": 1, \"value\": 5635}, \"1540\": {\"frequency\": 124, \"value\": 1540}, \"3590\": {\"frequency\": 7, \"value\": 3590}, \"5640\": {\"frequency\": 1, \"value\": 5640}, \"3595\": {\"frequency\": 1, \"value\": 3595}, \"3596\": {\"frequency\": 1, \"value\": 3596}, \"3597\": {\"frequency\": 1, \"value\": 3597}, \"1550\": {\"frequency\": 96, \"value\": 1550}, \"3600\": {\"frequency\": 25, \"value\": 3600}, \"1553\": {\"frequency\": 2, \"value\": 1553}, \"1556\": {\"frequency\": 1, \"value\": 1556}, \"1560\": {\"frequency\": 124, \"value\": 1560}, \"3610\": {\"frequency\": 19, \"value\": 3610}, \"5660\": {\"frequency\": 1, \"value\": 5660}, \"1626\": {\"frequency\": 1, \"value\": 1626}, \"7710\": {\"frequency\": 1, \"value\": 7710}, \"1570\": {\"frequency\": 100, \"value\": 1570}, \"1571\": {\"frequency\": 1, \"value\": 1571}, \"3620\": {\"frequency\": 17, \"value\": 3620}, \"5670\": {\"frequency\": 1, \"value\": 5670}, \"1578\": {\"frequency\": 1, \"value\": 1578}, \"1580\": {\"frequency\": 119, \"value\": 1580}, \"3630\": {\"frequency\": 13, \"value\": 3630}, \"1584\": {\"frequency\": 3, \"value\": 1584}, \"530\": {\"frequency\": 3, \"value\": 530}, \"1212\": {\"frequency\": 1, \"value\": 1212}, \"1590\": {\"frequency\": 104, \"value\": 1590}, \"2313\": {\"frequency\": 1, \"value\": 2313}, \"3640\": {\"frequency\": 13, \"value\": 3640}, \"1594\": {\"frequency\": 1, \"value\": 1594}, \"1600\": {\"frequency\": 109, \"value\": 1600}, \"1601\": {\"frequency\": 1, \"value\": 1601}, \"3650\": {\"frequency\": 19, \"value\": 3650}, \"5700\": {\"frequency\": 1, \"value\": 5700}, \"1606\": {\"frequency\": 1, \"value\": 1606}, \"3655\": {\"frequency\": 1, \"value\": 3655}, \"1608\": {\"frequency\": 3, \"value\": 1608}, \"1610\": {\"frequency\": 112, \"value\": 1610}, \"1611\": {\"frequency\": 1, \"value\": 1611}, \"3660\": {\"frequency\": 10, \"value\": 3660}, \"1613\": {\"frequency\": 1, \"value\": 1613}, \"5710\": {\"frequency\": 1, \"value\": 5710}, \"1615\": {\"frequency\": 1, \"value\": 1615}, \"1620\": {\"frequency\": 99, \"value\": 1620}, \"2452\": {\"frequency\": 1, \"value\": 2452}, \"3670\": {\"frequency\": 15, \"value\": 3670}, \"3672\": {\"frequency\": 1, \"value\": 3672}, \"3674\": {\"frequency\": 1, \"value\": 3674}, \"1628\": {\"frequency\": 1, \"value\": 1628}, \"3002\": {\"frequency\": 1, \"value\": 3002}, \"1630\": {\"frequency\": 94, \"value\": 1630}, \"3680\": {\"frequency\": 21, \"value\": 3680}, \"1296\": {\"frequency\": 1, \"value\": 1296}, \"5730\": {\"frequency\": 1, \"value\": 5730}, \"1852\": {\"frequency\": 2, \"value\": 1852}, \"5510\": {\"frequency\": 1, \"value\": 5510}, \"1639\": {\"frequency\": 1, \"value\": 1639}, \"1640\": {\"frequency\": 112, \"value\": 1640}, \"3004\": {\"frequency\": 1, \"value\": 3004}, \"3690\": {\"frequency\": 12, \"value\": 3690}, \"1643\": {\"frequency\": 1, \"value\": 1643}, \"5740\": {\"frequency\": 1, \"value\": 5740}, \"1646\": {\"frequency\": 3, \"value\": 1646}, \"3695\": {\"frequency\": 1, \"value\": 3695}, \"1650\": {\"frequency\": 117, \"value\": 1650}, \"1651\": {\"frequency\": 2, \"value\": 1651}, \"3700\": {\"frequency\": 18, \"value\": 3700}, \"1982\": {\"frequency\": 1, \"value\": 1982}, \"1654\": {\"frequency\": 2, \"value\": 1654}, \"1656\": {\"frequency\": 1, \"value\": 1656}, \"1657\": {\"frequency\": 1, \"value\": 1657}, \"1658\": {\"frequency\": 1, \"value\": 1658}, \"1252\": {\"frequency\": 1, \"value\": 1252}, \"1660\": {\"frequency\": 129, \"value\": 1660}, \"3710\": {\"frequency\": 10, \"value\": 3710}, \"5760\": {\"frequency\": 1, \"value\": 5760}, \"3691\": {\"frequency\": 1, \"value\": 3691}, \"3056\": {\"frequency\": 1, \"value\": 3056}, \"1670\": {\"frequency\": 109, \"value\": 1670}, \"3720\": {\"frequency\": 23, \"value\": 3720}, \"5770\": {\"frequency\": 3, \"value\": 5770}, \"1676\": {\"frequency\": 1, \"value\": 1676}, \"962\": {\"frequency\": 1, \"value\": 962}, \"5774\": {\"frequency\": 1, \"value\": 5774}, \"1679\": {\"frequency\": 1, \"value\": 1679}, \"1680\": {\"frequency\": 116, \"value\": 1680}, \"3730\": {\"frequency\": 16, \"value\": 3730}, \"5780\": {\"frequency\": 2, \"value\": 5780}, \"1689\": {\"frequency\": 1, \"value\": 1689}, \"1690\": {\"frequency\": 110, \"value\": 1690}, \"3740\": {\"frequency\": 17, \"value\": 3740}, \"5790\": {\"frequency\": 2, \"value\": 5790}, \"2672\": {\"frequency\": 1, \"value\": 2672}, \"9890\": {\"frequency\": 1, \"value\": 9890}, \"1700\": {\"frequency\": 108, \"value\": 1700}, \"3750\": {\"frequency\": 10, \"value\": 3750}, \"3753\": {\"frequency\": 1, \"value\": 3753}, \"7850\": {\"frequency\": 1, \"value\": 7850}, \"1710\": {\"frequency\": 93, \"value\": 1710}, \"3760\": {\"frequency\": 18, \"value\": 3760}, \"1992\": {\"frequency\": 1, \"value\": 1992}, \"1714\": {\"frequency\": 3, \"value\": 1714}, \"1715\": {\"frequency\": 1, \"value\": 1715}, \"1720\": {\"frequency\": 125, \"value\": 1720}, \"3770\": {\"frequency\": 13, \"value\": 3770}, \"5820\": {\"frequency\": 1, \"value\": 5820}, \"1726\": {\"frequency\": 1, \"value\": 1726}, \"1728\": {\"frequency\": 1, \"value\": 1728}, \"1730\": {\"frequency\": 100, \"value\": 1730}, \"3780\": {\"frequency\": 14, \"value\": 3780}, \"2678\": {\"frequency\": 1, \"value\": 2678}, \"5830\": {\"frequency\": 1, \"value\": 5830}, \"1313\": {\"frequency\": 1, \"value\": 1313}, \"7880\": {\"frequency\": 1, \"value\": 7880}, \"3786\": {\"frequency\": 1, \"value\": 3786}, \"1740\": {\"frequency\": 115, \"value\": 1740}, \"290\": {\"frequency\": 1, \"value\": 290}, \"3790\": {\"frequency\": 9, \"value\": 3790}, \"5840\": {\"frequency\": 2, \"value\": 5840}, \"1747\": {\"frequency\": 1, \"value\": 1747}, \"5844\": {\"frequency\": 1, \"value\": 5844}, \"1750\": {\"frequency\": 83, \"value\": 1750}, \"3800\": {\"frequency\": 10, \"value\": 3800}, \"5850\": {\"frequency\": 2, \"value\": 5850}, \"1757\": {\"frequency\": 1, \"value\": 1757}, \"1760\": {\"frequency\": 104, \"value\": 1760}, \"3810\": {\"frequency\": 13, \"value\": 3810}, \"1763\": {\"frequency\": 1, \"value\": 1763}, \"1764\": {\"frequency\": 1, \"value\": 1764}, \"1765\": {\"frequency\": 1, \"value\": 1765}, \"1767\": {\"frequency\": 1, \"value\": 1767}, \"1769\": {\"frequency\": 2, \"value\": 1769}, \"1770\": {\"frequency\": 98, \"value\": 1770}, \"3820\": {\"frequency\": 13, \"value\": 3820}, \"3281\": {\"frequency\": 1, \"value\": 3281}, \"1776\": {\"frequency\": 1, \"value\": 1776}, \"1778\": {\"frequency\": 1, \"value\": 1778}, \"1780\": {\"frequency\": 117, \"value\": 1780}, \"3830\": {\"frequency\": 20, \"value\": 3830}, \"3831\": {\"frequency\": 1, \"value\": 3831}, \"1785\": {\"frequency\": 2, \"value\": 1785}, \"2835\": {\"frequency\": 1, \"value\": 2835}, \"1788\": {\"frequency\": 1, \"value\": 1788}, \"1322\": {\"frequency\": 2, \"value\": 1322}, \"1790\": {\"frequency\": 110, \"value\": 1790}, \"3840\": {\"frequency\": 14, \"value\": 3840}, \"1794\": {\"frequency\": 1, \"value\": 1794}, \"3845\": {\"frequency\": 1, \"value\": 3845}, \"1798\": {\"frequency\": 1, \"value\": 1798}, \"3847\": {\"frequency\": 1, \"value\": 3847}, \"1800\": {\"frequency\": 129, \"value\": 1800}, \"3850\": {\"frequency\": 8, \"value\": 3850}, \"1805\": {\"frequency\": 1, \"value\": 1805}, \"1808\": {\"frequency\": 1, \"value\": 1808}, \"1810\": {\"frequency\": 98, \"value\": 1810}, \"1811\": {\"frequency\": 1, \"value\": 1811}, \"3860\": {\"frequency\": 15, \"value\": 3860}, \"1814\": {\"frequency\": 1, \"value\": 1814}, \"2692\": {\"frequency\": 2, \"value\": 2692}, \"1820\": {\"frequency\": 128, \"value\": 1820}, \"3870\": {\"frequency\": 12, \"value\": 3870}, \"1824\": {\"frequency\": 1, \"value\": 1824}, \"1830\": {\"frequency\": 114, \"value\": 1830}, \"3880\": {\"frequency\": 13, \"value\": 3880}, \"1833\": {\"frequency\": 1, \"value\": 1833}, \"5930\": {\"frequency\": 1, \"value\": 5930}, \"2658\": {\"frequency\": 1, \"value\": 2658}, \"1840\": {\"frequency\": 101, \"value\": 1840}, \"3890\": {\"frequency\": 14, \"value\": 3890}, \"5940\": {\"frequency\": 1, \"value\": 5940}, \"1845\": {\"frequency\": 1, \"value\": 1845}, \"1847\": {\"frequency\": 2, \"value\": 1847}, \"10040\": {\"frequency\": 1, \"value\": 10040}, \"1850\": {\"frequency\": 100, \"value\": 1850}, \"3900\": {\"frequency\": 10, \"value\": 3900}, \"3902\": {\"frequency\": 1, \"value\": 3902}, \"8000\": {\"frequency\": 1, \"value\": 8000}, \"3906\": {\"frequency\": 1, \"value\": 3906}, \"1860\": {\"frequency\": 91, \"value\": 1860}, \"1861\": {\"frequency\": 1, \"value\": 1861}, \"3910\": {\"frequency\": 13, \"value\": 3910}, \"1864\": {\"frequency\": 1, \"value\": 1864}, \"8010\": {\"frequency\": 1, \"value\": 8010}, \"3915\": {\"frequency\": 1, \"value\": 3915}, \"1870\": {\"frequency\": 96, \"value\": 1870}, \"1677\": {\"frequency\": 2, \"value\": 1677}, \"3920\": {\"frequency\": 17, \"value\": 3920}, \"6110\": {\"frequency\": 1, \"value\": 6110}, \"8020\": {\"frequency\": 1, \"value\": 8020}, \"1678\": {\"frequency\": 1, \"value\": 1678}, \"1880\": {\"frequency\": 90, \"value\": 1880}, \"3930\": {\"frequency\": 11, \"value\": 3930}, \"3931\": {\"frequency\": 1, \"value\": 3931}, \"5450\": {\"frequency\": 2, \"value\": 5450}, \"3045\": {\"frequency\": 1, \"value\": 3045}, \"1889\": {\"frequency\": 1, \"value\": 1889}, \"1890\": {\"frequency\": 98, \"value\": 1890}, \"3940\": {\"frequency\": 8, \"value\": 3940}, \"5990\": {\"frequency\": 2, \"value\": 5990}, \"1899\": {\"frequency\": 1, \"value\": 1899}, \"1900\": {\"frequency\": 117, \"value\": 1900}, \"3950\": {\"frequency\": 13, \"value\": 3950}, \"1904\": {\"frequency\": 1, \"value\": 1904}, \"2382\": {\"frequency\": 1, \"value\": 2382}, \"1909\": {\"frequency\": 1, \"value\": 1909}, \"1910\": {\"frequency\": 81, \"value\": 1910}, \"4073\": {\"frequency\": 1, \"value\": 4073}, \"1912\": {\"frequency\": 1, \"value\": 1912}, \"3732\": {\"frequency\": 1, \"value\": 3732}, \"1914\": {\"frequency\": 2, \"value\": 1914}, \"1920\": {\"frequency\": 94, \"value\": 1920}, \"1921\": {\"frequency\": 1, \"value\": 1921}, \"3970\": {\"frequency\": 8, \"value\": 3970}, \"5100\": {\"frequency\": 1, \"value\": 5100}, \"1930\": {\"frequency\": 88, \"value\": 1930}, \"3980\": {\"frequency\": 6, \"value\": 3980}, \"6030\": {\"frequency\": 1, \"value\": 6030}, \"1936\": {\"frequency\": 2, \"value\": 1936}, \"3065\": {\"frequency\": 1, \"value\": 3065}, \"1940\": {\"frequency\": 101, \"value\": 1940}, \"3990\": {\"frequency\": 16, \"value\": 3990}, \"6040\": {\"frequency\": 1, \"value\": 6040}, \"1946\": {\"frequency\": 1, \"value\": 1946}, \"6810\": {\"frequency\": 1, \"value\": 6810}, \"1950\": {\"frequency\": 92, \"value\": 1950}, \"4000\": {\"frequency\": 7, \"value\": 4000}, \"9200\": {\"frequency\": 1, \"value\": 9200}, \"6050\": {\"frequency\": 2, \"value\": 6050}, \"6055\": {\"frequency\": 1, \"value\": 6055}, \"1960\": {\"frequency\": 110, \"value\": 1960}, \"1961\": {\"frequency\": 1, \"value\": 1961}, \"4010\": {\"frequency\": 12, \"value\": 4010}, \"1964\": {\"frequency\": 1, \"value\": 1964}, \"1352\": {\"frequency\": 1, \"value\": 1352}, \"1970\": {\"frequency\": 84, \"value\": 1970}, \"4020\": {\"frequency\": 9, \"value\": 4020}, \"2718\": {\"frequency\": 1, \"value\": 2718}, \"6070\": {\"frequency\": 2, \"value\": 6070}, \"1975\": {\"frequency\": 1, \"value\": 1975}, \"1979\": {\"frequency\": 1, \"value\": 1979}, \"1980\": {\"frequency\": 105, \"value\": 1980}, \"1981\": {\"frequency\": 2, \"value\": 1981}, \"4030\": {\"frequency\": 11, \"value\": 4030}, \"1983\": {\"frequency\": 1, \"value\": 1983}, \"1984\": {\"frequency\": 3, \"value\": 1984}, \"1986\": {\"frequency\": 1, \"value\": 1986}, \"1987\": {\"frequency\": 1, \"value\": 1987}, \"6085\": {\"frequency\": 1, \"value\": 6085}, \"1990\": {\"frequency\": 85, \"value\": 1990}, \"4040\": {\"frequency\": 14, \"value\": 4040}, \"1995\": {\"frequency\": 4, \"value\": 1995}, \"1996\": {\"frequency\": 1, \"value\": 1996}, \"5960\": {\"frequency\": 2, \"value\": 5960}, \"2000\": {\"frequency\": 103, \"value\": 2000}, \"4050\": {\"frequency\": 8, \"value\": 4050}, \"2005\": {\"frequency\": 1, \"value\": 2005}, \"2007\": {\"frequency\": 1, \"value\": 2007}, \"2008\": {\"frequency\": 1, \"value\": 2008}, \"2009\": {\"frequency\": 2, \"value\": 2009}, \"2010\": {\"frequency\": 77, \"value\": 2010}, \"4060\": {\"frequency\": 13, \"value\": 4060}, \"2014\": {\"frequency\": 1, \"value\": 2014}, \"2015\": {\"frequency\": 1, \"value\": 2015}, \"4065\": {\"frequency\": 1, \"value\": 4065}, \"2019\": {\"frequency\": 1, \"value\": 2019}, \"2020\": {\"frequency\": 104, \"value\": 2020}, \"4070\": {\"frequency\": 10, \"value\": 4070}, \"5720\": {\"frequency\": 1, \"value\": 5720}, \"2025\": {\"frequency\": 1, \"value\": 2025}, \"2026\": {\"frequency\": 1, \"value\": 2026}, \"2029\": {\"frequency\": 1, \"value\": 2029}, \"2030\": {\"frequency\": 78, \"value\": 2030}, \"2031\": {\"frequency\": 1, \"value\": 2031}, \"4080\": {\"frequency\": 7, \"value\": 4080}, \"2034\": {\"frequency\": 1, \"value\": 2034}, \"4083\": {\"frequency\": 1, \"value\": 4083}, \"2038\": {\"frequency\": 1, \"value\": 2038}, \"2040\": {\"frequency\": 104, \"value\": 2040}, \"4090\": {\"frequency\": 8, \"value\": 4090}, \"2044\": {\"frequency\": 1, \"value\": 2044}, \"1365\": {\"frequency\": 1, \"value\": 1365}}, \"mean\": 2079.899736269836}, \"floors\": {\"complete\": true, \"numeric\": false, \"num_unique\": 6, \"num_undefined\": 0, \"progress\": 1.0, \"frequent_items\": {\"1.5\": {\"frequency\": 1910, \"value\": \"1.5\"}, \"1\": {\"frequency\": 10680, \"value\": \"1\"}, \"3\": {\"frequency\": 613, \"value\": \"3\"}, \"2\": {\"frequency\": 8241, \"value\": \"2\"}, \"3.5\": {\"frequency\": 8, \"value\": \"3.5\"}, \"2.5\": {\"frequency\": 161, \"value\": \"2.5\"}}, \"size\": 21613}, \"sqft_lot\": {\"std\": 41419.55327262768, \"complete\": true, \"min\": 520.0, \"max\": 1651359.0, \"quantile\": [520.0, 1021.0, 1189.0, 1310.0, 1499.0, 1811.0, 2191.0, 2550.0, 2868.0, 3075.0, 3330.0, 3581.0, 3727.0, 3866.0, 4000.0, 4018.0, 4125.0, 4270.0, 4411.0, 4508.0, 4650.0, 4800.0, 4875.0, 5000.0, 5000.0, 5040.0, 5120.0, 5225.0, 5375.0, 5500.0, 5612.0, 5750.0, 5866.0, 6000.0, 6000.0, 6120.0, 6250.0, 6360.0, 6491.0, 6601.0, 6745.0, 6875.0, 7000.0, 7131.0, 7200.0, 7213.0, 7283.0, 7351.0, 7473.0, 7520.0, 7618.0, 7700.0, 7794.0, 7879.0, 7992.0, 8068.0, 8145.0, 8250.0, 8364.0, 8424.0, 8520.0, 8640.0, 8775.0, 8914.0, 9017.0, 9172.0, 9334.0, 9497.0, 9600.0, 9685.0, 9800.0, 9949.0, 10092.0, 10240.0, 10450.0, 10688.0, 10905.0, 11210.0, 11500.0, 11900.0, 12174.0, 12556.0, 13054.0, 13505.0, 14196.0, 15000.0, 15704.0, 16643.0, 18000.0, 19550.0, 21357.0, 24085.0, 28433.0, 34800.0, 37565.0, 43124.0, 50405.0, 66613.0, 105850.0, 212137.0, 1651359.0], \"median\": 7618.0, \"numeric\": true, \"num_unique\": 9747, \"num_undefined\": 0, \"var\": 1715579393.3040423, \"progress\": 1.0, \"size\": 21613, \"frequent_items\": {\"32780\": {\"frequency\": 1, \"value\": 32780}, \"131115\": {\"frequency\": 1, \"value\": 131115}, \"131116\": {\"frequency\": 1, \"value\": 131116}, \"262231\": {\"frequency\": 1, \"value\": 262231}, \"213008\": {\"frequency\": 6, \"value\": 213008}, \"98445\": {\"frequency\": 4, \"value\": 98445}, \"5490\": {\"frequency\": 4, \"value\": 5490}, \"27345\": {\"frequency\": 1, \"value\": 27345}, \"33080\": {\"frequency\": 1, \"value\": 33080}, \"33132\": {\"frequency\": 1, \"value\": 33132}, \"196995\": {\"frequency\": 1, \"value\": 196995}, \"49222\": {\"frequency\": 4, \"value\": 49222}, \"33224\": {\"frequency\": 1, \"value\": 33224}, \"426450\": {\"frequency\": 1, \"value\": 426450}, \"131551\": {\"frequency\": 1, \"value\": 131551}, \"33278\": {\"frequency\": 1, \"value\": 33278}, \"262666\": {\"frequency\": 1, \"value\": 262666}, \"572\": {\"frequency\": 1, \"value\": 572}, \"98881\": {\"frequency\": 2, \"value\": 98881}, \"43787\": {\"frequency\": 1, \"value\": 43787}, \"600\": {\"frequency\": 1, \"value\": 600}, \"609\": {\"frequency\": 1, \"value\": 609}, \"38332\": {\"frequency\": 1, \"value\": 38332}, \"649\": {\"frequency\": 2, \"value\": 649}, \"651\": {\"frequency\": 1, \"value\": 651}, \"66211\": {\"frequency\": 2, \"value\": 66211}, \"676\": {\"frequency\": 1, \"value\": 676}, \"33460\": {\"frequency\": 1, \"value\": 33460}, \"705\": {\"frequency\": 2, \"value\": 705}, \"33474\": {\"frequency\": 1, \"value\": 33474}, \"711\": {\"frequency\": 2, \"value\": 711}, \"197326\": {\"frequency\": 1, \"value\": 197326}, \"745\": {\"frequency\": 2, \"value\": 745}, \"747\": {\"frequency\": 2, \"value\": 747}, \"750\": {\"frequency\": 2, \"value\": 750}, \"762\": {\"frequency\": 1, \"value\": 762}, \"779\": {\"frequency\": 2, \"value\": 779}, \"800\": {\"frequency\": 3, \"value\": 800}, \"33578\": {\"frequency\": 1, \"value\": 33578}, \"825\": {\"frequency\": 2, \"value\": 825}, \"33600\": {\"frequency\": 1, \"value\": 33600}, \"833\": {\"frequency\": 1, \"value\": 833}, \"844\": {\"frequency\": 2, \"value\": 844}, \"857\": {\"frequency\": 1, \"value\": 857}, \"295772\": {\"frequency\": 1, \"value\": 295772}, \"33630\": {\"frequency\": 1, \"value\": 33630}, \"864\": {\"frequency\": 1, \"value\": 864}, \"865\": {\"frequency\": 3, \"value\": 865}, \"99170\": {\"frequency\": 1, \"value\": 99170}, \"867\": {\"frequency\": 1, \"value\": 867}, \"873\": {\"frequency\": 2, \"value\": 873}, \"874\": {\"frequency\": 2, \"value\": 874}, \"877\": {\"frequency\": 2, \"value\": 877}, \"881\": {\"frequency\": 1, \"value\": 881}, \"43838\": {\"frequency\": 1, \"value\": 43838}, \"889\": {\"frequency\": 3, \"value\": 889}, \"890\": {\"frequency\": 1, \"value\": 890}, \"33661\": {\"frequency\": 1, \"value\": 33661}, \"895\": {\"frequency\": 2, \"value\": 895}, \"33664\": {\"frequency\": 1, \"value\": 33664}, \"900\": {\"frequency\": 2, \"value\": 900}, \"902\": {\"frequency\": 1, \"value\": 902}, \"33671\": {\"frequency\": 1, \"value\": 33671}, \"904\": {\"frequency\": 2, \"value\": 904}, \"905\": {\"frequency\": 3, \"value\": 905}, \"912\": {\"frequency\": 2, \"value\": 912}, \"915\": {\"frequency\": 3, \"value\": 915}, \"920\": {\"frequency\": 2, \"value\": 920}, \"923\": {\"frequency\": 2, \"value\": 923}, \"926\": {\"frequency\": 2, \"value\": 926}, \"929\": {\"frequency\": 2, \"value\": 929}, \"934\": {\"frequency\": 3, \"value\": 934}, \"936\": {\"frequency\": 3, \"value\": 936}, \"941\": {\"frequency\": 3, \"value\": 941}, \"942\": {\"frequency\": 3, \"value\": 942}, \"948\": {\"frequency\": 1, \"value\": 948}, \"951\": {\"frequency\": 2, \"value\": 951}, \"953\": {\"frequency\": 1, \"value\": 953}, \"954\": {\"frequency\": 2, \"value\": 954}, \"956\": {\"frequency\": 1, \"value\": 956}, \"958\": {\"frequency\": 2, \"value\": 958}, \"960\": {\"frequency\": 2, \"value\": 960}, \"965\": {\"frequency\": 2, \"value\": 965}, \"974\": {\"frequency\": 2, \"value\": 974}, \"977\": {\"frequency\": 2, \"value\": 977}, \"979\": {\"frequency\": 2, \"value\": 979}, \"982\": {\"frequency\": 1, \"value\": 982}, \"983\": {\"frequency\": 4, \"value\": 983}, \"989\": {\"frequency\": 3, \"value\": 989}, \"997\": {\"frequency\": 2, \"value\": 997}, \"998\": {\"frequency\": 2, \"value\": 998}, \"1005\": {\"frequency\": 3, \"value\": 1005}, \"1010\": {\"frequency\": 2, \"value\": 1010}, \"1016\": {\"frequency\": 1, \"value\": 1016}, \"1017\": {\"frequency\": 1, \"value\": 1017}, \"1020\": {\"frequency\": 4, \"value\": 1020}, \"1021\": {\"frequency\": 3, \"value\": 1021}, \"1026\": {\"frequency\": 1, \"value\": 1026}, \"1032\": {\"frequency\": 3, \"value\": 1032}, \"33801\": {\"frequency\": 1, \"value\": 33801}, \"1034\": {\"frequency\": 3, \"value\": 1034}, \"1040\": {\"frequency\": 1, \"value\": 1040}, \"1044\": {\"frequency\": 1, \"value\": 1044}, \"1051\": {\"frequency\": 2, \"value\": 1051}, \"1056\": {\"frequency\": 1, \"value\": 1056}, \"33825\": {\"frequency\": 1, \"value\": 33825}, \"33826\": {\"frequency\": 1, \"value\": 33826}, \"1060\": {\"frequency\": 4, \"value\": 1060}, \"1062\": {\"frequency\": 2, \"value\": 1062}, \"1064\": {\"frequency\": 1, \"value\": 1064}, \"1066\": {\"frequency\": 1, \"value\": 1066}, \"1067\": {\"frequency\": 1, \"value\": 1067}, \"1071\": {\"frequency\": 1, \"value\": 1071}, \"1073\": {\"frequency\": 4, \"value\": 1073}, \"1075\": {\"frequency\": 2, \"value\": 1075}, \"1077\": {\"frequency\": 2, \"value\": 1077}, \"1078\": {\"frequency\": 2, \"value\": 1078}, \"1079\": {\"frequency\": 1, \"value\": 1079}, \"1080\": {\"frequency\": 3, \"value\": 1080}, \"1086\": {\"frequency\": 2, \"value\": 1086}, \"1088\": {\"frequency\": 1, \"value\": 1088}, \"1091\": {\"frequency\": 3, \"value\": 1091}, \"1092\": {\"frequency\": 3, \"value\": 1092}, \"1093\": {\"frequency\": 1, \"value\": 1093}, \"1100\": {\"frequency\": 2, \"value\": 1100}, \"1101\": {\"frequency\": 2, \"value\": 1101}, \"1102\": {\"frequency\": 3, \"value\": 1102}, \"1103\": {\"frequency\": 2, \"value\": 1103}, \"1107\": {\"frequency\": 3, \"value\": 1107}, \"1110\": {\"frequency\": 2, \"value\": 1110}, \"1111\": {\"frequency\": 1, \"value\": 1111}, \"1113\": {\"frequency\": 2, \"value\": 1113}, \"1114\": {\"frequency\": 3, \"value\": 1114}, \"1115\": {\"frequency\": 1, \"value\": 1115}, \"1118\": {\"frequency\": 2, \"value\": 1118}, \"1119\": {\"frequency\": 2, \"value\": 1119}, \"33888\": {\"frequency\": 1, \"value\": 33888}, \"1125\": {\"frequency\": 4, \"value\": 1125}, \"1131\": {\"frequency\": 4, \"value\": 1131}, \"1133\": {\"frequency\": 2, \"value\": 1133}, \"1137\": {\"frequency\": 3, \"value\": 1137}, \"1140\": {\"frequency\": 3, \"value\": 1140}, \"1149\": {\"frequency\": 2, \"value\": 1149}, \"33919\": {\"frequency\": 2, \"value\": 33919}, \"33920\": {\"frequency\": 1, \"value\": 33920}, \"1156\": {\"frequency\": 2, \"value\": 1156}, \"1157\": {\"frequency\": 5, \"value\": 1157}, \"1159\": {\"frequency\": 1, \"value\": 1159}, \"1161\": {\"frequency\": 3, \"value\": 1161}, \"1162\": {\"frequency\": 1, \"value\": 1162}, \"1165\": {\"frequency\": 3, \"value\": 1165}, \"1171\": {\"frequency\": 2, \"value\": 1171}, \"1172\": {\"frequency\": 1, \"value\": 1172}, \"1173\": {\"frequency\": 4, \"value\": 1173}, \"1174\": {\"frequency\": 4, \"value\": 1174}, \"1175\": {\"frequency\": 1, \"value\": 1175}, \"1178\": {\"frequency\": 2, \"value\": 1178}, \"1179\": {\"frequency\": 2, \"value\": 1179}, \"1180\": {\"frequency\": 6, \"value\": 1180}, \"1181\": {\"frequency\": 1, \"value\": 1181}, \"1182\": {\"frequency\": 2, \"value\": 1182}, \"1186\": {\"frequency\": 2, \"value\": 1186}, \"1189\": {\"frequency\": 5, \"value\": 1189}, \"1192\": {\"frequency\": 2, \"value\": 1192}, \"1193\": {\"frequency\": 3, \"value\": 1193}, \"1194\": {\"frequency\": 4, \"value\": 1194}, \"1196\": {\"frequency\": 2, \"value\": 1196}, \"1200\": {\"frequency\": 9, \"value\": 1200}, \"1201\": {\"frequency\": 4, \"value\": 1201}, \"1204\": {\"frequency\": 4, \"value\": 1204}, \"1208\": {\"frequency\": 2, \"value\": 1208}, \"1209\": {\"frequency\": 2, \"value\": 1209}, \"1210\": {\"frequency\": 2, \"value\": 1210}, \"1213\": {\"frequency\": 4, \"value\": 1213}, \"1217\": {\"frequency\": 1, \"value\": 1217}, \"1219\": {\"frequency\": 2, \"value\": 1219}, \"1221\": {\"frequency\": 4, \"value\": 1221}, \"1222\": {\"frequency\": 3, \"value\": 1222}, \"1228\": {\"frequency\": 2, \"value\": 1228}, \"1229\": {\"frequency\": 2, \"value\": 1229}, \"1230\": {\"frequency\": 3, \"value\": 1230}, \"34000\": {\"frequency\": 1, \"value\": 34000}, \"1234\": {\"frequency\": 2, \"value\": 1234}, \"1235\": {\"frequency\": 2, \"value\": 1235}, \"1236\": {\"frequency\": 4, \"value\": 1236}, \"1237\": {\"frequency\": 3, \"value\": 1237}, \"1238\": {\"frequency\": 2, \"value\": 1238}, \"1240\": {\"frequency\": 4, \"value\": 1240}, \"1241\": {\"frequency\": 2, \"value\": 1241}, \"1242\": {\"frequency\": 1, \"value\": 1242}, \"1245\": {\"frequency\": 4, \"value\": 1245}, \"1246\": {\"frequency\": 3, \"value\": 1246}, \"1248\": {\"frequency\": 3, \"value\": 1248}, \"1249\": {\"frequency\": 5, \"value\": 1249}, \"1250\": {\"frequency\": 8, \"value\": 1250}, \"1251\": {\"frequency\": 4, \"value\": 1251}, \"1253\": {\"frequency\": 2, \"value\": 1253}, \"1256\": {\"frequency\": 3, \"value\": 1256}, \"1259\": {\"frequency\": 1, \"value\": 1259}, \"1262\": {\"frequency\": 3, \"value\": 1262}, \"1263\": {\"frequency\": 3, \"value\": 1263}, \"1264\": {\"frequency\": 3, \"value\": 1264}, \"1265\": {\"frequency\": 2, \"value\": 1265}, \"1268\": {\"frequency\": 2, \"value\": 1268}, \"1269\": {\"frequency\": 4, \"value\": 1269}, \"1270\": {\"frequency\": 3, \"value\": 1270}, \"34040\": {\"frequency\": 1, \"value\": 34040}, \"1275\": {\"frequency\": 3, \"value\": 1275}, \"230652\": {\"frequency\": 1, \"value\": 230652}, \"1279\": {\"frequency\": 4, \"value\": 1279}, \"1280\": {\"frequency\": 3, \"value\": 1280}, \"1281\": {\"frequency\": 4, \"value\": 1281}, \"1286\": {\"frequency\": 4, \"value\": 1286}, \"1287\": {\"frequency\": 2, \"value\": 1287}, \"1290\": {\"frequency\": 5, \"value\": 1290}, \"1294\": {\"frequency\": 2, \"value\": 1294}, \"1296\": {\"frequency\": 3, \"value\": 1296}, \"1297\": {\"frequency\": 1, \"value\": 1297}, \"1298\": {\"frequency\": 2, \"value\": 1298}, \"1303\": {\"frequency\": 2, \"value\": 1303}, \"1304\": {\"frequency\": 2, \"value\": 1304}, \"1306\": {\"frequency\": 3, \"value\": 1306}, \"1307\": {\"frequency\": 1, \"value\": 1307}, \"1309\": {\"frequency\": 2, \"value\": 1309}, \"1310\": {\"frequency\": 2, \"value\": 1310}, \"1311\": {\"frequency\": 2, \"value\": 1311}, \"1312\": {\"frequency\": 4, \"value\": 1312}, \"38448\": {\"frequency\": 1, \"value\": 38448}, \"1314\": {\"frequency\": 1, \"value\": 1314}, \"1320\": {\"frequency\": 3, \"value\": 1320}, \"1321\": {\"frequency\": 3, \"value\": 1321}, \"1325\": {\"frequency\": 4, \"value\": 1325}, \"1329\": {\"frequency\": 3, \"value\": 1329}, \"1330\": {\"frequency\": 3, \"value\": 1330}, \"1331\": {\"frequency\": 2, \"value\": 1331}, \"1332\": {\"frequency\": 4, \"value\": 1332}, \"1333\": {\"frequency\": 2, \"value\": 1333}, \"1334\": {\"frequency\": 2, \"value\": 1334}, \"1336\": {\"frequency\": 1, \"value\": 1336}, \"1340\": {\"frequency\": 3, \"value\": 1340}, \"1341\": {\"frequency\": 1, \"value\": 1341}, \"1343\": {\"frequency\": 2, \"value\": 1343}, \"1348\": {\"frequency\": 3, \"value\": 1348}, \"1349\": {\"frequency\": 3, \"value\": 1349}, \"1350\": {\"frequency\": 6, \"value\": 1350}, \"1360\": {\"frequency\": 1, \"value\": 1360}, \"1361\": {\"frequency\": 3, \"value\": 1361}, \"1362\": {\"frequency\": 3, \"value\": 1362}, \"34133\": {\"frequency\": 1, \"value\": 34133}, \"1368\": {\"frequency\": 2, \"value\": 1368}, \"1369\": {\"frequency\": 3, \"value\": 1369}, \"1372\": {\"frequency\": 1, \"value\": 1372}, \"1374\": {\"frequency\": 1, \"value\": 1374}, \"1375\": {\"frequency\": 1, \"value\": 1375}, \"1377\": {\"frequency\": 3, \"value\": 1377}, \"1380\": {\"frequency\": 3, \"value\": 1380}, \"1386\": {\"frequency\": 2, \"value\": 1386}, \"1387\": {\"frequency\": 2, \"value\": 1387}, \"1388\": {\"frequency\": 1, \"value\": 1388}, \"1391\": {\"frequency\": 1, \"value\": 1391}, \"263538\": {\"frequency\": 1, \"value\": 263538}, \"1396\": {\"frequency\": 2, \"value\": 1396}, \"1397\": {\"frequency\": 1, \"value\": 1397}, \"1400\": {\"frequency\": 4, \"value\": 1400}, \"34175\": {\"frequency\": 1, \"value\": 34175}, \"1410\": {\"frequency\": 1, \"value\": 1410}, \"1420\": {\"frequency\": 1, \"value\": 1420}, \"1427\": {\"frequency\": 1, \"value\": 1427}, \"1429\": {\"frequency\": 1, \"value\": 1429}, \"1431\": {\"frequency\": 2, \"value\": 1431}, \"1438\": {\"frequency\": 2, \"value\": 1438}, \"1441\": {\"frequency\": 1, \"value\": 1441}, \"1442\": {\"frequency\": 4, \"value\": 1442}, \"1444\": {\"frequency\": 2, \"value\": 1444}, \"1445\": {\"frequency\": 3, \"value\": 1445}, \"99752\": {\"frequency\": 2, \"value\": 99752}, \"1452\": {\"frequency\": 4, \"value\": 1452}, \"34222\": {\"frequency\": 1, \"value\": 34222}, \"1458\": {\"frequency\": 3, \"value\": 1458}, \"1461\": {\"frequency\": 1, \"value\": 1461}, \"1468\": {\"frequency\": 2, \"value\": 1468}, \"1480\": {\"frequency\": 2, \"value\": 1480}, \"1481\": {\"frequency\": 1, \"value\": 1481}, \"1485\": {\"frequency\": 3, \"value\": 1485}, \"1487\": {\"frequency\": 4, \"value\": 1487}, \"1488\": {\"frequency\": 3, \"value\": 1488}, \"1490\": {\"frequency\": 1, \"value\": 1490}, \"230868\": {\"frequency\": 2, \"value\": 230868}, \"1493\": {\"frequency\": 3, \"value\": 1493}, \"1500\": {\"frequency\": 6, \"value\": 1500}, \"1501\": {\"frequency\": 3, \"value\": 1501}, \"1502\": {\"frequency\": 1, \"value\": 1502}, \"1512\": {\"frequency\": 2, \"value\": 1512}, \"1516\": {\"frequency\": 2, \"value\": 1516}, \"34290\": {\"frequency\": 1, \"value\": 34290}, \"1524\": {\"frequency\": 1, \"value\": 1524}, \"34293\": {\"frequency\": 1, \"value\": 34293}, \"1531\": {\"frequency\": 2, \"value\": 1531}, \"1533\": {\"frequency\": 1, \"value\": 1533}, \"1536\": {\"frequency\": 2, \"value\": 1536}, \"1540\": {\"frequency\": 2, \"value\": 1540}, \"1545\": {\"frequency\": 2, \"value\": 1545}, \"1547\": {\"frequency\": 1, \"value\": 1547}, \"1553\": {\"frequency\": 1, \"value\": 1553}, \"1564\": {\"frequency\": 1, \"value\": 1564}, \"1566\": {\"frequency\": 2, \"value\": 1566}, \"34335\": {\"frequency\": 1, \"value\": 34335}, \"1569\": {\"frequency\": 2, \"value\": 1569}, \"1570\": {\"frequency\": 2, \"value\": 1570}, \"1572\": {\"frequency\": 1, \"value\": 1572}, \"1577\": {\"frequency\": 2, \"value\": 1577}, \"1578\": {\"frequency\": 1, \"value\": 1578}, \"1581\": {\"frequency\": 1, \"value\": 1581}, \"1587\": {\"frequency\": 3, \"value\": 1587}, \"198198\": {\"frequency\": 1, \"value\": 198198}, \"1599\": {\"frequency\": 1, \"value\": 1599}, \"1600\": {\"frequency\": 2, \"value\": 1600}, \"1606\": {\"frequency\": 1, \"value\": 1606}, \"1607\": {\"frequency\": 1, \"value\": 1607}, \"1608\": {\"frequency\": 1, \"value\": 1608}, \"99916\": {\"frequency\": 1, \"value\": 99916}, \"1613\": {\"frequency\": 4, \"value\": 1613}, \"1618\": {\"frequency\": 2, \"value\": 1618}, \"1620\": {\"frequency\": 2, \"value\": 1620}, \"1622\": {\"frequency\": 1, \"value\": 1622}, \"1634\": {\"frequency\": 1, \"value\": 1634}, \"1635\": {\"frequency\": 1, \"value\": 1635}, \"1638\": {\"frequency\": 2, \"value\": 1638}, \"34412\": {\"frequency\": 2, \"value\": 34412}, \"1648\": {\"frequency\": 1, \"value\": 1648}, \"1650\": {\"frequency\": 3, \"value\": 1650}, \"1655\": {\"frequency\": 1, \"value\": 1655}, \"1656\": {\"frequency\": 2, \"value\": 1656}, \"1657\": {\"frequency\": 1, \"value\": 1657}, \"1662\": {\"frequency\": 1, \"value\": 1662}, \"1664\": {\"frequency\": 2, \"value\": 1664}, \"1683\": {\"frequency\": 3, \"value\": 1683}, \"1687\": {\"frequency\": 1, \"value\": 1687}, \"165528\": {\"frequency\": 1, \"value\": 165528}, \"1695\": {\"frequency\": 1, \"value\": 1695}, \"1706\": {\"frequency\": 1, \"value\": 1706}, \"1709\": {\"frequency\": 2, \"value\": 1709}, \"1710\": {\"frequency\": 1, \"value\": 1710}, \"1712\": {\"frequency\": 1, \"value\": 1712}, \"1716\": {\"frequency\": 1, \"value\": 1716}, \"1722\": {\"frequency\": 2, \"value\": 1722}, \"1724\": {\"frequency\": 1, \"value\": 1724}, \"1728\": {\"frequency\": 1, \"value\": 1728}, \"34500\": {\"frequency\": 1, \"value\": 34500}, \"67269\": {\"frequency\": 1, \"value\": 67269}, \"1737\": {\"frequency\": 1, \"value\": 1737}, \"1741\": {\"frequency\": 1, \"value\": 1741}, \"34513\": {\"frequency\": 1, \"value\": 34513}, \"1749\": {\"frequency\": 1, \"value\": 1749}, \"1750\": {\"frequency\": 3, \"value\": 1750}, \"1753\": {\"frequency\": 1, \"value\": 1753}, \"1754\": {\"frequency\": 1, \"value\": 1754}, \"1755\": {\"frequency\": 3, \"value\": 1755}, \"1758\": {\"frequency\": 1, \"value\": 1758}, \"34527\": {\"frequency\": 1, \"value\": 34527}, \"1760\": {\"frequency\": 3, \"value\": 1760}, \"1761\": {\"frequency\": 1, \"value\": 1761}, \"1763\": {\"frequency\": 1, \"value\": 1763}, \"1777\": {\"frequency\": 1, \"value\": 1777}, \"1778\": {\"frequency\": 2, \"value\": 1778}, \"132858\": {\"frequency\": 1, \"value\": 132858}, \"1793\": {\"frequency\": 2, \"value\": 1793}, \"1795\": {\"frequency\": 1, \"value\": 1795}, \"1799\": {\"frequency\": 1, \"value\": 1799}, \"1800\": {\"frequency\": 9, \"value\": 1800}, \"1805\": {\"frequency\": 1, \"value\": 1805}, \"1820\": {\"frequency\": 1, \"value\": 1820}, \"1822\": {\"frequency\": 1, \"value\": 1822}, \"1824\": {\"frequency\": 3, \"value\": 1824}, \"1825\": {\"frequency\": 1, \"value\": 1825}, \"1827\": {\"frequency\": 3, \"value\": 1827}, \"1829\": {\"frequency\": 1, \"value\": 1829}, \"1831\": {\"frequency\": 1, \"value\": 1831}, \"67369\": {\"frequency\": 1, \"value\": 67369}, \"1840\": {\"frequency\": 1, \"value\": 1840}, \"1845\": {\"frequency\": 2, \"value\": 1845}, \"1846\": {\"frequency\": 1, \"value\": 1846}, \"1848\": {\"frequency\": 2, \"value\": 1848}, \"1850\": {\"frequency\": 4, \"value\": 1850}, \"1853\": {\"frequency\": 1, \"value\": 1853}, \"1860\": {\"frequency\": 2, \"value\": 1860}, \"1867\": {\"frequency\": 1, \"value\": 1867}, \"1870\": {\"frequency\": 1, \"value\": 1870}, \"1873\": {\"frequency\": 2, \"value\": 1873}, \"100188\": {\"frequency\": 3, \"value\": 100188}, \"1898\": {\"frequency\": 1, \"value\": 1898}, \"1899\": {\"frequency\": 1, \"value\": 1899}, \"34680\": {\"frequency\": 1, \"value\": 34680}, \"1919\": {\"frequency\": 2, \"value\": 1919}, \"1920\": {\"frequency\": 3, \"value\": 1920}, \"34689\": {\"frequency\": 1, \"value\": 34689}, \"1923\": {\"frequency\": 1, \"value\": 1923}, \"231303\": {\"frequency\": 1, \"value\": 231303}, \"1937\": {\"frequency\": 1, \"value\": 1937}, \"67475\": {\"frequency\": 1, \"value\": 67475}, \"1948\": {\"frequency\": 1, \"value\": 1948}, \"1950\": {\"frequency\": 4, \"value\": 1950}, \"1960\": {\"frequency\": 2, \"value\": 1960}, \"1962\": {\"frequency\": 1, \"value\": 1962}, \"1963\": {\"frequency\": 1, \"value\": 1963}, \"1968\": {\"frequency\": 5, \"value\": 1968}, \"1973\": {\"frequency\": 1, \"value\": 1973}, \"67518\": {\"frequency\": 3, \"value\": 67518}, \"1984\": {\"frequency\": 3, \"value\": 1984}, \"1985\": {\"frequency\": 2, \"value\": 1985}, \"1987\": {\"frequency\": 1, \"value\": 1987}, \"1988\": {\"frequency\": 3, \"value\": 1988}, \"1989\": {\"frequency\": 1, \"value\": 1989}, \"1991\": {\"frequency\": 2, \"value\": 1991}, \"40438\": {\"frequency\": 1, \"value\": 40438}, \"1994\": {\"frequency\": 1, \"value\": 1994}, \"2000\": {\"frequency\": 5, \"value\": 2000}, \"2001\": {\"frequency\": 1, \"value\": 2001}, \"2002\": {\"frequency\": 2, \"value\": 2002}, \"2003\": {\"frequency\": 3, \"value\": 2003}, \"493534\": {\"frequency\": 1, \"value\": 493534}, \"2016\": {\"frequency\": 1, \"value\": 2016}, \"2020\": {\"frequency\": 2, \"value\": 2020}, \"2031\": {\"frequency\": 1, \"value\": 2031}, \"2034\": {\"frequency\": 1, \"value\": 2034}, \"2036\": {\"frequency\": 1, \"value\": 2036}, \"2040\": {\"frequency\": 3, \"value\": 2040}, \"2042\": {\"frequency\": 1, \"value\": 2042}, \"2046\": {\"frequency\": 1, \"value\": 2046}, \"2050\": {\"frequency\": 2, \"value\": 2050}, \"34830\": {\"frequency\": 1, \"value\": 34830}, \"2064\": {\"frequency\": 2, \"value\": 2064}, \"2067\": {\"frequency\": 1, \"value\": 2067}, \"2070\": {\"frequency\": 1, \"value\": 2070}, \"2079\": {\"frequency\": 1, \"value\": 2079}, \"34848\": {\"frequency\": 3, \"value\": 34848}, \"2090\": {\"frequency\": 1, \"value\": 2090}, \"2091\": {\"frequency\": 2, \"value\": 2091}, \"2096\": {\"frequency\": 3, \"value\": 2096}, \"2100\": {\"frequency\": 2, \"value\": 2100}, \"34870\": {\"frequency\": 1, \"value\": 34870}, \"2114\": {\"frequency\": 2, \"value\": 2114}, \"2128\": {\"frequency\": 2, \"value\": 2128}, \"2138\": {\"frequency\": 1, \"value\": 2138}, \"2147\": {\"frequency\": 3, \"value\": 2147}, \"2150\": {\"frequency\": 3, \"value\": 2150}, \"2152\": {\"frequency\": 1, \"value\": 2152}, \"2153\": {\"frequency\": 1, \"value\": 2153}, \"2159\": {\"frequency\": 3, \"value\": 2159}, \"2162\": {\"frequency\": 2, \"value\": 2162}, \"2167\": {\"frequency\": 1, \"value\": 2167}, \"2171\": {\"frequency\": 3, \"value\": 2171}, \"34947\": {\"frequency\": 1, \"value\": 34947}, \"2180\": {\"frequency\": 1, \"value\": 2180}, \"2183\": {\"frequency\": 1, \"value\": 2183}, \"2185\": {\"frequency\": 1, \"value\": 2185}, \"2186\": {\"frequency\": 1, \"value\": 2186}, \"2191\": {\"frequency\": 2, \"value\": 2191}, \"2192\": {\"frequency\": 1, \"value\": 2192}, \"2196\": {\"frequency\": 1, \"value\": 2196}, \"2199\": {\"frequency\": 2, \"value\": 2199}, \"2200\": {\"frequency\": 4, \"value\": 2200}, \"34982\": {\"frequency\": 1, \"value\": 34982}, \"2216\": {\"frequency\": 2, \"value\": 2216}, \"34991\": {\"frequency\": 1, \"value\": 34991}, \"2225\": {\"frequency\": 1, \"value\": 2225}, \"35000\": {\"frequency\": 7, \"value\": 35000}, \"35001\": {\"frequency\": 1, \"value\": 35001}, \"35003\": {\"frequency\": 1, \"value\": 35003}, \"2240\": {\"frequency\": 2, \"value\": 2240}, \"100545\": {\"frequency\": 1, \"value\": 100545}, \"35012\": {\"frequency\": 1, \"value\": 35012}, \"35015\": {\"frequency\": 1, \"value\": 35015}, \"35016\": {\"frequency\": 1, \"value\": 35016}, \"2250\": {\"frequency\": 8, \"value\": 2250}, \"35020\": {\"frequency\": 1, \"value\": 35020}, \"35021\": {\"frequency\": 2, \"value\": 35021}, \"35025\": {\"frequency\": 1, \"value\": 35025}, \"35026\": {\"frequency\": 1, \"value\": 35026}, \"2260\": {\"frequency\": 1, \"value\": 2260}, \"2261\": {\"frequency\": 2, \"value\": 2261}, \"2268\": {\"frequency\": 1, \"value\": 2268}, \"2271\": {\"frequency\": 1, \"value\": 2271}, \"2272\": {\"frequency\": 1, \"value\": 2272}, \"2275\": {\"frequency\": 1, \"value\": 2275}, \"2278\": {\"frequency\": 1, \"value\": 2278}, \"2280\": {\"frequency\": 2, \"value\": 2280}, \"2287\": {\"frequency\": 1, \"value\": 2287}, \"35062\": {\"frequency\": 1, \"value\": 35062}, \"2296\": {\"frequency\": 2, \"value\": 2296}, \"2300\": {\"frequency\": 3, \"value\": 2300}, \"35069\": {\"frequency\": 1, \"value\": 35069}, \"35070\": {\"frequency\": 2, \"value\": 35070}, \"2306\": {\"frequency\": 1, \"value\": 2306}, \"35075\": {\"frequency\": 1, \"value\": 35075}, \"2309\": {\"frequency\": 1, \"value\": 2309}, \"100623\": {\"frequency\": 2, \"value\": 100623}, \"35091\": {\"frequency\": 1, \"value\": 35091}, \"2332\": {\"frequency\": 1, \"value\": 2332}, \"35102\": {\"frequency\": 1, \"value\": 35102}, \"2340\": {\"frequency\": 2, \"value\": 2340}, \"12236\": {\"frequency\": 2, \"value\": 12236}, \"2350\": {\"frequency\": 4, \"value\": 2350}, \"2353\": {\"frequency\": 1, \"value\": 2353}, \"2356\": {\"frequency\": 3, \"value\": 2356}, \"231739\": {\"frequency\": 1, \"value\": 231739}, \"2366\": {\"frequency\": 1, \"value\": 2366}, \"2370\": {\"frequency\": 3, \"value\": 2370}, \"2375\": {\"frequency\": 2, \"value\": 2375}, \"100681\": {\"frequency\": 1, \"value\": 100681}, \"2378\": {\"frequency\": 1, \"value\": 2378}, \"2380\": {\"frequency\": 1, \"value\": 2380}, \"35150\": {\"frequency\": 2, \"value\": 35150}, \"2386\": {\"frequency\": 1, \"value\": 2386}, \"2387\": {\"frequency\": 1, \"value\": 2387}, \"2400\": {\"frequency\": 19, \"value\": 2400}, \"35169\": {\"frequency\": 2, \"value\": 35169}, \"2402\": {\"frequency\": 1, \"value\": 2402}, \"2410\": {\"frequency\": 1, \"value\": 2410}, \"11325\": {\"frequency\": 7, \"value\": 11325}, \"2416\": {\"frequency\": 1, \"value\": 2416}, \"67953\": {\"frequency\": 3, \"value\": 67953}, \"2421\": {\"frequency\": 1, \"value\": 2421}, \"35200\": {\"frequency\": 2, \"value\": 35200}, \"2440\": {\"frequency\": 1, \"value\": 2440}, \"2445\": {\"frequency\": 1, \"value\": 2445}, \"2446\": {\"frequency\": 2, \"value\": 2446}, \"35218\": {\"frequency\": 1, \"value\": 35218}, \"2451\": {\"frequency\": 1, \"value\": 2451}, \"35225\": {\"frequency\": 1, \"value\": 35225}, \"2460\": {\"frequency\": 1, \"value\": 2460}, \"35235\": {\"frequency\": 1, \"value\": 35235}, \"35236\": {\"frequency\": 1, \"value\": 35236}, \"2475\": {\"frequency\": 1, \"value\": 2475}, \"2478\": {\"frequency\": 1, \"value\": 2478}, \"2482\": {\"frequency\": 1, \"value\": 2482}, \"35255\": {\"frequency\": 1, \"value\": 35255}, \"38644\": {\"frequency\": 1, \"value\": 38644}, \"2490\": {\"frequency\": 2, \"value\": 2490}, \"2493\": {\"frequency\": 2, \"value\": 2493}, \"2500\": {\"frequency\": 36, \"value\": 2500}, \"35271\": {\"frequency\": 1, \"value\": 35271}, \"35273\": {\"frequency\": 2, \"value\": 35273}, \"35280\": {\"frequency\": 1, \"value\": 35280}, \"2513\": {\"frequency\": 1, \"value\": 2513}, \"2517\": {\"frequency\": 1, \"value\": 2517}, \"35287\": {\"frequency\": 1, \"value\": 35287}, \"2527\": {\"frequency\": 2, \"value\": 2527}, \"35298\": {\"frequency\": 1, \"value\": 35298}, \"100835\": {\"frequency\": 1, \"value\": 100835}, \"2533\": {\"frequency\": 1, \"value\": 2533}, \"35306\": {\"frequency\": 1, \"value\": 35306}, \"2542\": {\"frequency\": 1, \"value\": 2542}, \"35315\": {\"frequency\": 1, \"value\": 35315}, \"2550\": {\"frequency\": 16, \"value\": 2550}, \"2551\": {\"frequency\": 1, \"value\": 2551}, \"2552\": {\"frequency\": 3, \"value\": 2552}, \"2553\": {\"frequency\": 2, \"value\": 2553}, \"2554\": {\"frequency\": 1, \"value\": 2554}, \"2555\": {\"frequency\": 1, \"value\": 2555}, \"2560\": {\"frequency\": 3, \"value\": 2560}, \"2575\": {\"frequency\": 2, \"value\": 2575}, \"2577\": {\"frequency\": 1, \"value\": 2577}, \"2578\": {\"frequency\": 1, \"value\": 2578}, \"2580\": {\"frequency\": 3, \"value\": 2580}, \"2581\": {\"frequency\": 1, \"value\": 2581}, \"2589\": {\"frequency\": 2, \"value\": 2589}, \"35362\": {\"frequency\": 2, \"value\": 35362}, \"2600\": {\"frequency\": 7, \"value\": 2600}, \"2609\": {\"frequency\": 1, \"value\": 2609}, \"2614\": {\"frequency\": 2, \"value\": 2614}, \"2617\": {\"frequency\": 1, \"value\": 2617}, \"2620\": {\"frequency\": 1, \"value\": 2620}, \"2622\": {\"frequency\": 1, \"value\": 2622}, \"2625\": {\"frequency\": 3, \"value\": 2625}, \"2631\": {\"frequency\": 2, \"value\": 2631}, \"2640\": {\"frequency\": 8, \"value\": 2640}, \"2643\": {\"frequency\": 1, \"value\": 2643}, \"199253\": {\"frequency\": 2, \"value\": 199253}, \"2646\": {\"frequency\": 1, \"value\": 2646}, \"35415\": {\"frequency\": 1, \"value\": 35415}, \"133729\": {\"frequency\": 1, \"value\": 133729}, \"2660\": {\"frequency\": 1, \"value\": 2660}, \"35438\": {\"frequency\": 1, \"value\": 35438}, \"35440\": {\"frequency\": 1, \"value\": 35440}, \"2674\": {\"frequency\": 2, \"value\": 2674}, \"2675\": {\"frequency\": 1, \"value\": 2675}, \"2676\": {\"frequency\": 1, \"value\": 2676}, \"2681\": {\"frequency\": 1, \"value\": 2681}, \"2684\": {\"frequency\": 1, \"value\": 2684}, \"2685\": {\"frequency\": 1, \"value\": 2685}, \"2691\": {\"frequency\": 1, \"value\": 2691}, \"2692\": {\"frequency\": 1, \"value\": 2692}, \"2693\": {\"frequency\": 2, \"value\": 2693}, \"2699\": {\"frequency\": 2, \"value\": 2699}, \"2700\": {\"frequency\": 13, \"value\": 2700}, \"2710\": {\"frequency\": 2, \"value\": 2710}, \"2719\": {\"frequency\": 1, \"value\": 2719}, \"2720\": {\"frequency\": 2, \"value\": 2720}, \"2723\": {\"frequency\": 2, \"value\": 2723}, \"2731\": {\"frequency\": 2, \"value\": 2731}, \"2746\": {\"frequency\": 1, \"value\": 2746}, \"2750\": {\"frequency\": 7, \"value\": 2750}, \"2752\": {\"frequency\": 6, \"value\": 2752}, \"2754\": {\"frequency\": 1, \"value\": 2754}, \"2760\": {\"frequency\": 2, \"value\": 2760}, \"35536\": {\"frequency\": 1, \"value\": 35536}, \"2770\": {\"frequency\": 1, \"value\": 2770}, \"2772\": {\"frequency\": 2, \"value\": 2772}, \"2781\": {\"frequency\": 1, \"value\": 2781}, \"2786\": {\"frequency\": 1, \"value\": 2786}, \"2788\": {\"frequency\": 2, \"value\": 2788}, \"2790\": {\"frequency\": 2, \"value\": 2790}, \"2800\": {\"frequency\": 16, \"value\": 2800}, \"2807\": {\"frequency\": 2, \"value\": 2807}, \"2808\": {\"frequency\": 2, \"value\": 2808}, \"2814\": {\"frequency\": 1, \"value\": 2814}, \"2820\": {\"frequency\": 4, \"value\": 2820}, \"2825\": {\"frequency\": 1, \"value\": 2825}, \"2833\": {\"frequency\": 1, \"value\": 2833}, \"2839\": {\"frequency\": 2, \"value\": 2839}, \"2841\": {\"frequency\": 1, \"value\": 2841}, \"2845\": {\"frequency\": 1, \"value\": 2845}, \"2849\": {\"frequency\": 1, \"value\": 2849}, \"2850\": {\"frequency\": 6, \"value\": 2850}, \"35621\": {\"frequency\": 1, \"value\": 35621}, \"2865\": {\"frequency\": 1, \"value\": 2865}, \"35636\": {\"frequency\": 1, \"value\": 35636}, \"2874\": {\"frequency\": 1, \"value\": 2874}, \"2875\": {\"frequency\": 7, \"value\": 2875}, \"2880\": {\"frequency\": 2, \"value\": 2880}, \"2885\": {\"frequency\": 2, \"value\": 2885}, \"35654\": {\"frequency\": 1, \"value\": 35654}, \"2890\": {\"frequency\": 5, \"value\": 2890}, \"2897\": {\"frequency\": 1, \"value\": 2897}, \"2900\": {\"frequency\": 1, \"value\": 2900}, \"2910\": {\"frequency\": 3, \"value\": 2910}, \"35679\": {\"frequency\": 2, \"value\": 35679}, \"2913\": {\"frequency\": 1, \"value\": 2913}, \"920423\": {\"frequency\": 1, \"value\": 920423}, \"35691\": {\"frequency\": 1, \"value\": 35691}, \"2930\": {\"frequency\": 1, \"value\": 2930}, \"2935\": {\"frequency\": 1, \"value\": 2935}, \"2937\": {\"frequency\": 1, \"value\": 2937}, \"2940\": {\"frequency\": 2, \"value\": 2940}, \"68479\": {\"frequency\": 1, \"value\": 68479}, \"2944\": {\"frequency\": 1, \"value\": 2944}, \"35722\": {\"frequency\": 1, \"value\": 35722}, \"2958\": {\"frequency\": 2, \"value\": 2958}, \"2964\": {\"frequency\": 1, \"value\": 2964}, \"2970\": {\"frequency\": 7, \"value\": 2970}, \"2975\": {\"frequency\": 3, \"value\": 2975}, \"2978\": {\"frequency\": 1, \"value\": 2978}, \"2980\": {\"frequency\": 2, \"value\": 2980}, \"2982\": {\"frequency\": 1, \"value\": 2982}, \"2983\": {\"frequency\": 2, \"value\": 2983}, \"35752\": {\"frequency\": 1, \"value\": 35752}, \"2992\": {\"frequency\": 3, \"value\": 2992}, \"2998\": {\"frequency\": 1, \"value\": 2998}, \"3000\": {\"frequency\": 84, \"value\": 3000}, \"3006\": {\"frequency\": 1, \"value\": 3006}, \"3008\": {\"frequency\": 3, \"value\": 3008}, \"3011\": {\"frequency\": 2, \"value\": 3011}, \"3012\": {\"frequency\": 2, \"value\": 3012}, \"35782\": {\"frequency\": 1, \"value\": 35782}, \"3015\": {\"frequency\": 1, \"value\": 3015}, \"3031\": {\"frequency\": 3, \"value\": 3031}, \"3040\": {\"frequency\": 3, \"value\": 3040}, \"3048\": {\"frequency\": 1, \"value\": 3048}, \"3050\": {\"frequency\": 1, \"value\": 3050}, \"3056\": {\"frequency\": 2, \"value\": 3056}, \"3060\": {\"frequency\": 24, \"value\": 3060}, \"3068\": {\"frequency\": 2, \"value\": 3068}, \"3072\": {\"frequency\": 1, \"value\": 3072}, \"3075\": {\"frequency\": 5, \"value\": 3075}, \"3076\": {\"frequency\": 1, \"value\": 3076}, \"3080\": {\"frequency\": 4, \"value\": 3080}, \"3088\": {\"frequency\": 2, \"value\": 3088}, \"3090\": {\"frequency\": 13, \"value\": 3090}, \"3094\": {\"frequency\": 1, \"value\": 3094}, \"3100\": {\"frequency\": 3, \"value\": 3100}, \"3101\": {\"frequency\": 1, \"value\": 3101}, \"3104\": {\"frequency\": 1, \"value\": 3104}, \"35880\": {\"frequency\": 1, \"value\": 35880}, \"3118\": {\"frequency\": 2, \"value\": 3118}, \"3120\": {\"frequency\": 6, \"value\": 3120}, \"3121\": {\"frequency\": 2, \"value\": 3121}, \"3128\": {\"frequency\": 4, \"value\": 3128}, \"3132\": {\"frequency\": 2, \"value\": 3132}, \"3134\": {\"frequency\": 1, \"value\": 3134}, \"3135\": {\"frequency\": 3, \"value\": 3135}, \"3136\": {\"frequency\": 1, \"value\": 3136}, \"3139\": {\"frequency\": 1, \"value\": 3139}, \"3140\": {\"frequency\": 2, \"value\": 3140}, \"3141\": {\"frequency\": 2, \"value\": 3141}, \"3143\": {\"frequency\": 2, \"value\": 3143}, \"3150\": {\"frequency\": 7, \"value\": 3150}, \"3172\": {\"frequency\": 3, \"value\": 3172}, \"3174\": {\"frequency\": 1, \"value\": 3174}, \"3175\": {\"frequency\": 1, \"value\": 3175}, \"3180\": {\"frequency\": 1, \"value\": 3180}, \"3188\": {\"frequency\": 1, \"value\": 3188}, \"101494\": {\"frequency\": 1, \"value\": 101494}, \"3192\": {\"frequency\": 3, \"value\": 3192}, \"3196\": {\"frequency\": 1, \"value\": 3196}, \"3200\": {\"frequency\": 31, \"value\": 3200}, \"3210\": {\"frequency\": 4, \"value\": 3210}, \"3211\": {\"frequency\": 3, \"value\": 3211}, \"3218\": {\"frequency\": 2, \"value\": 3218}, \"3220\": {\"frequency\": 2, \"value\": 3220}, \"35991\": {\"frequency\": 1, \"value\": 35991}, \"3225\": {\"frequency\": 5, \"value\": 3225}, \"35996\": {\"frequency\": 1, \"value\": 35996}, \"3230\": {\"frequency\": 3, \"value\": 3230}, \"3239\": {\"frequency\": 1, \"value\": 3239}, \"3240\": {\"frequency\": 9, \"value\": 3240}, \"3243\": {\"frequency\": 1, \"value\": 3243}, \"3245\": {\"frequency\": 2, \"value\": 3245}, \"3250\": {\"frequency\": 5, \"value\": 3250}, \"3253\": {\"frequency\": 1, \"value\": 3253}, \"3255\": {\"frequency\": 2, \"value\": 3255}, \"3264\": {\"frequency\": 3, \"value\": 3264}, \"36036\": {\"frequency\": 1, \"value\": 36036}, \"3271\": {\"frequency\": 1, \"value\": 3271}, \"3276\": {\"frequency\": 1, \"value\": 3276}, \"3277\": {\"frequency\": 1, \"value\": 3277}, \"167125\": {\"frequency\": 1, \"value\": 167125}, \"68824\": {\"frequency\": 1, \"value\": 68824}, \"68825\": {\"frequency\": 1, \"value\": 68825}, \"3292\": {\"frequency\": 2, \"value\": 3292}, \"3300\": {\"frequency\": 15, \"value\": 3300}, \"3313\": {\"frequency\": 1, \"value\": 3313}, \"3315\": {\"frequency\": 2, \"value\": 3315}, \"36085\": {\"frequency\": 1, \"value\": 36085}, \"3320\": {\"frequency\": 1, \"value\": 3320}, \"3323\": {\"frequency\": 1, \"value\": 3323}, \"3325\": {\"frequency\": 2, \"value\": 3325}, \"3328\": {\"frequency\": 2, \"value\": 3328}, \"3330\": {\"frequency\": 5, \"value\": 3330}, \"3332\": {\"frequency\": 2, \"value\": 3332}, \"3333\": {\"frequency\": 3, \"value\": 3333}, \"3348\": {\"frequency\": 3, \"value\": 3348}, \"3350\": {\"frequency\": 3, \"value\": 3350}, \"3359\": {\"frequency\": 1, \"value\": 3359}, \"3360\": {\"frequency\": 9, \"value\": 3360}, \"3375\": {\"frequency\": 1, \"value\": 3375}, \"3376\": {\"frequency\": 2, \"value\": 3376}, \"3386\": {\"frequency\": 1, \"value\": 3386}, \"3388\": {\"frequency\": 1, \"value\": 3388}, \"3395\": {\"frequency\": 1, \"value\": 3395}, \"3399\": {\"frequency\": 2, \"value\": 3399}, \"3400\": {\"frequency\": 22, \"value\": 3400}, \"3402\": {\"frequency\": 3, \"value\": 3402}, \"36171\": {\"frequency\": 1, \"value\": 36171}, \"3404\": {\"frequency\": 2, \"value\": 3404}, \"3411\": {\"frequency\": 1, \"value\": 3411}, \"3413\": {\"frequency\": 1, \"value\": 3413}, \"36183\": {\"frequency\": 1, \"value\": 36183}, \"134489\": {\"frequency\": 1, \"value\": 134489}, \"3419\": {\"frequency\": 1, \"value\": 3419}, \"3420\": {\"frequency\": 9, \"value\": 3420}, \"3425\": {\"frequency\": 2, \"value\": 3425}, \"3427\": {\"frequency\": 3, \"value\": 3427}, \"3430\": {\"frequency\": 1, \"value\": 3430}, \"3435\": {\"frequency\": 1, \"value\": 3435}, \"3438\": {\"frequency\": 2, \"value\": 3438}, \"3439\": {\"frequency\": 1, \"value\": 3439}, \"3440\": {\"frequency\": 2, \"value\": 3440}, \"3444\": {\"frequency\": 1, \"value\": 3444}, \"36218\": {\"frequency\": 1, \"value\": 36218}, \"3451\": {\"frequency\": 3, \"value\": 3451}, \"3455\": {\"frequency\": 1, \"value\": 3455}, \"36224\": {\"frequency\": 1, \"value\": 36224}, \"3469\": {\"frequency\": 1, \"value\": 3469}, \"3475\": {\"frequency\": 3, \"value\": 3475}, \"3478\": {\"frequency\": 4, \"value\": 3478}, \"3480\": {\"frequency\": 4, \"value\": 3480}, \"3485\": {\"frequency\": 1, \"value\": 3485}, \"36254\": {\"frequency\": 1, \"value\": 36254}, \"3488\": {\"frequency\": 1, \"value\": 3488}, \"3497\": {\"frequency\": 2, \"value\": 3497}, \"3500\": {\"frequency\": 18, \"value\": 3500}, \"3503\": {\"frequency\": 2, \"value\": 3503}, \"3504\": {\"frequency\": 2, \"value\": 3504}, \"3507\": {\"frequency\": 2, \"value\": 3507}, \"36276\": {\"frequency\": 1, \"value\": 36276}, \"3513\": {\"frequency\": 1, \"value\": 3513}, \"3515\": {\"frequency\": 2, \"value\": 3515}, \"3516\": {\"frequency\": 1, \"value\": 3516}, \"3517\": {\"frequency\": 2, \"value\": 3517}, \"3520\": {\"frequency\": 6, \"value\": 3520}, \"3521\": {\"frequency\": 1, \"value\": 3521}, \"3522\": {\"frequency\": 1, \"value\": 3522}, \"3525\": {\"frequency\": 1, \"value\": 3525}, \"3532\": {\"frequency\": 1, \"value\": 3532}, \"3538\": {\"frequency\": 1, \"value\": 3538}, \"3540\": {\"frequency\": 2, \"value\": 3540}, \"3543\": {\"frequency\": 1, \"value\": 3543}, \"3554\": {\"frequency\": 1, \"value\": 3554}, \"3560\": {\"frequency\": 3, \"value\": 3560}, \"3561\": {\"frequency\": 2, \"value\": 3561}, \"3562\": {\"frequency\": 1, \"value\": 3562}, \"3565\": {\"frequency\": 2, \"value\": 3565}, \"3568\": {\"frequency\": 1, \"value\": 3568}, \"3570\": {\"frequency\": 5, \"value\": 3570}, \"3574\": {\"frequency\": 1, \"value\": 3574}, \"3582\": {\"frequency\": 4, \"value\": 3582}, \"3584\": {\"frequency\": 2, \"value\": 3584}, \"3588\": {\"frequency\": 3, \"value\": 3588}, \"3599\": {\"frequency\": 1, \"value\": 3599}, \"3600\": {\"frequency\": 103, \"value\": 3600}, \"3608\": {\"frequency\": 3, \"value\": 3608}, \"3610\": {\"frequency\": 3, \"value\": 3610}, \"36384\": {\"frequency\": 1, \"value\": 36384}, \"3618\": {\"frequency\": 1, \"value\": 3618}, \"3622\": {\"frequency\": 2, \"value\": 3622}, \"3625\": {\"frequency\": 1, \"value\": 3625}, \"101930\": {\"frequency\": 3, \"value\": 101930}, \"3630\": {\"frequency\": 2, \"value\": 3630}, \"3632\": {\"frequency\": 1, \"value\": 3632}, \"3635\": {\"frequency\": 1, \"value\": 3635}, \"3640\": {\"frequency\": 4, \"value\": 3640}, \"3644\": {\"frequency\": 1, \"value\": 3644}, \"3649\": {\"frequency\": 1, \"value\": 3649}, \"3650\": {\"frequency\": 1, \"value\": 3650}, \"3657\": {\"frequency\": 1, \"value\": 3657}, \"3658\": {\"frequency\": 1, \"value\": 3658}, \"3659\": {\"frequency\": 1, \"value\": 3659}, \"3667\": {\"frequency\": 2, \"value\": 3667}, \"3671\": {\"frequency\": 1, \"value\": 3671}, \"3672\": {\"frequency\": 4, \"value\": 3672}, \"3677\": {\"frequency\": 3, \"value\": 3677}, \"3680\": {\"frequency\": 9, \"value\": 3680}, \"3700\": {\"frequency\": 6, \"value\": 3700}, \"3703\": {\"frequency\": 1, \"value\": 3703}, \"3707\": {\"frequency\": 1, \"value\": 3707}, \"3708\": {\"frequency\": 3, \"value\": 3708}, \"3710\": {\"frequency\": 2, \"value\": 3710}, \"3711\": {\"frequency\": 1, \"value\": 3711}, \"3712\": {\"frequency\": 1, \"value\": 3712}, \"3713\": {\"frequency\": 2, \"value\": 3713}, \"3718\": {\"frequency\": 1, \"value\": 3718}, \"3720\": {\"frequency\": 6, \"value\": 3720}, \"3721\": {\"frequency\": 3, \"value\": 3721}, \"69260\": {\"frequency\": 1, \"value\": 69260}, \"3727\": {\"frequency\": 1, \"value\": 3727}, \"3729\": {\"frequency\": 2, \"value\": 3729}, \"3730\": {\"frequency\": 3, \"value\": 3730}, \"3731\": {\"frequency\": 1, \"value\": 3731}, \"3737\": {\"frequency\": 2, \"value\": 3737}, \"3738\": {\"frequency\": 2, \"value\": 3738}, \"3740\": {\"frequency\": 3, \"value\": 3740}, \"3742\": {\"frequency\": 1, \"value\": 3742}, \"3745\": {\"frequency\": 1, \"value\": 3745}, \"3746\": {\"frequency\": 1, \"value\": 3746}, \"3750\": {\"frequency\": 24, \"value\": 3750}, \"3752\": {\"frequency\": 1, \"value\": 3752}, \"3755\": {\"frequency\": 1, \"value\": 3755}, \"3757\": {\"frequency\": 4, \"value\": 3757}, \"3760\": {\"frequency\": 7, \"value\": 3760}, \"3764\": {\"frequency\": 2, \"value\": 3764}, \"3766\": {\"frequency\": 1, \"value\": 3766}, \"3774\": {\"frequency\": 3, \"value\": 3774}, \"3780\": {\"frequency\": 4, \"value\": 3780}, \"3784\": {\"frequency\": 4, \"value\": 3784}, \"3785\": {\"frequency\": 1, \"value\": 3785}, \"3794\": {\"frequency\": 1, \"value\": 3794}, \"3795\": {\"frequency\": 2, \"value\": 3795}, \"3797\": {\"frequency\": 2, \"value\": 3797}, \"3800\": {\"frequency\": 28, \"value\": 3800}, \"3809\": {\"frequency\": 1, \"value\": 3809}, \"3810\": {\"frequency\": 2, \"value\": 3810}, \"3811\": {\"frequency\": 1, \"value\": 3811}, \"36583\": {\"frequency\": 1, \"value\": 36583}, \"3816\": {\"frequency\": 1, \"value\": 3816}, \"36585\": {\"frequency\": 2, \"value\": 36585}, \"3819\": {\"frequency\": 2, \"value\": 3819}, \"3825\": {\"frequency\": 18, \"value\": 3825}, \"3832\": {\"frequency\": 1, \"value\": 3832}, \"36601\": {\"frequency\": 1, \"value\": 36601}, \"3834\": {\"frequency\": 1, \"value\": 3834}, \"3838\": {\"frequency\": 2, \"value\": 3838}, \"3839\": {\"frequency\": 2, \"value\": 3839}, \"3840\": {\"frequency\": 18, \"value\": 3840}, \"3841\": {\"frequency\": 1, \"value\": 3841}, \"3844\": {\"frequency\": 11, \"value\": 3844}, \"3850\": {\"frequency\": 7, \"value\": 3850}, \"3852\": {\"frequency\": 2, \"value\": 3852}, \"3855\": {\"frequency\": 2, \"value\": 3855}, \"3860\": {\"frequency\": 1, \"value\": 3860}, \"3861\": {\"frequency\": 1, \"value\": 3861}, \"3863\": {\"frequency\": 1, \"value\": 3863}, \"3864\": {\"frequency\": 3, \"value\": 3864}, \"3865\": {\"frequency\": 2, \"value\": 3865}, \"167706\": {\"frequency\": 1, \"value\": 167706}, \"3867\": {\"frequency\": 2, \"value\": 3867}, \"3868\": {\"frequency\": 3, \"value\": 3868}, \"3870\": {\"frequency\": 4, \"value\": 3870}, \"3873\": {\"frequency\": 3, \"value\": 3873}, \"3874\": {\"frequency\": 1, \"value\": 3874}, \"3876\": {\"frequency\": 6, \"value\": 3876}, \"69415\": {\"frequency\": 1, \"value\": 69415}, \"3880\": {\"frequency\": 21, \"value\": 3880}, \"3881\": {\"frequency\": 1, \"value\": 3881}, \"3885\": {\"frequency\": 2, \"value\": 3885}, \"3893\": {\"frequency\": 1, \"value\": 3893}, \"3896\": {\"frequency\": 1, \"value\": 3896}, \"36665\": {\"frequency\": 1, \"value\": 36665}, \"3899\": {\"frequency\": 3, \"value\": 3899}, \"3900\": {\"frequency\": 14, \"value\": 3900}, \"3904\": {\"frequency\": 1, \"value\": 3904}, \"3905\": {\"frequency\": 2, \"value\": 3905}, \"3920\": {\"frequency\": 4, \"value\": 3920}, \"3930\": {\"frequency\": 2, \"value\": 3930}, \"3933\": {\"frequency\": 2, \"value\": 3933}, \"36704\": {\"frequency\": 1, \"value\": 36704}, \"3938\": {\"frequency\": 2, \"value\": 3938}, \"3952\": {\"frequency\": 2, \"value\": 3952}, \"3954\": {\"frequency\": 1, \"value\": 3954}, \"3960\": {\"frequency\": 13, \"value\": 3960}, \"3962\": {\"frequency\": 2, \"value\": 3962}, \"3974\": {\"frequency\": 2, \"value\": 3974}, \"3975\": {\"frequency\": 2, \"value\": 3975}, \"3976\": {\"frequency\": 2, \"value\": 3976}, \"3978\": {\"frequency\": 2, \"value\": 3978}, \"3979\": {\"frequency\": 1, \"value\": 3979}, \"3980\": {\"frequency\": 6, \"value\": 3980}, \"3982\": {\"frequency\": 1, \"value\": 3982}, \"3984\": {\"frequency\": 2, \"value\": 3984}, \"3986\": {\"frequency\": 2, \"value\": 3986}, \"3987\": {\"frequency\": 1, \"value\": 3987}, \"3988\": {\"frequency\": 1, \"value\": 3988}, \"3990\": {\"frequency\": 5, \"value\": 3990}, \"3993\": {\"frequency\": 1, \"value\": 3993}, \"3995\": {\"frequency\": 2, \"value\": 3995}, \"3997\": {\"frequency\": 1, \"value\": 3997}, \"3999\": {\"frequency\": 1, \"value\": 3999}, \"4000\": {\"frequency\": 251, \"value\": 4000}, \"36769\": {\"frequency\": 1, \"value\": 36769}, \"4002\": {\"frequency\": 2, \"value\": 4002}, \"4003\": {\"frequency\": 2, \"value\": 4003}, \"4004\": {\"frequency\": 2, \"value\": 4004}, \"4005\": {\"frequency\": 3, \"value\": 4005}, \"4006\": {\"frequency\": 3, \"value\": 4006}, \"4007\": {\"frequency\": 2, \"value\": 4007}, \"4008\": {\"frequency\": 1, \"value\": 4008}, \"4010\": {\"frequency\": 2, \"value\": 4010}, \"4011\": {\"frequency\": 2, \"value\": 4011}, \"4013\": {\"frequency\": 3, \"value\": 4013}, \"4018\": {\"frequency\": 1, \"value\": 4018}, \"4020\": {\"frequency\": 3, \"value\": 4020}, \"4025\": {\"frequency\": 6, \"value\": 4025}, \"4030\": {\"frequency\": 2, \"value\": 4030}, \"4031\": {\"frequency\": 2, \"value\": 4031}, \"4032\": {\"frequency\": 1, \"value\": 4032}, \"4033\": {\"frequency\": 1, \"value\": 4033}, \"4038\": {\"frequency\": 2, \"value\": 4038}, \"4040\": {\"frequency\": 5, \"value\": 4040}, \"4046\": {\"frequency\": 6, \"value\": 4046}, \"4048\": {\"frequency\": 1, \"value\": 4048}, \"4049\": {\"frequency\": 1, \"value\": 4049}, \"4050\": {\"frequency\": 11, \"value\": 4050}, \"4052\": {\"frequency\": 2, \"value\": 4052}, \"4054\": {\"frequency\": 3, \"value\": 4054}, \"4056\": {\"frequency\": 1, \"value\": 4056}, \"4057\": {\"frequency\": 1, \"value\": 4057}, \"4059\": {\"frequency\": 1, \"value\": 4059}, \"4060\": {\"frequency\": 4, \"value\": 4060}, \"102366\": {\"frequency\": 3, \"value\": 102366}, \"4063\": {\"frequency\": 1, \"value\": 4063}, \"4065\": {\"frequency\": 2, \"value\": 4065}, \"4069\": {\"frequency\": 1, \"value\": 4069}, \"4076\": {\"frequency\": 2, \"value\": 4076}, \"36847\": {\"frequency\": 1, \"value\": 36847}, \"4080\": {\"frequency\": 67, \"value\": 4080}, \"4084\": {\"frequency\": 2, \"value\": 4084}, \"4087\": {\"frequency\": 1, \"value\": 4087}, \"4088\": {\"frequency\": 2, \"value\": 4088}, \"4089\": {\"frequency\": 2, \"value\": 4089}, \"36862\": {\"frequency\": 1, \"value\": 36862}, \"4095\": {\"frequency\": 3, \"value\": 4095}, \"4096\": {\"frequency\": 2, \"value\": 4096}, \"4097\": {\"frequency\": 2, \"value\": 4097}, \"4100\": {\"frequency\": 4, \"value\": 4100}, \"4102\": {\"frequency\": 3, \"value\": 4102}, \"4103\": {\"frequency\": 1, \"value\": 4103}, \"4104\": {\"frequency\": 4, \"value\": 4104}, \"233481\": {\"frequency\": 1, \"value\": 233481}, \"4106\": {\"frequency\": 2, \"value\": 4106}, \"4108\": {\"frequency\": 3, \"value\": 4108}, \"4113\": {\"frequency\": 1, \"value\": 4113}, \"4118\": {\"frequency\": 1, \"value\": 4118}, \"4120\": {\"frequency\": 21, \"value\": 4120}, \"4122\": {\"frequency\": 1, \"value\": 4122}, \"36893\": {\"frequency\": 1, \"value\": 36893}, \"4128\": {\"frequency\": 3, \"value\": 4128}, \"4131\": {\"frequency\": 1, \"value\": 4131}, \"4132\": {\"frequency\": 2, \"value\": 4132}, \"4136\": {\"frequency\": 2, \"value\": 4136}, \"4139\": {\"frequency\": 1, \"value\": 4139}, \"4140\": {\"frequency\": 4, \"value\": 4140}, \"4141\": {\"frequency\": 2, \"value\": 4141}, \"4153\": {\"frequency\": 2, \"value\": 4153}, \"4160\": {\"frequency\": 10, \"value\": 4160}, \"4161\": {\"frequency\": 1, \"value\": 4161}, \"4163\": {\"frequency\": 2, \"value\": 4163}, \"4165\": {\"frequency\": 2, \"value\": 4165}, \"4166\": {\"frequency\": 2, \"value\": 4166}, \"4169\": {\"frequency\": 1, \"value\": 4169}, \"4170\": {\"frequency\": 1, \"value\": 4170}, \"4171\": {\"frequency\": 2, \"value\": 4171}, \"4178\": {\"frequency\": 4, \"value\": 4178}, \"4179\": {\"frequency\": 2, \"value\": 4179}, \"4180\": {\"frequency\": 2, \"value\": 4180}, \"4182\": {\"frequency\": 4, \"value\": 4182}, \"4183\": {\"frequency\": 1, \"value\": 4183}, \"4184\": {\"frequency\": 1, \"value\": 4184}, \"4185\": {\"frequency\": 2, \"value\": 4185}, \"4187\": {\"frequency\": 2, \"value\": 4187}, \"4188\": {\"frequency\": 1, \"value\": 4188}, \"4189\": {\"frequency\": 1, \"value\": 4189}, \"4191\": {\"frequency\": 2, \"value\": 4191}, \"4195\": {\"frequency\": 1, \"value\": 4195}, \"4200\": {\"frequency\": 49, \"value\": 4200}, \"4203\": {\"frequency\": 4, \"value\": 4203}, \"4206\": {\"frequency\": 3, \"value\": 4206}, \"4211\": {\"frequency\": 1, \"value\": 4211}, \"4217\": {\"frequency\": 1, \"value\": 4217}, \"4218\": {\"frequency\": 3, \"value\": 4218}, \"4220\": {\"frequency\": 4, \"value\": 4220}, \"4222\": {\"frequency\": 1, \"value\": 4222}, \"4225\": {\"frequency\": 3, \"value\": 4225}, \"4226\": {\"frequency\": 2, \"value\": 4226}, \"4228\": {\"frequency\": 3, \"value\": 4228}, \"4229\": {\"frequency\": 1, \"value\": 4229}, \"4232\": {\"frequency\": 1, \"value\": 4232}, \"4233\": {\"frequency\": 1, \"value\": 4233}, \"4234\": {\"frequency\": 2, \"value\": 4234}, \"4235\": {\"frequency\": 1, \"value\": 4235}, \"4236\": {\"frequency\": 1, \"value\": 4236}, \"4240\": {\"frequency\": 13, \"value\": 4240}, \"4244\": {\"frequency\": 3, \"value\": 4244}, \"4247\": {\"frequency\": 2, \"value\": 4247}, \"4250\": {\"frequency\": 7, \"value\": 4250}, \"4252\": {\"frequency\": 2, \"value\": 4252}, \"4254\": {\"frequency\": 1, \"value\": 4254}, \"4260\": {\"frequency\": 1, \"value\": 4260}, \"37034\": {\"frequency\": 2, \"value\": 37034}, \"4268\": {\"frequency\": 5, \"value\": 4268}, \"4270\": {\"frequency\": 3, \"value\": 4270}, \"4271\": {\"frequency\": 2, \"value\": 4271}, \"4273\": {\"frequency\": 1, \"value\": 4273}, \"4274\": {\"frequency\": 1, \"value\": 4274}, \"4275\": {\"frequency\": 4, \"value\": 4275}, \"37045\": {\"frequency\": 1, \"value\": 37045}, \"4280\": {\"frequency\": 4, \"value\": 4280}, \"4284\": {\"frequency\": 5, \"value\": 4284}, \"4286\": {\"frequency\": 2, \"value\": 4286}, \"4288\": {\"frequency\": 1, \"value\": 4288}, \"4290\": {\"frequency\": 6, \"value\": 4290}, \"4296\": {\"frequency\": 1, \"value\": 4296}, \"4297\": {\"frequency\": 2, \"value\": 4297}, \"69834\": {\"frequency\": 1, \"value\": 69834}, \"4299\": {\"frequency\": 1, \"value\": 4299}, \"4300\": {\"frequency\": 8, \"value\": 4300}, \"4301\": {\"frequency\": 2, \"value\": 4301}, \"4305\": {\"frequency\": 2, \"value\": 4305}, \"4308\": {\"frequency\": 2, \"value\": 4308}, \"4310\": {\"frequency\": 3, \"value\": 4310}, \"4320\": {\"frequency\": 11, \"value\": 4320}, \"37089\": {\"frequency\": 1, \"value\": 37089}, \"4322\": {\"frequency\": 4, \"value\": 4322}, \"4323\": {\"frequency\": 1, \"value\": 4323}, \"4324\": {\"frequency\": 1, \"value\": 4324}, \"4331\": {\"frequency\": 1, \"value\": 4331}, \"4332\": {\"frequency\": 4, \"value\": 4332}, \"4334\": {\"frequency\": 2, \"value\": 4334}, \"4337\": {\"frequency\": 3, \"value\": 4337}, \"4338\": {\"frequency\": 3, \"value\": 4338}, \"4340\": {\"frequency\": 1, \"value\": 4340}, \"4342\": {\"frequency\": 1, \"value\": 4342}, \"4343\": {\"frequency\": 1, \"value\": 4343}, \"4346\": {\"frequency\": 1, \"value\": 4346}, \"4348\": {\"frequency\": 1, \"value\": 4348}, \"4350\": {\"frequency\": 7, \"value\": 4350}, \"4356\": {\"frequency\": 2, \"value\": 4356}, \"4358\": {\"frequency\": 1, \"value\": 4358}, \"4360\": {\"frequency\": 3, \"value\": 4360}, \"4365\": {\"frequency\": 1, \"value\": 4365}, \"4366\": {\"frequency\": 3, \"value\": 4366}, \"4368\": {\"frequency\": 3, \"value\": 4368}, \"4370\": {\"frequency\": 2, \"value\": 4370}, \"4375\": {\"frequency\": 2, \"value\": 4375}, \"4377\": {\"frequency\": 1, \"value\": 4377}, \"4380\": {\"frequency\": 1, \"value\": 4380}, \"4381\": {\"frequency\": 1, \"value\": 4381}, \"4385\": {\"frequency\": 1, \"value\": 4385}, \"4394\": {\"frequency\": 1, \"value\": 4394}, \"4397\": {\"frequency\": 1, \"value\": 4397}, \"4399\": {\"frequency\": 3, \"value\": 4399}, \"4400\": {\"frequency\": 56, \"value\": 4400}, \"37169\": {\"frequency\": 1, \"value\": 37169}, \"4408\": {\"frequency\": 4, \"value\": 4408}, \"4410\": {\"frequency\": 2, \"value\": 4410}, \"4411\": {\"frequency\": 1, \"value\": 4411}, \"4412\": {\"frequency\": 1, \"value\": 4412}, \"4416\": {\"frequency\": 1, \"value\": 4416}, \"4418\": {\"frequency\": 2, \"value\": 4418}, \"4421\": {\"frequency\": 1, \"value\": 4421}, \"37193\": {\"frequency\": 1, \"value\": 37193}, \"4426\": {\"frequency\": 1, \"value\": 4426}, \"4427\": {\"frequency\": 1, \"value\": 4427}, \"4429\": {\"frequency\": 2, \"value\": 4429}, \"37200\": {\"frequency\": 1, \"value\": 37200}, \"4435\": {\"frequency\": 1, \"value\": 4435}, \"4438\": {\"frequency\": 2, \"value\": 4438}, \"4440\": {\"frequency\": 8, \"value\": 4440}, \"266587\": {\"frequency\": 1, \"value\": 266587}, \"4445\": {\"frequency\": 2, \"value\": 4445}, \"4447\": {\"frequency\": 2, \"value\": 4447}, \"4450\": {\"frequency\": 2, \"value\": 4450}, \"4452\": {\"frequency\": 2, \"value\": 4452}, \"4455\": {\"frequency\": 2, \"value\": 4455}, \"4456\": {\"frequency\": 1, \"value\": 4456}, \"4461\": {\"frequency\": 1, \"value\": 4461}, \"4466\": {\"frequency\": 1, \"value\": 4466}, \"4468\": {\"frequency\": 2, \"value\": 4468}, \"4473\": {\"frequency\": 4, \"value\": 4473}, \"4476\": {\"frequency\": 1, \"value\": 4476}, \"4480\": {\"frequency\": 9, \"value\": 4480}, \"4482\": {\"frequency\": 2, \"value\": 4482}, \"4485\": {\"frequency\": 1, \"value\": 4485}, \"4488\": {\"frequency\": 3, \"value\": 4488}, \"4489\": {\"frequency\": 1, \"value\": 4489}, \"4494\": {\"frequency\": 1, \"value\": 4494}, \"4495\": {\"frequency\": 4, \"value\": 4495}, \"4496\": {\"frequency\": 2, \"value\": 4496}, \"4498\": {\"frequency\": 1, \"value\": 4498}, \"4499\": {\"frequency\": 4, \"value\": 4499}, \"4500\": {\"frequency\": 114, \"value\": 4500}, \"4501\": {\"frequency\": 2, \"value\": 4501}, \"4502\": {\"frequency\": 4, \"value\": 4502}, \"4505\": {\"frequency\": 3, \"value\": 4505}, \"4506\": {\"frequency\": 2, \"value\": 4506}, \"4510\": {\"frequency\": 2, \"value\": 4510}, \"4512\": {\"frequency\": 2, \"value\": 4512}, \"4515\": {\"frequency\": 2, \"value\": 4515}, \"4520\": {\"frequency\": 3, \"value\": 4520}, \"4524\": {\"frequency\": 4, \"value\": 4524}, \"4532\": {\"frequency\": 1, \"value\": 4532}, \"4533\": {\"frequency\": 3, \"value\": 4533}, \"4534\": {\"frequency\": 6, \"value\": 4534}, \"4539\": {\"frequency\": 3, \"value\": 4539}, \"4541\": {\"frequency\": 2, \"value\": 4541}, \"4543\": {\"frequency\": 1, \"value\": 4543}, \"4544\": {\"frequency\": 1, \"value\": 4544}, \"4545\": {\"frequency\": 1, \"value\": 4545}, \"4547\": {\"frequency\": 1, \"value\": 4547}, \"4548\": {\"frequency\": 2, \"value\": 4548}, \"4549\": {\"frequency\": 2, \"value\": 4549}, \"4550\": {\"frequency\": 3, \"value\": 4550}, \"4555\": {\"frequency\": 2, \"value\": 4555}, \"4556\": {\"frequency\": 1, \"value\": 4556}, \"37325\": {\"frequency\": 1, \"value\": 37325}, \"4558\": {\"frequency\": 5, \"value\": 4558}, \"4559\": {\"frequency\": 1, \"value\": 4559}, \"4560\": {\"frequency\": 15, \"value\": 4560}, \"4564\": {\"frequency\": 2, \"value\": 4564}, \"4565\": {\"frequency\": 1, \"value\": 4565}, \"4569\": {\"frequency\": 1, \"value\": 4569}, \"4580\": {\"frequency\": 1, \"value\": 4580}, \"4583\": {\"frequency\": 1, \"value\": 4583}, \"4584\": {\"frequency\": 2, \"value\": 4584}, \"4587\": {\"frequency\": 2, \"value\": 4587}, \"4590\": {\"frequency\": 17, \"value\": 4590}, \"4591\": {\"frequency\": 1, \"value\": 4591}, \"4592\": {\"frequency\": 4, \"value\": 4592}, \"70131\": {\"frequency\": 2, \"value\": 70131}, \"4597\": {\"frequency\": 1, \"value\": 4597}, \"4600\": {\"frequency\": 34, \"value\": 4600}, \"4602\": {\"frequency\": 3, \"value\": 4602}, \"4604\": {\"frequency\": 1, \"value\": 4604}, \"37373\": {\"frequency\": 1, \"value\": 37373}, \"4606\": {\"frequency\": 2, \"value\": 4606}, \"4608\": {\"frequency\": 1, \"value\": 4608}, \"4614\": {\"frequency\": 1, \"value\": 4614}, \"4616\": {\"frequency\": 1, \"value\": 4616}, \"4618\": {\"frequency\": 1, \"value\": 4618}, \"4620\": {\"frequency\": 2, \"value\": 4620}, \"4621\": {\"frequency\": 1, \"value\": 4621}, \"4625\": {\"frequency\": 2, \"value\": 4625}, \"4627\": {\"frequency\": 2, \"value\": 4627}, \"4630\": {\"frequency\": 1, \"value\": 4630}, \"4632\": {\"frequency\": 1, \"value\": 4632}, \"4635\": {\"frequency\": 10, \"value\": 4635}, \"4636\": {\"frequency\": 3, \"value\": 4636}, \"4637\": {\"frequency\": 2, \"value\": 4637}, \"4640\": {\"frequency\": 5, \"value\": 4640}, \"4648\": {\"frequency\": 2, \"value\": 4648}, \"4649\": {\"frequency\": 1, \"value\": 4649}, \"4650\": {\"frequency\": 10, \"value\": 4650}, \"4653\": {\"frequency\": 1, \"value\": 4653}, \"4657\": {\"frequency\": 1, \"value\": 4657}, \"4659\": {\"frequency\": 1, \"value\": 4659}, \"4662\": {\"frequency\": 1, \"value\": 4662}, \"4663\": {\"frequency\": 1, \"value\": 4663}, \"4664\": {\"frequency\": 1, \"value\": 4664}, \"4667\": {\"frequency\": 4, \"value\": 4667}, \"4668\": {\"frequency\": 2, \"value\": 4668}, \"4670\": {\"frequency\": 2, \"value\": 4670}, \"4673\": {\"frequency\": 1, \"value\": 4673}, \"4675\": {\"frequency\": 4, \"value\": 4675}, \"4676\": {\"frequency\": 1, \"value\": 4676}, \"4680\": {\"frequency\": 5, \"value\": 4680}, \"4681\": {\"frequency\": 1, \"value\": 4681}, \"4683\": {\"frequency\": 2, \"value\": 4683}, \"4684\": {\"frequency\": 2, \"value\": 4684}, \"4687\": {\"frequency\": 1, \"value\": 4687}, \"4688\": {\"frequency\": 2, \"value\": 4688}, \"4689\": {\"frequency\": 1, \"value\": 4689}, \"4690\": {\"frequency\": 2, \"value\": 4690}, \"4692\": {\"frequency\": 2, \"value\": 4692}, \"37461\": {\"frequency\": 1, \"value\": 37461}, \"4694\": {\"frequency\": 3, \"value\": 4694}, \"4697\": {\"frequency\": 2, \"value\": 4697}, \"4698\": {\"frequency\": 3, \"value\": 4698}, \"4700\": {\"frequency\": 13, \"value\": 4700}, \"4704\": {\"frequency\": 2, \"value\": 4704}, \"4708\": {\"frequency\": 2, \"value\": 4708}, \"4709\": {\"frequency\": 1, \"value\": 4709}, \"4720\": {\"frequency\": 6, \"value\": 4720}, \"4721\": {\"frequency\": 1, \"value\": 4721}, \"4725\": {\"frequency\": 10, \"value\": 4725}, \"4727\": {\"frequency\": 1, \"value\": 4727}, \"4729\": {\"frequency\": 2, \"value\": 4729}, \"4730\": {\"frequency\": 3, \"value\": 4730}, \"4731\": {\"frequency\": 1, \"value\": 4731}, \"37500\": {\"frequency\": 1, \"value\": 37500}, \"4736\": {\"frequency\": 3, \"value\": 4736}, \"4740\": {\"frequency\": 2, \"value\": 4740}, \"4743\": {\"frequency\": 2, \"value\": 4743}, \"4745\": {\"frequency\": 2, \"value\": 4745}, \"4746\": {\"frequency\": 1, \"value\": 4746}, \"4750\": {\"frequency\": 27, \"value\": 4750}, \"4751\": {\"frequency\": 3, \"value\": 4751}, \"37522\": {\"frequency\": 1, \"value\": 37522}, \"4755\": {\"frequency\": 3, \"value\": 4755}, \"4760\": {\"frequency\": 10, \"value\": 4760}, \"4762\": {\"frequency\": 1, \"value\": 4762}, \"4764\": {\"frequency\": 1, \"value\": 4764}, \"37533\": {\"frequency\": 1, \"value\": 37533}, \"4770\": {\"frequency\": 4, \"value\": 4770}, \"4774\": {\"frequency\": 3, \"value\": 4774}, \"4776\": {\"frequency\": 1, \"value\": 4776}, \"4777\": {\"frequency\": 4, \"value\": 4777}, \"4780\": {\"frequency\": 4, \"value\": 4780}, \"4781\": {\"frequency\": 2, \"value\": 4781}, \"4788\": {\"frequency\": 3, \"value\": 4788}, \"4789\": {\"frequency\": 1, \"value\": 4789}, \"4797\": {\"frequency\": 2, \"value\": 4797}, \"4800\": {\"frequency\": 120, \"value\": 4800}, \"4802\": {\"frequency\": 2, \"value\": 4802}, \"4805\": {\"frequency\": 2, \"value\": 4805}, \"4811\": {\"frequency\": 1, \"value\": 4811}, \"4812\": {\"frequency\": 1, \"value\": 4812}, \"4814\": {\"frequency\": 2, \"value\": 4814}, \"4815\": {\"frequency\": 5, \"value\": 4815}, \"4818\": {\"frequency\": 2, \"value\": 4818}, \"4822\": {\"frequency\": 1, \"value\": 4822}, \"4823\": {\"frequency\": 1, \"value\": 4823}, \"4825\": {\"frequency\": 1, \"value\": 4825}, \"4830\": {\"frequency\": 1, \"value\": 4830}, \"4831\": {\"frequency\": 2, \"value\": 4831}, \"4836\": {\"frequency\": 2, \"value\": 4836}, \"4838\": {\"frequency\": 6, \"value\": 4838}, \"4840\": {\"frequency\": 10, \"value\": 4840}, \"4841\": {\"frequency\": 2, \"value\": 4841}, \"4842\": {\"frequency\": 1, \"value\": 4842}, \"4845\": {\"frequency\": 1, \"value\": 4845}, \"37616\": {\"frequency\": 1, \"value\": 37616}, \"4850\": {\"frequency\": 7, \"value\": 4850}, \"4854\": {\"frequency\": 1, \"value\": 4854}, \"4855\": {\"frequency\": 1, \"value\": 4855}, \"4859\": {\"frequency\": 2, \"value\": 4859}, \"4860\": {\"frequency\": 2, \"value\": 4860}, \"4862\": {\"frequency\": 3, \"value\": 4862}, \"4865\": {\"frequency\": 1, \"value\": 4865}, \"4866\": {\"frequency\": 2, \"value\": 4866}, \"4869\": {\"frequency\": 1, \"value\": 4869}, \"4871\": {\"frequency\": 2, \"value\": 4871}, \"4872\": {\"frequency\": 1, \"value\": 4872}, \"37642\": {\"frequency\": 1, \"value\": 37642}, \"4875\": {\"frequency\": 10, \"value\": 4875}, \"4876\": {\"frequency\": 2, \"value\": 4876}, \"37647\": {\"frequency\": 1, \"value\": 37647}, \"4880\": {\"frequency\": 5, \"value\": 4880}, \"4882\": {\"frequency\": 1, \"value\": 4882}, \"4886\": {\"frequency\": 1, \"value\": 4886}, \"4887\": {\"frequency\": 2, \"value\": 4887}, \"4888\": {\"frequency\": 2, \"value\": 4888}, \"4895\": {\"frequency\": 2, \"value\": 4895}, \"4900\": {\"frequency\": 8, \"value\": 4900}, \"4903\": {\"frequency\": 2, \"value\": 4903}, \"4904\": {\"frequency\": 2, \"value\": 4904}, \"4905\": {\"frequency\": 3, \"value\": 4905}, \"4910\": {\"frequency\": 1, \"value\": 4910}, \"4912\": {\"frequency\": 2, \"value\": 4912}, \"4913\": {\"frequency\": 2, \"value\": 4913}, \"4920\": {\"frequency\": 12, \"value\": 4920}, \"4922\": {\"frequency\": 1, \"value\": 4922}, \"4923\": {\"frequency\": 2, \"value\": 4923}, \"4924\": {\"frequency\": 3, \"value\": 4924}, \"4927\": {\"frequency\": 1, \"value\": 4927}, \"4930\": {\"frequency\": 3, \"value\": 4930}, \"4931\": {\"frequency\": 1, \"value\": 4931}, \"4932\": {\"frequency\": 1, \"value\": 4932}, \"103237\": {\"frequency\": 2, \"value\": 103237}, \"4936\": {\"frequency\": 1, \"value\": 4936}, \"4940\": {\"frequency\": 1, \"value\": 4940}, \"4941\": {\"frequency\": 1, \"value\": 4941}, \"4942\": {\"frequency\": 1, \"value\": 4942}, \"4944\": {\"frequency\": 3, \"value\": 4944}, \"4945\": {\"frequency\": 5, \"value\": 4945}, \"4947\": {\"frequency\": 3, \"value\": 4947}, \"4948\": {\"frequency\": 2, \"value\": 4948}, \"4949\": {\"frequency\": 2, \"value\": 4949}, \"4950\": {\"frequency\": 15, \"value\": 4950}, \"4954\": {\"frequency\": 1, \"value\": 4954}, \"4957\": {\"frequency\": 1, \"value\": 4957}, \"4959\": {\"frequency\": 2, \"value\": 4959}, \"4960\": {\"frequency\": 8, \"value\": 4960}, \"4961\": {\"frequency\": 3, \"value\": 4961}, \"4962\": {\"frequency\": 1, \"value\": 4962}, \"4964\": {\"frequency\": 2, \"value\": 4964}, \"4972\": {\"frequency\": 2, \"value\": 4972}, \"4975\": {\"frequency\": 2, \"value\": 4975}, \"4976\": {\"frequency\": 2, \"value\": 4976}, \"4977\": {\"frequency\": 1, \"value\": 4977}, \"4978\": {\"frequency\": 3, \"value\": 4978}, \"4980\": {\"frequency\": 6, \"value\": 4980}, \"4984\": {\"frequency\": 2, \"value\": 4984}, \"4988\": {\"frequency\": 1, \"value\": 4988}, \"4990\": {\"frequency\": 2, \"value\": 4990}, \"4992\": {\"frequency\": 2, \"value\": 4992}, \"4996\": {\"frequency\": 1, \"value\": 4996}, \"4997\": {\"frequency\": 3, \"value\": 4997}, \"4998\": {\"frequency\": 1, \"value\": 4998}, \"5000\": {\"frequency\": 358, \"value\": 5000}, \"5001\": {\"frequency\": 15, \"value\": 5001}, \"5002\": {\"frequency\": 6, \"value\": 5002}, \"5004\": {\"frequency\": 2, \"value\": 5004}, \"5005\": {\"frequency\": 3, \"value\": 5005}, \"5006\": {\"frequency\": 2, \"value\": 5006}, \"5007\": {\"frequency\": 1, \"value\": 5007}, \"5008\": {\"frequency\": 3, \"value\": 5008}, \"5009\": {\"frequency\": 2, \"value\": 5009}, \"5010\": {\"frequency\": 2, \"value\": 5010}, \"5011\": {\"frequency\": 1, \"value\": 5011}, \"5012\": {\"frequency\": 3, \"value\": 5012}, \"5015\": {\"frequency\": 4, \"value\": 5015}, \"5016\": {\"frequency\": 1, \"value\": 5016}, \"5017\": {\"frequency\": 1, \"value\": 5017}, \"5022\": {\"frequency\": 1, \"value\": 5022}, \"5024\": {\"frequency\": 3, \"value\": 5024}, \"5025\": {\"frequency\": 5, \"value\": 5025}, \"5026\": {\"frequency\": 4, \"value\": 5026}, \"5027\": {\"frequency\": 4, \"value\": 5027}, \"5028\": {\"frequency\": 1, \"value\": 5028}, \"5029\": {\"frequency\": 4, \"value\": 5029}, \"5030\": {\"frequency\": 3, \"value\": 5030}, \"70567\": {\"frequency\": 3, \"value\": 70567}, \"5032\": {\"frequency\": 1, \"value\": 5032}, \"37801\": {\"frequency\": 1, \"value\": 37801}, \"5034\": {\"frequency\": 2, \"value\": 5034}, \"5036\": {\"frequency\": 1, \"value\": 5036}, \"5040\": {\"frequency\": 29, \"value\": 5040}, \"5043\": {\"frequency\": 5, \"value\": 5043}, \"5044\": {\"frequency\": 1, \"value\": 5044}, \"5048\": {\"frequency\": 2, \"value\": 5048}, \"5050\": {\"frequency\": 9, \"value\": 5050}, \"5054\": {\"frequency\": 3, \"value\": 5054}, \"5056\": {\"frequency\": 1, \"value\": 5056}, \"5058\": {\"frequency\": 1, \"value\": 5058}, \"5060\": {\"frequency\": 9, \"value\": 5060}, \"5065\": {\"frequency\": 2, \"value\": 5065}, \"5067\": {\"frequency\": 1, \"value\": 5067}, \"5070\": {\"frequency\": 5, \"value\": 5070}, \"5071\": {\"frequency\": 3, \"value\": 5071}, \"37843\": {\"frequency\": 1, \"value\": 37843}, \"5077\": {\"frequency\": 3, \"value\": 5077}, \"103382\": {\"frequency\": 1, \"value\": 103382}, \"5080\": {\"frequency\": 17, \"value\": 5080}, \"5086\": {\"frequency\": 2, \"value\": 5086}, \"5087\": {\"frequency\": 1, \"value\": 5087}, \"5088\": {\"frequency\": 2, \"value\": 5088}, \"5089\": {\"frequency\": 2, \"value\": 5089}, \"5091\": {\"frequency\": 2, \"value\": 5091}, \"5093\": {\"frequency\": 1, \"value\": 5093}, \"5096\": {\"frequency\": 3, \"value\": 5096}, \"5097\": {\"frequency\": 2, \"value\": 5097}, \"5100\": {\"frequency\": 78, \"value\": 5100}, \"5101\": {\"frequency\": 4, \"value\": 5101}, \"5102\": {\"frequency\": 5, \"value\": 5102}, \"5105\": {\"frequency\": 3, \"value\": 5105}, \"5106\": {\"frequency\": 2, \"value\": 5106}, \"5107\": {\"frequency\": 2, \"value\": 5107}, \"5108\": {\"frequency\": 2, \"value\": 5108}, \"5109\": {\"frequency\": 1, \"value\": 5109}, \"5110\": {\"frequency\": 4, \"value\": 5110}, \"5111\": {\"frequency\": 5, \"value\": 5111}, \"5112\": {\"frequency\": 2, \"value\": 5112}, \"5115\": {\"frequency\": 2, \"value\": 5115}, \"5116\": {\"frequency\": 1, \"value\": 5116}, \"5120\": {\"frequency\": 27, \"value\": 5120}, \"5122\": {\"frequency\": 1, \"value\": 5122}, \"5125\": {\"frequency\": 4, \"value\": 5125}, \"5128\": {\"frequency\": 2, \"value\": 5128}, \"5130\": {\"frequency\": 3, \"value\": 5130}, \"5131\": {\"frequency\": 2, \"value\": 5131}, \"5132\": {\"frequency\": 1, \"value\": 5132}, \"37904\": {\"frequency\": 1, \"value\": 37904}, \"5137\": {\"frequency\": 2, \"value\": 5137}, \"5140\": {\"frequency\": 2, \"value\": 5140}, \"5144\": {\"frequency\": 1, \"value\": 5144}, \"5146\": {\"frequency\": 4, \"value\": 5146}, \"5149\": {\"frequency\": 1, \"value\": 5149}, \"5150\": {\"frequency\": 18, \"value\": 5150}, \"5156\": {\"frequency\": 3, \"value\": 5156}, \"5159\": {\"frequency\": 1, \"value\": 5159}, \"5160\": {\"frequency\": 9, \"value\": 5160}, \"5163\": {\"frequency\": 1, \"value\": 5163}, \"5164\": {\"frequency\": 2, \"value\": 5164}, \"5167\": {\"frequency\": 1, \"value\": 5167}, \"5170\": {\"frequency\": 2, \"value\": 5170}, \"5172\": {\"frequency\": 1, \"value\": 5172}, \"5175\": {\"frequency\": 8, \"value\": 5175}, \"5185\": {\"frequency\": 4, \"value\": 5185}, \"5192\": {\"frequency\": 2, \"value\": 5192}, \"5193\": {\"frequency\": 1, \"value\": 5193}, \"5195\": {\"frequency\": 2, \"value\": 5195}, \"5200\": {\"frequency\": 64, \"value\": 5200}, \"5202\": {\"frequency\": 4, \"value\": 5202}, \"5203\": {\"frequency\": 2, \"value\": 5203}, \"5205\": {\"frequency\": 1, \"value\": 5205}, \"5207\": {\"frequency\": 1, \"value\": 5207}, \"5208\": {\"frequency\": 1, \"value\": 5208}, \"5209\": {\"frequency\": 1, \"value\": 5209}, \"5210\": {\"frequency\": 2, \"value\": 5210}, \"5211\": {\"frequency\": 1, \"value\": 5211}, \"5212\": {\"frequency\": 1, \"value\": 5212}, \"37981\": {\"frequency\": 1, \"value\": 37981}, \"5214\": {\"frequency\": 1, \"value\": 5214}, \"5217\": {\"frequency\": 3, \"value\": 5217}, \"136290\": {\"frequency\": 1, \"value\": 136290}, \"5220\": {\"frequency\": 4, \"value\": 5220}, \"5222\": {\"frequency\": 2, \"value\": 5222}, \"5223\": {\"frequency\": 1, \"value\": 5223}, \"5225\": {\"frequency\": 6, \"value\": 5225}, \"5232\": {\"frequency\": 1, \"value\": 5232}, \"5233\": {\"frequency\": 1, \"value\": 5233}, \"5236\": {\"frequency\": 3, \"value\": 5236}, \"5238\": {\"frequency\": 3, \"value\": 5238}, \"5240\": {\"frequency\": 8, \"value\": 5240}, \"38009\": {\"frequency\": 1, \"value\": 38009}, \"5244\": {\"frequency\": 2, \"value\": 5244}, \"5247\": {\"frequency\": 1, \"value\": 5247}, \"38016\": {\"frequency\": 1, \"value\": 38016}, \"5249\": {\"frequency\": 3, \"value\": 5249}, \"5250\": {\"frequency\": 32, \"value\": 5250}, \"5257\": {\"frequency\": 3, \"value\": 5257}, \"5258\": {\"frequency\": 2, \"value\": 5258}, \"5259\": {\"frequency\": 1, \"value\": 5259}, \"5260\": {\"frequency\": 4, \"value\": 5260}, \"5262\": {\"frequency\": 1, \"value\": 5262}, \"5264\": {\"frequency\": 2, \"value\": 5264}, \"5265\": {\"frequency\": 4, \"value\": 5265}, \"5267\": {\"frequency\": 4, \"value\": 5267}, \"38038\": {\"frequency\": 1, \"value\": 38038}, \"5280\": {\"frequency\": 15, \"value\": 5280}, \"5283\": {\"frequency\": 2, \"value\": 5283}, \"5289\": {\"frequency\": 2, \"value\": 5289}, \"5293\": {\"frequency\": 1, \"value\": 5293}, \"5298\": {\"frequency\": 3, \"value\": 5298}, \"5300\": {\"frequency\": 11, \"value\": 5300}, \"5304\": {\"frequency\": 3, \"value\": 5304}, \"5306\": {\"frequency\": 2, \"value\": 5306}, \"5307\": {\"frequency\": 1, \"value\": 5307}, \"5310\": {\"frequency\": 3, \"value\": 5310}, \"5316\": {\"frequency\": 1, \"value\": 5316}, \"38088\": {\"frequency\": 1, \"value\": 38088}, \"5322\": {\"frequency\": 1, \"value\": 5322}, \"5325\": {\"frequency\": 1, \"value\": 5325}, \"5326\": {\"frequency\": 1, \"value\": 5326}, \"38095\": {\"frequency\": 1, \"value\": 38095}, \"5328\": {\"frequency\": 1, \"value\": 5328}, \"5330\": {\"frequency\": 1, \"value\": 5330}, \"5332\": {\"frequency\": 1, \"value\": 5332}, \"5333\": {\"frequency\": 2, \"value\": 5333}, \"5336\": {\"frequency\": 1, \"value\": 5336}, \"5337\": {\"frequency\": 1, \"value\": 5337}, \"5338\": {\"frequency\": 3, \"value\": 5338}, \"5339\": {\"frequency\": 2, \"value\": 5339}, \"5340\": {\"frequency\": 3, \"value\": 5340}, \"5346\": {\"frequency\": 1, \"value\": 5346}, \"5349\": {\"frequency\": 2, \"value\": 5349}, \"5350\": {\"frequency\": 10, \"value\": 5350}, \"5353\": {\"frequency\": 3, \"value\": 5353}, \"5354\": {\"frequency\": 2, \"value\": 5354}, \"5355\": {\"frequency\": 3, \"value\": 5355}, \"5356\": {\"frequency\": 1, \"value\": 5356}, \"38125\": {\"frequency\": 1, \"value\": 38125}, \"5361\": {\"frequency\": 1, \"value\": 5361}, \"5362\": {\"frequency\": 1, \"value\": 5362}, \"5366\": {\"frequency\": 1, \"value\": 5366}, \"5367\": {\"frequency\": 1, \"value\": 5367}, \"103672\": {\"frequency\": 3, \"value\": 103672}, \"5372\": {\"frequency\": 1, \"value\": 5372}, \"5374\": {\"frequency\": 1, \"value\": 5374}, \"5375\": {\"frequency\": 7, \"value\": 5375}, \"5376\": {\"frequency\": 3, \"value\": 5376}, \"5377\": {\"frequency\": 1, \"value\": 5377}, \"5378\": {\"frequency\": 1, \"value\": 5378}, \"5379\": {\"frequency\": 3, \"value\": 5379}, \"5382\": {\"frequency\": 1, \"value\": 5382}, \"5390\": {\"frequency\": 3, \"value\": 5390}, \"5393\": {\"frequency\": 3, \"value\": 5393}, \"5395\": {\"frequency\": 4, \"value\": 5395}, \"5398\": {\"frequency\": 3, \"value\": 5398}, \"5400\": {\"frequency\": 54, \"value\": 5400}, \"5401\": {\"frequency\": 3, \"value\": 5401}, \"5402\": {\"frequency\": 3, \"value\": 5402}, \"5405\": {\"frequency\": 2, \"value\": 5405}, \"5408\": {\"frequency\": 2, \"value\": 5408}, \"11824\": {\"frequency\": 2, \"value\": 11824}, \"5411\": {\"frequency\": 1, \"value\": 5411}, \"5412\": {\"frequency\": 2, \"value\": 5412}, \"5413\": {\"frequency\": 9, \"value\": 5413}, \"5414\": {\"frequency\": 2, \"value\": 5414}, \"5415\": {\"frequency\": 1, \"value\": 5415}, \"5416\": {\"frequency\": 2, \"value\": 5416}, \"5418\": {\"frequency\": 1, \"value\": 5418}, \"5419\": {\"frequency\": 1, \"value\": 5419}, \"5420\": {\"frequency\": 2, \"value\": 5420}, \"5421\": {\"frequency\": 2, \"value\": 5421}, \"5422\": {\"frequency\": 1, \"value\": 5422}, \"5423\": {\"frequency\": 2, \"value\": 5423}, \"5425\": {\"frequency\": 1, \"value\": 5425}, \"5427\": {\"frequency\": 1, \"value\": 5427}, \"5428\": {\"frequency\": 2, \"value\": 5428}, \"5432\": {\"frequency\": 2, \"value\": 5432}, \"5433\": {\"frequency\": 1, \"value\": 5433}, \"5434\": {\"frequency\": 2, \"value\": 5434}, \"5438\": {\"frequency\": 1, \"value\": 5438}, \"5439\": {\"frequency\": 1, \"value\": 5439}, \"5440\": {\"frequency\": 5, \"value\": 5440}, \"5445\": {\"frequency\": 3, \"value\": 5445}, \"5450\": {\"frequency\": 5, \"value\": 5450}, \"5451\": {\"frequency\": 1, \"value\": 5451}, \"5453\": {\"frequency\": 3, \"value\": 5453}, \"5454\": {\"frequency\": 1, \"value\": 5454}, \"5455\": {\"frequency\": 2, \"value\": 5455}, \"365904\": {\"frequency\": 1, \"value\": 365904}, \"5460\": {\"frequency\": 6, \"value\": 5460}, \"5465\": {\"frequency\": 1, \"value\": 5465}, \"5467\": {\"frequency\": 1, \"value\": 5467}, \"5469\": {\"frequency\": 1, \"value\": 5469}, \"5472\": {\"frequency\": 3, \"value\": 5472}, \"5478\": {\"frequency\": 2, \"value\": 5478}, \"5484\": {\"frequency\": 1, \"value\": 5484}, \"5488\": {\"frequency\": 3, \"value\": 5488}, \"5489\": {\"frequency\": 1, \"value\": 5489}, \"38258\": {\"frequency\": 1, \"value\": 38258}, \"5493\": {\"frequency\": 1, \"value\": 5493}, \"5496\": {\"frequency\": 1, \"value\": 5496}, \"5497\": {\"frequency\": 2, \"value\": 5497}, \"5499\": {\"frequency\": 1, \"value\": 5499}, \"5500\": {\"frequency\": 73, \"value\": 5500}, \"5502\": {\"frequency\": 2, \"value\": 5502}, \"5506\": {\"frequency\": 1, \"value\": 5506}, \"5508\": {\"frequency\": 4, \"value\": 5508}, \"5510\": {\"frequency\": 4, \"value\": 5510}, \"5511\": {\"frequency\": 4, \"value\": 5511}, \"5512\": {\"frequency\": 3, \"value\": 5512}, \"5520\": {\"frequency\": 7, \"value\": 5520}, \"5522\": {\"frequency\": 1, \"value\": 5522}, \"5525\": {\"frequency\": 7, \"value\": 5525}, \"5526\": {\"frequency\": 1, \"value\": 5526}, \"5527\": {\"frequency\": 3, \"value\": 5527}, \"5530\": {\"frequency\": 1, \"value\": 5530}, \"5534\": {\"frequency\": 2, \"value\": 5534}, \"5539\": {\"frequency\": 4, \"value\": 5539}, \"5544\": {\"frequency\": 3, \"value\": 5544}, \"5546\": {\"frequency\": 3, \"value\": 5546}, \"5550\": {\"frequency\": 2, \"value\": 5550}, \"5551\": {\"frequency\": 1, \"value\": 5551}, \"38322\": {\"frequency\": 1, \"value\": 38322}, \"5555\": {\"frequency\": 2, \"value\": 5555}, \"1276\": {\"frequency\": 3, \"value\": 1276}, \"5559\": {\"frequency\": 3, \"value\": 5559}, \"5560\": {\"frequency\": 1, \"value\": 5560}, \"5562\": {\"frequency\": 3, \"value\": 5562}, \"5564\": {\"frequency\": 2, \"value\": 5564}, \"5568\": {\"frequency\": 2, \"value\": 5568}, \"5569\": {\"frequency\": 1, \"value\": 5569}, \"5570\": {\"frequency\": 2, \"value\": 5570}, \"5572\": {\"frequency\": 2, \"value\": 5572}, \"5580\": {\"frequency\": 4, \"value\": 5580}, \"5584\": {\"frequency\": 1, \"value\": 5584}, \"5589\": {\"frequency\": 2, \"value\": 5589}, \"5590\": {\"frequency\": 1, \"value\": 5590}, \"5595\": {\"frequency\": 2, \"value\": 5595}, \"5600\": {\"frequency\": 27, \"value\": 5600}, \"5602\": {\"frequency\": 2, \"value\": 5602}, \"5608\": {\"frequency\": 3, \"value\": 5608}, \"5610\": {\"frequency\": 3, \"value\": 5610}, \"5612\": {\"frequency\": 6, \"value\": 5612}, \"5613\": {\"frequency\": 1, \"value\": 5613}, \"5616\": {\"frequency\": 2, \"value\": 5616}, \"5618\": {\"frequency\": 2, \"value\": 5618}, \"5621\": {\"frequency\": 1, \"value\": 5621}, \"5625\": {\"frequency\": 4, \"value\": 5625}, \"5627\": {\"frequency\": 1, \"value\": 5627}, \"5635\": {\"frequency\": 2, \"value\": 5635}, \"5639\": {\"frequency\": 3, \"value\": 5639}, \"5640\": {\"frequency\": 1, \"value\": 5640}, \"5643\": {\"frequency\": 2, \"value\": 5643}, \"38412\": {\"frequency\": 1, \"value\": 38412}, \"5647\": {\"frequency\": 2, \"value\": 5647}, \"5648\": {\"frequency\": 1, \"value\": 5648}, \"5650\": {\"frequency\": 23, \"value\": 5650}, \"5652\": {\"frequency\": 1, \"value\": 5652}, \"71191\": {\"frequency\": 1, \"value\": 71191}, \"5662\": {\"frequency\": 1, \"value\": 5662}, \"5663\": {\"frequency\": 2, \"value\": 5663}, \"5664\": {\"frequency\": 4, \"value\": 5664}, \"5665\": {\"frequency\": 3, \"value\": 5665}, \"5668\": {\"frequency\": 1, \"value\": 5668}, \"5669\": {\"frequency\": 3, \"value\": 5669}, \"5670\": {\"frequency\": 5, \"value\": 5670}, \"5671\": {\"frequency\": 1, \"value\": 5671}, \"5672\": {\"frequency\": 1, \"value\": 5672}, \"5674\": {\"frequency\": 2, \"value\": 5674}, \"5677\": {\"frequency\": 2, \"value\": 5677}, \"5680\": {\"frequency\": 5, \"value\": 5680}, \"5684\": {\"frequency\": 2, \"value\": 5684}, \"5686\": {\"frequency\": 1, \"value\": 5686}, \"5688\": {\"frequency\": 2, \"value\": 5688}, \"5692\": {\"frequency\": 2, \"value\": 5692}, \"5700\": {\"frequency\": 30, \"value\": 5700}, \"5701\": {\"frequency\": 6, \"value\": 5701}, \"5702\": {\"frequency\": 2, \"value\": 5702}, \"5703\": {\"frequency\": 2, \"value\": 5703}, \"5706\": {\"frequency\": 3, \"value\": 5706}, \"5710\": {\"frequency\": 2, \"value\": 5710}, \"5715\": {\"frequency\": 3, \"value\": 5715}, \"5719\": {\"frequency\": 1, \"value\": 5719}, \"5720\": {\"frequency\": 9, \"value\": 5720}, \"5722\": {\"frequency\": 3, \"value\": 5722}, \"5724\": {\"frequency\": 2, \"value\": 5724}, \"38500\": {\"frequency\": 1, \"value\": 38500}, \"5733\": {\"frequency\": 2, \"value\": 5733}, \"5734\": {\"frequency\": 1, \"value\": 5734}, \"5735\": {\"frequency\": 2, \"value\": 5735}, \"5737\": {\"frequency\": 3, \"value\": 5737}, \"38509\": {\"frequency\": 1, \"value\": 38509}, \"5742\": {\"frequency\": 2, \"value\": 5742}, \"5743\": {\"frequency\": 1, \"value\": 5743}, \"5746\": {\"frequency\": 1, \"value\": 5746}, \"5750\": {\"frequency\": 61, \"value\": 5750}, \"5751\": {\"frequency\": 2, \"value\": 5751}, \"5753\": {\"frequency\": 3, \"value\": 5753}, \"5754\": {\"frequency\": 3, \"value\": 5754}, \"5756\": {\"frequency\": 4, \"value\": 5756}, \"5757\": {\"frequency\": 3, \"value\": 5757}, \"5758\": {\"frequency\": 3, \"value\": 5758}, \"5759\": {\"frequency\": 2, \"value\": 5759}, \"5760\": {\"frequency\": 13, \"value\": 5760}, \"5761\": {\"frequency\": 1, \"value\": 5761}, \"5762\": {\"frequency\": 1, \"value\": 5762}, \"5763\": {\"frequency\": 2, \"value\": 5763}, \"5764\": {\"frequency\": 2, \"value\": 5764}, \"5765\": {\"frequency\": 2, \"value\": 5765}, \"5766\": {\"frequency\": 1, \"value\": 5766}, \"5767\": {\"frequency\": 1, \"value\": 5767}, \"5772\": {\"frequency\": 2, \"value\": 5772}, \"5773\": {\"frequency\": 2, \"value\": 5773}, \"5775\": {\"frequency\": 2, \"value\": 5775}, \"5790\": {\"frequency\": 2, \"value\": 5790}, \"5791\": {\"frequency\": 1, \"value\": 5791}, \"5795\": {\"frequency\": 2, \"value\": 5795}, \"5797\": {\"frequency\": 3, \"value\": 5797}, \"5799\": {\"frequency\": 2, \"value\": 5799}, \"5800\": {\"frequency\": 19, \"value\": 5800}, \"5802\": {\"frequency\": 2, \"value\": 5802}, \"5803\": {\"frequency\": 2, \"value\": 5803}, \"104108\": {\"frequency\": 2, \"value\": 104108}, \"5805\": {\"frequency\": 3, \"value\": 5805}, \"5806\": {\"frequency\": 1, \"value\": 5806}, \"5808\": {\"frequency\": 2, \"value\": 5808}, \"5809\": {\"frequency\": 2, \"value\": 5809}, \"5818\": {\"frequency\": 1, \"value\": 5818}, \"5820\": {\"frequency\": 4, \"value\": 5820}, \"5823\": {\"frequency\": 2, \"value\": 5823}, \"5824\": {\"frequency\": 3, \"value\": 5824}, \"5825\": {\"frequency\": 1, \"value\": 5825}, \"5827\": {\"frequency\": 2, \"value\": 5827}, \"5831\": {\"frequency\": 3, \"value\": 5831}, \"5832\": {\"frequency\": 1, \"value\": 5832}, \"5835\": {\"frequency\": 2, \"value\": 5835}, \"5840\": {\"frequency\": 3, \"value\": 5840}, \"5845\": {\"frequency\": 2, \"value\": 5845}, \"5846\": {\"frequency\": 1, \"value\": 5846}, \"235224\": {\"frequency\": 1, \"value\": 235224}, \"5850\": {\"frequency\": 12, \"value\": 5850}, \"5854\": {\"frequency\": 2, \"value\": 5854}, \"5857\": {\"frequency\": 3, \"value\": 5857}, \"5858\": {\"frequency\": 2, \"value\": 5858}, \"5863\": {\"frequency\": 1, \"value\": 5863}, \"5864\": {\"frequency\": 2, \"value\": 5864}, \"5868\": {\"frequency\": 3, \"value\": 5868}, \"38639\": {\"frequency\": 1, \"value\": 38639}, \"5875\": {\"frequency\": 2, \"value\": 5875}, \"5876\": {\"frequency\": 2, \"value\": 5876}, \"5880\": {\"frequency\": 9, \"value\": 5880}, \"5882\": {\"frequency\": 1, \"value\": 5882}, \"5885\": {\"frequency\": 2, \"value\": 5885}, \"5886\": {\"frequency\": 1, \"value\": 5886}, \"5889\": {\"frequency\": 2, \"value\": 5889}, \"115670\": {\"frequency\": 1, \"value\": 115670}, \"5898\": {\"frequency\": 1, \"value\": 5898}, \"5899\": {\"frequency\": 3, \"value\": 5899}, \"5900\": {\"frequency\": 8, \"value\": 5900}, \"5901\": {\"frequency\": 1, \"value\": 5901}, \"5906\": {\"frequency\": 1, \"value\": 5906}, \"5909\": {\"frequency\": 3, \"value\": 5909}, \"5910\": {\"frequency\": 1, \"value\": 5910}, \"5913\": {\"frequency\": 2, \"value\": 5913}, \"5920\": {\"frequency\": 2, \"value\": 5920}, \"5921\": {\"frequency\": 1, \"value\": 5921}, \"5922\": {\"frequency\": 3, \"value\": 5922}, \"5925\": {\"frequency\": 1, \"value\": 5925}, \"5926\": {\"frequency\": 1, \"value\": 5926}, \"5928\": {\"frequency\": 1, \"value\": 5928}, \"5929\": {\"frequency\": 4, \"value\": 5929}, \"5934\": {\"frequency\": 3, \"value\": 5934}, \"5936\": {\"frequency\": 2, \"value\": 5936}, \"5937\": {\"frequency\": 1, \"value\": 5937}, \"5940\": {\"frequency\": 7, \"value\": 5940}, \"5946\": {\"frequency\": 1, \"value\": 5946}, \"5948\": {\"frequency\": 1, \"value\": 5948}, \"5950\": {\"frequency\": 4, \"value\": 5950}, \"5954\": {\"frequency\": 3, \"value\": 5954}, \"5956\": {\"frequency\": 1, \"value\": 5956}, \"5960\": {\"frequency\": 3, \"value\": 5960}, \"5963\": {\"frequency\": 1, \"value\": 5963}, \"5965\": {\"frequency\": 2, \"value\": 5965}, \"5967\": {\"frequency\": 1, \"value\": 5967}, \"5969\": {\"frequency\": 4, \"value\": 5969}, \"5973\": {\"frequency\": 2, \"value\": 5973}, \"5974\": {\"frequency\": 4, \"value\": 5974}, \"5978\": {\"frequency\": 4, \"value\": 5978}, \"5979\": {\"frequency\": 2, \"value\": 5979}, \"5980\": {\"frequency\": 3, \"value\": 5980}, \"5985\": {\"frequency\": 1, \"value\": 5985}, \"5988\": {\"frequency\": 2, \"value\": 5988}, \"5992\": {\"frequency\": 3, \"value\": 5992}, \"5994\": {\"frequency\": 1, \"value\": 5994}, \"5995\": {\"frequency\": 3, \"value\": 5995}, \"5999\": {\"frequency\": 3, \"value\": 5999}, \"6000\": {\"frequency\": 290, \"value\": 6000}, \"6001\": {\"frequency\": 1, \"value\": 6001}, \"6002\": {\"frequency\": 4, \"value\": 6002}, \"6004\": {\"frequency\": 1, \"value\": 6004}, \"6005\": {\"frequency\": 4, \"value\": 6005}, \"6009\": {\"frequency\": 2, \"value\": 6009}, \"6010\": {\"frequency\": 4, \"value\": 6010}, \"38781\": {\"frequency\": 1, \"value\": 38781}, \"6014\": {\"frequency\": 3, \"value\": 6014}, \"6015\": {\"frequency\": 2, \"value\": 6015}, \"6017\": {\"frequency\": 3, \"value\": 6017}, \"6018\": {\"frequency\": 2, \"value\": 6018}, \"6019\": {\"frequency\": 1, \"value\": 6019}, \"6020\": {\"frequency\": 1, \"value\": 6020}, \"6021\": {\"frequency\": 2, \"value\": 6021}, \"6022\": {\"frequency\": 1, \"value\": 6022}, \"6023\": {\"frequency\": 2, \"value\": 6023}, \"38794\": {\"frequency\": 1, \"value\": 38794}, \"6027\": {\"frequency\": 1, \"value\": 6027}, \"6030\": {\"frequency\": 4, \"value\": 6030}, \"6031\": {\"frequency\": 5, \"value\": 6031}, \"6032\": {\"frequency\": 2, \"value\": 6032}, \"6034\": {\"frequency\": 4, \"value\": 6034}, \"6037\": {\"frequency\": 4, \"value\": 6037}, \"6041\": {\"frequency\": 2, \"value\": 6041}, \"6045\": {\"frequency\": 2, \"value\": 6045}, \"6047\": {\"frequency\": 1, \"value\": 6047}, \"6049\": {\"frequency\": 2, \"value\": 6049}, \"6050\": {\"frequency\": 14, \"value\": 6050}, \"6052\": {\"frequency\": 2, \"value\": 6052}, \"6053\": {\"frequency\": 1, \"value\": 6053}, \"6060\": {\"frequency\": 6, \"value\": 6060}, \"6061\": {\"frequency\": 1, \"value\": 6061}, \"38830\": {\"frequency\": 1, \"value\": 38830}, \"6064\": {\"frequency\": 1, \"value\": 6064}, \"6073\": {\"frequency\": 1, \"value\": 6073}, \"6074\": {\"frequency\": 1, \"value\": 6074}, \"6075\": {\"frequency\": 3, \"value\": 6075}, \"6078\": {\"frequency\": 1, \"value\": 6078}, \"6080\": {\"frequency\": 1, \"value\": 6080}, \"11936\": {\"frequency\": 1, \"value\": 11936}, \"6082\": {\"frequency\": 2, \"value\": 6082}, \"6083\": {\"frequency\": 2, \"value\": 6083}, \"6090\": {\"frequency\": 4, \"value\": 6090}, \"6092\": {\"frequency\": 3, \"value\": 6092}, \"6093\": {\"frequency\": 2, \"value\": 6093}, \"6095\": {\"frequency\": 3, \"value\": 6095}, \"6098\": {\"frequency\": 3, \"value\": 6098}, \"6099\": {\"frequency\": 5, \"value\": 6099}, \"6100\": {\"frequency\": 5, \"value\": 6100}, \"38869\": {\"frequency\": 1, \"value\": 38869}, \"6105\": {\"frequency\": 2, \"value\": 6105}, \"6108\": {\"frequency\": 1, \"value\": 6108}, \"6110\": {\"frequency\": 4, \"value\": 6110}, \"6111\": {\"frequency\": 1, \"value\": 6111}, \"6117\": {\"frequency\": 3, \"value\": 6117}, \"6120\": {\"frequency\": 39, \"value\": 6120}, \"6122\": {\"frequency\": 2, \"value\": 6122}, \"6124\": {\"frequency\": 2, \"value\": 6124}, \"6125\": {\"frequency\": 3, \"value\": 6125}, \"6126\": {\"frequency\": 1, \"value\": 6126}, \"6129\": {\"frequency\": 1, \"value\": 6129}, \"6130\": {\"frequency\": 2, \"value\": 6130}, \"6131\": {\"frequency\": 1, \"value\": 6131}, \"6132\": {\"frequency\": 3, \"value\": 6132}, \"6134\": {\"frequency\": 4, \"value\": 6134}, \"6136\": {\"frequency\": 1, \"value\": 6136}, \"6137\": {\"frequency\": 3, \"value\": 6137}, \"6139\": {\"frequency\": 2, \"value\": 6139}, \"241322\": {\"frequency\": 1, \"value\": 241322}, \"6143\": {\"frequency\": 2, \"value\": 6143}, \"6144\": {\"frequency\": 1, \"value\": 6144}, \"6145\": {\"frequency\": 3, \"value\": 6145}, \"6146\": {\"frequency\": 1, \"value\": 6146}, \"6149\": {\"frequency\": 1, \"value\": 6149}, \"6150\": {\"frequency\": 13, \"value\": 6150}, \"6156\": {\"frequency\": 1, \"value\": 6156}, \"6158\": {\"frequency\": 1, \"value\": 6158}, \"6160\": {\"frequency\": 4, \"value\": 6160}, \"6161\": {\"frequency\": 1, \"value\": 6161}, \"6162\": {\"frequency\": 1, \"value\": 6162}, \"6168\": {\"frequency\": 1, \"value\": 6168}, \"6170\": {\"frequency\": 1, \"value\": 6170}, \"6171\": {\"frequency\": 1, \"value\": 6171}, \"6172\": {\"frequency\": 1, \"value\": 6172}, \"6174\": {\"frequency\": 3, \"value\": 6174}, \"6175\": {\"frequency\": 4, \"value\": 6175}, \"6179\": {\"frequency\": 1, \"value\": 6179}, \"6180\": {\"frequency\": 19, \"value\": 6180}, \"6182\": {\"frequency\": 1, \"value\": 6182}, \"6183\": {\"frequency\": 2, \"value\": 6183}, \"6185\": {\"frequency\": 1, \"value\": 6185}, \"6186\": {\"frequency\": 2, \"value\": 6186}, \"6187\": {\"frequency\": 3, \"value\": 6187}, \"6191\": {\"frequency\": 1, \"value\": 6191}, \"6192\": {\"frequency\": 1, \"value\": 6192}, \"6194\": {\"frequency\": 2, \"value\": 6194}, \"6195\": {\"frequency\": 2, \"value\": 6195}, \"1033\": {\"frequency\": 2, \"value\": 1033}, \"6200\": {\"frequency\": 22, \"value\": 6200}, \"6202\": {\"frequency\": 3, \"value\": 6202}, \"6205\": {\"frequency\": 2, \"value\": 6205}, \"6206\": {\"frequency\": 1, \"value\": 6206}, \"6212\": {\"frequency\": 1, \"value\": 6212}, \"6213\": {\"frequency\": 1, \"value\": 6213}, \"6214\": {\"frequency\": 2, \"value\": 6214}, \"38985\": {\"frequency\": 1, \"value\": 38985}, \"6218\": {\"frequency\": 2, \"value\": 6218}, \"6219\": {\"frequency\": 1, \"value\": 6219}, \"6220\": {\"frequency\": 3, \"value\": 6220}, \"6222\": {\"frequency\": 3, \"value\": 6222}, \"6223\": {\"frequency\": 2, \"value\": 6223}, \"6224\": {\"frequency\": 3, \"value\": 6224}, \"6225\": {\"frequency\": 1, \"value\": 6225}, \"6228\": {\"frequency\": 1, \"value\": 6228}, \"39000\": {\"frequency\": 2, \"value\": 39000}, \"6236\": {\"frequency\": 2, \"value\": 6236}, \"104544\": {\"frequency\": 1, \"value\": 104544}, \"6250\": {\"frequency\": 50, \"value\": 6250}, \"6256\": {\"frequency\": 2, \"value\": 6256}, \"6258\": {\"frequency\": 2, \"value\": 6258}, \"6259\": {\"frequency\": 1, \"value\": 6259}, \"6260\": {\"frequency\": 3, \"value\": 6260}, \"6263\": {\"frequency\": 3, \"value\": 6263}, \"6265\": {\"frequency\": 2, \"value\": 6265}, \"6269\": {\"frequency\": 1, \"value\": 6269}, \"6270\": {\"frequency\": 2, \"value\": 6270}, \"6271\": {\"frequency\": 1, \"value\": 6271}, \"6272\": {\"frequency\": 2, \"value\": 6272}, \"6273\": {\"frequency\": 1, \"value\": 6273}, \"6275\": {\"frequency\": 1, \"value\": 6275}, \"6278\": {\"frequency\": 3, \"value\": 6278}, \"6280\": {\"frequency\": 2, \"value\": 6280}, \"6282\": {\"frequency\": 2, \"value\": 6282}, \"6288\": {\"frequency\": 2, \"value\": 6288}, \"6291\": {\"frequency\": 1, \"value\": 6291}, \"6294\": {\"frequency\": 2, \"value\": 6294}, \"6295\": {\"frequency\": 2, \"value\": 6295}, \"6298\": {\"frequency\": 2, \"value\": 6298}, \"6300\": {\"frequency\": 32, \"value\": 6300}, \"6301\": {\"frequency\": 1, \"value\": 6301}, \"6305\": {\"frequency\": 2, \"value\": 6305}, \"6308\": {\"frequency\": 1, \"value\": 6308}, \"6315\": {\"frequency\": 5, \"value\": 6315}, \"6317\": {\"frequency\": 1, \"value\": 6317}, \"6318\": {\"frequency\": 2, \"value\": 6318}, \"6320\": {\"frequency\": 5, \"value\": 6320}, \"6322\": {\"frequency\": 2, \"value\": 6322}, \"6324\": {\"frequency\": 3, \"value\": 6324}, \"6325\": {\"frequency\": 3, \"value\": 6325}, \"6327\": {\"frequency\": 3, \"value\": 6327}, \"6328\": {\"frequency\": 1, \"value\": 6328}, \"39098\": {\"frequency\": 1, \"value\": 39098}, \"6332\": {\"frequency\": 2, \"value\": 6332}, \"6334\": {\"frequency\": 2, \"value\": 6334}, \"6337\": {\"frequency\": 2, \"value\": 6337}, \"6343\": {\"frequency\": 1, \"value\": 6343}, \"6344\": {\"frequency\": 1, \"value\": 6344}, \"6345\": {\"frequency\": 3, \"value\": 6345}, \"6346\": {\"frequency\": 1, \"value\": 6346}, \"6349\": {\"frequency\": 1, \"value\": 6349}, \"6350\": {\"frequency\": 17, \"value\": 6350}, \"6353\": {\"frequency\": 1, \"value\": 6353}, \"6355\": {\"frequency\": 2, \"value\": 6355}, \"6356\": {\"frequency\": 1, \"value\": 6356}, \"6360\": {\"frequency\": 20, \"value\": 6360}, \"6364\": {\"frequency\": 1, \"value\": 6364}, \"6366\": {\"frequency\": 2, \"value\": 6366}, \"6368\": {\"frequency\": 1, \"value\": 6368}, \"6369\": {\"frequency\": 2, \"value\": 6369}, \"6370\": {\"frequency\": 2, \"value\": 6370}, \"6371\": {\"frequency\": 4, \"value\": 6371}, \"6375\": {\"frequency\": 7, \"value\": 6375}, \"6377\": {\"frequency\": 1, \"value\": 6377}, \"6380\": {\"frequency\": 31, \"value\": 6380}, \"39150\": {\"frequency\": 1, \"value\": 39150}, \"6383\": {\"frequency\": 2, \"value\": 6383}, \"6384\": {\"frequency\": 2, \"value\": 6384}, \"6386\": {\"frequency\": 2, \"value\": 6386}, \"6388\": {\"frequency\": 1, \"value\": 6388}, \"6389\": {\"frequency\": 2, \"value\": 6389}, \"6390\": {\"frequency\": 2, \"value\": 6390}, \"6394\": {\"frequency\": 2, \"value\": 6394}, \"6396\": {\"frequency\": 3, \"value\": 6396}, \"6397\": {\"frequency\": 1, \"value\": 6397}, \"6398\": {\"frequency\": 2, \"value\": 6398}, \"6400\": {\"frequency\": 23, \"value\": 6400}, \"6401\": {\"frequency\": 1, \"value\": 6401}, \"6402\": {\"frequency\": 1, \"value\": 6402}, \"6405\": {\"frequency\": 4, \"value\": 6405}, \"6408\": {\"frequency\": 1, \"value\": 6408}, \"6413\": {\"frequency\": 4, \"value\": 6413}, \"6414\": {\"frequency\": 1, \"value\": 6414}, \"6415\": {\"frequency\": 1, \"value\": 6415}, \"6417\": {\"frequency\": 2, \"value\": 6417}, \"6420\": {\"frequency\": 7, \"value\": 6420}, \"6422\": {\"frequency\": 1, \"value\": 6422}, \"6426\": {\"frequency\": 3, \"value\": 6426}, \"6428\": {\"frequency\": 1, \"value\": 6428}, \"6435\": {\"frequency\": 3, \"value\": 6435}, \"6439\": {\"frequency\": 2, \"value\": 6439}, \"6440\": {\"frequency\": 5, \"value\": 6440}, \"6445\": {\"frequency\": 1, \"value\": 6445}, \"6448\": {\"frequency\": 2, \"value\": 6448}, \"6450\": {\"frequency\": 10, \"value\": 6450}, \"6460\": {\"frequency\": 4, \"value\": 6460}, \"77536\": {\"frequency\": 2, \"value\": 77536}, \"6466\": {\"frequency\": 1, \"value\": 6466}, \"6473\": {\"frequency\": 1, \"value\": 6473}, \"6474\": {\"frequency\": 3, \"value\": 6474}, \"6479\": {\"frequency\": 2, \"value\": 6479}, \"6480\": {\"frequency\": 15, \"value\": 6480}, \"6485\": {\"frequency\": 1, \"value\": 6485}, \"6487\": {\"frequency\": 1, \"value\": 6487}, \"6488\": {\"frequency\": 1, \"value\": 6488}, \"6490\": {\"frequency\": 2, \"value\": 6490}, \"6491\": {\"frequency\": 1, \"value\": 6491}, \"6495\": {\"frequency\": 2, \"value\": 6495}, \"6497\": {\"frequency\": 2, \"value\": 6497}, \"6500\": {\"frequency\": 40, \"value\": 6500}, \"6504\": {\"frequency\": 3, \"value\": 6504}, \"6507\": {\"frequency\": 2, \"value\": 6507}, \"6508\": {\"frequency\": 2, \"value\": 6508}, \"6509\": {\"frequency\": 2, \"value\": 6509}, \"6510\": {\"frequency\": 2, \"value\": 6510}, \"6515\": {\"frequency\": 2, \"value\": 6515}, \"6516\": {\"frequency\": 3, \"value\": 6516}, \"6519\": {\"frequency\": 1, \"value\": 6519}, \"6527\": {\"frequency\": 3, \"value\": 6527}, \"6530\": {\"frequency\": 3, \"value\": 6530}, \"6533\": {\"frequency\": 2, \"value\": 6533}, \"6534\": {\"frequency\": 3, \"value\": 6534}, \"6536\": {\"frequency\": 3, \"value\": 6536}, \"6537\": {\"frequency\": 2, \"value\": 6537}, \"6540\": {\"frequency\": 4, \"value\": 6540}, \"6543\": {\"frequency\": 2, \"value\": 6543}, \"6549\": {\"frequency\": 2, \"value\": 6549}, \"6550\": {\"frequency\": 9, \"value\": 6550}, \"6551\": {\"frequency\": 4, \"value\": 6551}, \"6552\": {\"frequency\": 5, \"value\": 6552}, \"6553\": {\"frequency\": 2, \"value\": 6553}, \"6554\": {\"frequency\": 3, \"value\": 6554}, \"6556\": {\"frequency\": 2, \"value\": 6556}, \"6560\": {\"frequency\": 1, \"value\": 6560}, \"6561\": {\"frequency\": 2, \"value\": 6561}, \"6564\": {\"frequency\": 1, \"value\": 6564}, \"6565\": {\"frequency\": 3, \"value\": 6565}, \"6566\": {\"frequency\": 2, \"value\": 6566}, \"6567\": {\"frequency\": 2, \"value\": 6567}, \"6568\": {\"frequency\": 1, \"value\": 6568}, \"6574\": {\"frequency\": 1, \"value\": 6574}, \"6578\": {\"frequency\": 1, \"value\": 6578}, \"6587\": {\"frequency\": 2, \"value\": 6587}, \"6590\": {\"frequency\": 2, \"value\": 6590}, \"6591\": {\"frequency\": 1, \"value\": 6591}, \"6598\": {\"frequency\": 1, \"value\": 6598}, \"6600\": {\"frequency\": 52, \"value\": 6600}, \"6601\": {\"frequency\": 1, \"value\": 6601}, \"39370\": {\"frequency\": 1, \"value\": 39370}, \"6603\": {\"frequency\": 2, \"value\": 6603}, \"6604\": {\"frequency\": 4, \"value\": 6604}, \"6605\": {\"frequency\": 2, \"value\": 6605}, \"6607\": {\"frequency\": 2, \"value\": 6607}, \"6609\": {\"frequency\": 1, \"value\": 6609}, \"6610\": {\"frequency\": 1, \"value\": 6610}, \"6611\": {\"frequency\": 1, \"value\": 6611}, \"6612\": {\"frequency\": 3, \"value\": 6612}, \"6613\": {\"frequency\": 1, \"value\": 6613}, \"6615\": {\"frequency\": 2, \"value\": 6615}, \"6617\": {\"frequency\": 2, \"value\": 6617}, \"6620\": {\"frequency\": 3, \"value\": 6620}, \"6621\": {\"frequency\": 2, \"value\": 6621}, \"6625\": {\"frequency\": 6, \"value\": 6625}, \"6630\": {\"frequency\": 3, \"value\": 6630}, \"6634\": {\"frequency\": 4, \"value\": 6634}, \"6635\": {\"frequency\": 2, \"value\": 6635}, \"6642\": {\"frequency\": 2, \"value\": 6642}, \"39413\": {\"frequency\": 1, \"value\": 39413}, \"6650\": {\"frequency\": 10, \"value\": 6650}, \"6651\": {\"frequency\": 2, \"value\": 6651}, \"6653\": {\"frequency\": 3, \"value\": 6653}, \"6654\": {\"frequency\": 4, \"value\": 6654}, \"6655\": {\"frequency\": 3, \"value\": 6655}, \"6656\": {\"frequency\": 2, \"value\": 6656}, \"6657\": {\"frequency\": 1, \"value\": 6657}, \"6658\": {\"frequency\": 2, \"value\": 6658}, \"6659\": {\"frequency\": 1, \"value\": 6659}, \"6660\": {\"frequency\": 5, \"value\": 6660}, \"66646\": {\"frequency\": 1, \"value\": 66646}, \"6663\": {\"frequency\": 2, \"value\": 6663}, \"6664\": {\"frequency\": 3, \"value\": 6664}, \"6667\": {\"frequency\": 2, \"value\": 6667}, \"6675\": {\"frequency\": 4, \"value\": 6675}, \"6676\": {\"frequency\": 1, \"value\": 6676}, \"6677\": {\"frequency\": 2, \"value\": 6677}, \"39446\": {\"frequency\": 1, \"value\": 39446}, \"6680\": {\"frequency\": 1, \"value\": 6680}, \"39449\": {\"frequency\": 1, \"value\": 39449}, \"6682\": {\"frequency\": 1, \"value\": 6682}, \"6684\": {\"frequency\": 1, \"value\": 6684}, \"6685\": {\"frequency\": 6, \"value\": 6685}, \"6687\": {\"frequency\": 3, \"value\": 6687}, \"6688\": {\"frequency\": 2, \"value\": 6688}, \"6690\": {\"frequency\": 1, \"value\": 6690}, \"6695\": {\"frequency\": 3, \"value\": 6695}, \"6696\": {\"frequency\": 1, \"value\": 6696}, \"6697\": {\"frequency\": 1, \"value\": 6697}, \"6698\": {\"frequency\": 2, \"value\": 6698}, \"6699\": {\"frequency\": 2, \"value\": 6699}, \"6700\": {\"frequency\": 8, \"value\": 6700}, \"6702\": {\"frequency\": 1, \"value\": 6702}, \"6703\": {\"frequency\": 1, \"value\": 6703}, \"6708\": {\"frequency\": 1, \"value\": 6708}, \"39478\": {\"frequency\": 1, \"value\": 39478}, \"6715\": {\"frequency\": 1, \"value\": 6715}, \"6717\": {\"frequency\": 2, \"value\": 6717}, \"6718\": {\"frequency\": 1, \"value\": 6718}, \"6720\": {\"frequency\": 16, \"value\": 6720}, \"1120\": {\"frequency\": 3, \"value\": 1120}, \"6725\": {\"frequency\": 2, \"value\": 6725}, \"6726\": {\"frequency\": 1, \"value\": 6726}, \"6728\": {\"frequency\": 1, \"value\": 6728}, \"208652\": {\"frequency\": 1, \"value\": 208652}, \"6730\": {\"frequency\": 1, \"value\": 6730}, \"6731\": {\"frequency\": 6, \"value\": 6731}, \"6732\": {\"frequency\": 2, \"value\": 6732}, \"6733\": {\"frequency\": 2, \"value\": 6733}, \"6736\": {\"frequency\": 1, \"value\": 6736}, \"6738\": {\"frequency\": 4, \"value\": 6738}, \"6739\": {\"frequency\": 1, \"value\": 6739}, \"6742\": {\"frequency\": 1, \"value\": 6742}, \"6743\": {\"frequency\": 2, \"value\": 6743}, \"6744\": {\"frequency\": 2, \"value\": 6744}, \"6750\": {\"frequency\": 26, \"value\": 6750}, \"6752\": {\"frequency\": 3, \"value\": 6752}, \"6753\": {\"frequency\": 1, \"value\": 6753}, \"6754\": {\"frequency\": 1, \"value\": 6754}, \"6755\": {\"frequency\": 3, \"value\": 6755}, \"6758\": {\"frequency\": 1, \"value\": 6758}, \"6760\": {\"frequency\": 4, \"value\": 6760}, \"39529\": {\"frequency\": 1, \"value\": 39529}, \"6766\": {\"frequency\": 3, \"value\": 6766}, \"6768\": {\"frequency\": 2, \"value\": 6768}, \"6770\": {\"frequency\": 3, \"value\": 6770}, \"6771\": {\"frequency\": 5, \"value\": 6771}, \"72309\": {\"frequency\": 3, \"value\": 72309}, \"6774\": {\"frequency\": 2, \"value\": 6774}, \"6775\": {\"frequency\": 5, \"value\": 6775}, \"6776\": {\"frequency\": 3, \"value\": 6776}, \"6778\": {\"frequency\": 1, \"value\": 6778}, \"6780\": {\"frequency\": 3, \"value\": 6780}, \"6781\": {\"frequency\": 1, \"value\": 6781}, \"6783\": {\"frequency\": 3, \"value\": 6783}, \"6785\": {\"frequency\": 1, \"value\": 6785}, \"6788\": {\"frequency\": 3, \"value\": 6788}, \"6791\": {\"frequency\": 1, \"value\": 6791}, \"6796\": {\"frequency\": 1, \"value\": 6796}, \"6800\": {\"frequency\": 16, \"value\": 6800}, \"6802\": {\"frequency\": 1, \"value\": 6802}, \"6804\": {\"frequency\": 2, \"value\": 6804}, \"6807\": {\"frequency\": 3, \"value\": 6807}, \"6808\": {\"frequency\": 1, \"value\": 6808}, \"6809\": {\"frequency\": 1, \"value\": 6809}, \"6810\": {\"frequency\": 1, \"value\": 6810}, \"6811\": {\"frequency\": 2, \"value\": 6811}, \"6813\": {\"frequency\": 1, \"value\": 6813}, \"203425\": {\"frequency\": 2, \"value\": 203425}, \"6818\": {\"frequency\": 2, \"value\": 6818}, \"6819\": {\"frequency\": 1, \"value\": 6819}, \"6820\": {\"frequency\": 6, \"value\": 6820}, \"6824\": {\"frequency\": 1, \"value\": 6824}, \"6825\": {\"frequency\": 7, \"value\": 6825}, \"6826\": {\"frequency\": 2, \"value\": 6826}, \"6827\": {\"frequency\": 1, \"value\": 6827}, \"6828\": {\"frequency\": 2, \"value\": 6828}, \"6829\": {\"frequency\": 2, \"value\": 6829}, \"6832\": {\"frequency\": 1, \"value\": 6832}, \"6833\": {\"frequency\": 2, \"value\": 6833}, \"6835\": {\"frequency\": 1, \"value\": 6835}, \"6837\": {\"frequency\": 2, \"value\": 6837}, \"6838\": {\"frequency\": 2, \"value\": 6838}, \"6840\": {\"frequency\": 11, \"value\": 6840}, \"6842\": {\"frequency\": 1, \"value\": 6842}, \"6846\": {\"frequency\": 1, \"value\": 6846}, \"6847\": {\"frequency\": 2, \"value\": 6847}, \"6848\": {\"frequency\": 2, \"value\": 6848}, \"6850\": {\"frequency\": 2, \"value\": 6850}, \"6852\": {\"frequency\": 1, \"value\": 6852}, \"6856\": {\"frequency\": 2, \"value\": 6856}, \"6857\": {\"frequency\": 1, \"value\": 6857}, \"6858\": {\"frequency\": 1, \"value\": 6858}, \"6859\": {\"frequency\": 1, \"value\": 6859}, \"6860\": {\"frequency\": 2, \"value\": 6860}, \"6862\": {\"frequency\": 2, \"value\": 6862}, \"6865\": {\"frequency\": 2, \"value\": 6865}, \"39634\": {\"frequency\": 1, \"value\": 39634}, \"77603\": {\"frequency\": 1, \"value\": 77603}, \"6869\": {\"frequency\": 1, \"value\": 6869}, \"6870\": {\"frequency\": 1, \"value\": 6870}, \"6871\": {\"frequency\": 2, \"value\": 6871}, \"39640\": {\"frequency\": 1, \"value\": 39640}, \"6873\": {\"frequency\": 1, \"value\": 6873}, \"6874\": {\"frequency\": 4, \"value\": 6874}, \"6875\": {\"frequency\": 6, \"value\": 6875}, \"6879\": {\"frequency\": 1, \"value\": 6879}, \"6887\": {\"frequency\": 2, \"value\": 6887}, \"6890\": {\"frequency\": 2, \"value\": 6890}, \"6892\": {\"frequency\": 1, \"value\": 6892}, \"6893\": {\"frequency\": 2, \"value\": 6893}, \"6900\": {\"frequency\": 18, \"value\": 6900}, \"6901\": {\"frequency\": 1, \"value\": 6901}, \"6903\": {\"frequency\": 2, \"value\": 6903}, \"6906\": {\"frequency\": 4, \"value\": 6906}, \"6907\": {\"frequency\": 1, \"value\": 6907}, \"6908\": {\"frequency\": 3, \"value\": 6908}, \"6909\": {\"frequency\": 2, \"value\": 6909}, \"6911\": {\"frequency\": 2, \"value\": 6911}, \"6915\": {\"frequency\": 1, \"value\": 6915}, \"6916\": {\"frequency\": 1, \"value\": 6916}, \"6918\": {\"frequency\": 1, \"value\": 6918}, \"6920\": {\"frequency\": 1, \"value\": 6920}, \"6921\": {\"frequency\": 1, \"value\": 6921}, \"6922\": {\"frequency\": 1, \"value\": 6922}, \"6923\": {\"frequency\": 2, \"value\": 6923}, \"6924\": {\"frequency\": 2, \"value\": 6924}, \"6927\": {\"frequency\": 1, \"value\": 6927}, \"6930\": {\"frequency\": 9, \"value\": 6930}, \"6936\": {\"frequency\": 1, \"value\": 6936}, \"6938\": {\"frequency\": 1, \"value\": 6938}, \"6947\": {\"frequency\": 4, \"value\": 6947}, \"6950\": {\"frequency\": 2, \"value\": 6950}, \"6951\": {\"frequency\": 1, \"value\": 6951}, \"6952\": {\"frequency\": 1, \"value\": 6952}, \"6957\": {\"frequency\": 1, \"value\": 6957}, \"6960\": {\"frequency\": 5, \"value\": 6960}, \"6962\": {\"frequency\": 1, \"value\": 6962}, \"6964\": {\"frequency\": 1, \"value\": 6964}, \"6967\": {\"frequency\": 3, \"value\": 6967}, \"6969\": {\"frequency\": 5, \"value\": 6969}, \"6970\": {\"frequency\": 2, \"value\": 6970}, \"6975\": {\"frequency\": 4, \"value\": 6975}, \"6977\": {\"frequency\": 1, \"value\": 6977}, \"6978\": {\"frequency\": 4, \"value\": 6978}, \"6979\": {\"frequency\": 1, \"value\": 6979}, \"6980\": {\"frequency\": 2, \"value\": 6980}, \"6984\": {\"frequency\": 2, \"value\": 6984}, \"6985\": {\"frequency\": 3, \"value\": 6985}, \"6988\": {\"frequency\": 3, \"value\": 6988}, \"6990\": {\"frequency\": 1, \"value\": 6990}, \"6991\": {\"frequency\": 1, \"value\": 6991}, \"6992\": {\"frequency\": 2, \"value\": 6992}, \"6994\": {\"frequency\": 2, \"value\": 6994}, \"6998\": {\"frequency\": 1, \"value\": 6998}, \"7000\": {\"frequency\": 76, \"value\": 7000}, \"7003\": {\"frequency\": 1, \"value\": 7003}, \"7004\": {\"frequency\": 3, \"value\": 7004}, \"7006\": {\"frequency\": 1, \"value\": 7006}, \"7007\": {\"frequency\": 3, \"value\": 7007}, \"7012\": {\"frequency\": 1, \"value\": 7012}, \"138085\": {\"frequency\": 1, \"value\": 138085}, \"7014\": {\"frequency\": 3, \"value\": 7014}, \"7015\": {\"frequency\": 4, \"value\": 7015}, \"7017\": {\"frequency\": 1, \"value\": 7017}, \"7019\": {\"frequency\": 1, \"value\": 7019}, \"7020\": {\"frequency\": 12, \"value\": 7020}, \"7021\": {\"frequency\": 1, \"value\": 7021}, \"7023\": {\"frequency\": 1, \"value\": 7023}, \"7024\": {\"frequency\": 2, \"value\": 7024}, \"7027\": {\"frequency\": 1, \"value\": 7027}, \"7029\": {\"frequency\": 2, \"value\": 7029}, \"7030\": {\"frequency\": 5, \"value\": 7030}, \"7034\": {\"frequency\": 2, \"value\": 7034}, \"7035\": {\"frequency\": 4, \"value\": 7035}, \"7040\": {\"frequency\": 4, \"value\": 7040}, \"7042\": {\"frequency\": 1, \"value\": 7042}, \"7043\": {\"frequency\": 1, \"value\": 7043}, \"7047\": {\"frequency\": 2, \"value\": 7047}, \"7048\": {\"frequency\": 2, \"value\": 7048}, \"7050\": {\"frequency\": 3, \"value\": 7050}, \"7054\": {\"frequency\": 2, \"value\": 7054}, \"7056\": {\"frequency\": 4, \"value\": 7056}, \"7062\": {\"frequency\": 3, \"value\": 7062}, \"7064\": {\"frequency\": 2, \"value\": 7064}, \"7066\": {\"frequency\": 3, \"value\": 7066}, \"7068\": {\"frequency\": 2, \"value\": 7068}, \"7069\": {\"frequency\": 2, \"value\": 7069}, \"7070\": {\"frequency\": 2, \"value\": 7070}, \"7071\": {\"frequency\": 2, \"value\": 7071}, \"7074\": {\"frequency\": 1, \"value\": 7074}, \"7076\": {\"frequency\": 3, \"value\": 7076}, \"7077\": {\"frequency\": 1, \"value\": 7077}, \"39848\": {\"frequency\": 2, \"value\": 39848}, \"7081\": {\"frequency\": 4, \"value\": 7081}, \"7084\": {\"frequency\": 2, \"value\": 7084}, \"7085\": {\"frequency\": 3, \"value\": 7085}, \"7089\": {\"frequency\": 2, \"value\": 7089}, \"7091\": {\"frequency\": 2, \"value\": 7091}, \"7092\": {\"frequency\": 1, \"value\": 7092}, \"7093\": {\"frequency\": 2, \"value\": 7093}, \"7095\": {\"frequency\": 3, \"value\": 7095}, \"7100\": {\"frequency\": 6, \"value\": 7100}, \"7102\": {\"frequency\": 6, \"value\": 7102}, \"7104\": {\"frequency\": 3, \"value\": 7104}, \"7107\": {\"frequency\": 2, \"value\": 7107}, \"7108\": {\"frequency\": 2, \"value\": 7108}, \"7110\": {\"frequency\": 7, \"value\": 7110}, \"7111\": {\"frequency\": 3, \"value\": 7111}, \"7112\": {\"frequency\": 3, \"value\": 7112}, \"7115\": {\"frequency\": 1, \"value\": 7115}, \"7117\": {\"frequency\": 1, \"value\": 7117}, \"7119\": {\"frequency\": 2, \"value\": 7119}, \"7120\": {\"frequency\": 5, \"value\": 7120}, \"7123\": {\"frequency\": 2, \"value\": 7123}, \"7125\": {\"frequency\": 9, \"value\": 7125}, \"7126\": {\"frequency\": 1, \"value\": 7126}, \"7128\": {\"frequency\": 6, \"value\": 7128}, \"7129\": {\"frequency\": 2, \"value\": 7129}, \"7130\": {\"frequency\": 2, \"value\": 7130}, \"7131\": {\"frequency\": 2, \"value\": 7131}, \"7133\": {\"frequency\": 1, \"value\": 7133}, \"7134\": {\"frequency\": 3, \"value\": 7134}, \"7135\": {\"frequency\": 1, \"value\": 7135}, \"7136\": {\"frequency\": 2, \"value\": 7136}, \"7137\": {\"frequency\": 2, \"value\": 7137}, \"7140\": {\"frequency\": 19, \"value\": 7140}, \"7142\": {\"frequency\": 1, \"value\": 7142}, \"7143\": {\"frequency\": 1, \"value\": 7143}, \"7144\": {\"frequency\": 1, \"value\": 7144}, \"7145\": {\"frequency\": 2, \"value\": 7145}, \"7147\": {\"frequency\": 1, \"value\": 7147}, \"7148\": {\"frequency\": 1, \"value\": 7148}, \"7149\": {\"frequency\": 2, \"value\": 7149}, \"7150\": {\"frequency\": 9, \"value\": 7150}, \"7151\": {\"frequency\": 1, \"value\": 7151}, \"7153\": {\"frequency\": 3, \"value\": 7153}, \"7155\": {\"frequency\": 3, \"value\": 7155}, \"7156\": {\"frequency\": 2, \"value\": 7156}, \"7157\": {\"frequency\": 2, \"value\": 7157}, \"39927\": {\"frequency\": 1, \"value\": 39927}, \"7161\": {\"frequency\": 2, \"value\": 7161}, \"7163\": {\"frequency\": 3, \"value\": 7163}, \"7168\": {\"frequency\": 1, \"value\": 7168}, \"7169\": {\"frequency\": 1, \"value\": 7169}, \"7171\": {\"frequency\": 3, \"value\": 7171}, \"7172\": {\"frequency\": 2, \"value\": 7172}, \"7173\": {\"frequency\": 3, \"value\": 7173}, \"7175\": {\"frequency\": 2, \"value\": 7175}, \"7178\": {\"frequency\": 2, \"value\": 7178}, \"7180\": {\"frequency\": 1, \"value\": 7180}, \"7184\": {\"frequency\": 4, \"value\": 7184}, \"7187\": {\"frequency\": 7, \"value\": 7187}, \"7190\": {\"frequency\": 1, \"value\": 7190}, \"7191\": {\"frequency\": 3, \"value\": 7191}, \"7193\": {\"frequency\": 1, \"value\": 7193}, \"7194\": {\"frequency\": 7, \"value\": 7194}, \"39964\": {\"frequency\": 1, \"value\": 39964}, \"7198\": {\"frequency\": 4, \"value\": 7198}, \"7199\": {\"frequency\": 7, \"value\": 7199}, \"7200\": {\"frequency\": 220, \"value\": 7200}, \"269345\": {\"frequency\": 1, \"value\": 269345}, \"7202\": {\"frequency\": 6, \"value\": 7202}, \"7203\": {\"frequency\": 7, \"value\": 7203}, \"7204\": {\"frequency\": 4, \"value\": 7204}, \"7205\": {\"frequency\": 6, \"value\": 7205}, \"7207\": {\"frequency\": 5, \"value\": 7207}, \"7208\": {\"frequency\": 8, \"value\": 7208}, \"7209\": {\"frequency\": 4, \"value\": 7209}, \"7210\": {\"frequency\": 38, \"value\": 7210}, \"7213\": {\"frequency\": 2, \"value\": 7213}, \"7214\": {\"frequency\": 3, \"value\": 7214}, \"7215\": {\"frequency\": 5, \"value\": 7215}, \"7216\": {\"frequency\": 5, \"value\": 7216}, \"7220\": {\"frequency\": 5, \"value\": 7220}, \"7221\": {\"frequency\": 4, \"value\": 7221}, \"7222\": {\"frequency\": 2, \"value\": 7222}, \"7223\": {\"frequency\": 2, \"value\": 7223}, \"7224\": {\"frequency\": 2, \"value\": 7224}, \"7225\": {\"frequency\": 7, \"value\": 7225}, \"7226\": {\"frequency\": 3, \"value\": 7226}, \"7227\": {\"frequency\": 3, \"value\": 7227}, \"7228\": {\"frequency\": 2, \"value\": 7228}, \"7229\": {\"frequency\": 3, \"value\": 7229}, \"7230\": {\"frequency\": 5, \"value\": 7230}, \"7231\": {\"frequency\": 3, \"value\": 7231}, \"7232\": {\"frequency\": 7, \"value\": 7232}, \"40003\": {\"frequency\": 1, \"value\": 40003}, \"7236\": {\"frequency\": 5, \"value\": 7236}, \"7238\": {\"frequency\": 2, \"value\": 7238}, \"7242\": {\"frequency\": 7, \"value\": 7242}, \"7245\": {\"frequency\": 17, \"value\": 7245}, \"7246\": {\"frequency\": 2, \"value\": 7246}, \"7247\": {\"frequency\": 2, \"value\": 7247}, \"7250\": {\"frequency\": 14, \"value\": 7250}, \"7251\": {\"frequency\": 4, \"value\": 7251}, \"203860\": {\"frequency\": 1, \"value\": 203860}, \"7253\": {\"frequency\": 1, \"value\": 7253}, \"7254\": {\"frequency\": 3, \"value\": 7254}, \"7255\": {\"frequency\": 1, \"value\": 7255}, \"7258\": {\"frequency\": 3, \"value\": 7258}, \"7259\": {\"frequency\": 1, \"value\": 7259}, \"7260\": {\"frequency\": 17, \"value\": 7260}, \"7261\": {\"frequency\": 2, \"value\": 7261}, \"7262\": {\"frequency\": 1, \"value\": 7262}, \"7264\": {\"frequency\": 4, \"value\": 7264}, \"7265\": {\"frequency\": 2, \"value\": 7265}, \"7266\": {\"frequency\": 3, \"value\": 7266}, \"7267\": {\"frequency\": 2, \"value\": 7267}, \"7268\": {\"frequency\": 3, \"value\": 7268}, \"7270\": {\"frequency\": 2, \"value\": 7270}, \"7272\": {\"frequency\": 2, \"value\": 7272}, \"7274\": {\"frequency\": 2, \"value\": 7274}, \"7275\": {\"frequency\": 6, \"value\": 7275}, \"7276\": {\"frequency\": 5, \"value\": 7276}, \"7277\": {\"frequency\": 3, \"value\": 7277}, \"7278\": {\"frequency\": 1, \"value\": 7278}, \"7279\": {\"frequency\": 2, \"value\": 7279}, \"7280\": {\"frequency\": 17, \"value\": 7280}, \"7281\": {\"frequency\": 1, \"value\": 7281}, \"7282\": {\"frequency\": 3, \"value\": 7282}, \"7283\": {\"frequency\": 1, \"value\": 7283}, \"7286\": {\"frequency\": 1, \"value\": 7286}, \"7287\": {\"frequency\": 2, \"value\": 7287}, \"7290\": {\"frequency\": 5, \"value\": 7290}, \"7291\": {\"frequency\": 2, \"value\": 7291}, \"7292\": {\"frequency\": 5, \"value\": 7292}, \"7294\": {\"frequency\": 3, \"value\": 7294}, \"7296\": {\"frequency\": 2, \"value\": 7296}, \"7297\": {\"frequency\": 2, \"value\": 7297}, \"7298\": {\"frequency\": 1, \"value\": 7298}, \"7299\": {\"frequency\": 1, \"value\": 7299}, \"7300\": {\"frequency\": 17, \"value\": 7300}, \"6678\": {\"frequency\": 3, \"value\": 6678}, \"7302\": {\"frequency\": 1, \"value\": 7302}, \"7304\": {\"frequency\": 2, \"value\": 7304}, \"7306\": {\"frequency\": 2, \"value\": 7306}, \"7307\": {\"frequency\": 2, \"value\": 7307}, \"7308\": {\"frequency\": 2, \"value\": 7308}, \"7309\": {\"frequency\": 2, \"value\": 7309}, \"7311\": {\"frequency\": 2, \"value\": 7311}, \"7312\": {\"frequency\": 4, \"value\": 7312}, \"7313\": {\"frequency\": 5, \"value\": 7313}, \"7314\": {\"frequency\": 9, \"value\": 7314}, \"7315\": {\"frequency\": 2, \"value\": 7315}, \"7316\": {\"frequency\": 3, \"value\": 7316}, \"12142\": {\"frequency\": 2, \"value\": 12142}, \"7318\": {\"frequency\": 2, \"value\": 7318}, \"7320\": {\"frequency\": 11, \"value\": 7320}, \"7322\": {\"frequency\": 1, \"value\": 7322}, \"7324\": {\"frequency\": 3, \"value\": 7324}, \"7326\": {\"frequency\": 2, \"value\": 7326}, \"7328\": {\"frequency\": 1, \"value\": 7328}, \"40097\": {\"frequency\": 1, \"value\": 40097}, \"7330\": {\"frequency\": 2, \"value\": 7330}, \"7331\": {\"frequency\": 1, \"value\": 7331}, \"7334\": {\"frequency\": 4, \"value\": 7334}, \"7335\": {\"frequency\": 1, \"value\": 7335}, \"7336\": {\"frequency\": 3, \"value\": 7336}, \"7338\": {\"frequency\": 2, \"value\": 7338}, \"7341\": {\"frequency\": 2, \"value\": 7341}, \"7344\": {\"frequency\": 7, \"value\": 7344}, \"7345\": {\"frequency\": 5, \"value\": 7345}, \"7349\": {\"frequency\": 2, \"value\": 7349}, \"171190\": {\"frequency\": 1, \"value\": 171190}, \"7351\": {\"frequency\": 1, \"value\": 7351}, \"7352\": {\"frequency\": 2, \"value\": 7352}, \"7355\": {\"frequency\": 2, \"value\": 7355}, \"7360\": {\"frequency\": 2, \"value\": 7360}, \"7361\": {\"frequency\": 2, \"value\": 7361}, \"7364\": {\"frequency\": 2, \"value\": 7364}, \"7366\": {\"frequency\": 1, \"value\": 7366}, \"7370\": {\"frequency\": 5, \"value\": 7370}, \"40139\": {\"frequency\": 1, \"value\": 40139}, \"7372\": {\"frequency\": 3, \"value\": 7372}, \"7373\": {\"frequency\": 2, \"value\": 7373}, \"7374\": {\"frequency\": 1, \"value\": 7374}, \"7375\": {\"frequency\": 3, \"value\": 7375}, \"7376\": {\"frequency\": 1, \"value\": 7376}, \"7380\": {\"frequency\": 5, \"value\": 7380}, \"7381\": {\"frequency\": 1, \"value\": 7381}, \"7384\": {\"frequency\": 5, \"value\": 7384}, \"7385\": {\"frequency\": 1, \"value\": 7385}, \"7386\": {\"frequency\": 2, \"value\": 7386}, \"7388\": {\"frequency\": 2, \"value\": 7388}, \"7389\": {\"frequency\": 3, \"value\": 7389}, \"7392\": {\"frequency\": 4, \"value\": 7392}, \"7394\": {\"frequency\": 1, \"value\": 7394}, \"40164\": {\"frequency\": 1, \"value\": 40164}, \"7397\": {\"frequency\": 1, \"value\": 7397}, \"7399\": {\"frequency\": 3, \"value\": 7399}, \"7400\": {\"frequency\": 16, \"value\": 7400}, \"7403\": {\"frequency\": 3, \"value\": 7403}, \"7404\": {\"frequency\": 1, \"value\": 7404}, \"7405\": {\"frequency\": 3, \"value\": 7405}, \"7410\": {\"frequency\": 8, \"value\": 7410}, \"7412\": {\"frequency\": 6, \"value\": 7412}, \"7414\": {\"frequency\": 3, \"value\": 7414}, \"7415\": {\"frequency\": 4, \"value\": 7415}, \"7416\": {\"frequency\": 7, \"value\": 7416}, \"7417\": {\"frequency\": 4, \"value\": 7417}, \"7419\": {\"frequency\": 4, \"value\": 7419}, \"7420\": {\"frequency\": 9, \"value\": 7420}, \"7421\": {\"frequency\": 1, \"value\": 7421}, \"7423\": {\"frequency\": 2, \"value\": 7423}, \"7424\": {\"frequency\": 2, \"value\": 7424}, \"7425\": {\"frequency\": 3, \"value\": 7425}, \"7426\": {\"frequency\": 1, \"value\": 7426}, \"7427\": {\"frequency\": 1, \"value\": 7427}, \"7434\": {\"frequency\": 5, \"value\": 7434}, \"7435\": {\"frequency\": 2, \"value\": 7435}, \"7437\": {\"frequency\": 1, \"value\": 7437}, \"7439\": {\"frequency\": 4, \"value\": 7439}, \"7440\": {\"frequency\": 14, \"value\": 7440}, \"7442\": {\"frequency\": 1, \"value\": 7442}, \"7447\": {\"frequency\": 3, \"value\": 7447}, \"7448\": {\"frequency\": 1, \"value\": 7448}, \"7450\": {\"frequency\": 3, \"value\": 7450}, \"7452\": {\"frequency\": 2, \"value\": 7452}, \"7453\": {\"frequency\": 1, \"value\": 7453}, \"7455\": {\"frequency\": 5, \"value\": 7455}, \"7456\": {\"frequency\": 1, \"value\": 7456}, \"7458\": {\"frequency\": 1, \"value\": 7458}, \"7464\": {\"frequency\": 1, \"value\": 7464}, \"7465\": {\"frequency\": 3, \"value\": 7465}, \"7467\": {\"frequency\": 3, \"value\": 7467}, \"7469\": {\"frequency\": 1, \"value\": 7469}, \"7470\": {\"frequency\": 3, \"value\": 7470}, \"7473\": {\"frequency\": 3, \"value\": 7473}, \"7475\": {\"frequency\": 10, \"value\": 7475}, \"7476\": {\"frequency\": 2, \"value\": 7476}, \"7480\": {\"frequency\": 11, \"value\": 7480}, \"7481\": {\"frequency\": 1, \"value\": 7481}, \"7482\": {\"frequency\": 5, \"value\": 7482}, \"7484\": {\"frequency\": 2, \"value\": 7484}, \"7486\": {\"frequency\": 2, \"value\": 7486}, \"7488\": {\"frequency\": 4, \"value\": 7488}, \"7489\": {\"frequency\": 2, \"value\": 7489}, \"7490\": {\"frequency\": 7, \"value\": 7490}, \"7491\": {\"frequency\": 3, \"value\": 7491}, \"6710\": {\"frequency\": 6, \"value\": 6710}, \"7494\": {\"frequency\": 2, \"value\": 7494}, \"7495\": {\"frequency\": 2, \"value\": 7495}, \"7500\": {\"frequency\": 119, \"value\": 7500}, \"7503\": {\"frequency\": 2, \"value\": 7503}, \"7504\": {\"frequency\": 1, \"value\": 7504}, \"7505\": {\"frequency\": 2, \"value\": 7505}, \"7506\": {\"frequency\": 2, \"value\": 7506}, \"7508\": {\"frequency\": 4, \"value\": 7508}, \"7510\": {\"frequency\": 3, \"value\": 7510}, \"7513\": {\"frequency\": 1, \"value\": 7513}, \"40284\": {\"frequency\": 1, \"value\": 40284}, \"7517\": {\"frequency\": 2, \"value\": 7517}, \"7519\": {\"frequency\": 3, \"value\": 7519}, \"7520\": {\"frequency\": 5, \"value\": 7520}, \"7521\": {\"frequency\": 2, \"value\": 7521}, \"7524\": {\"frequency\": 2, \"value\": 7524}, \"7526\": {\"frequency\": 4, \"value\": 7526}, \"7528\": {\"frequency\": 1, \"value\": 7528}, \"7532\": {\"frequency\": 2, \"value\": 7532}, \"7535\": {\"frequency\": 2, \"value\": 7535}, \"7538\": {\"frequency\": 3, \"value\": 7538}, \"7540\": {\"frequency\": 6, \"value\": 7540}, \"7541\": {\"frequency\": 1, \"value\": 7541}, \"7543\": {\"frequency\": 2, \"value\": 7543}, \"7545\": {\"frequency\": 1, \"value\": 7545}, \"7546\": {\"frequency\": 1, \"value\": 7546}, \"7549\": {\"frequency\": 2, \"value\": 7549}, \"7550\": {\"frequency\": 2, \"value\": 7550}, \"40319\": {\"frequency\": 1, \"value\": 40319}, \"7552\": {\"frequency\": 5, \"value\": 7552}, \"7553\": {\"frequency\": 2, \"value\": 7553}, \"7555\": {\"frequency\": 3, \"value\": 7555}, \"7559\": {\"frequency\": 1, \"value\": 7559}, \"7560\": {\"frequency\": 48, \"value\": 7560}, \"7561\": {\"frequency\": 2, \"value\": 7561}, \"7562\": {\"frequency\": 1, \"value\": 7562}, \"7565\": {\"frequency\": 2, \"value\": 7565}, \"7566\": {\"frequency\": 4, \"value\": 7566}, \"7567\": {\"frequency\": 2, \"value\": 7567}, \"7569\": {\"frequency\": 2, \"value\": 7569}, \"7570\": {\"frequency\": 2, \"value\": 7570}, \"7571\": {\"frequency\": 1, \"value\": 7571}, \"7572\": {\"frequency\": 1, \"value\": 7572}, \"40341\": {\"frequency\": 1, \"value\": 40341}, \"7575\": {\"frequency\": 9, \"value\": 7575}, \"7579\": {\"frequency\": 1, \"value\": 7579}, \"7580\": {\"frequency\": 1, \"value\": 7580}, \"7582\": {\"frequency\": 2, \"value\": 7582}, \"7583\": {\"frequency\": 1, \"value\": 7583}, \"7584\": {\"frequency\": 2, \"value\": 7584}, \"7585\": {\"frequency\": 2, \"value\": 7585}, \"7587\": {\"frequency\": 2, \"value\": 7587}, \"7588\": {\"frequency\": 1, \"value\": 7588}, \"7589\": {\"frequency\": 3, \"value\": 7589}, \"7590\": {\"frequency\": 8, \"value\": 7590}, \"7592\": {\"frequency\": 1, \"value\": 7592}, \"7598\": {\"frequency\": 3, \"value\": 7598}, \"7599\": {\"frequency\": 4, \"value\": 7599}, \"7600\": {\"frequency\": 12, \"value\": 7600}, \"7601\": {\"frequency\": 3, \"value\": 7601}, \"7603\": {\"frequency\": 1, \"value\": 7603}, \"7604\": {\"frequency\": 1, \"value\": 7604}, \"7605\": {\"frequency\": 3, \"value\": 7605}, \"7606\": {\"frequency\": 2, \"value\": 7606}, \"7607\": {\"frequency\": 2, \"value\": 7607}, \"7609\": {\"frequency\": 3, \"value\": 7609}, \"7610\": {\"frequency\": 2, \"value\": 7610}, \"7614\": {\"frequency\": 2, \"value\": 7614}, \"7615\": {\"frequency\": 4, \"value\": 7615}, \"7617\": {\"frequency\": 3, \"value\": 7617}, \"40386\": {\"frequency\": 1, \"value\": 40386}, \"7620\": {\"frequency\": 30, \"value\": 7620}, \"7622\": {\"frequency\": 1, \"value\": 7622}, \"7623\": {\"frequency\": 2, \"value\": 7623}, \"7625\": {\"frequency\": 3, \"value\": 7625}, \"7630\": {\"frequency\": 4, \"value\": 7630}, \"7631\": {\"frequency\": 1, \"value\": 7631}, \"7632\": {\"frequency\": 5, \"value\": 7632}, \"7633\": {\"frequency\": 2, \"value\": 7633}, \"7634\": {\"frequency\": 3, \"value\": 7634}, \"7636\": {\"frequency\": 3, \"value\": 7636}, \"7639\": {\"frequency\": 2, \"value\": 7639}, \"7640\": {\"frequency\": 1, \"value\": 7640}, \"7641\": {\"frequency\": 3, \"value\": 7641}, \"7642\": {\"frequency\": 4, \"value\": 7642}, \"7643\": {\"frequency\": 1, \"value\": 7643}, \"7644\": {\"frequency\": 3, \"value\": 7644}, \"7645\": {\"frequency\": 2, \"value\": 7645}, \"7647\": {\"frequency\": 2, \"value\": 7647}, \"7649\": {\"frequency\": 2, \"value\": 7649}, \"7650\": {\"frequency\": 23, \"value\": 7650}, \"40419\": {\"frequency\": 1, \"value\": 40419}, \"7652\": {\"frequency\": 1, \"value\": 7652}, \"7657\": {\"frequency\": 1, \"value\": 7657}, \"7658\": {\"frequency\": 2, \"value\": 7658}, \"7660\": {\"frequency\": 3, \"value\": 7660}, \"7665\": {\"frequency\": 6, \"value\": 7665}, \"7666\": {\"frequency\": 1, \"value\": 7666}, \"7667\": {\"frequency\": 4, \"value\": 7667}, \"7668\": {\"frequency\": 2, \"value\": 7668}, \"7669\": {\"frequency\": 1, \"value\": 7669}, \"7670\": {\"frequency\": 3, \"value\": 7670}, \"7672\": {\"frequency\": 1, \"value\": 7672}, \"7673\": {\"frequency\": 2, \"value\": 7673}, \"7675\": {\"frequency\": 1, \"value\": 7675}, \"7680\": {\"frequency\": 27, \"value\": 7680}, \"17664\": {\"frequency\": 1, \"value\": 17664}, \"7683\": {\"frequency\": 3, \"value\": 7683}, \"7684\": {\"frequency\": 2, \"value\": 7684}, \"7685\": {\"frequency\": 1, \"value\": 7685}, \"7686\": {\"frequency\": 5, \"value\": 7686}, \"204296\": {\"frequency\": 1, \"value\": 204296}, \"7690\": {\"frequency\": 3, \"value\": 7690}, \"7692\": {\"frequency\": 1, \"value\": 7692}, \"7693\": {\"frequency\": 3, \"value\": 7693}, \"7694\": {\"frequency\": 4, \"value\": 7694}, \"7695\": {\"frequency\": 2, \"value\": 7695}, \"7697\": {\"frequency\": 4, \"value\": 7697}, \"7698\": {\"frequency\": 2, \"value\": 7698}, \"7700\": {\"frequency\": 66, \"value\": 7700}, \"7701\": {\"frequency\": 3, \"value\": 7701}, \"7702\": {\"frequency\": 2, \"value\": 7702}, \"7707\": {\"frequency\": 1, \"value\": 7707}, \"7708\": {\"frequency\": 3, \"value\": 7708}, \"7709\": {\"frequency\": 1, \"value\": 7709}, \"7710\": {\"frequency\": 3, \"value\": 7710}, \"7712\": {\"frequency\": 2, \"value\": 7712}, \"7713\": {\"frequency\": 2, \"value\": 7713}, \"7716\": {\"frequency\": 2, \"value\": 7716}, \"7719\": {\"frequency\": 2, \"value\": 7719}, \"7720\": {\"frequency\": 2, \"value\": 7720}, \"7724\": {\"frequency\": 2, \"value\": 7724}, \"7725\": {\"frequency\": 9, \"value\": 7725}, \"7727\": {\"frequency\": 2, \"value\": 7727}, \"7728\": {\"frequency\": 2, \"value\": 7728}, \"7730\": {\"frequency\": 3, \"value\": 7730}, \"7731\": {\"frequency\": 1, \"value\": 7731}, \"7733\": {\"frequency\": 3, \"value\": 7733}, \"7735\": {\"frequency\": 6, \"value\": 7735}, \"7737\": {\"frequency\": 2, \"value\": 7737}, \"7738\": {\"frequency\": 3, \"value\": 7738}, \"7739\": {\"frequency\": 2, \"value\": 7739}, \"7740\": {\"frequency\": 16, \"value\": 7740}, \"7741\": {\"frequency\": 2, \"value\": 7741}, \"7742\": {\"frequency\": 5, \"value\": 7742}, \"7744\": {\"frequency\": 1, \"value\": 7744}, \"7745\": {\"frequency\": 1, \"value\": 7745}, \"7746\": {\"frequency\": 2, \"value\": 7746}, \"7749\": {\"frequency\": 3, \"value\": 7749}, \"7750\": {\"frequency\": 5, \"value\": 7750}, \"7752\": {\"frequency\": 2, \"value\": 7752}, \"7753\": {\"frequency\": 2, \"value\": 7753}, \"7754\": {\"frequency\": 3, \"value\": 7754}, \"7757\": {\"frequency\": 4, \"value\": 7757}, \"7759\": {\"frequency\": 2, \"value\": 7759}, \"7760\": {\"frequency\": 2, \"value\": 7760}, \"7765\": {\"frequency\": 1, \"value\": 7765}, \"7766\": {\"frequency\": 1, \"value\": 7766}, \"7767\": {\"frequency\": 1, \"value\": 7767}, \"7768\": {\"frequency\": 1, \"value\": 7768}, \"7769\": {\"frequency\": 1, \"value\": 7769}, \"7770\": {\"frequency\": 9, \"value\": 7770}, \"7771\": {\"frequency\": 1, \"value\": 7771}, \"7772\": {\"frequency\": 2, \"value\": 7772}, \"7775\": {\"frequency\": 3, \"value\": 7775}, \"7778\": {\"frequency\": 3, \"value\": 7778}, \"7780\": {\"frequency\": 1, \"value\": 7780}, \"7781\": {\"frequency\": 2, \"value\": 7781}, \"171626\": {\"frequency\": 1, \"value\": 171626}, \"7787\": {\"frequency\": 1, \"value\": 7787}, \"7789\": {\"frequency\": 1, \"value\": 7789}, \"7790\": {\"frequency\": 2, \"value\": 7790}, \"7792\": {\"frequency\": 1, \"value\": 7792}, \"7793\": {\"frequency\": 1, \"value\": 7793}, \"7794\": {\"frequency\": 2, \"value\": 7794}, \"7797\": {\"frequency\": 2, \"value\": 7797}, \"7800\": {\"frequency\": 69, \"value\": 7800}, \"7804\": {\"frequency\": 1, \"value\": 7804}, \"7805\": {\"frequency\": 1, \"value\": 7805}, \"7806\": {\"frequency\": 2, \"value\": 7806}, \"40575\": {\"frequency\": 1, \"value\": 40575}, \"7808\": {\"frequency\": 2, \"value\": 7808}, \"7809\": {\"frequency\": 2, \"value\": 7809}, \"7810\": {\"frequency\": 5, \"value\": 7810}, \"7811\": {\"frequency\": 2, \"value\": 7811}, \"7816\": {\"frequency\": 1, \"value\": 7816}, \"7819\": {\"frequency\": 3, \"value\": 7819}, \"7820\": {\"frequency\": 3, \"value\": 7820}, \"7821\": {\"frequency\": 3, \"value\": 7821}, \"7826\": {\"frequency\": 3, \"value\": 7826}, \"7827\": {\"frequency\": 1, \"value\": 7827}, \"7828\": {\"frequency\": 3, \"value\": 7828}, \"7830\": {\"frequency\": 5, \"value\": 7830}, \"7831\": {\"frequency\": 1, \"value\": 7831}, \"7832\": {\"frequency\": 2, \"value\": 7832}, \"7834\": {\"frequency\": 1, \"value\": 7834}, \"7836\": {\"frequency\": 1, \"value\": 7836}, \"7838\": {\"frequency\": 4, \"value\": 7838}, \"40608\": {\"frequency\": 1, \"value\": 40608}, \"7843\": {\"frequency\": 1, \"value\": 7843}, \"7844\": {\"frequency\": 1, \"value\": 7844}, \"7845\": {\"frequency\": 2, \"value\": 7845}, \"7848\": {\"frequency\": 2, \"value\": 7848}, \"7850\": {\"frequency\": 5, \"value\": 7850}, \"7851\": {\"frequency\": 2, \"value\": 7851}, \"7853\": {\"frequency\": 2, \"value\": 7853}, \"7854\": {\"frequency\": 5, \"value\": 7854}, \"7857\": {\"frequency\": 4, \"value\": 7857}, \"7859\": {\"frequency\": 2, \"value\": 7859}, \"7860\": {\"frequency\": 3, \"value\": 7860}, \"7861\": {\"frequency\": 3, \"value\": 7861}, \"7862\": {\"frequency\": 2, \"value\": 7862}, \"7863\": {\"frequency\": 2, \"value\": 7863}, \"7865\": {\"frequency\": 2, \"value\": 7865}, \"7866\": {\"frequency\": 2, \"value\": 7866}, \"7867\": {\"frequency\": 1, \"value\": 7867}, \"7869\": {\"frequency\": 1, \"value\": 7869}, \"6773\": {\"frequency\": 3, \"value\": 6773}, \"7875\": {\"frequency\": 19, \"value\": 7875}, \"7876\": {\"frequency\": 2, \"value\": 7876}, \"7877\": {\"frequency\": 3, \"value\": 7877}, \"7881\": {\"frequency\": 2, \"value\": 7881}, \"7882\": {\"frequency\": 1, \"value\": 7882}, \"7884\": {\"frequency\": 3, \"value\": 7884}, \"7885\": {\"frequency\": 2, \"value\": 7885}, \"7887\": {\"frequency\": 1, \"value\": 7887}, \"7889\": {\"frequency\": 1, \"value\": 7889}, \"7890\": {\"frequency\": 1, \"value\": 7890}, \"7895\": {\"frequency\": 1, \"value\": 7895}, \"7896\": {\"frequency\": 2, \"value\": 7896}, \"7897\": {\"frequency\": 3, \"value\": 7897}, \"7898\": {\"frequency\": 1, \"value\": 7898}, \"7900\": {\"frequency\": 8, \"value\": 7900}, \"7902\": {\"frequency\": 3, \"value\": 7902}, \"7903\": {\"frequency\": 2, \"value\": 7903}, \"7904\": {\"frequency\": 7, \"value\": 7904}, \"7905\": {\"frequency\": 1, \"value\": 7905}, \"7906\": {\"frequency\": 2, \"value\": 7906}, \"7907\": {\"frequency\": 1, \"value\": 7907}, \"7910\": {\"frequency\": 6, \"value\": 7910}, \"7912\": {\"frequency\": 4, \"value\": 7912}, \"7914\": {\"frequency\": 1, \"value\": 7914}, \"7916\": {\"frequency\": 3, \"value\": 7916}, \"7917\": {\"frequency\": 1, \"value\": 7917}, \"7920\": {\"frequency\": 25, \"value\": 7920}, \"7921\": {\"frequency\": 1, \"value\": 7921}, \"7923\": {\"frequency\": 2, \"value\": 7923}, \"7924\": {\"frequency\": 2, \"value\": 7924}, \"7926\": {\"frequency\": 1, \"value\": 7926}, \"7928\": {\"frequency\": 2, \"value\": 7928}, \"7929\": {\"frequency\": 1, \"value\": 7929}, \"7930\": {\"frequency\": 9, \"value\": 7930}, \"7931\": {\"frequency\": 2, \"value\": 7931}, \"7936\": {\"frequency\": 6, \"value\": 7936}, \"40705\": {\"frequency\": 1, \"value\": 40705}, \"7938\": {\"frequency\": 1, \"value\": 7938}, \"17707\": {\"frequency\": 2, \"value\": 17707}, \"7941\": {\"frequency\": 2, \"value\": 7941}, \"7942\": {\"frequency\": 2, \"value\": 7942}, \"7945\": {\"frequency\": 3, \"value\": 7945}, \"7947\": {\"frequency\": 3, \"value\": 7947}, \"7950\": {\"frequency\": 8, \"value\": 7950}, \"7952\": {\"frequency\": 2, \"value\": 7952}, \"7953\": {\"frequency\": 3, \"value\": 7953}, \"7955\": {\"frequency\": 2, \"value\": 7955}, \"7956\": {\"frequency\": 2, \"value\": 7956}, \"7957\": {\"frequency\": 4, \"value\": 7957}, \"7958\": {\"frequency\": 3, \"value\": 7958}, \"7960\": {\"frequency\": 1, \"value\": 7960}, \"7961\": {\"frequency\": 2, \"value\": 7961}, \"17711\": {\"frequency\": 1, \"value\": 17711}, \"7965\": {\"frequency\": 4, \"value\": 7965}, \"7969\": {\"frequency\": 3, \"value\": 7969}, \"7972\": {\"frequency\": 2, \"value\": 7972}, \"7973\": {\"frequency\": 2, \"value\": 7973}, \"7975\": {\"frequency\": 3, \"value\": 7975}, \"7980\": {\"frequency\": 18, \"value\": 7980}, \"7982\": {\"frequency\": 2, \"value\": 7982}, \"7983\": {\"frequency\": 1, \"value\": 7983}, \"7984\": {\"frequency\": 2, \"value\": 7984}, \"7985\": {\"frequency\": 1, \"value\": 7985}, \"7991\": {\"frequency\": 2, \"value\": 7991}, \"7992\": {\"frequency\": 5, \"value\": 7992}, \"7995\": {\"frequency\": 3, \"value\": 7995}, \"8000\": {\"frequency\": 76, \"value\": 8000}, \"8001\": {\"frequency\": 3, \"value\": 8001}, \"8002\": {\"frequency\": 1, \"value\": 8002}, \"8004\": {\"frequency\": 3, \"value\": 8004}, \"8005\": {\"frequency\": 3, \"value\": 8005}, \"8008\": {\"frequency\": 2, \"value\": 8008}, \"8009\": {\"frequency\": 2, \"value\": 8009}, \"8011\": {\"frequency\": 1, \"value\": 8011}, \"8012\": {\"frequency\": 1, \"value\": 8012}, \"8015\": {\"frequency\": 2, \"value\": 8015}, \"8016\": {\"frequency\": 1, \"value\": 8016}, \"8018\": {\"frequency\": 2, \"value\": 8018}, \"8022\": {\"frequency\": 3, \"value\": 8022}, \"8023\": {\"frequency\": 1, \"value\": 8023}, \"8025\": {\"frequency\": 3, \"value\": 8025}, \"237402\": {\"frequency\": 2, \"value\": 237402}, \"8028\": {\"frequency\": 2, \"value\": 8028}, \"8029\": {\"frequency\": 2, \"value\": 8029}, \"8030\": {\"frequency\": 5, \"value\": 8030}, \"8031\": {\"frequency\": 1, \"value\": 8031}, \"8033\": {\"frequency\": 1, \"value\": 8033}, \"8034\": {\"frequency\": 3, \"value\": 8034}, \"8036\": {\"frequency\": 4, \"value\": 8036}, \"8039\": {\"frequency\": 1, \"value\": 8039}, \"8040\": {\"frequency\": 15, \"value\": 8040}, \"8043\": {\"frequency\": 2, \"value\": 8043}, \"40813\": {\"frequency\": 1, \"value\": 40813}, \"40816\": {\"frequency\": 1, \"value\": 40816}, \"8049\": {\"frequency\": 4, \"value\": 8049}, \"8050\": {\"frequency\": 16, \"value\": 8050}, \"8051\": {\"frequency\": 1, \"value\": 8051}, \"8055\": {\"frequency\": 2, \"value\": 8055}, \"8056\": {\"frequency\": 3, \"value\": 8056}, \"8057\": {\"frequency\": 2, \"value\": 8057}, \"8058\": {\"frequency\": 4, \"value\": 8058}, \"8060\": {\"frequency\": 4, \"value\": 8060}, \"8062\": {\"frequency\": 2, \"value\": 8062}, \"8063\": {\"frequency\": 3, \"value\": 8063}, \"8064\": {\"frequency\": 5, \"value\": 8064}, \"8065\": {\"frequency\": 4, \"value\": 8065}, \"8067\": {\"frequency\": 2, \"value\": 8067}, \"368517\": {\"frequency\": 1, \"value\": 368517}, \"8072\": {\"frequency\": 2, \"value\": 8072}, \"8073\": {\"frequency\": 3, \"value\": 8073}, \"8075\": {\"frequency\": 6, \"value\": 8075}, \"8076\": {\"frequency\": 4, \"value\": 8076}, \"8078\": {\"frequency\": 2, \"value\": 8078}, \"8079\": {\"frequency\": 1, \"value\": 8079}, \"73616\": {\"frequency\": 2, \"value\": 73616}, \"8085\": {\"frequency\": 3, \"value\": 8085}, \"8086\": {\"frequency\": 4, \"value\": 8086}, \"8088\": {\"frequency\": 2, \"value\": 8088}, \"8089\": {\"frequency\": 1, \"value\": 8089}, \"8091\": {\"frequency\": 2, \"value\": 8091}, \"8092\": {\"frequency\": 2, \"value\": 8092}, \"8093\": {\"frequency\": 3, \"value\": 8093}, \"8095\": {\"frequency\": 3, \"value\": 8095}, \"8097\": {\"frequency\": 2, \"value\": 8097}, \"8098\": {\"frequency\": 2, \"value\": 8098}, \"8100\": {\"frequency\": 72, \"value\": 8100}, \"8102\": {\"frequency\": 5, \"value\": 8102}, \"8103\": {\"frequency\": 1, \"value\": 8103}, \"8106\": {\"frequency\": 1, \"value\": 8106}, \"8107\": {\"frequency\": 2, \"value\": 8107}, \"8108\": {\"frequency\": 2, \"value\": 8108}, \"8111\": {\"frequency\": 3, \"value\": 8111}, \"8112\": {\"frequency\": 2, \"value\": 8112}, \"8113\": {\"frequency\": 3, \"value\": 8113}, \"8114\": {\"frequency\": 5, \"value\": 8114}, \"110579\": {\"frequency\": 1, \"value\": 110579}, \"8116\": {\"frequency\": 4, \"value\": 8116}, \"8117\": {\"frequency\": 2, \"value\": 8117}, \"8118\": {\"frequency\": 3, \"value\": 8118}, \"40887\": {\"frequency\": 1, \"value\": 40887}, \"8120\": {\"frequency\": 6, \"value\": 8120}, \"8122\": {\"frequency\": 2, \"value\": 8122}, \"8123\": {\"frequency\": 1, \"value\": 8123}, \"8124\": {\"frequency\": 2, \"value\": 8124}, \"8125\": {\"frequency\": 9, \"value\": 8125}, \"8126\": {\"frequency\": 3, \"value\": 8126}, \"8127\": {\"frequency\": 2, \"value\": 8127}, \"8128\": {\"frequency\": 1, \"value\": 8128}, \"8130\": {\"frequency\": 3, \"value\": 8130}, \"8131\": {\"frequency\": 2, \"value\": 8131}, \"8134\": {\"frequency\": 2, \"value\": 8134}, \"8136\": {\"frequency\": 4, \"value\": 8136}, \"8137\": {\"frequency\": 2, \"value\": 8137}, \"8138\": {\"frequency\": 2, \"value\": 8138}, \"8140\": {\"frequency\": 6, \"value\": 8140}, \"39586\": {\"frequency\": 1, \"value\": 39586}, \"8142\": {\"frequency\": 3, \"value\": 8142}, \"8144\": {\"frequency\": 2, \"value\": 8144}, \"8145\": {\"frequency\": 3, \"value\": 8145}, \"8147\": {\"frequency\": 4, \"value\": 8147}, \"8148\": {\"frequency\": 3, \"value\": 8148}, \"8149\": {\"frequency\": 6, \"value\": 8149}, \"8150\": {\"frequency\": 2, \"value\": 8150}, \"8151\": {\"frequency\": 2, \"value\": 8151}, \"8152\": {\"frequency\": 1, \"value\": 8152}, \"8153\": {\"frequency\": 2, \"value\": 8153}, \"8154\": {\"frequency\": 2, \"value\": 8154}, \"8157\": {\"frequency\": 1, \"value\": 8157}, \"8158\": {\"frequency\": 3, \"value\": 8158}, \"8159\": {\"frequency\": 2, \"value\": 8159}, \"8160\": {\"frequency\": 19, \"value\": 8160}, \"8162\": {\"frequency\": 3, \"value\": 8162}, \"8163\": {\"frequency\": 4, \"value\": 8163}, \"8164\": {\"frequency\": 4, \"value\": 8164}, \"8165\": {\"frequency\": 5, \"value\": 8165}, \"8167\": {\"frequency\": 2, \"value\": 8167}, \"8170\": {\"frequency\": 3, \"value\": 8170}, \"8171\": {\"frequency\": 2, \"value\": 8171}, \"8173\": {\"frequency\": 3, \"value\": 8173}, \"8174\": {\"frequency\": 3, \"value\": 8174}, \"8175\": {\"frequency\": 4, \"value\": 8175}, \"40946\": {\"frequency\": 4, \"value\": 40946}, \"8180\": {\"frequency\": 2, \"value\": 8180}, \"8182\": {\"frequency\": 3, \"value\": 8182}, \"8184\": {\"frequency\": 7, \"value\": 8184}, \"8185\": {\"frequency\": 1, \"value\": 8185}, \"8187\": {\"frequency\": 3, \"value\": 8187}, \"8188\": {\"frequency\": 2, \"value\": 8188}, \"8190\": {\"frequency\": 9, \"value\": 8190}, \"8192\": {\"frequency\": 1, \"value\": 8192}, \"8195\": {\"frequency\": 2, \"value\": 8195}, \"8197\": {\"frequency\": 1, \"value\": 8197}, \"8199\": {\"frequency\": 1, \"value\": 8199}, \"8200\": {\"frequency\": 11, \"value\": 8200}, \"8201\": {\"frequency\": 2, \"value\": 8201}, \"8204\": {\"frequency\": 1, \"value\": 8204}, \"40973\": {\"frequency\": 1, \"value\": 40973}, \"8208\": {\"frequency\": 4, \"value\": 8208}, \"8210\": {\"frequency\": 1, \"value\": 8210}, \"8215\": {\"frequency\": 4, \"value\": 8215}, \"8219\": {\"frequency\": 1, \"value\": 8219}, \"8220\": {\"frequency\": 6, \"value\": 8220}, \"8223\": {\"frequency\": 4, \"value\": 8223}, \"8225\": {\"frequency\": 3, \"value\": 8225}, \"8227\": {\"frequency\": 3, \"value\": 8227}, \"8229\": {\"frequency\": 1, \"value\": 8229}, \"8230\": {\"frequency\": 3, \"value\": 8230}, \"8232\": {\"frequency\": 2, \"value\": 8232}, \"8234\": {\"frequency\": 4, \"value\": 8234}, \"8235\": {\"frequency\": 2, \"value\": 8235}, \"8236\": {\"frequency\": 1, \"value\": 8236}, \"8239\": {\"frequency\": 3, \"value\": 8239}, \"8240\": {\"frequency\": 8, \"value\": 8240}, \"8245\": {\"frequency\": 1, \"value\": 8245}, \"8247\": {\"frequency\": 1, \"value\": 8247}, \"8248\": {\"frequency\": 1, \"value\": 8248}, \"8249\": {\"frequency\": 1, \"value\": 8249}, \"8250\": {\"frequency\": 34, \"value\": 8250}, \"8251\": {\"frequency\": 2, \"value\": 8251}, \"8252\": {\"frequency\": 3, \"value\": 8252}, \"41022\": {\"frequency\": 1, \"value\": 41022}, \"8255\": {\"frequency\": 2, \"value\": 8255}, \"8256\": {\"frequency\": 2, \"value\": 8256}, \"1024068\": {\"frequency\": 1, \"value\": 1024068}, \"8261\": {\"frequency\": 3, \"value\": 8261}, \"8263\": {\"frequency\": 1, \"value\": 8263}, \"8266\": {\"frequency\": 2, \"value\": 8266}, \"8268\": {\"frequency\": 2, \"value\": 8268}, \"8269\": {\"frequency\": 1, \"value\": 8269}, \"8270\": {\"frequency\": 2, \"value\": 8270}, \"41041\": {\"frequency\": 1, \"value\": 41041}, \"8276\": {\"frequency\": 4, \"value\": 8276}, \"8279\": {\"frequency\": 3, \"value\": 8279}, \"8280\": {\"frequency\": 7, \"value\": 8280}, \"8281\": {\"frequency\": 4, \"value\": 8281}, \"8282\": {\"frequency\": 4, \"value\": 8282}, \"8284\": {\"frequency\": 4, \"value\": 8284}, \"8285\": {\"frequency\": 1, \"value\": 8285}, \"8286\": {\"frequency\": 1, \"value\": 8286}, \"8287\": {\"frequency\": 2, \"value\": 8287}, \"8288\": {\"frequency\": 1, \"value\": 8288}, \"8290\": {\"frequency\": 4, \"value\": 8290}, \"8291\": {\"frequency\": 1, \"value\": 8291}, \"8292\": {\"frequency\": 1, \"value\": 8292}, \"8295\": {\"frequency\": 1, \"value\": 8295}, \"8296\": {\"frequency\": 3, \"value\": 8296}, \"8300\": {\"frequency\": 6, \"value\": 8300}, \"8301\": {\"frequency\": 5, \"value\": 8301}, \"8302\": {\"frequency\": 1, \"value\": 8302}, \"8303\": {\"frequency\": 3, \"value\": 8303}, \"41072\": {\"frequency\": 1, \"value\": 41072}, \"8307\": {\"frequency\": 2, \"value\": 8307}, \"8308\": {\"frequency\": 5, \"value\": 8308}, \"8311\": {\"frequency\": 1, \"value\": 8311}, \"8313\": {\"frequency\": 2, \"value\": 8313}, \"8314\": {\"frequency\": 2, \"value\": 8314}, \"8315\": {\"frequency\": 2, \"value\": 8315}, \"8316\": {\"frequency\": 9, \"value\": 8316}, \"8317\": {\"frequency\": 1, \"value\": 8317}, \"8319\": {\"frequency\": 1, \"value\": 8319}, \"8320\": {\"frequency\": 7, \"value\": 8320}, \"8321\": {\"frequency\": 2, \"value\": 8321}, \"8322\": {\"frequency\": 1, \"value\": 8322}, \"8325\": {\"frequency\": 5, \"value\": 8325}, \"8327\": {\"frequency\": 2, \"value\": 8327}, \"8329\": {\"frequency\": 2, \"value\": 8329}, \"8331\": {\"frequency\": 2, \"value\": 8331}, \"8333\": {\"frequency\": 1, \"value\": 8333}, \"8335\": {\"frequency\": 1, \"value\": 8335}, \"8336\": {\"frequency\": 4, \"value\": 8336}, \"8337\": {\"frequency\": 1, \"value\": 8337}, \"8338\": {\"frequency\": 2, \"value\": 8338}, \"8339\": {\"frequency\": 1, \"value\": 8339}, \"8340\": {\"frequency\": 2, \"value\": 8340}, \"8342\": {\"frequency\": 3, \"value\": 8342}, \"8346\": {\"frequency\": 2, \"value\": 8346}, \"8352\": {\"frequency\": 1, \"value\": 8352}, \"8353\": {\"frequency\": 1, \"value\": 8353}, \"8354\": {\"frequency\": 2, \"value\": 8354}, \"8355\": {\"frequency\": 1, \"value\": 8355}, \"8360\": {\"frequency\": 3, \"value\": 8360}, \"8361\": {\"frequency\": 1, \"value\": 8361}, \"8364\": {\"frequency\": 5, \"value\": 8364}, \"1394\": {\"frequency\": 1, \"value\": 1394}, \"8366\": {\"frequency\": 4, \"value\": 8366}, \"8370\": {\"frequency\": 4, \"value\": 8370}, \"8372\": {\"frequency\": 4, \"value\": 8372}, \"8374\": {\"frequency\": 2, \"value\": 8374}, \"8375\": {\"frequency\": 4, \"value\": 8375}, \"8376\": {\"frequency\": 2, \"value\": 8376}, \"8378\": {\"frequency\": 5, \"value\": 8378}, \"8379\": {\"frequency\": 2, \"value\": 8379}, \"8380\": {\"frequency\": 1, \"value\": 8380}, \"8382\": {\"frequency\": 4, \"value\": 8382}, \"8384\": {\"frequency\": 6, \"value\": 8384}, \"8385\": {\"frequency\": 2, \"value\": 8385}, \"8390\": {\"frequency\": 2, \"value\": 8390}, \"8391\": {\"frequency\": 2, \"value\": 8391}, \"8392\": {\"frequency\": 2, \"value\": 8392}, \"8395\": {\"frequency\": 4, \"value\": 8395}, \"8396\": {\"frequency\": 1, \"value\": 8396}, \"8398\": {\"frequency\": 2, \"value\": 8398}, \"41167\": {\"frequency\": 1, \"value\": 41167}, \"8400\": {\"frequency\": 111, \"value\": 8400}, \"8401\": {\"frequency\": 3, \"value\": 8401}, \"8402\": {\"frequency\": 2, \"value\": 8402}, \"8403\": {\"frequency\": 1, \"value\": 8403}, \"8404\": {\"frequency\": 3, \"value\": 8404}, \"8406\": {\"frequency\": 1, \"value\": 8406}, \"8409\": {\"frequency\": 2, \"value\": 8409}, \"8410\": {\"frequency\": 6, \"value\": 8410}, \"8412\": {\"frequency\": 4, \"value\": 8412}, \"8414\": {\"frequency\": 3, \"value\": 8414}, \"8415\": {\"frequency\": 2, \"value\": 8415}, \"106722\": {\"frequency\": 2, \"value\": 106722}, \"8422\": {\"frequency\": 1, \"value\": 8422}, \"8423\": {\"frequency\": 2, \"value\": 8423}, \"8424\": {\"frequency\": 8, \"value\": 8424}, \"8426\": {\"frequency\": 3, \"value\": 8426}, \"8428\": {\"frequency\": 1, \"value\": 8428}, \"8429\": {\"frequency\": 2, \"value\": 8429}, \"8430\": {\"frequency\": 1, \"value\": 8430}, \"8432\": {\"frequency\": 4, \"value\": 8432}, \"6867\": {\"frequency\": 3, \"value\": 6867}, \"8436\": {\"frequency\": 3, \"value\": 8436}, \"8437\": {\"frequency\": 1, \"value\": 8437}, \"8438\": {\"frequency\": 3, \"value\": 8438}, \"8440\": {\"frequency\": 2, \"value\": 8440}, \"8442\": {\"frequency\": 6, \"value\": 8442}, \"1407\": {\"frequency\": 5, \"value\": 1407}, \"8444\": {\"frequency\": 1, \"value\": 8444}, \"8446\": {\"frequency\": 1, \"value\": 8446}, \"8447\": {\"frequency\": 2, \"value\": 8447}, \"8448\": {\"frequency\": 6, \"value\": 8448}, \"8449\": {\"frequency\": 3, \"value\": 8449}, \"8450\": {\"frequency\": 14, \"value\": 8450}, \"8451\": {\"frequency\": 3, \"value\": 8451}, \"8453\": {\"frequency\": 1, \"value\": 8453}, \"8454\": {\"frequency\": 2, \"value\": 8454}, \"8455\": {\"frequency\": 1, \"value\": 8455}, \"8458\": {\"frequency\": 3, \"value\": 8458}, \"8459\": {\"frequency\": 2, \"value\": 8459}, \"8460\": {\"frequency\": 2, \"value\": 8460}, \"8462\": {\"frequency\": 1, \"value\": 8462}, \"6872\": {\"frequency\": 2, \"value\": 6872}, \"8466\": {\"frequency\": 1, \"value\": 8466}, \"8467\": {\"frequency\": 2, \"value\": 8467}, \"8468\": {\"frequency\": 1, \"value\": 8468}, \"8469\": {\"frequency\": 2, \"value\": 8469}, \"8470\": {\"frequency\": 13, \"value\": 8470}, \"8471\": {\"frequency\": 1, \"value\": 8471}, \"8474\": {\"frequency\": 3, \"value\": 8474}, \"8475\": {\"frequency\": 4, \"value\": 8475}, \"8476\": {\"frequency\": 2, \"value\": 8476}, \"8479\": {\"frequency\": 1, \"value\": 8479}, \"8480\": {\"frequency\": 7, \"value\": 8480}, \"8481\": {\"frequency\": 2, \"value\": 8481}, \"41250\": {\"frequency\": 2, \"value\": 41250}, \"8483\": {\"frequency\": 1, \"value\": 8483}, \"8489\": {\"frequency\": 1, \"value\": 8489}, \"8490\": {\"frequency\": 2, \"value\": 8490}, \"8491\": {\"frequency\": 2, \"value\": 8491}, \"12338\": {\"frequency\": 1, \"value\": 12338}, \"8494\": {\"frequency\": 3, \"value\": 8494}, \"41263\": {\"frequency\": 1, \"value\": 41263}, \"8498\": {\"frequency\": 3, \"value\": 8498}, \"8499\": {\"frequency\": 2, \"value\": 8499}, \"8500\": {\"frequency\": 19, \"value\": 8500}, \"8501\": {\"frequency\": 3, \"value\": 8501}, \"8503\": {\"frequency\": 1, \"value\": 8503}, \"8504\": {\"frequency\": 8, \"value\": 8504}, \"8505\": {\"frequency\": 14, \"value\": 8505}, \"8506\": {\"frequency\": 1, \"value\": 8506}, \"41275\": {\"frequency\": 1, \"value\": 41275}, \"8509\": {\"frequency\": 3, \"value\": 8509}, \"8510\": {\"frequency\": 2, \"value\": 8510}, \"8511\": {\"frequency\": 2, \"value\": 8511}, \"8512\": {\"frequency\": 4, \"value\": 8512}, \"8514\": {\"frequency\": 2, \"value\": 8514}, \"74052\": {\"frequency\": 4, \"value\": 74052}, \"8517\": {\"frequency\": 1, \"value\": 8517}, \"8518\": {\"frequency\": 3, \"value\": 8518}, \"8520\": {\"frequency\": 6, \"value\": 8520}, \"8521\": {\"frequency\": 3, \"value\": 8521}, \"8526\": {\"frequency\": 2, \"value\": 8526}, \"8527\": {\"frequency\": 1, \"value\": 8527}, \"8528\": {\"frequency\": 5, \"value\": 8528}, \"8530\": {\"frequency\": 2, \"value\": 8530}, \"8531\": {\"frequency\": 1, \"value\": 8531}, \"8532\": {\"frequency\": 2, \"value\": 8532}, \"8534\": {\"frequency\": 1, \"value\": 8534}, \"8536\": {\"frequency\": 5, \"value\": 8536}, \"8540\": {\"frequency\": 8, \"value\": 8540}, \"8541\": {\"frequency\": 2, \"value\": 8541}, \"8544\": {\"frequency\": 2, \"value\": 8544}, \"8545\": {\"frequency\": 3, \"value\": 8545}, \"8547\": {\"frequency\": 3, \"value\": 8547}, \"8548\": {\"frequency\": 3, \"value\": 8548}, \"8549\": {\"frequency\": 3, \"value\": 8549}, \"8550\": {\"frequency\": 6, \"value\": 8550}, \"8555\": {\"frequency\": 2, \"value\": 8555}, \"8556\": {\"frequency\": 3, \"value\": 8556}, \"41325\": {\"frequency\": 1, \"value\": 41325}, \"8558\": {\"frequency\": 3, \"value\": 8558}, \"8560\": {\"frequency\": 11, \"value\": 8560}, \"8561\": {\"frequency\": 1, \"value\": 8561}, \"8562\": {\"frequency\": 1, \"value\": 8562}, \"8565\": {\"frequency\": 1, \"value\": 8565}, \"8568\": {\"frequency\": 1, \"value\": 8568}, \"8570\": {\"frequency\": 3, \"value\": 8570}, \"8571\": {\"frequency\": 4, \"value\": 8571}, \"8572\": {\"frequency\": 3, \"value\": 8572}, \"8573\": {\"frequency\": 2, \"value\": 8573}, \"41343\": {\"frequency\": 1, \"value\": 41343}, \"8576\": {\"frequency\": 2, \"value\": 8576}, \"8577\": {\"frequency\": 1, \"value\": 8577}, \"41346\": {\"frequency\": 1, \"value\": 41346}, \"8579\": {\"frequency\": 2, \"value\": 8579}, \"8580\": {\"frequency\": 19, \"value\": 8580}, \"8581\": {\"frequency\": 3, \"value\": 8581}, \"8584\": {\"frequency\": 2, \"value\": 8584}, \"8585\": {\"frequency\": 1, \"value\": 8585}, \"8587\": {\"frequency\": 2, \"value\": 8587}, \"8592\": {\"frequency\": 2, \"value\": 8592}, \"8600\": {\"frequency\": 7, \"value\": 8600}, \"8601\": {\"frequency\": 3, \"value\": 8601}, \"8603\": {\"frequency\": 1, \"value\": 8603}, \"8604\": {\"frequency\": 1, \"value\": 8604}, \"8605\": {\"frequency\": 1, \"value\": 8605}, \"8610\": {\"frequency\": 5, \"value\": 8610}, \"8611\": {\"frequency\": 2, \"value\": 8611}, \"8612\": {\"frequency\": 2, \"value\": 8612}, \"8613\": {\"frequency\": 2, \"value\": 8613}, \"8615\": {\"frequency\": 1, \"value\": 8615}, \"8616\": {\"frequency\": 1, \"value\": 8616}, \"8620\": {\"frequency\": 1, \"value\": 8620}, \"8621\": {\"frequency\": 2, \"value\": 8621}, \"8622\": {\"frequency\": 4, \"value\": 8622}, \"8624\": {\"frequency\": 2, \"value\": 8624}, \"8625\": {\"frequency\": 17, \"value\": 8625}, \"8626\": {\"frequency\": 1, \"value\": 8626}, \"8628\": {\"frequency\": 2, \"value\": 8628}, \"8629\": {\"frequency\": 1, \"value\": 8629}, \"8630\": {\"frequency\": 2, \"value\": 8630}, \"8631\": {\"frequency\": 2, \"value\": 8631}, \"8632\": {\"frequency\": 2, \"value\": 8632}, \"8636\": {\"frequency\": 8, \"value\": 8636}, \"8640\": {\"frequency\": 16, \"value\": 8640}, \"8641\": {\"frequency\": 2, \"value\": 8641}, \"8645\": {\"frequency\": 8, \"value\": 8645}, \"8648\": {\"frequency\": 1, \"value\": 8648}, \"8649\": {\"frequency\": 1, \"value\": 8649}, \"8653\": {\"frequency\": 3, \"value\": 8653}, \"8658\": {\"frequency\": 2, \"value\": 8658}, \"8659\": {\"frequency\": 2, \"value\": 8659}, \"8660\": {\"frequency\": 2, \"value\": 8660}, \"8661\": {\"frequency\": 2, \"value\": 8661}, \"8663\": {\"frequency\": 1, \"value\": 8663}, \"8666\": {\"frequency\": 2, \"value\": 8666}, \"8667\": {\"frequency\": 3, \"value\": 8667}, \"8670\": {\"frequency\": 2, \"value\": 8670}, \"8674\": {\"frequency\": 1, \"value\": 8674}, \"8676\": {\"frequency\": 2, \"value\": 8676}, \"8677\": {\"frequency\": 1, \"value\": 8677}, \"8678\": {\"frequency\": 1, \"value\": 8678}, \"8679\": {\"frequency\": 1, \"value\": 8679}, \"8680\": {\"frequency\": 6, \"value\": 8680}, \"8682\": {\"frequency\": 3, \"value\": 8682}, \"8683\": {\"frequency\": 1, \"value\": 8683}, \"8684\": {\"frequency\": 2, \"value\": 8684}, \"8685\": {\"frequency\": 3, \"value\": 8685}, \"8686\": {\"frequency\": 2, \"value\": 8686}, \"8688\": {\"frequency\": 1, \"value\": 8688}, \"1448\": {\"frequency\": 1, \"value\": 1448}, \"8690\": {\"frequency\": 5, \"value\": 8690}, \"8697\": {\"frequency\": 2, \"value\": 8697}, \"8698\": {\"frequency\": 2, \"value\": 8698}, \"8700\": {\"frequency\": 15, \"value\": 8700}, \"8701\": {\"frequency\": 2, \"value\": 8701}, \"8709\": {\"frequency\": 2, \"value\": 8709}, \"8710\": {\"frequency\": 7, \"value\": 8710}, \"8711\": {\"frequency\": 2, \"value\": 8711}, \"8712\": {\"frequency\": 7, \"value\": 8712}, \"8715\": {\"frequency\": 1, \"value\": 8715}, \"8719\": {\"frequency\": 1, \"value\": 8719}, \"8720\": {\"frequency\": 3, \"value\": 8720}, \"8721\": {\"frequency\": 2, \"value\": 8721}, \"8722\": {\"frequency\": 2, \"value\": 8722}, \"8725\": {\"frequency\": 2, \"value\": 8725}, \"8726\": {\"frequency\": 2, \"value\": 8726}, \"8729\": {\"frequency\": 1, \"value\": 8729}, \"8732\": {\"frequency\": 1, \"value\": 8732}, \"8734\": {\"frequency\": 3, \"value\": 8734}, \"8736\": {\"frequency\": 1, \"value\": 8736}, \"8737\": {\"frequency\": 3, \"value\": 8737}, \"8738\": {\"frequency\": 3, \"value\": 8738}, \"8740\": {\"frequency\": 2, \"value\": 8740}, \"8744\": {\"frequency\": 1, \"value\": 8744}, \"8746\": {\"frequency\": 1, \"value\": 8746}, \"8748\": {\"frequency\": 1, \"value\": 8748}, \"8749\": {\"frequency\": 1, \"value\": 8749}, \"8750\": {\"frequency\": 19, \"value\": 8750}, \"8751\": {\"frequency\": 1, \"value\": 8751}, \"8752\": {\"frequency\": 1, \"value\": 8752}, \"8755\": {\"frequency\": 5, \"value\": 8755}, \"8760\": {\"frequency\": 5, \"value\": 8760}, \"8763\": {\"frequency\": 2, \"value\": 8763}, \"8764\": {\"frequency\": 3, \"value\": 8764}, \"8767\": {\"frequency\": 3, \"value\": 8767}, \"8770\": {\"frequency\": 2, \"value\": 8770}, \"8771\": {\"frequency\": 1, \"value\": 8771}, \"8773\": {\"frequency\": 1, \"value\": 8773}, \"8775\": {\"frequency\": 14, \"value\": 8775}, \"8778\": {\"frequency\": 3, \"value\": 8778}, \"8779\": {\"frequency\": 1, \"value\": 8779}, \"8784\": {\"frequency\": 1, \"value\": 8784}, \"8786\": {\"frequency\": 3, \"value\": 8786}, \"8792\": {\"frequency\": 2, \"value\": 8792}, \"8793\": {\"frequency\": 1, \"value\": 8793}, \"8796\": {\"frequency\": 1, \"value\": 8796}, \"8797\": {\"frequency\": 3, \"value\": 8797}, \"8798\": {\"frequency\": 1, \"value\": 8798}, \"8800\": {\"frequency\": 42, \"value\": 8800}, \"8801\": {\"frequency\": 1, \"value\": 8801}, \"8808\": {\"frequency\": 1, \"value\": 8808}, \"8809\": {\"frequency\": 1, \"value\": 8809}, \"8811\": {\"frequency\": 1, \"value\": 8811}, \"8813\": {\"frequency\": 2, \"value\": 8813}, \"8814\": {\"frequency\": 2, \"value\": 8814}, \"8816\": {\"frequency\": 2, \"value\": 8816}, \"8817\": {\"frequency\": 3, \"value\": 8817}, \"8819\": {\"frequency\": 1, \"value\": 8819}, \"8820\": {\"frequency\": 12, \"value\": 8820}, \"8821\": {\"frequency\": 1, \"value\": 8821}, \"74358\": {\"frequency\": 1, \"value\": 74358}, \"8823\": {\"frequency\": 1, \"value\": 8823}, \"8827\": {\"frequency\": 1, \"value\": 8827}, \"8828\": {\"frequency\": 1, \"value\": 8828}, \"8829\": {\"frequency\": 1, \"value\": 8829}, \"41600\": {\"frequency\": 1, \"value\": 41600}, \"8835\": {\"frequency\": 1, \"value\": 8835}, \"8837\": {\"frequency\": 2, \"value\": 8837}, \"8840\": {\"frequency\": 5, \"value\": 8840}, \"8842\": {\"frequency\": 1, \"value\": 8842}, \"8846\": {\"frequency\": 1, \"value\": 8846}, \"8848\": {\"frequency\": 2, \"value\": 8848}, \"8850\": {\"frequency\": 3, \"value\": 8850}, \"8853\": {\"frequency\": 3, \"value\": 8853}, \"8854\": {\"frequency\": 1, \"value\": 8854}, \"8856\": {\"frequency\": 5, \"value\": 8856}, \"8858\": {\"frequency\": 1, \"value\": 8858}, \"8860\": {\"frequency\": 1, \"value\": 8860}, \"8861\": {\"frequency\": 2, \"value\": 8861}, \"8862\": {\"frequency\": 2, \"value\": 8862}, \"8863\": {\"frequency\": 2, \"value\": 8863}, \"8865\": {\"frequency\": 2, \"value\": 8865}, \"8867\": {\"frequency\": 3, \"value\": 8867}, \"8868\": {\"frequency\": 2, \"value\": 8868}, \"8872\": {\"frequency\": 1, \"value\": 8872}, \"8874\": {\"frequency\": 3, \"value\": 8874}, \"8875\": {\"frequency\": 3, \"value\": 8875}, \"8876\": {\"frequency\": 2, \"value\": 8876}, \"8879\": {\"frequency\": 3, \"value\": 8879}, \"8880\": {\"frequency\": 2, \"value\": 8880}, \"8885\": {\"frequency\": 2, \"value\": 8885}, \"8886\": {\"frequency\": 2, \"value\": 8886}, \"8887\": {\"frequency\": 1, \"value\": 8887}, \"41656\": {\"frequency\": 1, \"value\": 41656}, \"8890\": {\"frequency\": 3, \"value\": 8890}, \"8891\": {\"frequency\": 1, \"value\": 8891}, \"8892\": {\"frequency\": 2, \"value\": 8892}, \"8893\": {\"frequency\": 2, \"value\": 8893}, \"41664\": {\"frequency\": 1, \"value\": 41664}, \"8900\": {\"frequency\": 4, \"value\": 8900}, \"8901\": {\"frequency\": 1, \"value\": 8901}, \"8904\": {\"frequency\": 1, \"value\": 8904}, \"8906\": {\"frequency\": 7, \"value\": 8906}, \"8909\": {\"frequency\": 2, \"value\": 8909}, \"8910\": {\"frequency\": 9, \"value\": 8910}, \"8913\": {\"frequency\": 2, \"value\": 8913}, \"8919\": {\"frequency\": 1, \"value\": 8919}, \"41688\": {\"frequency\": 1, \"value\": 41688}, \"8921\": {\"frequency\": 2, \"value\": 8921}, \"8922\": {\"frequency\": 1, \"value\": 8922}, \"8924\": {\"frequency\": 2, \"value\": 8924}, \"8925\": {\"frequency\": 13, \"value\": 8925}, \"8930\": {\"frequency\": 1, \"value\": 8930}, \"8932\": {\"frequency\": 1, \"value\": 8932}, \"8936\": {\"frequency\": 2, \"value\": 8936}, \"8937\": {\"frequency\": 2, \"value\": 8937}, \"8938\": {\"frequency\": 2, \"value\": 8938}, \"8941\": {\"frequency\": 2, \"value\": 8941}, \"8944\": {\"frequency\": 2, \"value\": 8944}, \"8947\": {\"frequency\": 2, \"value\": 8947}, \"8950\": {\"frequency\": 2, \"value\": 8950}, \"8951\": {\"frequency\": 1, \"value\": 8951}, \"8955\": {\"frequency\": 2, \"value\": 8955}, \"8956\": {\"frequency\": 1, \"value\": 8956}, \"8959\": {\"frequency\": 1, \"value\": 8959}, \"8960\": {\"frequency\": 12, \"value\": 8960}, \"8961\": {\"frequency\": 1, \"value\": 8961}, \"8967\": {\"frequency\": 1, \"value\": 8967}, \"8968\": {\"frequency\": 4, \"value\": 8968}, \"8970\": {\"frequency\": 6, \"value\": 8970}, \"8971\": {\"frequency\": 1, \"value\": 8971}, \"8976\": {\"frequency\": 4, \"value\": 8976}, \"8980\": {\"frequency\": 1, \"value\": 8980}, \"8990\": {\"frequency\": 3, \"value\": 8990}, \"8994\": {\"frequency\": 2, \"value\": 8994}, \"8995\": {\"frequency\": 2, \"value\": 8995}, \"8996\": {\"frequency\": 2, \"value\": 8996}, \"8997\": {\"frequency\": 1, \"value\": 8997}, \"9000\": {\"frequency\": 93, \"value\": 9000}, \"9001\": {\"frequency\": 2, \"value\": 9001}, \"9002\": {\"frequency\": 2, \"value\": 9002}, \"9003\": {\"frequency\": 3, \"value\": 9003}, \"9005\": {\"frequency\": 1, \"value\": 9005}, \"9009\": {\"frequency\": 2, \"value\": 9009}, \"9010\": {\"frequency\": 3, \"value\": 9010}, \"9011\": {\"frequency\": 1, \"value\": 9011}, \"9015\": {\"frequency\": 3, \"value\": 9015}, \"9020\": {\"frequency\": 1, \"value\": 9020}, \"9023\": {\"frequency\": 2, \"value\": 9023}, \"9024\": {\"frequency\": 1, \"value\": 9024}, \"9025\": {\"frequency\": 1, \"value\": 9025}, \"9030\": {\"frequency\": 5, \"value\": 9030}, \"41800\": {\"frequency\": 1, \"value\": 41800}, \"9035\": {\"frequency\": 2, \"value\": 9035}, \"9040\": {\"frequency\": 3, \"value\": 9040}, \"9041\": {\"frequency\": 3, \"value\": 9041}, \"41811\": {\"frequency\": 1, \"value\": 41811}, \"9044\": {\"frequency\": 2, \"value\": 9044}, \"9045\": {\"frequency\": 2, \"value\": 9045}, \"9046\": {\"frequency\": 1, \"value\": 9046}, \"9048\": {\"frequency\": 2, \"value\": 9048}, \"9050\": {\"frequency\": 1, \"value\": 9050}, \"9052\": {\"frequency\": 1, \"value\": 9052}, \"9055\": {\"frequency\": 2, \"value\": 9055}, \"9061\": {\"frequency\": 1, \"value\": 9061}, \"9065\": {\"frequency\": 2, \"value\": 9065}, \"9066\": {\"frequency\": 2, \"value\": 9066}, \"9067\": {\"frequency\": 1, \"value\": 9067}, \"9070\": {\"frequency\": 1, \"value\": 9070}, \"9072\": {\"frequency\": 5, \"value\": 9072}, \"9075\": {\"frequency\": 4, \"value\": 9075}, \"9077\": {\"frequency\": 2, \"value\": 9077}, \"9078\": {\"frequency\": 1, \"value\": 9078}, \"9079\": {\"frequency\": 1, \"value\": 9079}, \"107386\": {\"frequency\": 1, \"value\": 107386}, \"9083\": {\"frequency\": 3, \"value\": 9083}, \"9085\": {\"frequency\": 3, \"value\": 9085}, \"9086\": {\"frequency\": 2, \"value\": 9086}, \"9087\": {\"frequency\": 3, \"value\": 9087}, \"9088\": {\"frequency\": 2, \"value\": 9088}, \"9090\": {\"frequency\": 2, \"value\": 9090}, \"9091\": {\"frequency\": 1, \"value\": 9091}, \"9095\": {\"frequency\": 1, \"value\": 9095}, \"9097\": {\"frequency\": 2, \"value\": 9097}, \"9099\": {\"frequency\": 2, \"value\": 9099}, \"9100\": {\"frequency\": 16, \"value\": 9100}, \"9102\": {\"frequency\": 3, \"value\": 9102}, \"9103\": {\"frequency\": 1, \"value\": 9103}, \"9108\": {\"frequency\": 1, \"value\": 9108}, \"9112\": {\"frequency\": 6, \"value\": 9112}, \"9115\": {\"frequency\": 1, \"value\": 9115}, \"9119\": {\"frequency\": 1, \"value\": 9119}, \"9120\": {\"frequency\": 7, \"value\": 9120}, \"9122\": {\"frequency\": 1, \"value\": 9122}, \"9123\": {\"frequency\": 1, \"value\": 9123}, \"9126\": {\"frequency\": 4, \"value\": 9126}, \"9127\": {\"frequency\": 1, \"value\": 9127}, \"9130\": {\"frequency\": 3, \"value\": 9130}, \"41900\": {\"frequency\": 1, \"value\": 41900}, \"9133\": {\"frequency\": 1, \"value\": 9133}, \"9134\": {\"frequency\": 2, \"value\": 9134}, \"9135\": {\"frequency\": 6, \"value\": 9135}, \"9136\": {\"frequency\": 3, \"value\": 9136}, \"9139\": {\"frequency\": 2, \"value\": 9139}, \"9140\": {\"frequency\": 3, \"value\": 9140}, \"9142\": {\"frequency\": 1, \"value\": 9142}, \"9143\": {\"frequency\": 2, \"value\": 9143}, \"9144\": {\"frequency\": 2, \"value\": 9144}, \"9145\": {\"frequency\": 2, \"value\": 9145}, \"9146\": {\"frequency\": 2, \"value\": 9146}, \"9147\": {\"frequency\": 5, \"value\": 9147}, \"9148\": {\"frequency\": 2, \"value\": 9148}, \"9150\": {\"frequency\": 7, \"value\": 9150}, \"9152\": {\"frequency\": 1, \"value\": 9152}, \"9153\": {\"frequency\": 2, \"value\": 9153}, \"9154\": {\"frequency\": 1, \"value\": 9154}, \"9155\": {\"frequency\": 1, \"value\": 9155}, \"9157\": {\"frequency\": 2, \"value\": 9157}, \"9162\": {\"frequency\": 2, \"value\": 9162}, \"9163\": {\"frequency\": 7, \"value\": 9163}, \"9166\": {\"frequency\": 1, \"value\": 9166}, \"9168\": {\"frequency\": 1, \"value\": 9168}, \"9170\": {\"frequency\": 3, \"value\": 9170}, \"9176\": {\"frequency\": 2, \"value\": 9176}, \"9177\": {\"frequency\": 1, \"value\": 9177}, \"9180\": {\"frequency\": 3, \"value\": 9180}, \"9182\": {\"frequency\": 2, \"value\": 9182}, \"9185\": {\"frequency\": 1, \"value\": 9185}, \"9186\": {\"frequency\": 1, \"value\": 9186}, \"9187\": {\"frequency\": 2, \"value\": 9187}, \"9188\": {\"frequency\": 1, \"value\": 9188}, \"9191\": {\"frequency\": 1, \"value\": 9191}, \"9194\": {\"frequency\": 1, \"value\": 9194}, \"9195\": {\"frequency\": 3, \"value\": 9195}, \"9196\": {\"frequency\": 1, \"value\": 9196}, \"9198\": {\"frequency\": 3, \"value\": 9198}, \"9199\": {\"frequency\": 2, \"value\": 9199}, \"9200\": {\"frequency\": 13, \"value\": 9200}, \"9202\": {\"frequency\": 2, \"value\": 9202}, \"9204\": {\"frequency\": 1, \"value\": 9204}, \"9205\": {\"frequency\": 2, \"value\": 9205}, \"9206\": {\"frequency\": 1, \"value\": 9206}, \"9207\": {\"frequency\": 1, \"value\": 9207}, \"9209\": {\"frequency\": 2, \"value\": 9209}, \"9210\": {\"frequency\": 3, \"value\": 9210}, \"9211\": {\"frequency\": 2, \"value\": 9211}, \"9215\": {\"frequency\": 1, \"value\": 9215}, \"41984\": {\"frequency\": 1, \"value\": 41984}, \"9220\": {\"frequency\": 3, \"value\": 9220}, \"9222\": {\"frequency\": 1, \"value\": 9222}, \"9223\": {\"frequency\": 1, \"value\": 9223}, \"9225\": {\"frequency\": 7, \"value\": 9225}, \"9226\": {\"frequency\": 2, \"value\": 9226}, \"9229\": {\"frequency\": 1, \"value\": 9229}, \"9230\": {\"frequency\": 2, \"value\": 9230}, \"9231\": {\"frequency\": 2, \"value\": 9231}, \"42000\": {\"frequency\": 1, \"value\": 42000}, \"9234\": {\"frequency\": 2, \"value\": 9234}, \"9235\": {\"frequency\": 2, \"value\": 9235}, \"9236\": {\"frequency\": 1, \"value\": 9236}, \"9238\": {\"frequency\": 3, \"value\": 9238}, \"9239\": {\"frequency\": 3, \"value\": 9239}, \"9240\": {\"frequency\": 12, \"value\": 9240}, \"9242\": {\"frequency\": 1, \"value\": 9242}, \"9244\": {\"frequency\": 2, \"value\": 9244}, \"9247\": {\"frequency\": 2, \"value\": 9247}, \"9248\": {\"frequency\": 4, \"value\": 9248}, \"9250\": {\"frequency\": 4, \"value\": 9250}, \"9253\": {\"frequency\": 2, \"value\": 9253}, \"9261\": {\"frequency\": 2, \"value\": 9261}, \"9262\": {\"frequency\": 1, \"value\": 9262}, \"9263\": {\"frequency\": 2, \"value\": 9263}, \"9266\": {\"frequency\": 2, \"value\": 9266}, \"9267\": {\"frequency\": 1, \"value\": 9267}, \"9268\": {\"frequency\": 1, \"value\": 9268}, \"9270\": {\"frequency\": 3, \"value\": 9270}, \"9272\": {\"frequency\": 2, \"value\": 9272}, \"9273\": {\"frequency\": 4, \"value\": 9273}, \"9276\": {\"frequency\": 1, \"value\": 9276}, \"9279\": {\"frequency\": 1, \"value\": 9279}, \"9281\": {\"frequency\": 1, \"value\": 9281}, \"9282\": {\"frequency\": 5, \"value\": 9282}, \"9285\": {\"frequency\": 1, \"value\": 9285}, \"9289\": {\"frequency\": 1, \"value\": 9289}, \"9292\": {\"frequency\": 2, \"value\": 9292}, \"9295\": {\"frequency\": 1, \"value\": 9295}, \"9296\": {\"frequency\": 1, \"value\": 9296}, \"9298\": {\"frequency\": 1, \"value\": 9298}, \"9299\": {\"frequency\": 1, \"value\": 9299}, \"9300\": {\"frequency\": 11, \"value\": 9300}, \"9301\": {\"frequency\": 2, \"value\": 9301}, \"9307\": {\"frequency\": 1, \"value\": 9307}, \"9309\": {\"frequency\": 1, \"value\": 9309}, \"9310\": {\"frequency\": 3, \"value\": 9310}, \"9311\": {\"frequency\": 1, \"value\": 9311}, \"9312\": {\"frequency\": 2, \"value\": 9312}, \"9313\": {\"frequency\": 1, \"value\": 9313}, \"9314\": {\"frequency\": 2, \"value\": 9314}, \"9315\": {\"frequency\": 4, \"value\": 9315}, \"9318\": {\"frequency\": 1, \"value\": 9318}, \"9320\": {\"frequency\": 2, \"value\": 9320}, \"9322\": {\"frequency\": 2, \"value\": 9322}, \"9323\": {\"frequency\": 2, \"value\": 9323}, \"9324\": {\"frequency\": 1, \"value\": 9324}, \"9329\": {\"frequency\": 1, \"value\": 9329}, \"9330\": {\"frequency\": 1, \"value\": 9330}, \"9331\": {\"frequency\": 1, \"value\": 9331}, \"9333\": {\"frequency\": 1, \"value\": 9333}, \"9334\": {\"frequency\": 2, \"value\": 9334}, \"9339\": {\"frequency\": 2, \"value\": 9339}, \"9342\": {\"frequency\": 1, \"value\": 9342}, \"9344\": {\"frequency\": 1, \"value\": 9344}, \"12480\": {\"frequency\": 2, \"value\": 12480}, \"9349\": {\"frequency\": 1, \"value\": 9349}, \"9350\": {\"frequency\": 11, \"value\": 9350}, \"9351\": {\"frequency\": 1, \"value\": 9351}, \"9353\": {\"frequency\": 1, \"value\": 9353}, \"9354\": {\"frequency\": 2, \"value\": 9354}, \"9359\": {\"frequency\": 1, \"value\": 9359}, \"9360\": {\"frequency\": 10, \"value\": 9360}, \"9361\": {\"frequency\": 1, \"value\": 9361}, \"9362\": {\"frequency\": 3, \"value\": 9362}, \"9370\": {\"frequency\": 3, \"value\": 9370}, \"9373\": {\"frequency\": 2, \"value\": 9373}, \"9374\": {\"frequency\": 4, \"value\": 9374}, \"9375\": {\"frequency\": 11, \"value\": 9375}, \"9377\": {\"frequency\": 2, \"value\": 9377}, \"9378\": {\"frequency\": 1, \"value\": 9378}, \"9380\": {\"frequency\": 5, \"value\": 9380}, \"9389\": {\"frequency\": 2, \"value\": 9389}, \"9396\": {\"frequency\": 1, \"value\": 9396}, \"9397\": {\"frequency\": 1, \"value\": 9397}, \"9398\": {\"frequency\": 1, \"value\": 9398}, \"9400\": {\"frequency\": 8, \"value\": 9400}, \"9401\": {\"frequency\": 1, \"value\": 9401}, \"9405\": {\"frequency\": 1, \"value\": 9405}, \"9406\": {\"frequency\": 1, \"value\": 9406}, \"9409\": {\"frequency\": 1, \"value\": 9409}, \"42180\": {\"frequency\": 2, \"value\": 42180}, \"9414\": {\"frequency\": 2, \"value\": 9414}, \"9415\": {\"frequency\": 2, \"value\": 9415}, \"9416\": {\"frequency\": 2, \"value\": 9416}, \"9417\": {\"frequency\": 3, \"value\": 9417}, \"9420\": {\"frequency\": 2, \"value\": 9420}, \"9425\": {\"frequency\": 3, \"value\": 9425}, \"9426\": {\"frequency\": 2, \"value\": 9426}, \"9427\": {\"frequency\": 2, \"value\": 9427}, \"9428\": {\"frequency\": 1, \"value\": 9428}, \"9430\": {\"frequency\": 2, \"value\": 9430}, \"42200\": {\"frequency\": 1, \"value\": 42200}, \"9435\": {\"frequency\": 2, \"value\": 9435}, \"9436\": {\"frequency\": 1, \"value\": 9436}, \"9440\": {\"frequency\": 2, \"value\": 9440}, \"9442\": {\"frequency\": 1, \"value\": 9442}, \"9448\": {\"frequency\": 2, \"value\": 9448}, \"9450\": {\"frequency\": 19, \"value\": 9450}, \"9451\": {\"frequency\": 2, \"value\": 9451}, \"9452\": {\"frequency\": 2, \"value\": 9452}, \"9453\": {\"frequency\": 2, \"value\": 9453}, \"9458\": {\"frequency\": 1, \"value\": 9458}, \"9460\": {\"frequency\": 6, \"value\": 9460}, \"9465\": {\"frequency\": 2, \"value\": 9465}, \"9466\": {\"frequency\": 2, \"value\": 9466}, \"9467\": {\"frequency\": 1, \"value\": 9467}, \"9471\": {\"frequency\": 2, \"value\": 9471}, \"9472\": {\"frequency\": 2, \"value\": 9472}, \"9473\": {\"frequency\": 3, \"value\": 9473}, \"9477\": {\"frequency\": 2, \"value\": 9477}, \"9478\": {\"frequency\": 1, \"value\": 9478}, \"9480\": {\"frequency\": 6, \"value\": 9480}, \"9484\": {\"frequency\": 2, \"value\": 9484}, \"42253\": {\"frequency\": 1, \"value\": 42253}, \"9486\": {\"frequency\": 3, \"value\": 9486}, \"9487\": {\"frequency\": 1, \"value\": 9487}, \"9488\": {\"frequency\": 3, \"value\": 9488}, \"9491\": {\"frequency\": 1, \"value\": 9491}, \"9492\": {\"frequency\": 2, \"value\": 9492}, \"9493\": {\"frequency\": 1, \"value\": 9493}, \"9495\": {\"frequency\": 1, \"value\": 9495}, \"9497\": {\"frequency\": 3, \"value\": 9497}, \"9500\": {\"frequency\": 14, \"value\": 9500}, \"9503\": {\"frequency\": 1, \"value\": 9503}, \"9505\": {\"frequency\": 1, \"value\": 9505}, \"9507\": {\"frequency\": 1, \"value\": 9507}, \"9509\": {\"frequency\": 1, \"value\": 9509}, \"9512\": {\"frequency\": 2, \"value\": 9512}, \"9513\": {\"frequency\": 1, \"value\": 9513}, \"9514\": {\"frequency\": 3, \"value\": 9514}, \"9516\": {\"frequency\": 3, \"value\": 9516}, \"9517\": {\"frequency\": 2, \"value\": 9517}, \"9519\": {\"frequency\": 3, \"value\": 9519}, \"9520\": {\"frequency\": 8, \"value\": 9520}, \"9523\": {\"frequency\": 2, \"value\": 9523}, \"9525\": {\"frequency\": 11, \"value\": 9525}, \"9527\": {\"frequency\": 2, \"value\": 9527}, \"9528\": {\"frequency\": 2, \"value\": 9528}, \"9529\": {\"frequency\": 2, \"value\": 9529}, \"9530\": {\"frequency\": 1, \"value\": 9530}, \"9531\": {\"frequency\": 1, \"value\": 9531}, \"9535\": {\"frequency\": 2, \"value\": 9535}, \"9537\": {\"frequency\": 1, \"value\": 9537}, \"9538\": {\"frequency\": 1, \"value\": 9538}, \"9540\": {\"frequency\": 3, \"value\": 9540}, \"1590\": {\"frequency\": 3, \"value\": 1590}, \"9542\": {\"frequency\": 2, \"value\": 9542}, \"9545\": {\"frequency\": 2, \"value\": 9545}, \"9546\": {\"frequency\": 2, \"value\": 9546}, \"9547\": {\"frequency\": 2, \"value\": 9547}, \"42316\": {\"frequency\": 1, \"value\": 42316}, \"9549\": {\"frequency\": 2, \"value\": 9549}, \"9550\": {\"frequency\": 3, \"value\": 9550}, \"9554\": {\"frequency\": 1, \"value\": 9554}, \"9557\": {\"frequency\": 1, \"value\": 9557}, \"9563\": {\"frequency\": 2, \"value\": 9563}, \"9565\": {\"frequency\": 1, \"value\": 9565}, \"9566\": {\"frequency\": 3, \"value\": 9566}, \"9569\": {\"frequency\": 1, \"value\": 9569}, \"9570\": {\"frequency\": 4, \"value\": 9570}, \"9571\": {\"frequency\": 1, \"value\": 9571}, \"9575\": {\"frequency\": 1, \"value\": 9575}, \"9576\": {\"frequency\": 5, \"value\": 9576}, \"9578\": {\"frequency\": 1, \"value\": 9578}, \"9579\": {\"frequency\": 3, \"value\": 9579}, \"9580\": {\"frequency\": 2, \"value\": 9580}, \"9581\": {\"frequency\": 1, \"value\": 9581}, \"9583\": {\"frequency\": 9, \"value\": 9583}, \"9585\": {\"frequency\": 1, \"value\": 9585}, \"9586\": {\"frequency\": 1, \"value\": 9586}, \"9588\": {\"frequency\": 3, \"value\": 9588}, \"9592\": {\"frequency\": 1, \"value\": 9592}, \"9593\": {\"frequency\": 1, \"value\": 9593}, \"9594\": {\"frequency\": 2, \"value\": 9594}, \"75132\": {\"frequency\": 1, \"value\": 75132}, \"9597\": {\"frequency\": 2, \"value\": 9597}, \"9599\": {\"frequency\": 3, \"value\": 9599}, \"9600\": {\"frequency\": 109, \"value\": 9600}, \"9601\": {\"frequency\": 6, \"value\": 9601}, \"9602\": {\"frequency\": 2, \"value\": 9602}, \"9603\": {\"frequency\": 6, \"value\": 9603}, \"9604\": {\"frequency\": 2, \"value\": 9604}, \"9605\": {\"frequency\": 4, \"value\": 9605}, \"9606\": {\"frequency\": 4, \"value\": 9606}, \"9607\": {\"frequency\": 1, \"value\": 9607}, \"9608\": {\"frequency\": 2, \"value\": 9608}, \"9610\": {\"frequency\": 4, \"value\": 9610}, \"9611\": {\"frequency\": 2, \"value\": 9611}, \"9612\": {\"frequency\": 7, \"value\": 9612}, \"9614\": {\"frequency\": 3, \"value\": 9614}, \"435600\": {\"frequency\": 6, \"value\": 435600}, \"9618\": {\"frequency\": 1, \"value\": 9618}, \"9620\": {\"frequency\": 7, \"value\": 9620}, \"9622\": {\"frequency\": 2, \"value\": 9622}, \"9623\": {\"frequency\": 2, \"value\": 9623}, \"9624\": {\"frequency\": 5, \"value\": 9624}, \"9625\": {\"frequency\": 3, \"value\": 9625}, \"9627\": {\"frequency\": 2, \"value\": 9627}, \"9628\": {\"frequency\": 2, \"value\": 9628}, \"9629\": {\"frequency\": 4, \"value\": 9629}, \"9630\": {\"frequency\": 5, \"value\": 9630}, \"42399\": {\"frequency\": 1, \"value\": 42399}, \"9633\": {\"frequency\": 1, \"value\": 9633}, \"9636\": {\"frequency\": 4, \"value\": 9636}, \"9638\": {\"frequency\": 4, \"value\": 9638}, \"9639\": {\"frequency\": 2, \"value\": 9639}, \"9643\": {\"frequency\": 3, \"value\": 9643}, \"9644\": {\"frequency\": 1, \"value\": 9644}, \"9645\": {\"frequency\": 3, \"value\": 9645}, \"9646\": {\"frequency\": 1, \"value\": 9646}, \"9647\": {\"frequency\": 2, \"value\": 9647}, \"9648\": {\"frequency\": 3, \"value\": 9648}, \"9650\": {\"frequency\": 3, \"value\": 9650}, \"9652\": {\"frequency\": 6, \"value\": 9652}, \"9653\": {\"frequency\": 4, \"value\": 9653}, \"9654\": {\"frequency\": 2, \"value\": 9654}, \"9655\": {\"frequency\": 2, \"value\": 9655}, \"9656\": {\"frequency\": 6, \"value\": 9656}, \"9658\": {\"frequency\": 1, \"value\": 9658}, \"9660\": {\"frequency\": 4, \"value\": 9660}, \"9663\": {\"frequency\": 2, \"value\": 9663}, \"42436\": {\"frequency\": 1, \"value\": 42436}, \"12534\": {\"frequency\": 1, \"value\": 12534}, \"9670\": {\"frequency\": 2, \"value\": 9670}, \"9671\": {\"frequency\": 1, \"value\": 9671}, \"9672\": {\"frequency\": 4, \"value\": 9672}, \"1612\": {\"frequency\": 3, \"value\": 1612}, \"9674\": {\"frequency\": 2, \"value\": 9674}, \"9675\": {\"frequency\": 3, \"value\": 9675}, \"9676\": {\"frequency\": 1, \"value\": 9676}, \"9678\": {\"frequency\": 1, \"value\": 9678}, \"9679\": {\"frequency\": 1, \"value\": 9679}, \"9680\": {\"frequency\": 10, \"value\": 9680}, \"9681\": {\"frequency\": 1, \"value\": 9681}, \"9682\": {\"frequency\": 3, \"value\": 9682}, \"9684\": {\"frequency\": 2, \"value\": 9684}, \"9686\": {\"frequency\": 2, \"value\": 9686}, \"9687\": {\"frequency\": 3, \"value\": 9687}, \"9689\": {\"frequency\": 2, \"value\": 9689}, \"9690\": {\"frequency\": 5, \"value\": 9690}, \"9696\": {\"frequency\": 2, \"value\": 9696}, \"9697\": {\"frequency\": 3, \"value\": 9697}, \"9701\": {\"frequency\": 3, \"value\": 9701}, \"9703\": {\"frequency\": 2, \"value\": 9703}, \"9705\": {\"frequency\": 2, \"value\": 9705}, \"9706\": {\"frequency\": 2, \"value\": 9706}, \"9708\": {\"frequency\": 1, \"value\": 9708}, \"9711\": {\"frequency\": 3, \"value\": 9711}, \"7080\": {\"frequency\": 7, \"value\": 7080}, \"9714\": {\"frequency\": 3, \"value\": 9714}, \"9715\": {\"frequency\": 3, \"value\": 9715}, \"9719\": {\"frequency\": 3, \"value\": 9719}, \"9720\": {\"frequency\": 12, \"value\": 9720}, \"9725\": {\"frequency\": 3, \"value\": 9725}, \"9729\": {\"frequency\": 1, \"value\": 9729}, \"9730\": {\"frequency\": 3, \"value\": 9730}, \"9732\": {\"frequency\": 3, \"value\": 9732}, \"9734\": {\"frequency\": 1, \"value\": 9734}, \"9737\": {\"frequency\": 1, \"value\": 9737}, \"9743\": {\"frequency\": 2, \"value\": 9743}, \"9747\": {\"frequency\": 2, \"value\": 9747}, \"9748\": {\"frequency\": 3, \"value\": 9748}, \"9750\": {\"frequency\": 43, \"value\": 9750}, \"9751\": {\"frequency\": 2, \"value\": 9751}, \"9752\": {\"frequency\": 5, \"value\": 9752}, \"9753\": {\"frequency\": 4, \"value\": 9753}, \"9760\": {\"frequency\": 6, \"value\": 9760}, \"9761\": {\"frequency\": 1, \"value\": 9761}, \"9762\": {\"frequency\": 1, \"value\": 9762}, \"9764\": {\"frequency\": 2, \"value\": 9764}, \"9765\": {\"frequency\": 1, \"value\": 9765}, \"9766\": {\"frequency\": 2, \"value\": 9766}, \"9767\": {\"frequency\": 1, \"value\": 9767}, \"9769\": {\"frequency\": 1, \"value\": 9769}, \"9773\": {\"frequency\": 2, \"value\": 9773}, \"9774\": {\"frequency\": 2, \"value\": 9774}, \"9775\": {\"frequency\": 10, \"value\": 9775}, \"9779\": {\"frequency\": 3, \"value\": 9779}, \"9780\": {\"frequency\": 4, \"value\": 9780}, \"9781\": {\"frequency\": 1, \"value\": 9781}, \"9784\": {\"frequency\": 2, \"value\": 9784}, \"9786\": {\"frequency\": 3, \"value\": 9786}, \"9788\": {\"frequency\": 1, \"value\": 9788}, \"9792\": {\"frequency\": 2, \"value\": 9792}, \"9793\": {\"frequency\": 2, \"value\": 9793}, \"9794\": {\"frequency\": 1, \"value\": 9794}, \"9796\": {\"frequency\": 2, \"value\": 9796}, \"9798\": {\"frequency\": 3, \"value\": 9798}, \"9799\": {\"frequency\": 1, \"value\": 9799}, \"9800\": {\"frequency\": 20, \"value\": 9800}, \"9804\": {\"frequency\": 4, \"value\": 9804}, \"9806\": {\"frequency\": 1, \"value\": 9806}, \"9812\": {\"frequency\": 4, \"value\": 9812}, \"9813\": {\"frequency\": 1, \"value\": 9813}, \"9816\": {\"frequency\": 1, \"value\": 9816}, \"9822\": {\"frequency\": 3, \"value\": 9822}, \"9824\": {\"frequency\": 2, \"value\": 9824}, \"9825\": {\"frequency\": 9, \"value\": 9825}, \"9826\": {\"frequency\": 2, \"value\": 9826}, \"9827\": {\"frequency\": 5, \"value\": 9827}, \"9828\": {\"frequency\": 2, \"value\": 9828}, \"9830\": {\"frequency\": 3, \"value\": 9830}, \"9831\": {\"frequency\": 1, \"value\": 9831}, \"9835\": {\"frequency\": 1, \"value\": 9835}, \"9838\": {\"frequency\": 1, \"value\": 9838}, \"9839\": {\"frequency\": 1, \"value\": 9839}, \"9840\": {\"frequency\": 5, \"value\": 9840}, \"9843\": {\"frequency\": 1, \"value\": 9843}, \"9844\": {\"frequency\": 1, \"value\": 9844}, \"9845\": {\"frequency\": 1, \"value\": 9845}, \"9846\": {\"frequency\": 1, \"value\": 9846}, \"9847\": {\"frequency\": 2, \"value\": 9847}, \"9850\": {\"frequency\": 1, \"value\": 9850}, \"9855\": {\"frequency\": 2, \"value\": 9855}, \"9856\": {\"frequency\": 3, \"value\": 9856}, \"9861\": {\"frequency\": 2, \"value\": 9861}, \"9864\": {\"frequency\": 2, \"value\": 9864}, \"206474\": {\"frequency\": 2, \"value\": 206474}, \"9869\": {\"frequency\": 2, \"value\": 9869}, \"9871\": {\"frequency\": 1, \"value\": 9871}, \"206480\": {\"frequency\": 1, \"value\": 206480}, \"9874\": {\"frequency\": 3, \"value\": 9874}, \"9875\": {\"frequency\": 3, \"value\": 9875}, \"9876\": {\"frequency\": 1, \"value\": 9876}, \"9877\": {\"frequency\": 2, \"value\": 9877}, \"9879\": {\"frequency\": 2, \"value\": 9879}, \"9880\": {\"frequency\": 4, \"value\": 9880}, \"9882\": {\"frequency\": 2, \"value\": 9882}, \"9886\": {\"frequency\": 3, \"value\": 9886}, \"9887\": {\"frequency\": 2, \"value\": 9887}, \"9888\": {\"frequency\": 1, \"value\": 9888}, \"9892\": {\"frequency\": 1, \"value\": 9892}, \"9893\": {\"frequency\": 1, \"value\": 9893}, \"9897\": {\"frequency\": 2, \"value\": 9897}, \"9898\": {\"frequency\": 3, \"value\": 9898}, \"9899\": {\"frequency\": 2, \"value\": 9899}, \"9900\": {\"frequency\": 29, \"value\": 9900}, \"9903\": {\"frequency\": 1, \"value\": 9903}, \"9904\": {\"frequency\": 1, \"value\": 9904}, \"9905\": {\"frequency\": 1, \"value\": 9905}, \"9907\": {\"frequency\": 2, \"value\": 9907}, \"9908\": {\"frequency\": 1, \"value\": 9908}, \"9912\": {\"frequency\": 2, \"value\": 9912}, \"9914\": {\"frequency\": 2, \"value\": 9914}, \"9916\": {\"frequency\": 4, \"value\": 9916}, \"9917\": {\"frequency\": 1, \"value\": 9917}, \"9920\": {\"frequency\": 6, \"value\": 9920}, \"9921\": {\"frequency\": 2, \"value\": 9921}, \"9926\": {\"frequency\": 2, \"value\": 9926}, \"9927\": {\"frequency\": 1, \"value\": 9927}, \"9932\": {\"frequency\": 1, \"value\": 9932}, \"9934\": {\"frequency\": 1, \"value\": 9934}, \"9935\": {\"frequency\": 2, \"value\": 9935}, \"9936\": {\"frequency\": 2, \"value\": 9936}, \"9946\": {\"frequency\": 1, \"value\": 9946}, \"9948\": {\"frequency\": 2, \"value\": 9948}, \"9950\": {\"frequency\": 2, \"value\": 9950}, \"9954\": {\"frequency\": 1, \"value\": 9954}, \"9956\": {\"frequency\": 1, \"value\": 9956}, \"9957\": {\"frequency\": 3, \"value\": 9957}, \"9959\": {\"frequency\": 1, \"value\": 9959}, \"9960\": {\"frequency\": 2, \"value\": 9960}, \"9961\": {\"frequency\": 1, \"value\": 9961}, \"9963\": {\"frequency\": 1, \"value\": 9963}, \"9964\": {\"frequency\": 1, \"value\": 9964}, \"42733\": {\"frequency\": 2, \"value\": 42733}, \"9966\": {\"frequency\": 2, \"value\": 9966}, \"9968\": {\"frequency\": 1, \"value\": 9968}, \"9969\": {\"frequency\": 1, \"value\": 9969}, \"9972\": {\"frequency\": 4, \"value\": 9972}, \"9973\": {\"frequency\": 1, \"value\": 9973}, \"9975\": {\"frequency\": 4, \"value\": 9975}, \"9976\": {\"frequency\": 1, \"value\": 9976}, \"9980\": {\"frequency\": 1, \"value\": 9980}, \"9984\": {\"frequency\": 1, \"value\": 9984}, \"9988\": {\"frequency\": 1, \"value\": 9988}, \"9990\": {\"frequency\": 5, \"value\": 9990}, \"9993\": {\"frequency\": 1, \"value\": 9993}, \"9994\": {\"frequency\": 3, \"value\": 9994}, \"9998\": {\"frequency\": 1, \"value\": 9998}, \"10000\": {\"frequency\": 46, \"value\": 10000}, \"42769\": {\"frequency\": 1, \"value\": 42769}, \"10002\": {\"frequency\": 1, \"value\": 10002}, \"10003\": {\"frequency\": 2, \"value\": 10003}, \"10005\": {\"frequency\": 7, \"value\": 10005}, \"10006\": {\"frequency\": 1, \"value\": 10006}, \"10010\": {\"frequency\": 2, \"value\": 10010}, \"12591\": {\"frequency\": 1, \"value\": 12591}, \"10014\": {\"frequency\": 1, \"value\": 10014}, \"10015\": {\"frequency\": 1, \"value\": 10015}, \"10016\": {\"frequency\": 2, \"value\": 10016}, \"10018\": {\"frequency\": 7, \"value\": 10018}, \"10023\": {\"frequency\": 2, \"value\": 10023}, \"10026\": {\"frequency\": 2, \"value\": 10026}, \"10030\": {\"frequency\": 2, \"value\": 10030}, \"10031\": {\"frequency\": 2, \"value\": 10031}, \"10032\": {\"frequency\": 3, \"value\": 10032}, \"10035\": {\"frequency\": 2, \"value\": 10035}, \"10037\": {\"frequency\": 1, \"value\": 10037}, \"10039\": {\"frequency\": 1, \"value\": 10039}, \"10043\": {\"frequency\": 2, \"value\": 10043}, \"10047\": {\"frequency\": 1, \"value\": 10047}, \"10049\": {\"frequency\": 1, \"value\": 10049}, \"10050\": {\"frequency\": 11, \"value\": 10050}, \"10051\": {\"frequency\": 4, \"value\": 10051}, \"10052\": {\"frequency\": 2, \"value\": 10052}, \"10057\": {\"frequency\": 1, \"value\": 10057}, \"10061\": {\"frequency\": 1, \"value\": 10061}, \"10062\": {\"frequency\": 2, \"value\": 10062}, \"10064\": {\"frequency\": 3, \"value\": 10064}, \"10070\": {\"frequency\": 2, \"value\": 10070}, \"42840\": {\"frequency\": 1, \"value\": 42840}, \"10074\": {\"frequency\": 1, \"value\": 10074}, \"10075\": {\"frequency\": 2, \"value\": 10075}, \"10078\": {\"frequency\": 3, \"value\": 10078}, \"10079\": {\"frequency\": 4, \"value\": 10079}, \"10080\": {\"frequency\": 9, \"value\": 10080}, \"10083\": {\"frequency\": 1, \"value\": 10083}, \"10087\": {\"frequency\": 1, \"value\": 10087}, \"10090\": {\"frequency\": 1, \"value\": 10090}, \"10092\": {\"frequency\": 2, \"value\": 10092}, \"10094\": {\"frequency\": 2, \"value\": 10094}, \"10096\": {\"frequency\": 1, \"value\": 10096}, \"10098\": {\"frequency\": 2, \"value\": 10098}, \"10100\": {\"frequency\": 4, \"value\": 10100}, \"10107\": {\"frequency\": 1, \"value\": 10107}, \"10109\": {\"frequency\": 1, \"value\": 10109}, \"10111\": {\"frequency\": 2, \"value\": 10111}, \"10113\": {\"frequency\": 1, \"value\": 10113}, \"10116\": {\"frequency\": 1, \"value\": 10116}, \"10117\": {\"frequency\": 3, \"value\": 10117}, \"10120\": {\"frequency\": 2, \"value\": 10120}, \"10122\": {\"frequency\": 1, \"value\": 10122}, \"10123\": {\"frequency\": 1, \"value\": 10123}, \"10125\": {\"frequency\": 25, \"value\": 10125}, \"10126\": {\"frequency\": 2, \"value\": 10126}, \"10137\": {\"frequency\": 3, \"value\": 10137}, \"10139\": {\"frequency\": 2, \"value\": 10139}, \"10140\": {\"frequency\": 5, \"value\": 10140}, \"10148\": {\"frequency\": 1, \"value\": 10148}, \"403365\": {\"frequency\": 1, \"value\": 403365}, \"10150\": {\"frequency\": 4, \"value\": 10150}, \"10152\": {\"frequency\": 2, \"value\": 10152}, \"10155\": {\"frequency\": 4, \"value\": 10155}, \"10160\": {\"frequency\": 7, \"value\": 10160}, \"10165\": {\"frequency\": 1, \"value\": 10165}, \"10168\": {\"frequency\": 1, \"value\": 10168}, \"10170\": {\"frequency\": 2, \"value\": 10170}, \"10171\": {\"frequency\": 1, \"value\": 10171}, \"10176\": {\"frequency\": 2, \"value\": 10176}, \"10177\": {\"frequency\": 1, \"value\": 10177}, \"10179\": {\"frequency\": 2, \"value\": 10179}, \"10181\": {\"frequency\": 1, \"value\": 10181}, \"10182\": {\"frequency\": 2, \"value\": 10182}, \"10183\": {\"frequency\": 5, \"value\": 10183}, \"10184\": {\"frequency\": 1, \"value\": 10184}, \"10187\": {\"frequency\": 1, \"value\": 10187}, \"10189\": {\"frequency\": 3, \"value\": 10189}, \"10190\": {\"frequency\": 3, \"value\": 10190}, \"10194\": {\"frequency\": 2, \"value\": 10194}, \"10196\": {\"frequency\": 2, \"value\": 10196}, \"10200\": {\"frequency\": 30, \"value\": 10200}, \"10202\": {\"frequency\": 5, \"value\": 10202}, \"10203\": {\"frequency\": 1, \"value\": 10203}, \"10204\": {\"frequency\": 1, \"value\": 10204}, \"10210\": {\"frequency\": 1, \"value\": 10210}, \"10212\": {\"frequency\": 2, \"value\": 10212}, \"10215\": {\"frequency\": 3, \"value\": 10215}, \"10221\": {\"frequency\": 2, \"value\": 10221}, \"10223\": {\"frequency\": 2, \"value\": 10223}, \"10225\": {\"frequency\": 1, \"value\": 10225}, \"10227\": {\"frequency\": 3, \"value\": 10227}, \"10228\": {\"frequency\": 1, \"value\": 10228}, \"10229\": {\"frequency\": 2, \"value\": 10229}, \"10230\": {\"frequency\": 5, \"value\": 10230}, \"43000\": {\"frequency\": 1, \"value\": 43000}, \"10235\": {\"frequency\": 1, \"value\": 10235}, \"10236\": {\"frequency\": 1, \"value\": 10236}, \"10240\": {\"frequency\": 6, \"value\": 10240}, \"10245\": {\"frequency\": 2, \"value\": 10245}, \"10247\": {\"frequency\": 1, \"value\": 10247}, \"10248\": {\"frequency\": 2, \"value\": 10248}, \"43017\": {\"frequency\": 1, \"value\": 43017}, \"10250\": {\"frequency\": 4, \"value\": 10250}, \"10255\": {\"frequency\": 1, \"value\": 10255}, \"10256\": {\"frequency\": 1, \"value\": 10256}, \"10257\": {\"frequency\": 1, \"value\": 10257}, \"75794\": {\"frequency\": 3, \"value\": 75794}, \"10259\": {\"frequency\": 1, \"value\": 10259}, \"10260\": {\"frequency\": 8, \"value\": 10260}, \"10270\": {\"frequency\": 3, \"value\": 10270}, \"10271\": {\"frequency\": 1, \"value\": 10271}, \"10274\": {\"frequency\": 1, \"value\": 10274}, \"10275\": {\"frequency\": 4, \"value\": 10275}, \"10277\": {\"frequency\": 2, \"value\": 10277}, \"10280\": {\"frequency\": 2, \"value\": 10280}, \"10281\": {\"frequency\": 1, \"value\": 10281}, \"10283\": {\"frequency\": 2, \"value\": 10283}, \"10284\": {\"frequency\": 1, \"value\": 10284}, \"10289\": {\"frequency\": 2, \"value\": 10289}, \"10290\": {\"frequency\": 3, \"value\": 10290}, \"10291\": {\"frequency\": 2, \"value\": 10291}, \"10292\": {\"frequency\": 3, \"value\": 10292}, \"10296\": {\"frequency\": 3, \"value\": 10296}, \"10297\": {\"frequency\": 2, \"value\": 10297}, \"10300\": {\"frequency\": 11, \"value\": 10300}, \"10302\": {\"frequency\": 1, \"value\": 10302}, \"10306\": {\"frequency\": 1, \"value\": 10306}, \"10308\": {\"frequency\": 2, \"value\": 10308}, \"10312\": {\"frequency\": 1, \"value\": 10312}, \"10316\": {\"frequency\": 1, \"value\": 10316}, \"10320\": {\"frequency\": 5, \"value\": 10320}, \"10323\": {\"frequency\": 1, \"value\": 10323}, \"43093\": {\"frequency\": 1, \"value\": 43093}, \"10327\": {\"frequency\": 2, \"value\": 10327}, \"10330\": {\"frequency\": 3, \"value\": 10330}, \"43101\": {\"frequency\": 1, \"value\": 43101}, \"10335\": {\"frequency\": 3, \"value\": 10335}, \"10336\": {\"frequency\": 2, \"value\": 10336}, \"10341\": {\"frequency\": 1, \"value\": 10341}, \"10344\": {\"frequency\": 2, \"value\": 10344}, \"10350\": {\"frequency\": 13, \"value\": 10350}, \"75889\": {\"frequency\": 1, \"value\": 75889}, \"43123\": {\"frequency\": 1, \"value\": 43123}, \"43124\": {\"frequency\": 2, \"value\": 43124}, \"10358\": {\"frequency\": 3, \"value\": 10358}, \"10359\": {\"frequency\": 1, \"value\": 10359}, \"10360\": {\"frequency\": 4, \"value\": 10360}, \"10362\": {\"frequency\": 1, \"value\": 10362}, \"10363\": {\"frequency\": 1, \"value\": 10363}, \"10367\": {\"frequency\": 1, \"value\": 10367}, \"10368\": {\"frequency\": 2, \"value\": 10368}, \"10369\": {\"frequency\": 2, \"value\": 10369}, \"10370\": {\"frequency\": 2, \"value\": 10370}, \"10372\": {\"frequency\": 1, \"value\": 10372}, \"10374\": {\"frequency\": 1, \"value\": 10374}, \"10375\": {\"frequency\": 4, \"value\": 10375}, \"10384\": {\"frequency\": 2, \"value\": 10384}, \"10385\": {\"frequency\": 1, \"value\": 10385}, \"10392\": {\"frequency\": 1, \"value\": 10392}, \"10395\": {\"frequency\": 1, \"value\": 10395}, \"10400\": {\"frequency\": 11, \"value\": 10400}, \"10403\": {\"frequency\": 3, \"value\": 10403}, \"10409\": {\"frequency\": 2, \"value\": 10409}, \"10414\": {\"frequency\": 1, \"value\": 10414}, \"10416\": {\"frequency\": 3, \"value\": 10416}, \"10422\": {\"frequency\": 1, \"value\": 10422}, \"10423\": {\"frequency\": 3, \"value\": 10423}, \"10424\": {\"frequency\": 2, \"value\": 10424}, \"10425\": {\"frequency\": 1, \"value\": 10425}, \"10426\": {\"frequency\": 2, \"value\": 10426}, \"10433\": {\"frequency\": 1, \"value\": 10433}, \"10436\": {\"frequency\": 1, \"value\": 10436}, \"7201\": {\"frequency\": 8, \"value\": 7201}, \"10440\": {\"frequency\": 4, \"value\": 10440}, \"10447\": {\"frequency\": 1, \"value\": 10447}, \"10450\": {\"frequency\": 9, \"value\": 10450}, \"10451\": {\"frequency\": 1, \"value\": 10451}, \"10454\": {\"frequency\": 8, \"value\": 10454}, \"10455\": {\"frequency\": 3, \"value\": 10455}, \"10459\": {\"frequency\": 2, \"value\": 10459}, \"10460\": {\"frequency\": 2, \"value\": 10460}, \"10463\": {\"frequency\": 1, \"value\": 10463}, \"10464\": {\"frequency\": 3, \"value\": 10464}, \"10465\": {\"frequency\": 1, \"value\": 10465}, \"10474\": {\"frequency\": 1, \"value\": 10474}, \"403693\": {\"frequency\": 1, \"value\": 403693}, \"10480\": {\"frequency\": 3, \"value\": 10480}, \"10481\": {\"frequency\": 2, \"value\": 10481}, \"72745\": {\"frequency\": 1, \"value\": 72745}, \"10488\": {\"frequency\": 3, \"value\": 10488}, \"10490\": {\"frequency\": 2, \"value\": 10490}, \"10491\": {\"frequency\": 1, \"value\": 10491}, \"10492\": {\"frequency\": 2, \"value\": 10492}, \"10500\": {\"frequency\": 31, \"value\": 10500}, \"10501\": {\"frequency\": 1, \"value\": 10501}, \"10505\": {\"frequency\": 2, \"value\": 10505}, \"10506\": {\"frequency\": 1, \"value\": 10506}, \"10507\": {\"frequency\": 1, \"value\": 10507}, \"10510\": {\"frequency\": 1, \"value\": 10510}, \"10513\": {\"frequency\": 2, \"value\": 10513}, \"10514\": {\"frequency\": 1, \"value\": 10514}, \"10517\": {\"frequency\": 1, \"value\": 10517}, \"10518\": {\"frequency\": 1, \"value\": 10518}, \"10519\": {\"frequency\": 2, \"value\": 10519}, \"10521\": {\"frequency\": 2, \"value\": 10521}, \"10523\": {\"frequency\": 2, \"value\": 10523}, \"10525\": {\"frequency\": 1, \"value\": 10525}, \"10529\": {\"frequency\": 1, \"value\": 10529}, \"10530\": {\"frequency\": 6, \"value\": 10530}, \"43301\": {\"frequency\": 1, \"value\": 43301}, \"10534\": {\"frequency\": 1, \"value\": 10534}, \"10541\": {\"frequency\": 1, \"value\": 10541}, \"10542\": {\"frequency\": 1, \"value\": 10542}, \"10548\": {\"frequency\": 2, \"value\": 10548}, \"10550\": {\"frequency\": 2, \"value\": 10550}, \"10556\": {\"frequency\": 1, \"value\": 10556}, \"10558\": {\"frequency\": 1, \"value\": 10558}, \"10559\": {\"frequency\": 1, \"value\": 10559}, \"10560\": {\"frequency\": 2, \"value\": 10560}, \"34528\": {\"frequency\": 1, \"value\": 34528}, \"10563\": {\"frequency\": 1, \"value\": 10563}, \"10572\": {\"frequency\": 2, \"value\": 10572}, \"10573\": {\"frequency\": 2, \"value\": 10573}, \"10574\": {\"frequency\": 2, \"value\": 10574}, \"10575\": {\"frequency\": 2, \"value\": 10575}, \"10576\": {\"frequency\": 3, \"value\": 10576}, \"10578\": {\"frequency\": 2, \"value\": 10578}, \"10583\": {\"frequency\": 2, \"value\": 10583}, \"10584\": {\"frequency\": 4, \"value\": 10584}, \"10585\": {\"frequency\": 2, \"value\": 10585}, \"10588\": {\"frequency\": 4, \"value\": 10588}, \"10590\": {\"frequency\": 1, \"value\": 10590}, \"108900\": {\"frequency\": 8, \"value\": 108900}, \"10600\": {\"frequency\": 2, \"value\": 10600}, \"10608\": {\"frequency\": 2, \"value\": 10608}, \"43377\": {\"frequency\": 1, \"value\": 43377}, \"10611\": {\"frequency\": 1, \"value\": 10611}, \"10613\": {\"frequency\": 1, \"value\": 10613}, \"10615\": {\"frequency\": 1, \"value\": 10615}, \"43386\": {\"frequency\": 1, \"value\": 43386}, \"10620\": {\"frequency\": 1, \"value\": 10620}, \"10623\": {\"frequency\": 2, \"value\": 10623}, \"10625\": {\"frequency\": 4, \"value\": 10625}, \"10628\": {\"frequency\": 1, \"value\": 10628}, \"10630\": {\"frequency\": 1, \"value\": 10630}, \"10631\": {\"frequency\": 2, \"value\": 10631}, \"10633\": {\"frequency\": 1, \"value\": 10633}, \"10637\": {\"frequency\": 2, \"value\": 10637}, \"10640\": {\"frequency\": 2, \"value\": 10640}, \"10642\": {\"frequency\": 1, \"value\": 10642}, \"10646\": {\"frequency\": 1, \"value\": 10646}, \"10650\": {\"frequency\": 5, \"value\": 10650}, \"10655\": {\"frequency\": 2, \"value\": 10655}, \"10660\": {\"frequency\": 3, \"value\": 10660}, \"10661\": {\"frequency\": 1, \"value\": 10661}, \"10664\": {\"frequency\": 1, \"value\": 10664}, \"10687\": {\"frequency\": 1, \"value\": 10687}, \"76230\": {\"frequency\": 2, \"value\": 76230}, \"10696\": {\"frequency\": 1, \"value\": 10696}, \"10698\": {\"frequency\": 1, \"value\": 10698}, \"10700\": {\"frequency\": 1, \"value\": 10700}, \"10701\": {\"frequency\": 1, \"value\": 10701}, \"10702\": {\"frequency\": 1, \"value\": 10702}, \"10707\": {\"frequency\": 1, \"value\": 10707}, \"10708\": {\"frequency\": 1, \"value\": 10708}, \"40014\": {\"frequency\": 1, \"value\": 40014}, \"10710\": {\"frequency\": 2, \"value\": 10710}, \"10716\": {\"frequency\": 2, \"value\": 10716}, \"10720\": {\"frequency\": 7, \"value\": 10720}, \"10722\": {\"frequency\": 1, \"value\": 10722}, \"10723\": {\"frequency\": 5, \"value\": 10723}, \"10725\": {\"frequency\": 3, \"value\": 10725}, \"10726\": {\"frequency\": 4, \"value\": 10726}, \"10731\": {\"frequency\": 1, \"value\": 10731}, \"10733\": {\"frequency\": 2, \"value\": 10733}, \"207346\": {\"frequency\": 1, \"value\": 207346}, \"10739\": {\"frequency\": 2, \"value\": 10739}, \"10744\": {\"frequency\": 2, \"value\": 10744}, \"7252\": {\"frequency\": 3, \"value\": 7252}, \"10748\": {\"frequency\": 1, \"value\": 10748}, \"10750\": {\"frequency\": 2, \"value\": 10750}, \"10752\": {\"frequency\": 2, \"value\": 10752}, \"10753\": {\"frequency\": 1, \"value\": 10753}, \"10754\": {\"frequency\": 2, \"value\": 10754}, \"10757\": {\"frequency\": 3, \"value\": 10757}, \"10761\": {\"frequency\": 1, \"value\": 10761}, \"10762\": {\"frequency\": 2, \"value\": 10762}, \"10764\": {\"frequency\": 1, \"value\": 10764}, \"10766\": {\"frequency\": 3, \"value\": 10766}, \"10769\": {\"frequency\": 1, \"value\": 10769}, \"10780\": {\"frequency\": 2, \"value\": 10780}, \"10790\": {\"frequency\": 1, \"value\": 10790}, \"43560\": {\"frequency\": 21, \"value\": 43560}, \"10794\": {\"frequency\": 3, \"value\": 10794}, \"10796\": {\"frequency\": 2, \"value\": 10796}, \"10798\": {\"frequency\": 2, \"value\": 10798}, \"10800\": {\"frequency\": 44, \"value\": 10800}, \"10801\": {\"frequency\": 1, \"value\": 10801}, \"10804\": {\"frequency\": 1, \"value\": 10804}, \"43575\": {\"frequency\": 1, \"value\": 43575}, \"10812\": {\"frequency\": 1, \"value\": 10812}, \"10814\": {\"frequency\": 1, \"value\": 10814}, \"10815\": {\"frequency\": 1, \"value\": 10815}, \"10816\": {\"frequency\": 2, \"value\": 10816}, \"10819\": {\"frequency\": 2, \"value\": 10819}, \"10824\": {\"frequency\": 1, \"value\": 10824}, \"10827\": {\"frequency\": 2, \"value\": 10827}, \"10829\": {\"frequency\": 1, \"value\": 10829}, \"10834\": {\"frequency\": 1, \"value\": 10834}, \"10838\": {\"frequency\": 1, \"value\": 10838}, \"10840\": {\"frequency\": 1, \"value\": 10840}, \"10841\": {\"frequency\": 1, \"value\": 10841}, \"10843\": {\"frequency\": 1, \"value\": 10843}, \"10844\": {\"frequency\": 1, \"value\": 10844}, \"10850\": {\"frequency\": 3, \"value\": 10850}, \"10853\": {\"frequency\": 1, \"value\": 10853}, \"10854\": {\"frequency\": 1, \"value\": 10854}, \"10856\": {\"frequency\": 2, \"value\": 10856}, \"10860\": {\"frequency\": 3, \"value\": 10860}, \"10862\": {\"frequency\": 1, \"value\": 10862}, \"10866\": {\"frequency\": 2, \"value\": 10866}, \"10869\": {\"frequency\": 1, \"value\": 10869}, \"10875\": {\"frequency\": 8, \"value\": 10875}, \"43645\": {\"frequency\": 1, \"value\": 43645}, \"43647\": {\"frequency\": 1, \"value\": 43647}, \"10880\": {\"frequency\": 6, \"value\": 10880}, \"10881\": {\"frequency\": 1, \"value\": 10881}, \"10890\": {\"frequency\": 9, \"value\": 10890}, \"10893\": {\"frequency\": 1, \"value\": 10893}, \"10900\": {\"frequency\": 4, \"value\": 10900}, \"10905\": {\"frequency\": 1, \"value\": 10905}, \"10908\": {\"frequency\": 1, \"value\": 10908}, \"10911\": {\"frequency\": 1, \"value\": 10911}, \"10920\": {\"frequency\": 9, \"value\": 10920}, \"10925\": {\"frequency\": 3, \"value\": 10925}, \"10929\": {\"frequency\": 2, \"value\": 10929}, \"105587\": {\"frequency\": 1, \"value\": 105587}, \"10939\": {\"frequency\": 1, \"value\": 10939}, \"43710\": {\"frequency\": 1, \"value\": 43710}, \"10946\": {\"frequency\": 1, \"value\": 10946}, \"10948\": {\"frequency\": 1, \"value\": 10948}, \"10949\": {\"frequency\": 1, \"value\": 10949}, \"10950\": {\"frequency\": 4, \"value\": 10950}, \"10951\": {\"frequency\": 1, \"value\": 10951}, \"10954\": {\"frequency\": 2, \"value\": 10954}, \"10956\": {\"frequency\": 2, \"value\": 10956}, \"10958\": {\"frequency\": 1, \"value\": 10958}, \"10960\": {\"frequency\": 3, \"value\": 10960}, \"10961\": {\"frequency\": 1, \"value\": 10961}, \"10962\": {\"frequency\": 3, \"value\": 10962}, \"43733\": {\"frequency\": 1, \"value\": 43733}, \"10968\": {\"frequency\": 3, \"value\": 10968}, \"10969\": {\"frequency\": 1, \"value\": 10969}, \"10970\": {\"frequency\": 1, \"value\": 10970}, \"10987\": {\"frequency\": 1, \"value\": 10987}, \"11000\": {\"frequency\": 12, \"value\": 11000}, \"11005\": {\"frequency\": 1, \"value\": 11005}, \"11010\": {\"frequency\": 1, \"value\": 11010}, \"11018\": {\"frequency\": 1, \"value\": 11018}, \"11019\": {\"frequency\": 1, \"value\": 11019}, \"11023\": {\"frequency\": 1, \"value\": 11023}, \"11025\": {\"frequency\": 1, \"value\": 11025}, \"11034\": {\"frequency\": 3, \"value\": 11034}, \"11036\": {\"frequency\": 1, \"value\": 11036}, \"11040\": {\"frequency\": 3, \"value\": 11040}, \"11041\": {\"frequency\": 2, \"value\": 11041}, \"11049\": {\"frequency\": 2, \"value\": 11049}, \"11050\": {\"frequency\": 5, \"value\": 11050}, \"43821\": {\"frequency\": 1, \"value\": 43821}, \"11054\": {\"frequency\": 2, \"value\": 11054}, \"11056\": {\"frequency\": 2, \"value\": 11056}, \"11060\": {\"frequency\": 4, \"value\": 11060}, \"11070\": {\"frequency\": 4, \"value\": 11070}, \"11071\": {\"frequency\": 1, \"value\": 11071}, \"11072\": {\"frequency\": 1, \"value\": 11072}, \"43847\": {\"frequency\": 1, \"value\": 43847}, \"11080\": {\"frequency\": 1, \"value\": 11080}, \"11090\": {\"frequency\": 2, \"value\": 11090}, \"11096\": {\"frequency\": 2, \"value\": 11096}, \"11098\": {\"frequency\": 1, \"value\": 11098}, \"11100\": {\"frequency\": 7, \"value\": 11100}, \"11108\": {\"frequency\": 2, \"value\": 11108}, \"11111\": {\"frequency\": 2, \"value\": 11111}, \"11120\": {\"frequency\": 4, \"value\": 11120}, \"11123\": {\"frequency\": 1, \"value\": 11123}, \"76665\": {\"frequency\": 2, \"value\": 76665}, \"11130\": {\"frequency\": 2, \"value\": 11130}, \"11131\": {\"frequency\": 1, \"value\": 11131}, \"11132\": {\"frequency\": 1, \"value\": 11132}, \"11141\": {\"frequency\": 1, \"value\": 11141}, \"11165\": {\"frequency\": 3, \"value\": 11165}, \"11171\": {\"frequency\": 2, \"value\": 11171}, \"11173\": {\"frequency\": 2, \"value\": 11173}, \"11175\": {\"frequency\": 1, \"value\": 11175}, \"11176\": {\"frequency\": 1, \"value\": 11176}, \"11180\": {\"frequency\": 5, \"value\": 11180}, \"11193\": {\"frequency\": 3, \"value\": 11193}, \"11198\": {\"frequency\": 1, \"value\": 11198}, \"11200\": {\"frequency\": 21, \"value\": 11200}, \"11201\": {\"frequency\": 2, \"value\": 11201}, \"11204\": {\"frequency\": 1, \"value\": 11204}, \"11205\": {\"frequency\": 2, \"value\": 11205}, \"11210\": {\"frequency\": 2, \"value\": 11210}, \"11213\": {\"frequency\": 1, \"value\": 11213}, \"11214\": {\"frequency\": 3, \"value\": 11214}, \"11220\": {\"frequency\": 1, \"value\": 11220}, \"11225\": {\"frequency\": 3, \"value\": 11225}, \"43995\": {\"frequency\": 6, \"value\": 43995}, \"11230\": {\"frequency\": 1, \"value\": 11230}, \"11232\": {\"frequency\": 1, \"value\": 11232}, \"44001\": {\"frequency\": 1, \"value\": 44001}, \"11234\": {\"frequency\": 3, \"value\": 11234}, \"11240\": {\"frequency\": 2, \"value\": 11240}, \"11242\": {\"frequency\": 1, \"value\": 11242}, \"11244\": {\"frequency\": 1, \"value\": 11244}, \"11249\": {\"frequency\": 1, \"value\": 11249}, \"11250\": {\"frequency\": 24, \"value\": 11250}, \"11254\": {\"frequency\": 1, \"value\": 11254}, \"11256\": {\"frequency\": 1, \"value\": 11256}, \"11259\": {\"frequency\": 1, \"value\": 11259}, \"40106\": {\"frequency\": 1, \"value\": 40106}, \"11270\": {\"frequency\": 2, \"value\": 11270}, \"11276\": {\"frequency\": 1, \"value\": 11276}, \"11280\": {\"frequency\": 1, \"value\": 11280}, \"11287\": {\"frequency\": 1, \"value\": 11287}, \"11300\": {\"frequency\": 1, \"value\": 11300}, \"11304\": {\"frequency\": 1, \"value\": 11304}, \"11305\": {\"frequency\": 2, \"value\": 11305}, \"11310\": {\"frequency\": 1, \"value\": 11310}, \"11312\": {\"frequency\": 1, \"value\": 11312}, \"11313\": {\"frequency\": 1, \"value\": 11313}, \"11315\": {\"frequency\": 1, \"value\": 11315}, \"11319\": {\"frequency\": 1, \"value\": 11319}, \"44093\": {\"frequency\": 1, \"value\": 44093}, \"7350\": {\"frequency\": 64, \"value\": 7350}, \"11337\": {\"frequency\": 1, \"value\": 11337}, \"11340\": {\"frequency\": 11, \"value\": 11340}, \"76877\": {\"frequency\": 1, \"value\": 76877}, \"11342\": {\"frequency\": 1, \"value\": 11342}, \"11343\": {\"frequency\": 1, \"value\": 11343}, \"11347\": {\"frequency\": 1, \"value\": 11347}, \"11349\": {\"frequency\": 1, \"value\": 11349}, \"11350\": {\"frequency\": 3, \"value\": 11350}, \"11374\": {\"frequency\": 1, \"value\": 11374}, \"11375\": {\"frequency\": 4, \"value\": 11375}, \"11380\": {\"frequency\": 2, \"value\": 11380}, \"11390\": {\"frequency\": 1, \"value\": 11390}, \"11393\": {\"frequency\": 3, \"value\": 11393}, \"11396\": {\"frequency\": 1, \"value\": 11396}, \"11400\": {\"frequency\": 10, \"value\": 11400}, \"11407\": {\"frequency\": 2, \"value\": 11407}, \"11410\": {\"frequency\": 2, \"value\": 11410}, \"273556\": {\"frequency\": 2, \"value\": 273556}, \"11413\": {\"frequency\": 1, \"value\": 11413}, \"11422\": {\"frequency\": 2, \"value\": 11422}, \"11424\": {\"frequency\": 1, \"value\": 11424}, \"11440\": {\"frequency\": 3, \"value\": 11440}, \"11443\": {\"frequency\": 2, \"value\": 11443}, \"11444\": {\"frequency\": 1, \"value\": 11444}, \"11447\": {\"frequency\": 1, \"value\": 11447}, \"11448\": {\"frequency\": 2, \"value\": 11448}, \"11452\": {\"frequency\": 1, \"value\": 11452}, \"11454\": {\"frequency\": 3, \"value\": 11454}, \"11455\": {\"frequency\": 2, \"value\": 11455}, \"11456\": {\"frequency\": 1, \"value\": 11456}, \"11457\": {\"frequency\": 1, \"value\": 11457}, \"11466\": {\"frequency\": 2, \"value\": 11466}, \"11470\": {\"frequency\": 1, \"value\": 11470}, \"11472\": {\"frequency\": 2, \"value\": 11472}, \"11473\": {\"frequency\": 1, \"value\": 11473}, \"11475\": {\"frequency\": 4, \"value\": 11475}, \"11480\": {\"frequency\": 2, \"value\": 11480}, \"11481\": {\"frequency\": 2, \"value\": 11481}, \"11489\": {\"frequency\": 1, \"value\": 11489}, \"11491\": {\"frequency\": 1, \"value\": 11491}, \"11500\": {\"frequency\": 10, \"value\": 11500}, \"11507\": {\"frequency\": 1, \"value\": 11507}, \"11520\": {\"frequency\": 4, \"value\": 11520}, \"11523\": {\"frequency\": 1, \"value\": 11523}, \"11530\": {\"frequency\": 2, \"value\": 11530}, \"11536\": {\"frequency\": 3, \"value\": 11536}, \"11542\": {\"frequency\": 2, \"value\": 11542}, \"11547\": {\"frequency\": 2, \"value\": 11547}, \"11556\": {\"frequency\": 1, \"value\": 11556}, \"11562\": {\"frequency\": 2, \"value\": 11562}, \"11570\": {\"frequency\": 1, \"value\": 11570}, \"11571\": {\"frequency\": 1, \"value\": 11571}, \"11575\": {\"frequency\": 1, \"value\": 11575}, \"11576\": {\"frequency\": 2, \"value\": 11576}, \"175421\": {\"frequency\": 1, \"value\": 175421}, \"11583\": {\"frequency\": 2, \"value\": 11583}, \"11585\": {\"frequency\": 3, \"value\": 11585}, \"11588\": {\"frequency\": 1, \"value\": 11588}, \"11592\": {\"frequency\": 1, \"value\": 11592}, \"11599\": {\"frequency\": 1, \"value\": 11599}, \"11600\": {\"frequency\": 5, \"value\": 11600}, \"11603\": {\"frequency\": 2, \"value\": 11603}, \"11610\": {\"frequency\": 2, \"value\": 11610}, \"11612\": {\"frequency\": 2, \"value\": 11612}, \"11616\": {\"frequency\": 1, \"value\": 11616}, \"11625\": {\"frequency\": 3, \"value\": 11625}, \"11632\": {\"frequency\": 2, \"value\": 11632}, \"11637\": {\"frequency\": 1, \"value\": 11637}, \"11646\": {\"frequency\": 1, \"value\": 11646}, \"11648\": {\"frequency\": 1, \"value\": 11648}, \"11650\": {\"frequency\": 1, \"value\": 11650}, \"11651\": {\"frequency\": 2, \"value\": 11651}, \"339332\": {\"frequency\": 1, \"value\": 339332}, \"11656\": {\"frequency\": 2, \"value\": 11656}, \"11658\": {\"frequency\": 2, \"value\": 11658}, \"11659\": {\"frequency\": 1, \"value\": 11659}, \"11662\": {\"frequency\": 2, \"value\": 11662}, \"44431\": {\"frequency\": 7, \"value\": 44431}, \"11664\": {\"frequency\": 1, \"value\": 11664}, \"11665\": {\"frequency\": 1, \"value\": 11665}, \"11670\": {\"frequency\": 1, \"value\": 11670}, \"11675\": {\"frequency\": 2, \"value\": 11675}, \"11676\": {\"frequency\": 1, \"value\": 11676}, \"11690\": {\"frequency\": 2, \"value\": 11690}, \"11700\": {\"frequency\": 9, \"value\": 11700}, \"12875\": {\"frequency\": 2, \"value\": 12875}, \"11725\": {\"frequency\": 1, \"value\": 11725}, \"11727\": {\"frequency\": 2, \"value\": 11727}, \"11730\": {\"frequency\": 2, \"value\": 11730}, \"142803\": {\"frequency\": 1, \"value\": 142803}, \"11733\": {\"frequency\": 1, \"value\": 11733}, \"11740\": {\"frequency\": 2, \"value\": 11740}, \"11744\": {\"frequency\": 1, \"value\": 11744}, \"11745\": {\"frequency\": 3, \"value\": 11745}, \"11750\": {\"frequency\": 3, \"value\": 11750}, \"11752\": {\"frequency\": 1, \"value\": 11752}, \"11757\": {\"frequency\": 1, \"value\": 11757}, \"11760\": {\"frequency\": 1, \"value\": 11760}, \"11761\": {\"frequency\": 2, \"value\": 11761}, \"11765\": {\"frequency\": 2, \"value\": 11765}, \"11769\": {\"frequency\": 1, \"value\": 11769}, \"11770\": {\"frequency\": 1, \"value\": 11770}, \"11774\": {\"frequency\": 2, \"value\": 11774}, \"11775\": {\"frequency\": 2, \"value\": 11775}, \"11776\": {\"frequency\": 1, \"value\": 11776}, \"11778\": {\"frequency\": 1, \"value\": 11778}, \"11779\": {\"frequency\": 1, \"value\": 11779}, \"11780\": {\"frequency\": 3, \"value\": 11780}, \"11783\": {\"frequency\": 1, \"value\": 11783}, \"11788\": {\"frequency\": 1, \"value\": 11788}, \"11793\": {\"frequency\": 2, \"value\": 11793}, \"11795\": {\"frequency\": 2, \"value\": 11795}, \"11800\": {\"frequency\": 4, \"value\": 11800}, \"11801\": {\"frequency\": 1, \"value\": 11801}, \"11802\": {\"frequency\": 1, \"value\": 11802}, \"11816\": {\"frequency\": 1, \"value\": 11816}, \"11817\": {\"frequency\": 1, \"value\": 11817}, \"241200\": {\"frequency\": 1, \"value\": 241200}, \"11835\": {\"frequency\": 2, \"value\": 11835}, \"40202\": {\"frequency\": 1, \"value\": 40202}, \"11850\": {\"frequency\": 1, \"value\": 11850}, \"11858\": {\"frequency\": 1, \"value\": 11858}, \"11866\": {\"frequency\": 1, \"value\": 11866}, \"11867\": {\"frequency\": 1, \"value\": 11867}, \"11870\": {\"frequency\": 1, \"value\": 11870}, \"11872\": {\"frequency\": 1, \"value\": 11872}, \"11875\": {\"frequency\": 4, \"value\": 11875}, \"11877\": {\"frequency\": 2, \"value\": 11877}, \"11880\": {\"frequency\": 6, \"value\": 11880}, \"11884\": {\"frequency\": 3, \"value\": 11884}, \"11894\": {\"frequency\": 2, \"value\": 11894}, \"11895\": {\"frequency\": 1, \"value\": 11895}, \"11900\": {\"frequency\": 13, \"value\": 11900}, \"11902\": {\"frequency\": 1, \"value\": 11902}, \"11914\": {\"frequency\": 3, \"value\": 11914}, \"11920\": {\"frequency\": 2, \"value\": 11920}, \"11928\": {\"frequency\": 1, \"value\": 11928}, \"11934\": {\"frequency\": 1, \"value\": 11934}, \"11935\": {\"frequency\": 2, \"value\": 11935}, \"306848\": {\"frequency\": 1, \"value\": 306848}, \"11937\": {\"frequency\": 1, \"value\": 11937}, \"11942\": {\"frequency\": 1, \"value\": 11942}, \"11946\": {\"frequency\": 1, \"value\": 11946}, \"11947\": {\"frequency\": 1, \"value\": 11947}, \"11950\": {\"frequency\": 1, \"value\": 11950}, \"11951\": {\"frequency\": 1, \"value\": 11951}, \"11954\": {\"frequency\": 1, \"value\": 11954}, \"11957\": {\"frequency\": 1, \"value\": 11957}, \"11960\": {\"frequency\": 2, \"value\": 11960}, \"11963\": {\"frequency\": 1, \"value\": 11963}, \"11964\": {\"frequency\": 1, \"value\": 11964}, \"11965\": {\"frequency\": 1, \"value\": 11965}, \"11970\": {\"frequency\": 3, \"value\": 11970}, \"11972\": {\"frequency\": 1, \"value\": 11972}, \"11979\": {\"frequency\": 1, \"value\": 11979}, \"11985\": {\"frequency\": 3, \"value\": 11985}, \"11995\": {\"frequency\": 2, \"value\": 11995}, \"11996\": {\"frequency\": 1, \"value\": 11996}, \"12000\": {\"frequency\": 42, \"value\": 12000}, \"12003\": {\"frequency\": 1, \"value\": 12003}, \"12005\": {\"frequency\": 2, \"value\": 12005}, \"12007\": {\"frequency\": 1, \"value\": 12007}, \"12013\": {\"frequency\": 2, \"value\": 12013}, \"12017\": {\"frequency\": 1, \"value\": 12017}, \"12026\": {\"frequency\": 1, \"value\": 12026}, \"12028\": {\"frequency\": 2, \"value\": 12028}, \"12030\": {\"frequency\": 1, \"value\": 12030}, \"12031\": {\"frequency\": 1, \"value\": 12031}, \"12032\": {\"frequency\": 2, \"value\": 12032}, \"12033\": {\"frequency\": 1, \"value\": 12033}, \"12036\": {\"frequency\": 1, \"value\": 12036}, \"77574\": {\"frequency\": 1, \"value\": 77574}, \"12039\": {\"frequency\": 2, \"value\": 12039}, \"12040\": {\"frequency\": 2, \"value\": 12040}, \"12042\": {\"frequency\": 3, \"value\": 12042}, \"12044\": {\"frequency\": 1, \"value\": 12044}, \"12047\": {\"frequency\": 2, \"value\": 12047}, \"12048\": {\"frequency\": 1, \"value\": 12048}, \"12056\": {\"frequency\": 2, \"value\": 12056}, \"12058\": {\"frequency\": 1, \"value\": 12058}, \"12060\": {\"frequency\": 1, \"value\": 12060}, \"12063\": {\"frequency\": 2, \"value\": 12063}, \"12067\": {\"frequency\": 1, \"value\": 12067}, \"12070\": {\"frequency\": 3, \"value\": 12070}, \"12077\": {\"frequency\": 1, \"value\": 12077}, \"12080\": {\"frequency\": 3, \"value\": 12080}, \"12081\": {\"frequency\": 1, \"value\": 12081}, \"12090\": {\"frequency\": 2, \"value\": 12090}, \"12091\": {\"frequency\": 2, \"value\": 12091}, \"12092\": {\"frequency\": 4, \"value\": 12092}, \"12094\": {\"frequency\": 2, \"value\": 12094}, \"12095\": {\"frequency\": 1, \"value\": 12095}, \"44866\": {\"frequency\": 4, \"value\": 44866}, \"44867\": {\"frequency\": 1, \"value\": 44867}, \"12100\": {\"frequency\": 6, \"value\": 12100}, \"12103\": {\"frequency\": 2, \"value\": 12103}, \"12105\": {\"frequency\": 1, \"value\": 12105}, \"12106\": {\"frequency\": 1, \"value\": 12106}, \"12112\": {\"frequency\": 1, \"value\": 12112}, \"12120\": {\"frequency\": 1, \"value\": 12120}, \"12125\": {\"frequency\": 1, \"value\": 12125}, \"208737\": {\"frequency\": 1, \"value\": 208737}, \"12134\": {\"frequency\": 1, \"value\": 12134}, \"12138\": {\"frequency\": 1, \"value\": 12138}, \"12141\": {\"frequency\": 1, \"value\": 12141}, \"175982\": {\"frequency\": 1, \"value\": 175982}, \"12145\": {\"frequency\": 2, \"value\": 12145}, \"12146\": {\"frequency\": 1, \"value\": 12146}, \"12150\": {\"frequency\": 4, \"value\": 12150}, \"12151\": {\"frequency\": 1, \"value\": 12151}, \"12155\": {\"frequency\": 3, \"value\": 12155}, \"12160\": {\"frequency\": 3, \"value\": 12160}, \"12161\": {\"frequency\": 1, \"value\": 12161}, \"12171\": {\"frequency\": 1, \"value\": 12171}, \"40259\": {\"frequency\": 1, \"value\": 40259}, \"12180\": {\"frequency\": 1, \"value\": 12180}, \"12187\": {\"frequency\": 1, \"value\": 12187}, \"12193\": {\"frequency\": 1, \"value\": 12193}, \"12195\": {\"frequency\": 1, \"value\": 12195}, \"12196\": {\"frequency\": 8, \"value\": 12196}, \"12197\": {\"frequency\": 2, \"value\": 12197}, \"12199\": {\"frequency\": 1, \"value\": 12199}, \"12201\": {\"frequency\": 1, \"value\": 12201}, \"12202\": {\"frequency\": 1, \"value\": 12202}, \"12205\": {\"frequency\": 1, \"value\": 12205}, \"12208\": {\"frequency\": 1, \"value\": 12208}, \"12219\": {\"frequency\": 1, \"value\": 12219}, \"12220\": {\"frequency\": 3, \"value\": 12220}, \"438213\": {\"frequency\": 1, \"value\": 438213}, \"12231\": {\"frequency\": 4, \"value\": 12231}, \"45004\": {\"frequency\": 1, \"value\": 45004}, \"12238\": {\"frequency\": 1, \"value\": 12238}, \"12240\": {\"frequency\": 3, \"value\": 12240}, \"12243\": {\"frequency\": 1, \"value\": 12243}, \"12244\": {\"frequency\": 1, \"value\": 12244}, \"12245\": {\"frequency\": 1, \"value\": 12245}, \"12250\": {\"frequency\": 3, \"value\": 12250}, \"12252\": {\"frequency\": 2, \"value\": 12252}, \"12253\": {\"frequency\": 1, \"value\": 12253}, \"12261\": {\"frequency\": 1, \"value\": 12261}, \"12264\": {\"frequency\": 1, \"value\": 12264}, \"12275\": {\"frequency\": 1, \"value\": 12275}, \"12281\": {\"frequency\": 1, \"value\": 12281}, \"12282\": {\"frequency\": 3, \"value\": 12282}, \"12970\": {\"frequency\": 1, \"value\": 12970}, \"12293\": {\"frequency\": 1, \"value\": 12293}, \"12295\": {\"frequency\": 1, \"value\": 12295}, \"12300\": {\"frequency\": 1, \"value\": 12300}, \"12320\": {\"frequency\": 2, \"value\": 12320}, \"12321\": {\"frequency\": 1, \"value\": 12321}, \"12327\": {\"frequency\": 2, \"value\": 12327}, \"12330\": {\"frequency\": 1, \"value\": 12330}, \"45100\": {\"frequency\": 1, \"value\": 45100}, \"110642\": {\"frequency\": 1, \"value\": 110642}, \"12342\": {\"frequency\": 1, \"value\": 12342}, \"12349\": {\"frequency\": 2, \"value\": 12349}, \"12350\": {\"frequency\": 7, \"value\": 12350}, \"12353\": {\"frequency\": 1, \"value\": 12353}, \"45133\": {\"frequency\": 1, \"value\": 45133}, \"12368\": {\"frequency\": 2, \"value\": 12368}, \"12375\": {\"frequency\": 2, \"value\": 12375}, \"12377\": {\"frequency\": 1, \"value\": 12377}, \"12378\": {\"frequency\": 1, \"value\": 12378}, \"12381\": {\"frequency\": 2, \"value\": 12381}, \"12384\": {\"frequency\": 3, \"value\": 12384}, \"12402\": {\"frequency\": 1, \"value\": 12402}, \"12408\": {\"frequency\": 3, \"value\": 12408}, \"12410\": {\"frequency\": 2, \"value\": 12410}, \"12413\": {\"frequency\": 1, \"value\": 12413}, \"12414\": {\"frequency\": 1, \"value\": 12414}, \"12420\": {\"frequency\": 4, \"value\": 12420}, \"12426\": {\"frequency\": 2, \"value\": 12426}, \"12430\": {\"frequency\": 2, \"value\": 12430}, \"12431\": {\"frequency\": 1, \"value\": 12431}, \"77972\": {\"frequency\": 3, \"value\": 77972}, \"12440\": {\"frequency\": 1, \"value\": 12440}, \"12443\": {\"frequency\": 2, \"value\": 12443}, \"12446\": {\"frequency\": 1, \"value\": 12446}, \"12447\": {\"frequency\": 1, \"value\": 12447}, \"12458\": {\"frequency\": 1, \"value\": 12458}, \"12462\": {\"frequency\": 1, \"value\": 12462}, \"12463\": {\"frequency\": 1, \"value\": 12463}, \"12473\": {\"frequency\": 1, \"value\": 12473}, \"12476\": {\"frequency\": 2, \"value\": 12476}, \"209088\": {\"frequency\": 2, \"value\": 209088}, \"45254\": {\"frequency\": 1, \"value\": 45254}, \"12487\": {\"frequency\": 1, \"value\": 12487}, \"12491\": {\"frequency\": 1, \"value\": 12491}, \"12497\": {\"frequency\": 1, \"value\": 12497}, \"12498\": {\"frequency\": 1, \"value\": 12498}, \"12500\": {\"frequency\": 22, \"value\": 12500}, \"12506\": {\"frequency\": 1, \"value\": 12506}, \"12508\": {\"frequency\": 1, \"value\": 12508}, \"105850\": {\"frequency\": 2, \"value\": 105850}, \"12511\": {\"frequency\": 1, \"value\": 12511}, \"12519\": {\"frequency\": 2, \"value\": 12519}, \"12522\": {\"frequency\": 2, \"value\": 12522}, \"12523\": {\"frequency\": 2, \"value\": 12523}, \"12527\": {\"frequency\": 2, \"value\": 12527}, \"12528\": {\"frequency\": 3, \"value\": 12528}, \"45302\": {\"frequency\": 4, \"value\": 45302}, \"12538\": {\"frequency\": 1, \"value\": 12538}, \"12540\": {\"frequency\": 3, \"value\": 12540}, \"12555\": {\"frequency\": 1, \"value\": 12555}, \"12556\": {\"frequency\": 1, \"value\": 12556}, \"12558\": {\"frequency\": 3, \"value\": 12558}, \"12560\": {\"frequency\": 1, \"value\": 12560}, \"12566\": {\"frequency\": 2, \"value\": 12566}, \"12573\": {\"frequency\": 1, \"value\": 12573}, \"209199\": {\"frequency\": 1, \"value\": 209199}, \"12593\": {\"frequency\": 1, \"value\": 12593}, \"12596\": {\"frequency\": 1, \"value\": 12596}, \"12600\": {\"frequency\": 8, \"value\": 12600}, \"12607\": {\"frequency\": 1, \"value\": 12607}, \"12611\": {\"frequency\": 1, \"value\": 12611}, \"12614\": {\"frequency\": 1, \"value\": 12614}, \"12616\": {\"frequency\": 2, \"value\": 12616}, \"12620\": {\"frequency\": 1, \"value\": 12620}, \"12626\": {\"frequency\": 2, \"value\": 12626}, \"12633\": {\"frequency\": 1, \"value\": 12633}, \"12637\": {\"frequency\": 1, \"value\": 12637}, \"12650\": {\"frequency\": 1, \"value\": 12650}, \"12653\": {\"frequency\": 1, \"value\": 12653}, \"7573\": {\"frequency\": 3, \"value\": 7573}, \"12672\": {\"frequency\": 2, \"value\": 12672}, \"12675\": {\"frequency\": 2, \"value\": 12675}, \"12676\": {\"frequency\": 1, \"value\": 12676}, \"12677\": {\"frequency\": 1, \"value\": 12677}, \"12682\": {\"frequency\": 2, \"value\": 12682}, \"12686\": {\"frequency\": 1, \"value\": 12686}, \"12688\": {\"frequency\": 2, \"value\": 12688}, \"78225\": {\"frequency\": 1, \"value\": 78225}, \"12690\": {\"frequency\": 3, \"value\": 12690}, \"12696\": {\"frequency\": 2, \"value\": 12696}, \"12705\": {\"frequency\": 2, \"value\": 12705}, \"12714\": {\"frequency\": 2, \"value\": 12714}, \"12719\": {\"frequency\": 1, \"value\": 12719}, \"12720\": {\"frequency\": 1, \"value\": 12720}, \"12728\": {\"frequency\": 1, \"value\": 12728}, \"12733\": {\"frequency\": 1, \"value\": 12733}, \"12741\": {\"frequency\": 1, \"value\": 12741}, \"12745\": {\"frequency\": 1, \"value\": 12745}, \"12746\": {\"frequency\": 1, \"value\": 12746}, \"45517\": {\"frequency\": 1, \"value\": 45517}, \"12750\": {\"frequency\": 10, \"value\": 12750}, \"12753\": {\"frequency\": 3, \"value\": 12753}, \"12765\": {\"frequency\": 1, \"value\": 12765}, \"111078\": {\"frequency\": 2, \"value\": 111078}, \"12775\": {\"frequency\": 1, \"value\": 12775}, \"12776\": {\"frequency\": 1, \"value\": 12776}, \"12778\": {\"frequency\": 1, \"value\": 12778}, \"12793\": {\"frequency\": 3, \"value\": 12793}, \"12796\": {\"frequency\": 1, \"value\": 12796}, \"12800\": {\"frequency\": 1, \"value\": 12800}, \"12811\": {\"frequency\": 1, \"value\": 12811}, \"12813\": {\"frequency\": 1, \"value\": 12813}, \"12821\": {\"frequency\": 3, \"value\": 12821}, \"12824\": {\"frequency\": 1, \"value\": 12824}, \"12825\": {\"frequency\": 5, \"value\": 12825}, \"12833\": {\"frequency\": 1, \"value\": 12833}, \"12840\": {\"frequency\": 3, \"value\": 12840}, \"12843\": {\"frequency\": 1, \"value\": 12843}, \"45613\": {\"frequency\": 1, \"value\": 45613}, \"12850\": {\"frequency\": 1, \"value\": 12850}, \"12855\": {\"frequency\": 1, \"value\": 12855}, \"12860\": {\"frequency\": 1, \"value\": 12860}, \"12861\": {\"frequency\": 1, \"value\": 12861}, \"12865\": {\"frequency\": 1, \"value\": 12865}, \"12866\": {\"frequency\": 2, \"value\": 12866}, \"78408\": {\"frequency\": 5, \"value\": 78408}, \"12874\": {\"frequency\": 1, \"value\": 12874}, \"143947\": {\"frequency\": 1, \"value\": 143947}, \"12888\": {\"frequency\": 1, \"value\": 12888}, \"12891\": {\"frequency\": 1, \"value\": 12891}, \"12899\": {\"frequency\": 2, \"value\": 12899}, \"12900\": {\"frequency\": 1, \"value\": 12900}, \"12906\": {\"frequency\": 1, \"value\": 12906}, \"209523\": {\"frequency\": 4, \"value\": 209523}, \"12918\": {\"frequency\": 1, \"value\": 12918}, \"12920\": {\"frequency\": 1, \"value\": 12920}, \"12928\": {\"frequency\": 1, \"value\": 12928}, \"12929\": {\"frequency\": 1, \"value\": 12929}, \"12940\": {\"frequency\": 1, \"value\": 12940}, \"12944\": {\"frequency\": 1, \"value\": 12944}, \"12950\": {\"frequency\": 2, \"value\": 12950}, \"12956\": {\"frequency\": 1, \"value\": 12956}, \"12957\": {\"frequency\": 1, \"value\": 12957}, \"1651359\": {\"frequency\": 1, \"value\": 1651359}, \"12960\": {\"frequency\": 2, \"value\": 12960}, \"12968\": {\"frequency\": 2, \"value\": 12968}, \"45738\": {\"frequency\": 10, \"value\": 45738}, \"12972\": {\"frequency\": 1, \"value\": 12972}, \"12978\": {\"frequency\": 1, \"value\": 12978}, \"12981\": {\"frequency\": 1, \"value\": 12981}, \"12987\": {\"frequency\": 3, \"value\": 12987}, \"12997\": {\"frequency\": 2, \"value\": 12997}, \"13000\": {\"frequency\": 15, \"value\": 13000}, \"13002\": {\"frequency\": 2, \"value\": 13002}, \"13020\": {\"frequency\": 1, \"value\": 13020}, \"13031\": {\"frequency\": 1, \"value\": 13031}, \"13034\": {\"frequency\": 1, \"value\": 13034}, \"13040\": {\"frequency\": 1, \"value\": 13040}, \"13041\": {\"frequency\": 1, \"value\": 13041}, \"13042\": {\"frequency\": 1, \"value\": 13042}, \"13054\": {\"frequency\": 2, \"value\": 13054}, \"13056\": {\"frequency\": 1, \"value\": 13056}, \"13058\": {\"frequency\": 1, \"value\": 13058}, \"13059\": {\"frequency\": 2, \"value\": 13059}, \"13062\": {\"frequency\": 1, \"value\": 13062}, \"13063\": {\"frequency\": 1, \"value\": 13063}, \"13068\": {\"frequency\": 7, \"value\": 13068}, \"13077\": {\"frequency\": 1, \"value\": 13077}, \"13084\": {\"frequency\": 1, \"value\": 13084}, \"13085\": {\"frequency\": 2, \"value\": 13085}, \"45860\": {\"frequency\": 1, \"value\": 45860}, \"13095\": {\"frequency\": 2, \"value\": 13095}, \"13100\": {\"frequency\": 5, \"value\": 13100}, \"13102\": {\"frequency\": 1, \"value\": 13102}, \"13104\": {\"frequency\": 2, \"value\": 13104}, \"144183\": {\"frequency\": 1, \"value\": 144183}, \"13113\": {\"frequency\": 1, \"value\": 13113}, \"13118\": {\"frequency\": 1, \"value\": 13118}, \"13120\": {\"frequency\": 1, \"value\": 13120}, \"13124\": {\"frequency\": 1, \"value\": 13124}, \"13125\": {\"frequency\": 3, \"value\": 13125}, \"13129\": {\"frequency\": 2, \"value\": 13129}, \"13132\": {\"frequency\": 1, \"value\": 13132}, \"7651\": {\"frequency\": 2, \"value\": 7651}, \"13156\": {\"frequency\": 1, \"value\": 13156}, \"13168\": {\"frequency\": 2, \"value\": 13168}, \"13170\": {\"frequency\": 2, \"value\": 13170}, \"13175\": {\"frequency\": 1, \"value\": 13175}, \"13180\": {\"frequency\": 1, \"value\": 13180}, \"13189\": {\"frequency\": 1, \"value\": 13189}, \"13193\": {\"frequency\": 1, \"value\": 13193}, \"45963\": {\"frequency\": 1, \"value\": 45963}, \"13200\": {\"frequency\": 5, \"value\": 13200}, \"13202\": {\"frequency\": 1, \"value\": 13202}, \"111513\": {\"frequency\": 1, \"value\": 111513}, \"111514\": {\"frequency\": 1, \"value\": 111514}, \"13211\": {\"frequency\": 1, \"value\": 13211}, \"13212\": {\"frequency\": 1, \"value\": 13212}, \"13218\": {\"frequency\": 1, \"value\": 13218}, \"13224\": {\"frequency\": 1, \"value\": 13224}, \"13227\": {\"frequency\": 1, \"value\": 13227}, \"13235\": {\"frequency\": 1, \"value\": 13235}, \"13238\": {\"frequency\": 1, \"value\": 13238}, \"13241\": {\"frequency\": 2, \"value\": 13241}, \"13252\": {\"frequency\": 3, \"value\": 13252}, \"242629\": {\"frequency\": 1, \"value\": 242629}, \"13260\": {\"frequency\": 4, \"value\": 13260}, \"13261\": {\"frequency\": 1, \"value\": 13261}, \"13280\": {\"frequency\": 1, \"value\": 13280}, \"13288\": {\"frequency\": 2, \"value\": 13288}, \"13292\": {\"frequency\": 2, \"value\": 13292}, \"13295\": {\"frequency\": 1, \"value\": 13295}, \"13296\": {\"frequency\": 2, \"value\": 13296}, \"13300\": {\"frequency\": 8, \"value\": 13300}, \"13303\": {\"frequency\": 1, \"value\": 13303}, \"78843\": {\"frequency\": 2, \"value\": 78843}, \"13309\": {\"frequency\": 1, \"value\": 13309}, \"13315\": {\"frequency\": 1, \"value\": 13315}, \"13320\": {\"frequency\": 3, \"value\": 13320}, \"13348\": {\"frequency\": 3, \"value\": 13348}, \"13350\": {\"frequency\": 2, \"value\": 13350}, \"13351\": {\"frequency\": 1, \"value\": 13351}, \"13356\": {\"frequency\": 1, \"value\": 13356}, \"13362\": {\"frequency\": 2, \"value\": 13362}, \"13367\": {\"frequency\": 2, \"value\": 13367}, \"13370\": {\"frequency\": 2, \"value\": 13370}, \"13380\": {\"frequency\": 1, \"value\": 13380}, \"13383\": {\"frequency\": 1, \"value\": 13383}, \"13384\": {\"frequency\": 1, \"value\": 13384}, \"13392\": {\"frequency\": 2, \"value\": 13392}, \"13394\": {\"frequency\": 1, \"value\": 13394}, \"13402\": {\"frequency\": 2, \"value\": 13402}, \"46173\": {\"frequency\": 6, \"value\": 46173}, \"13406\": {\"frequency\": 1, \"value\": 13406}, \"13412\": {\"frequency\": 1, \"value\": 13412}, \"13416\": {\"frequency\": 1, \"value\": 13416}, \"13421\": {\"frequency\": 1, \"value\": 13421}, \"13425\": {\"frequency\": 1, \"value\": 13425}, \"13430\": {\"frequency\": 3, \"value\": 13430}, \"13431\": {\"frequency\": 1, \"value\": 13431}, \"13435\": {\"frequency\": 1, \"value\": 13435}, \"35008\": {\"frequency\": 1, \"value\": 35008}, \"13444\": {\"frequency\": 2, \"value\": 13444}, \"35009\": {\"frequency\": 1, \"value\": 35009}, \"13449\": {\"frequency\": 1, \"value\": 13449}, \"13450\": {\"frequency\": 2, \"value\": 13450}, \"13457\": {\"frequency\": 2, \"value\": 13457}, \"13458\": {\"frequency\": 1, \"value\": 13458}, \"13464\": {\"frequency\": 1, \"value\": 13464}, \"2244\": {\"frequency\": 1, \"value\": 2244}, \"13468\": {\"frequency\": 2, \"value\": 13468}, \"13470\": {\"frequency\": 1, \"value\": 13470}, \"13474\": {\"frequency\": 2, \"value\": 13474}, \"13475\": {\"frequency\": 2, \"value\": 13475}, \"13477\": {\"frequency\": 1, \"value\": 13477}, \"13482\": {\"frequency\": 1, \"value\": 13482}, \"13495\": {\"frequency\": 1, \"value\": 13495}, \"13496\": {\"frequency\": 1, \"value\": 13496}, \"13500\": {\"frequency\": 20, \"value\": 13500}, \"13501\": {\"frequency\": 1, \"value\": 13501}, \"13503\": {\"frequency\": 3, \"value\": 13503}, \"13504\": {\"frequency\": 1, \"value\": 13504}, \"13505\": {\"frequency\": 1, \"value\": 13505}, \"13510\": {\"frequency\": 1, \"value\": 13510}, \"13515\": {\"frequency\": 3, \"value\": 13515}, \"13526\": {\"frequency\": 1, \"value\": 13526}, \"13530\": {\"frequency\": 2, \"value\": 13530}, \"144619\": {\"frequency\": 2, \"value\": 144619}, \"13551\": {\"frequency\": 2, \"value\": 13551}, \"13554\": {\"frequency\": 2, \"value\": 13554}, \"13566\": {\"frequency\": 1, \"value\": 13566}, \"13572\": {\"frequency\": 2, \"value\": 13572}, \"13579\": {\"frequency\": 3, \"value\": 13579}, \"13586\": {\"frequency\": 1, \"value\": 13586}, \"13590\": {\"frequency\": 2, \"value\": 13590}, \"13592\": {\"frequency\": 1, \"value\": 13592}, \"210201\": {\"frequency\": 1, \"value\": 210201}, \"13600\": {\"frequency\": 3, \"value\": 13600}, \"13603\": {\"frequency\": 1, \"value\": 13603}, \"13609\": {\"frequency\": 2, \"value\": 13609}, \"13629\": {\"frequency\": 1, \"value\": 13629}, \"13630\": {\"frequency\": 2, \"value\": 13630}, \"35040\": {\"frequency\": 2, \"value\": 35040}, \"111949\": {\"frequency\": 1, \"value\": 111949}, \"210254\": {\"frequency\": 1, \"value\": 210254}, \"13650\": {\"frequency\": 2, \"value\": 13650}, \"13653\": {\"frequency\": 1, \"value\": 13653}, \"13673\": {\"frequency\": 1, \"value\": 13673}, \"13674\": {\"frequency\": 1, \"value\": 13674}, \"13679\": {\"frequency\": 1, \"value\": 13679}, \"40510\": {\"frequency\": 2, \"value\": 40510}, \"13695\": {\"frequency\": 2, \"value\": 13695}, \"13700\": {\"frequency\": 4, \"value\": 13700}, \"13709\": {\"frequency\": 1, \"value\": 13709}, \"13713\": {\"frequency\": 1, \"value\": 13713}, \"13720\": {\"frequency\": 1, \"value\": 13720}, \"13729\": {\"frequency\": 1, \"value\": 13729}, \"13730\": {\"frequency\": 1, \"value\": 13730}, \"40518\": {\"frequency\": 1, \"value\": 40518}, \"13736\": {\"frequency\": 1, \"value\": 13736}, \"13737\": {\"frequency\": 1, \"value\": 13737}, \"13738\": {\"frequency\": 1, \"value\": 13738}, \"79279\": {\"frequency\": 2, \"value\": 79279}, \"13750\": {\"frequency\": 2, \"value\": 13750}, \"13751\": {\"frequency\": 1, \"value\": 13751}, \"13755\": {\"frequency\": 1, \"value\": 13755}, \"13775\": {\"frequency\": 4, \"value\": 13775}, \"13780\": {\"frequency\": 1, \"value\": 13780}, \"13782\": {\"frequency\": 1, \"value\": 13782}, \"210395\": {\"frequency\": 1, \"value\": 210395}, \"13789\": {\"frequency\": 1, \"value\": 13789}, \"13791\": {\"frequency\": 1, \"value\": 13791}, \"13800\": {\"frequency\": 2, \"value\": 13800}, \"13803\": {\"frequency\": 1, \"value\": 13803}, \"13806\": {\"frequency\": 1, \"value\": 13806}, \"13809\": {\"frequency\": 1, \"value\": 13809}, \"46580\": {\"frequency\": 1, \"value\": 46580}, \"13816\": {\"frequency\": 2, \"value\": 13816}, \"177657\": {\"frequency\": 1, \"value\": 177657}, \"13824\": {\"frequency\": 1, \"value\": 13824}, \"35074\": {\"frequency\": 1, \"value\": 35074}, \"46609\": {\"frequency\": 7, \"value\": 46609}, \"13843\": {\"frequency\": 1, \"value\": 13843}, \"13850\": {\"frequency\": 1, \"value\": 13850}, \"13860\": {\"frequency\": 3, \"value\": 13860}, \"13862\": {\"frequency\": 1, \"value\": 13862}, \"13870\": {\"frequency\": 1, \"value\": 13870}, \"13873\": {\"frequency\": 1, \"value\": 13873}, \"13875\": {\"frequency\": 1, \"value\": 13875}, \"46644\": {\"frequency\": 1, \"value\": 46644}, \"13885\": {\"frequency\": 1, \"value\": 13885}, \"13891\": {\"frequency\": 1, \"value\": 13891}, \"13894\": {\"frequency\": 1, \"value\": 13894}, \"13900\": {\"frequency\": 2, \"value\": 13900}, \"13907\": {\"frequency\": 1, \"value\": 13907}, \"13912\": {\"frequency\": 2, \"value\": 13912}, \"13927\": {\"frequency\": 3, \"value\": 13927}, \"13938\": {\"frequency\": 1, \"value\": 13938}, \"13939\": {\"frequency\": 4, \"value\": 13939}, \"13959\": {\"frequency\": 2, \"value\": 13959}, \"13964\": {\"frequency\": 1, \"value\": 13964}, \"13970\": {\"frequency\": 1, \"value\": 13970}, \"13975\": {\"frequency\": 1, \"value\": 13975}, \"46748\": {\"frequency\": 1, \"value\": 46748}, \"13981\": {\"frequency\": 1, \"value\": 13981}, \"145054\": {\"frequency\": 1, \"value\": 145054}, \"35100\": {\"frequency\": 4, \"value\": 35100}, \"14000\": {\"frequency\": 11, \"value\": 14000}, \"14005\": {\"frequency\": 1, \"value\": 14005}, \"14010\": {\"frequency\": 1, \"value\": 14010}, \"14012\": {\"frequency\": 1, \"value\": 14012}, \"14016\": {\"frequency\": 1, \"value\": 14016}, \"46786\": {\"frequency\": 1, \"value\": 46786}, \"14021\": {\"frequency\": 2, \"value\": 14021}, \"14027\": {\"frequency\": 1, \"value\": 14027}, \"14030\": {\"frequency\": 1, \"value\": 14030}, \"14033\": {\"frequency\": 1, \"value\": 14033}, \"14034\": {\"frequency\": 1, \"value\": 14034}, \"14040\": {\"frequency\": 4, \"value\": 14040}, \"14052\": {\"frequency\": 1, \"value\": 14052}, \"14057\": {\"frequency\": 1, \"value\": 14057}, \"14061\": {\"frequency\": 1, \"value\": 14061}, \"14062\": {\"frequency\": 1, \"value\": 14062}, \"14071\": {\"frequency\": 2, \"value\": 14071}, \"7807\": {\"frequency\": 5, \"value\": 7807}, \"14087\": {\"frequency\": 1, \"value\": 14087}, \"14091\": {\"frequency\": 1, \"value\": 14091}, \"14092\": {\"frequency\": 1, \"value\": 14092}, \"14096\": {\"frequency\": 1, \"value\": 14096}, \"14100\": {\"frequency\": 2, \"value\": 14100}, \"14110\": {\"frequency\": 2, \"value\": 14110}, \"14120\": {\"frequency\": 1, \"value\": 14120}, \"14125\": {\"frequency\": 1, \"value\": 14125}, \"14126\": {\"frequency\": 1, \"value\": 14126}, \"14133\": {\"frequency\": 1, \"value\": 14133}, \"14134\": {\"frequency\": 1, \"value\": 14134}, \"14135\": {\"frequency\": 1, \"value\": 14135}, \"35124\": {\"frequency\": 2, \"value\": 35124}, \"14138\": {\"frequency\": 2, \"value\": 14138}, \"14141\": {\"frequency\": 2, \"value\": 14141}, \"14149\": {\"frequency\": 2, \"value\": 14149}, \"14150\": {\"frequency\": 1, \"value\": 14150}, \"14157\": {\"frequency\": 1, \"value\": 14157}, \"14161\": {\"frequency\": 1, \"value\": 14161}, \"79714\": {\"frequency\": 1, \"value\": 79714}, \"14182\": {\"frequency\": 1, \"value\": 14182}, \"14196\": {\"frequency\": 2, \"value\": 14196}, \"14197\": {\"frequency\": 2, \"value\": 14197}, \"14212\": {\"frequency\": 2, \"value\": 14212}, \"112521\": {\"frequency\": 1, \"value\": 112521}, \"14219\": {\"frequency\": 1, \"value\": 14219}, \"14237\": {\"frequency\": 1, \"value\": 14237}, \"14240\": {\"frequency\": 1, \"value\": 14240}, \"14242\": {\"frequency\": 1, \"value\": 14242}, \"14248\": {\"frequency\": 1, \"value\": 14248}, \"14250\": {\"frequency\": 6, \"value\": 14250}, \"14255\": {\"frequency\": 1, \"value\": 14255}, \"14258\": {\"frequency\": 1, \"value\": 14258}, \"14270\": {\"frequency\": 1, \"value\": 14270}, \"14271\": {\"frequency\": 1, \"value\": 14271}, \"7840\": {\"frequency\": 7, \"value\": 7840}, \"47044\": {\"frequency\": 8, \"value\": 47044}, \"47045\": {\"frequency\": 1, \"value\": 47045}, \"14279\": {\"frequency\": 1, \"value\": 14279}, \"14300\": {\"frequency\": 2, \"value\": 14300}, \"14319\": {\"frequency\": 1, \"value\": 14319}, \"14321\": {\"frequency\": 1, \"value\": 14321}, \"14322\": {\"frequency\": 1, \"value\": 14322}, \"14333\": {\"frequency\": 1, \"value\": 14333}, \"14338\": {\"frequency\": 1, \"value\": 14338}, \"14342\": {\"frequency\": 1, \"value\": 14342}, \"14350\": {\"frequency\": 2, \"value\": 14350}, \"14353\": {\"frequency\": 1, \"value\": 14353}, \"14374\": {\"frequency\": 2, \"value\": 14374}, \"14400\": {\"frequency\": 11, \"value\": 14400}, \"14401\": {\"frequency\": 1, \"value\": 14401}, \"14402\": {\"frequency\": 1, \"value\": 14402}, \"14404\": {\"frequency\": 1, \"value\": 14404}, \"14406\": {\"frequency\": 1, \"value\": 14406}, \"2401\": {\"frequency\": 1, \"value\": 2401}, \"14408\": {\"frequency\": 1, \"value\": 14408}, \"14417\": {\"frequency\": 1, \"value\": 14417}, \"145490\": {\"frequency\": 1, \"value\": 145490}, \"14421\": {\"frequency\": 1, \"value\": 14421}, \"40635\": {\"frequency\": 1, \"value\": 40635}, \"14439\": {\"frequency\": 1, \"value\": 14439}, \"14440\": {\"frequency\": 1, \"value\": 14440}, \"112750\": {\"frequency\": 1, \"value\": 112750}, \"14450\": {\"frequency\": 1, \"value\": 14450}, \"14455\": {\"frequency\": 1, \"value\": 14455}, \"47250\": {\"frequency\": 1, \"value\": 47250}, \"14486\": {\"frequency\": 1, \"value\": 14486}, \"14490\": {\"frequency\": 1, \"value\": 14490}, \"14499\": {\"frequency\": 1, \"value\": 14499}, \"14500\": {\"frequency\": 2, \"value\": 14500}, \"14510\": {\"frequency\": 1, \"value\": 14510}, \"14550\": {\"frequency\": 1, \"value\": 14550}, \"14560\": {\"frequency\": 1, \"value\": 14560}, \"14565\": {\"frequency\": 2, \"value\": 14565}, \"14568\": {\"frequency\": 1, \"value\": 14568}, \"209959\": {\"frequency\": 1, \"value\": 209959}, \"14585\": {\"frequency\": 1, \"value\": 14585}, \"2432\": {\"frequency\": 1, \"value\": 2432}, \"14599\": {\"frequency\": 1, \"value\": 14599}, \"14600\": {\"frequency\": 3, \"value\": 14600}, \"14616\": {\"frequency\": 1, \"value\": 14616}, \"14626\": {\"frequency\": 1, \"value\": 14626}, \"14630\": {\"frequency\": 2, \"value\": 14630}, \"14633\": {\"frequency\": 2, \"value\": 14633}, \"14648\": {\"frequency\": 1, \"value\": 14648}, \"14649\": {\"frequency\": 1, \"value\": 14649}, \"14667\": {\"frequency\": 1, \"value\": 14667}, \"14694\": {\"frequency\": 1, \"value\": 14694}, \"14695\": {\"frequency\": 1, \"value\": 14695}, \"47480\": {\"frequency\": 9, \"value\": 47480}, \"14720\": {\"frequency\": 1, \"value\": 14720}, \"14731\": {\"frequency\": 1, \"value\": 14731}, \"14733\": {\"frequency\": 1, \"value\": 14733}, \"47502\": {\"frequency\": 1, \"value\": 47502}, \"14745\": {\"frequency\": 1, \"value\": 14745}, \"14750\": {\"frequency\": 1, \"value\": 14750}, \"14757\": {\"frequency\": 1, \"value\": 14757}, \"14766\": {\"frequency\": 1, \"value\": 14766}, \"14773\": {\"frequency\": 1, \"value\": 14773}, \"14777\": {\"frequency\": 1, \"value\": 14777}, \"14782\": {\"frequency\": 1, \"value\": 14782}, \"14800\": {\"frequency\": 3, \"value\": 14800}, \"14803\": {\"frequency\": 1, \"value\": 14803}, \"14810\": {\"frequency\": 5, \"value\": 14810}, \"14821\": {\"frequency\": 1, \"value\": 14821}, \"14834\": {\"frequency\": 1, \"value\": 14834}, \"14850\": {\"frequency\": 5, \"value\": 14850}, \"14861\": {\"frequency\": 1, \"value\": 14861}, \"14862\": {\"frequency\": 1, \"value\": 14862}, \"14864\": {\"frequency\": 1, \"value\": 14864}, \"14866\": {\"frequency\": 1, \"value\": 14866}, \"7939\": {\"frequency\": 1, \"value\": 7939}, \"14872\": {\"frequency\": 1, \"value\": 14872}, \"14874\": {\"frequency\": 1, \"value\": 14874}, \"14876\": {\"frequency\": 1, \"value\": 14876}, \"14878\": {\"frequency\": 1, \"value\": 14878}, \"14892\": {\"frequency\": 1, \"value\": 14892}, \"14913\": {\"frequency\": 1, \"value\": 14913}, \"14915\": {\"frequency\": 1, \"value\": 14915}, \"14925\": {\"frequency\": 2, \"value\": 14925}, \"80471\": {\"frequency\": 1, \"value\": 80471}, \"14952\": {\"frequency\": 1, \"value\": 14952}, \"35261\": {\"frequency\": 1, \"value\": 35261}, \"211576\": {\"frequency\": 1, \"value\": 211576}, \"14972\": {\"frequency\": 1, \"value\": 14972}, \"14980\": {\"frequency\": 1, \"value\": 14980}, \"14982\": {\"frequency\": 1, \"value\": 14982}, \"14984\": {\"frequency\": 1, \"value\": 14984}, \"14985\": {\"frequency\": 2, \"value\": 14985}, \"14986\": {\"frequency\": 2, \"value\": 14986}, \"14989\": {\"frequency\": 1, \"value\": 14989}, \"15000\": {\"frequency\": 28, \"value\": 15000}, \"15001\": {\"frequency\": 1, \"value\": 15001}, \"15002\": {\"frequency\": 2, \"value\": 15002}, \"15003\": {\"frequency\": 2, \"value\": 15003}, \"15005\": {\"frequency\": 1, \"value\": 15005}, \"7963\": {\"frequency\": 1, \"value\": 7963}, \"15016\": {\"frequency\": 1, \"value\": 15016}, \"15021\": {\"frequency\": 1, \"value\": 15021}, \"15022\": {\"frequency\": 4, \"value\": 15022}, \"15024\": {\"frequency\": 1, \"value\": 15024}, \"15025\": {\"frequency\": 1, \"value\": 15025}, \"15028\": {\"frequency\": 1, \"value\": 15028}, \"15029\": {\"frequency\": 2, \"value\": 15029}, \"15030\": {\"frequency\": 1, \"value\": 15030}, \"15031\": {\"frequency\": 1, \"value\": 15031}, \"15037\": {\"frequency\": 1, \"value\": 15037}, \"15050\": {\"frequency\": 2, \"value\": 15050}, \"15067\": {\"frequency\": 1, \"value\": 15067}, \"15068\": {\"frequency\": 1, \"value\": 15068}, \"15075\": {\"frequency\": 1, \"value\": 15075}, \"15084\": {\"frequency\": 2, \"value\": 15084}, \"15085\": {\"frequency\": 1, \"value\": 15085}, \"15090\": {\"frequency\": 1, \"value\": 15090}, \"15093\": {\"frequency\": 1, \"value\": 15093}, \"15101\": {\"frequency\": 1, \"value\": 15101}, \"47870\": {\"frequency\": 1, \"value\": 47870}, \"15119\": {\"frequency\": 1, \"value\": 15119}, \"15120\": {\"frequency\": 4, \"value\": 15120}, \"15139\": {\"frequency\": 1, \"value\": 15139}, \"15143\": {\"frequency\": 2, \"value\": 15143}, \"47916\": {\"frequency\": 4, \"value\": 47916}, \"15151\": {\"frequency\": 2, \"value\": 15151}, \"15160\": {\"frequency\": 1, \"value\": 15160}, \"15170\": {\"frequency\": 1, \"value\": 15170}, \"2530\": {\"frequency\": 1, \"value\": 2530}, \"15188\": {\"frequency\": 2, \"value\": 15188}, \"47958\": {\"frequency\": 1, \"value\": 47958}, \"15200\": {\"frequency\": 3, \"value\": 15200}, \"15207\": {\"frequency\": 1, \"value\": 15207}, \"15210\": {\"frequency\": 3, \"value\": 15210}, \"15225\": {\"frequency\": 1, \"value\": 15225}, \"15235\": {\"frequency\": 1, \"value\": 15235}, \"15236\": {\"frequency\": 1, \"value\": 15236}, \"15240\": {\"frequency\": 1, \"value\": 15240}, \"15246\": {\"frequency\": 5, \"value\": 15246}, \"15247\": {\"frequency\": 1, \"value\": 15247}, \"15250\": {\"frequency\": 2, \"value\": 15250}, \"15253\": {\"frequency\": 1, \"value\": 15253}, \"15258\": {\"frequency\": 2, \"value\": 15258}, \"15260\": {\"frequency\": 1, \"value\": 15260}, \"15264\": {\"frequency\": 2, \"value\": 15264}, \"15293\": {\"frequency\": 1, \"value\": 15293}, \"15300\": {\"frequency\": 1, \"value\": 15300}, \"80837\": {\"frequency\": 1, \"value\": 80837}, \"15304\": {\"frequency\": 1, \"value\": 15304}, \"15305\": {\"frequency\": 1, \"value\": 15305}, \"48076\": {\"frequency\": 1, \"value\": 48076}, \"15312\": {\"frequency\": 1, \"value\": 15312}, \"15330\": {\"frequency\": 2, \"value\": 15330}, \"15335\": {\"frequency\": 1, \"value\": 15335}, \"15344\": {\"frequency\": 1, \"value\": 15344}, \"15347\": {\"frequency\": 1, \"value\": 15347}, \"15349\": {\"frequency\": 1, \"value\": 15349}, \"15354\": {\"frequency\": 1, \"value\": 15354}, \"15360\": {\"frequency\": 2, \"value\": 15360}, \"15367\": {\"frequency\": 1, \"value\": 15367}, \"15375\": {\"frequency\": 4, \"value\": 15375}, \"15398\": {\"frequency\": 1, \"value\": 15398}, \"15400\": {\"frequency\": 3, \"value\": 15400}, \"15405\": {\"frequency\": 1, \"value\": 15405}, \"15411\": {\"frequency\": 2, \"value\": 15411}, \"15416\": {\"frequency\": 1, \"value\": 15416}, \"15420\": {\"frequency\": 1, \"value\": 15420}, \"15426\": {\"frequency\": 1, \"value\": 15426}, \"15438\": {\"frequency\": 1, \"value\": 15438}, \"15450\": {\"frequency\": 3, \"value\": 15450}, \"15480\": {\"frequency\": 2, \"value\": 15480}, \"15482\": {\"frequency\": 1, \"value\": 15482}, \"81021\": {\"frequency\": 4, \"value\": 81021}, \"48257\": {\"frequency\": 1, \"value\": 48257}, \"15496\": {\"frequency\": 1, \"value\": 15496}, \"15500\": {\"frequency\": 3, \"value\": 15500}, \"15508\": {\"frequency\": 2, \"value\": 15508}, \"15520\": {\"frequency\": 2, \"value\": 15520}, \"8048\": {\"frequency\": 2, \"value\": 8048}, \"48292\": {\"frequency\": 1, \"value\": 48292}, \"15525\": {\"frequency\": 1, \"value\": 15525}, \"15528\": {\"frequency\": 1, \"value\": 15528}, \"212137\": {\"frequency\": 3, \"value\": 212137}, \"15531\": {\"frequency\": 1, \"value\": 15531}, \"15535\": {\"frequency\": 1, \"value\": 15535}, \"15540\": {\"frequency\": 3, \"value\": 15540}, \"15559\": {\"frequency\": 1, \"value\": 15559}, \"15570\": {\"frequency\": 2, \"value\": 15570}, \"48351\": {\"frequency\": 5, \"value\": 48351}, \"48352\": {\"frequency\": 1, \"value\": 48352}, \"15586\": {\"frequency\": 1, \"value\": 15586}, \"15593\": {\"frequency\": 2, \"value\": 15593}, \"15600\": {\"frequency\": 10, \"value\": 15600}, \"15606\": {\"frequency\": 1, \"value\": 15606}, \"73600\": {\"frequency\": 1, \"value\": 73600}, \"15625\": {\"frequency\": 1, \"value\": 15625}, \"15626\": {\"frequency\": 1, \"value\": 15626}, \"15639\": {\"frequency\": 1, \"value\": 15639}, \"15641\": {\"frequency\": 2, \"value\": 15641}, \"15661\": {\"frequency\": 1, \"value\": 15661}, \"15669\": {\"frequency\": 1, \"value\": 15669}, \"15677\": {\"frequency\": 1, \"value\": 15677}, \"15678\": {\"frequency\": 1, \"value\": 15678}, \"15681\": {\"frequency\": 2, \"value\": 15681}, \"15685\": {\"frequency\": 1, \"value\": 15685}, \"15701\": {\"frequency\": 1, \"value\": 15701}, \"15704\": {\"frequency\": 1, \"value\": 15704}, \"8080\": {\"frequency\": 1, \"value\": 8080}, \"15743\": {\"frequency\": 1, \"value\": 15743}, \"15744\": {\"frequency\": 1, \"value\": 15744}, \"15745\": {\"frequency\": 1, \"value\": 15745}, \"15750\": {\"frequency\": 2, \"value\": 15750}, \"15757\": {\"frequency\": 1, \"value\": 15757}, \"15760\": {\"frequency\": 1, \"value\": 15760}, \"15770\": {\"frequency\": 1, \"value\": 15770}, \"15781\": {\"frequency\": 1, \"value\": 15781}, \"15783\": {\"frequency\": 2, \"value\": 15783}, \"15788\": {\"frequency\": 2, \"value\": 15788}, \"15798\": {\"frequency\": 1, \"value\": 15798}, \"15800\": {\"frequency\": 1, \"value\": 15800}, \"15810\": {\"frequency\": 1, \"value\": 15810}, \"15837\": {\"frequency\": 1, \"value\": 15837}, \"15842\": {\"frequency\": 1, \"value\": 15842}, \"15844\": {\"frequency\": 1, \"value\": 15844}, \"15867\": {\"frequency\": 1, \"value\": 15867}, \"15873\": {\"frequency\": 1, \"value\": 15873}, \"15900\": {\"frequency\": 1, \"value\": 15900}, \"169448\": {\"frequency\": 2, \"value\": 169448}, \"15907\": {\"frequency\": 1, \"value\": 15907}, \"15916\": {\"frequency\": 1, \"value\": 15916}, \"15920\": {\"frequency\": 1, \"value\": 15920}, \"48693\": {\"frequency\": 1, \"value\": 48693}, \"15939\": {\"frequency\": 1, \"value\": 15939}, \"2657\": {\"frequency\": 1, \"value\": 2657}, \"8119\": {\"frequency\": 4, \"value\": 8119}, \"15949\": {\"frequency\": 1, \"value\": 15949}, \"15950\": {\"frequency\": 1, \"value\": 15950}, \"15954\": {\"frequency\": 1, \"value\": 15954}, \"15958\": {\"frequency\": 1, \"value\": 15958}, \"15959\": {\"frequency\": 1, \"value\": 15959}, \"15960\": {\"frequency\": 1, \"value\": 15960}, \"15975\": {\"frequency\": 1, \"value\": 15975}, \"204732\": {\"frequency\": 1, \"value\": 204732}, \"15990\": {\"frequency\": 1, \"value\": 15990}, \"16000\": {\"frequency\": 14, \"value\": 16000}, \"16007\": {\"frequency\": 1, \"value\": 16007}, \"16008\": {\"frequency\": 1, \"value\": 16008}, \"81549\": {\"frequency\": 1, \"value\": 81549}, \"16015\": {\"frequency\": 3, \"value\": 16015}, \"48787\": {\"frequency\": 5, \"value\": 48787}, \"48788\": {\"frequency\": 1, \"value\": 48788}, \"16028\": {\"frequency\": 1, \"value\": 16028}, \"212639\": {\"frequency\": 1, \"value\": 212639}, \"16048\": {\"frequency\": 1, \"value\": 16048}, \"16050\": {\"frequency\": 3, \"value\": 16050}, \"16065\": {\"frequency\": 2, \"value\": 16065}, \"16080\": {\"frequency\": 1, \"value\": 16080}, \"40910\": {\"frequency\": 1, \"value\": 40910}, \"16105\": {\"frequency\": 1, \"value\": 16105}, \"16110\": {\"frequency\": 2, \"value\": 16110}, \"16117\": {\"frequency\": 4, \"value\": 16117}, \"16120\": {\"frequency\": 1, \"value\": 16120}, \"16133\": {\"frequency\": 1, \"value\": 16133}, \"16139\": {\"frequency\": 1, \"value\": 16139}, \"16145\": {\"frequency\": 1, \"value\": 16145}, \"16170\": {\"frequency\": 1, \"value\": 16170}, \"16171\": {\"frequency\": 1, \"value\": 16171}, \"16188\": {\"frequency\": 1, \"value\": 16188}, \"16200\": {\"frequency\": 17, \"value\": 16200}, \"264844\": {\"frequency\": 1, \"value\": 264844}, \"16215\": {\"frequency\": 1, \"value\": 16215}, \"16219\": {\"frequency\": 1, \"value\": 16219}, \"16224\": {\"frequency\": 1, \"value\": 16224}, \"48993\": {\"frequency\": 1, \"value\": 48993}, \"16236\": {\"frequency\": 1, \"value\": 16236}, \"16238\": {\"frequency\": 1, \"value\": 16238}, \"16249\": {\"frequency\": 1, \"value\": 16249}, \"16258\": {\"frequency\": 2, \"value\": 16258}, \"16262\": {\"frequency\": 1, \"value\": 16262}, \"16263\": {\"frequency\": 1, \"value\": 16263}, \"16264\": {\"frequency\": 1, \"value\": 16264}, \"16271\": {\"frequency\": 1, \"value\": 16271}, \"16275\": {\"frequency\": 1, \"value\": 16275}, \"49044\": {\"frequency\": 1, \"value\": 49044}, \"16290\": {\"frequency\": 1, \"value\": 16290}, \"16300\": {\"frequency\": 3, \"value\": 16300}, \"16305\": {\"frequency\": 1, \"value\": 16305}, \"16313\": {\"frequency\": 1, \"value\": 16313}, \"49091\": {\"frequency\": 1, \"value\": 49091}, \"505166\": {\"frequency\": 1, \"value\": 505166}, \"81892\": {\"frequency\": 4, \"value\": 81892}, \"81893\": {\"frequency\": 2, \"value\": 81893}, \"16365\": {\"frequency\": 1, \"value\": 16365}, \"49137\": {\"frequency\": 1, \"value\": 49137}, \"16376\": {\"frequency\": 1, \"value\": 16376}, \"49149\": {\"frequency\": 1, \"value\": 49149}, \"16400\": {\"frequency\": 2, \"value\": 16400}, \"16410\": {\"frequency\": 1, \"value\": 16410}, \"344124\": {\"frequency\": 1, \"value\": 344124}, \"16454\": {\"frequency\": 1, \"value\": 16454}, \"49223\": {\"frequency\": 1, \"value\": 49223}, \"16470\": {\"frequency\": 1, \"value\": 16470}, \"16474\": {\"frequency\": 1, \"value\": 16474}, \"16475\": {\"frequency\": 1, \"value\": 16475}, \"16500\": {\"frequency\": 3, \"value\": 16500}, \"16510\": {\"frequency\": 1, \"value\": 16510}, \"16524\": {\"frequency\": 1, \"value\": 16524}, \"16526\": {\"frequency\": 2, \"value\": 16526}, \"16530\": {\"frequency\": 1, \"value\": 16530}, \"16535\": {\"frequency\": 1, \"value\": 16535}, \"16538\": {\"frequency\": 1, \"value\": 16538}, \"16552\": {\"frequency\": 2, \"value\": 16552}, \"16564\": {\"frequency\": 1, \"value\": 16564}, \"16570\": {\"frequency\": 1, \"value\": 16570}, \"16573\": {\"frequency\": 1, \"value\": 16573}, \"16582\": {\"frequency\": 1, \"value\": 16582}, \"16600\": {\"frequency\": 2, \"value\": 16600}, \"16603\": {\"frequency\": 1, \"value\": 16603}, \"49375\": {\"frequency\": 1, \"value\": 49375}, \"16617\": {\"frequency\": 1, \"value\": 16617}, \"16619\": {\"frequency\": 1, \"value\": 16619}, \"16622\": {\"frequency\": 1, \"value\": 16622}, \"41000\": {\"frequency\": 1, \"value\": 41000}, \"16643\": {\"frequency\": 2, \"value\": 16643}, \"16650\": {\"frequency\": 2, \"value\": 16650}, \"16671\": {\"frequency\": 1, \"value\": 16671}, \"16672\": {\"frequency\": 2, \"value\": 16672}, \"16677\": {\"frequency\": 1, \"value\": 16677}, \"16679\": {\"frequency\": 2, \"value\": 16679}, \"49503\": {\"frequency\": 1, \"value\": 49503}, \"16736\": {\"frequency\": 1, \"value\": 16736}, \"16738\": {\"frequency\": 1, \"value\": 16738}, \"16748\": {\"frequency\": 1, \"value\": 16748}, \"8254\": {\"frequency\": 3, \"value\": 8254}, \"16770\": {\"frequency\": 1, \"value\": 16770}, \"16785\": {\"frequency\": 1, \"value\": 16785}, \"16788\": {\"frequency\": 1, \"value\": 16788}, \"16789\": {\"frequency\": 1, \"value\": 16789}, \"82328\": {\"frequency\": 1, \"value\": 82328}, \"16800\": {\"frequency\": 4, \"value\": 16800}, \"16801\": {\"frequency\": 1, \"value\": 16801}, \"16817\": {\"frequency\": 1, \"value\": 16817}, \"16828\": {\"frequency\": 1, \"value\": 16828}, \"213444\": {\"frequency\": 3, \"value\": 213444}, \"16851\": {\"frequency\": 1, \"value\": 16851}, \"16857\": {\"frequency\": 1, \"value\": 16857}, \"49658\": {\"frequency\": 8, \"value\": 49658}, \"16905\": {\"frequency\": 1, \"value\": 16905}, \"16909\": {\"frequency\": 2, \"value\": 16909}, \"16921\": {\"frequency\": 1, \"value\": 16921}, \"16928\": {\"frequency\": 1, \"value\": 16928}, \"16940\": {\"frequency\": 2, \"value\": 16940}, \"16952\": {\"frequency\": 1, \"value\": 16952}, \"19210\": {\"frequency\": 1, \"value\": 19210}, \"16960\": {\"frequency\": 1, \"value\": 16960}, \"16980\": {\"frequency\": 1, \"value\": 16980}, \"16988\": {\"frequency\": 1, \"value\": 16988}, \"49765\": {\"frequency\": 1, \"value\": 49765}, \"17000\": {\"frequency\": 2, \"value\": 17000}, \"17003\": {\"frequency\": 2, \"value\": 17003}, \"17006\": {\"frequency\": 1, \"value\": 17006}, \"17023\": {\"frequency\": 1, \"value\": 17023}, \"30144\": {\"frequency\": 1, \"value\": 30144}, \"17038\": {\"frequency\": 1, \"value\": 17038}, \"17100\": {\"frequency\": 2, \"value\": 17100}, \"17120\": {\"frequency\": 1, \"value\": 17120}, \"17126\": {\"frequency\": 1, \"value\": 17126}, \"115434\": {\"frequency\": 3, \"value\": 115434}, \"49936\": {\"frequency\": 1, \"value\": 49936}, \"17186\": {\"frequency\": 1, \"value\": 17186}, \"13787\": {\"frequency\": 1, \"value\": 13787}, \"17200\": {\"frequency\": 1, \"value\": 17200}, \"17204\": {\"frequency\": 1, \"value\": 17204}, \"17208\": {\"frequency\": 2, \"value\": 17208}, \"17234\": {\"frequency\": 1, \"value\": 17234}, \"17235\": {\"frequency\": 1, \"value\": 17235}, \"17239\": {\"frequency\": 1, \"value\": 17239}, \"17240\": {\"frequency\": 1, \"value\": 17240}, \"213879\": {\"frequency\": 2, \"value\": 213879}, \"17279\": {\"frequency\": 1, \"value\": 17279}, \"17300\": {\"frequency\": 2, \"value\": 17300}, \"50094\": {\"frequency\": 4, \"value\": 50094}, \"17334\": {\"frequency\": 3, \"value\": 17334}, \"50112\": {\"frequency\": 1, \"value\": 50112}, \"17349\": {\"frequency\": 2, \"value\": 17349}, \"17366\": {\"frequency\": 1, \"value\": 17366}, \"17380\": {\"frequency\": 1, \"value\": 17380}, \"17383\": {\"frequency\": 1, \"value\": 17383}, \"17389\": {\"frequency\": 1, \"value\": 17389}, \"17390\": {\"frequency\": 1, \"value\": 17390}, \"17398\": {\"frequency\": 1, \"value\": 17398}, \"17400\": {\"frequency\": 5, \"value\": 17400}, \"17424\": {\"frequency\": 4, \"value\": 17424}, \"17461\": {\"frequency\": 1, \"value\": 17461}, \"181319\": {\"frequency\": 1, \"value\": 181319}, \"17487\": {\"frequency\": 1, \"value\": 17487}, \"17500\": {\"frequency\": 1, \"value\": 17500}, \"17532\": {\"frequency\": 1, \"value\": 17532}, \"17533\": {\"frequency\": 1, \"value\": 17533}, \"50308\": {\"frequency\": 1, \"value\": 50308}, \"17550\": {\"frequency\": 1, \"value\": 17550}, \"17583\": {\"frequency\": 1, \"value\": 17583}, \"17585\": {\"frequency\": 1, \"value\": 17585}, \"17600\": {\"frequency\": 3, \"value\": 17600}, \"8399\": {\"frequency\": 2, \"value\": 8399}, \"17630\": {\"frequency\": 1, \"value\": 17630}, \"17635\": {\"frequency\": 1, \"value\": 17635}, \"50405\": {\"frequency\": 1, \"value\": 50405}, \"17652\": {\"frequency\": 2, \"value\": 17652}, \"83199\": {\"frequency\": 2, \"value\": 83199}, \"83200\": {\"frequency\": 1, \"value\": 83200}, \"17674\": {\"frequency\": 1, \"value\": 17674}, \"17685\": {\"frequency\": 1, \"value\": 17685}, \"17700\": {\"frequency\": 2, \"value\": 17700}, \"214315\": {\"frequency\": 3, \"value\": 214315}, \"50479\": {\"frequency\": 1, \"value\": 50479}, \"17715\": {\"frequency\": 1, \"value\": 17715}, \"17739\": {\"frequency\": 1, \"value\": 17739}, \"50529\": {\"frequency\": 2, \"value\": 50529}, \"17789\": {\"frequency\": 1, \"value\": 17789}, \"17800\": {\"frequency\": 1, \"value\": 17800}, \"17811\": {\"frequency\": 1, \"value\": 17811}, \"17817\": {\"frequency\": 1, \"value\": 17817}, \"17826\": {\"frequency\": 1, \"value\": 17826}, \"17832\": {\"frequency\": 1, \"value\": 17832}, \"17833\": {\"frequency\": 2, \"value\": 17833}, \"17841\": {\"frequency\": 1, \"value\": 17841}, \"17852\": {\"frequency\": 1, \"value\": 17852}, \"17853\": {\"frequency\": 2, \"value\": 17853}, \"17859\": {\"frequency\": 4, \"value\": 17859}, \"17864\": {\"frequency\": 1, \"value\": 17864}, \"17877\": {\"frequency\": 1, \"value\": 17877}, \"17882\": {\"frequency\": 1, \"value\": 17882}, \"17919\": {\"frequency\": 1, \"value\": 17919}, \"17935\": {\"frequency\": 1, \"value\": 17935}, \"17936\": {\"frequency\": 1, \"value\": 17936}, \"17950\": {\"frequency\": 1, \"value\": 17950}, \"17986\": {\"frequency\": 1, \"value\": 17986}, \"18000\": {\"frequency\": 13, \"value\": 18000}, \"18001\": {\"frequency\": 1, \"value\": 18001}, \"18042\": {\"frequency\": 2, \"value\": 18042}, \"18050\": {\"frequency\": 2, \"value\": 18050}, \"18055\": {\"frequency\": 2, \"value\": 18055}, \"18099\": {\"frequency\": 1, \"value\": 18099}, \"18115\": {\"frequency\": 1, \"value\": 18115}, \"18116\": {\"frequency\": 1, \"value\": 18116}, \"18129\": {\"frequency\": 1, \"value\": 18129}, \"18144\": {\"frequency\": 1, \"value\": 18144}, \"18167\": {\"frequency\": 1, \"value\": 18167}, \"18168\": {\"frequency\": 1, \"value\": 18168}, \"18184\": {\"frequency\": 1, \"value\": 18184}, \"50965\": {\"frequency\": 3, \"value\": 50965}, \"18199\": {\"frequency\": 1, \"value\": 18199}, \"18200\": {\"frequency\": 6, \"value\": 18200}, \"18224\": {\"frequency\": 1, \"value\": 18224}, \"18226\": {\"frequency\": 1, \"value\": 18226}, \"18241\": {\"frequency\": 1, \"value\": 18241}, \"18250\": {\"frequency\": 1, \"value\": 18250}, \"18253\": {\"frequency\": 1, \"value\": 18253}, \"18255\": {\"frequency\": 1, \"value\": 18255}, \"18265\": {\"frequency\": 1, \"value\": 18265}, \"8507\": {\"frequency\": 1, \"value\": 8507}, \"18295\": {\"frequency\": 4, \"value\": 18295}, \"18304\": {\"frequency\": 2, \"value\": 18304}, \"18335\": {\"frequency\": 1, \"value\": 18335}, \"149410\": {\"frequency\": 1, \"value\": 149410}, \"18360\": {\"frequency\": 3, \"value\": 18360}, \"18361\": {\"frequency\": 1, \"value\": 18361}, \"18362\": {\"frequency\": 2, \"value\": 18362}, \"18400\": {\"frequency\": 4, \"value\": 18400}, \"51177\": {\"frequency\": 1, \"value\": 51177}, \"18439\": {\"frequency\": 1, \"value\": 18439}, \"51212\": {\"frequency\": 1, \"value\": 51212}, \"188760\": {\"frequency\": 1, \"value\": 188760}, \"18450\": {\"frequency\": 2, \"value\": 18450}, \"18459\": {\"frequency\": 1, \"value\": 18459}, \"18480\": {\"frequency\": 2, \"value\": 18480}, \"18500\": {\"frequency\": 2, \"value\": 18500}, \"18505\": {\"frequency\": 1, \"value\": 18505}, \"18525\": {\"frequency\": 2, \"value\": 18525}, \"18540\": {\"frequency\": 2, \"value\": 18540}, \"18564\": {\"frequency\": 1, \"value\": 18564}, \"18568\": {\"frequency\": 1, \"value\": 18568}, \"215186\": {\"frequency\": 3, \"value\": 215186}, \"51354\": {\"frequency\": 1, \"value\": 51354}, \"18599\": {\"frequency\": 1, \"value\": 18599}, \"18600\": {\"frequency\": 3, \"value\": 18600}, \"35868\": {\"frequency\": 1, \"value\": 35868}, \"18616\": {\"frequency\": 1, \"value\": 18616}, \"18641\": {\"frequency\": 1, \"value\": 18641}, \"41339\": {\"frequency\": 1, \"value\": 41339}, \"18673\": {\"frequency\": 1, \"value\": 18673}, \"18674\": {\"frequency\": 1, \"value\": 18674}, \"18687\": {\"frequency\": 1, \"value\": 18687}, \"18700\": {\"frequency\": 2, \"value\": 18700}, \"18713\": {\"frequency\": 1, \"value\": 18713}, \"35889\": {\"frequency\": 1, \"value\": 35889}, \"18730\": {\"frequency\": 3, \"value\": 18730}, \"84267\": {\"frequency\": 1, \"value\": 84267}, \"18743\": {\"frequency\": 1, \"value\": 18743}, \"313672\": {\"frequency\": 1, \"value\": 313672}, \"18778\": {\"frequency\": 1, \"value\": 18778}, \"18800\": {\"frequency\": 1, \"value\": 18800}, \"18810\": {\"frequency\": 1, \"value\": 18810}, \"18834\": {\"frequency\": 1, \"value\": 18834}, \"117176\": {\"frequency\": 4, \"value\": 117176}, \"18900\": {\"frequency\": 3, \"value\": 18900}, \"18901\": {\"frequency\": 1, \"value\": 18901}, \"18935\": {\"frequency\": 1, \"value\": 18935}, \"84506\": {\"frequency\": 1, \"value\": 84506}, \"51763\": {\"frequency\": 1, \"value\": 51763}, \"19000\": {\"frequency\": 6, \"value\": 19000}, \"19007\": {\"frequency\": 1, \"value\": 19007}, \"215622\": {\"frequency\": 1, \"value\": 215622}, \"19017\": {\"frequency\": 1, \"value\": 19017}, \"19025\": {\"frequency\": 1, \"value\": 19025}, \"19040\": {\"frequency\": 1, \"value\": 19040}, \"150117\": {\"frequency\": 1, \"value\": 150117}, \"51836\": {\"frequency\": 6, \"value\": 51836}, \"19088\": {\"frequency\": 1, \"value\": 19088}, \"19115\": {\"frequency\": 1, \"value\": 19115}, \"19116\": {\"frequency\": 1, \"value\": 19116}, \"19141\": {\"frequency\": 1, \"value\": 19141}, \"19193\": {\"frequency\": 1, \"value\": 19193}, \"150270\": {\"frequency\": 1, \"value\": 150270}, \"19200\": {\"frequency\": 6, \"value\": 19200}, \"150282\": {\"frequency\": 1, \"value\": 150282}, \"248600\": {\"frequency\": 1, \"value\": 248600}, \"19225\": {\"frequency\": 1, \"value\": 19225}, \"19250\": {\"frequency\": 1, \"value\": 19250}, \"19252\": {\"frequency\": 1, \"value\": 19252}, \"46902\": {\"frequency\": 1, \"value\": 46902}, \"19275\": {\"frequency\": 1, \"value\": 19275}, \"117612\": {\"frequency\": 1, \"value\": 117612}, \"35988\": {\"frequency\": 1, \"value\": 35988}, \"19370\": {\"frequency\": 1, \"value\": 19370}, \"19387\": {\"frequency\": 1, \"value\": 19387}, \"19401\": {\"frequency\": 1, \"value\": 19401}, \"84942\": {\"frequency\": 1, \"value\": 84942}, \"19436\": {\"frequency\": 1, \"value\": 19436}, \"19439\": {\"frequency\": 1, \"value\": 19439}, \"216057\": {\"frequency\": 1, \"value\": 216057}, \"19487\": {\"frequency\": 1, \"value\": 19487}, \"52256\": {\"frequency\": 1, \"value\": 52256}, \"19500\": {\"frequency\": 1, \"value\": 19500}, \"19501\": {\"frequency\": 1, \"value\": 19501}, \"52272\": {\"frequency\": 3, \"value\": 52272}, \"19513\": {\"frequency\": 1, \"value\": 19513}, \"19530\": {\"frequency\": 1, \"value\": 19530}, \"19550\": {\"frequency\": 2, \"value\": 19550}, \"52322\": {\"frequency\": 1, \"value\": 52322}, \"19570\": {\"frequency\": 1, \"value\": 19570}, \"19585\": {\"frequency\": 1, \"value\": 19585}, \"19593\": {\"frequency\": 1, \"value\": 19593}, \"19600\": {\"frequency\": 2, \"value\": 19600}, \"19602\": {\"frequency\": 2, \"value\": 19602}, \"19606\": {\"frequency\": 1, \"value\": 19606}, \"19635\": {\"frequency\": 1, \"value\": 19635}, \"19672\": {\"frequency\": 1, \"value\": 19672}, \"19680\": {\"frequency\": 2, \"value\": 19680}, \"434728\": {\"frequency\": 1, \"value\": 434728}, \"19700\": {\"frequency\": 2, \"value\": 19700}, \"19709\": {\"frequency\": 1, \"value\": 19709}, \"216332\": {\"frequency\": 1, \"value\": 216332}, \"118047\": {\"frequency\": 3, \"value\": 118047}, \"19745\": {\"frequency\": 1, \"value\": 19745}, \"14217\": {\"frequency\": 1, \"value\": 14217}, \"19785\": {\"frequency\": 1, \"value\": 19785}, \"19798\": {\"frequency\": 1, \"value\": 19798}, \"52567\": {\"frequency\": 1, \"value\": 52567}, \"19800\": {\"frequency\": 3, \"value\": 19800}, \"19821\": {\"frequency\": 1, \"value\": 19821}, \"85377\": {\"frequency\": 2, \"value\": 85377}, \"19842\": {\"frequency\": 1, \"value\": 19842}, \"19843\": {\"frequency\": 1, \"value\": 19843}, \"19850\": {\"frequency\": 3, \"value\": 19850}, \"150945\": {\"frequency\": 1, \"value\": 150945}, \"19876\": {\"frequency\": 1, \"value\": 19876}, \"19877\": {\"frequency\": 1, \"value\": 19877}, \"216493\": {\"frequency\": 2, \"value\": 216493}, \"19897\": {\"frequency\": 1, \"value\": 19897}, \"19900\": {\"frequency\": 1, \"value\": 19900}, \"19901\": {\"frequency\": 1, \"value\": 19901}, \"52707\": {\"frequency\": 2, \"value\": 52707}, \"19965\": {\"frequency\": 2, \"value\": 19965}, \"19969\": {\"frequency\": 1, \"value\": 19969}, \"19978\": {\"frequency\": 1, \"value\": 19978}, \"183823\": {\"frequency\": 1, \"value\": 183823}, \"19991\": {\"frequency\": 2, \"value\": 19991}, \"199940\": {\"frequency\": 1, \"value\": 199940}, \"19998\": {\"frequency\": 1, \"value\": 19998}, \"20000\": {\"frequency\": 12, \"value\": 20000}, \"20001\": {\"frequency\": 2, \"value\": 20001}, \"20012\": {\"frequency\": 1, \"value\": 20012}, \"20018\": {\"frequency\": 1, \"value\": 20018}, \"105415\": {\"frequency\": 1, \"value\": 105415}, \"20023\": {\"frequency\": 1, \"value\": 20023}, \"20031\": {\"frequency\": 1, \"value\": 20031}, \"20041\": {\"frequency\": 1, \"value\": 20041}, \"20053\": {\"frequency\": 1, \"value\": 20053}, \"36116\": {\"frequency\": 1, \"value\": 36116}, \"20100\": {\"frequency\": 3, \"value\": 20100}, \"20104\": {\"frequency\": 1, \"value\": 20104}, \"52889\": {\"frequency\": 2, \"value\": 52889}, \"20130\": {\"frequency\": 1, \"value\": 20130}, \"37769\": {\"frequency\": 1, \"value\": 37769}, \"20150\": {\"frequency\": 2, \"value\": 20150}, \"20158\": {\"frequency\": 1, \"value\": 20158}, \"216777\": {\"frequency\": 1, \"value\": 216777}, \"118483\": {\"frequency\": 1, \"value\": 118483}, \"20181\": {\"frequency\": 1, \"value\": 20181}, \"52953\": {\"frequency\": 1, \"value\": 52953}, \"85728\": {\"frequency\": 1, \"value\": 85728}, \"20193\": {\"frequency\": 1, \"value\": 20193}, \"20242\": {\"frequency\": 1, \"value\": 20242}, \"20251\": {\"frequency\": 2, \"value\": 20251}, \"20274\": {\"frequency\": 1, \"value\": 20274}, \"20277\": {\"frequency\": 1, \"value\": 20277}, \"20280\": {\"frequency\": 1, \"value\": 20280}, \"20296\": {\"frequency\": 1, \"value\": 20296}, \"19767\": {\"frequency\": 1, \"value\": 19767}, \"20301\": {\"frequency\": 1, \"value\": 20301}, \"20339\": {\"frequency\": 1, \"value\": 20339}, \"107157\": {\"frequency\": 4, \"value\": 107157}, \"74390\": {\"frequency\": 1, \"value\": 74390}, \"20369\": {\"frequency\": 1, \"value\": 20369}, \"53143\": {\"frequency\": 3, \"value\": 53143}, \"20377\": {\"frequency\": 1, \"value\": 20377}, \"20388\": {\"frequency\": 1, \"value\": 20388}, \"20400\": {\"frequency\": 2, \"value\": 20400}, \"217014\": {\"frequency\": 1, \"value\": 217014}, \"20412\": {\"frequency\": 2, \"value\": 20412}, \"20446\": {\"frequency\": 1, \"value\": 20446}, \"315374\": {\"frequency\": 1, \"value\": 315374}, \"20466\": {\"frequency\": 1, \"value\": 20466}, \"53250\": {\"frequency\": 1, \"value\": 53250}, \"20524\": {\"frequency\": 1, \"value\": 20524}, \"20531\": {\"frequency\": 1, \"value\": 20531}, \"577605\": {\"frequency\": 1, \"value\": 577605}, \"20553\": {\"frequency\": 1, \"value\": 20553}, \"20562\": {\"frequency\": 1, \"value\": 20562}, \"167270\": {\"frequency\": 1, \"value\": 167270}, \"6141\": {\"frequency\": 2, \"value\": 6141}, \"20588\": {\"frequency\": 1, \"value\": 20588}, \"53357\": {\"frequency\": 1, \"value\": 53357}, \"118918\": {\"frequency\": 1, \"value\": 118918}, \"20620\": {\"frequency\": 1, \"value\": 20620}, \"53392\": {\"frequency\": 1, \"value\": 53392}, \"53428\": {\"frequency\": 1, \"value\": 53428}, \"20685\": {\"frequency\": 1, \"value\": 20685}, \"86225\": {\"frequency\": 1, \"value\": 86225}, \"20700\": {\"frequency\": 3, \"value\": 20700}, \"20720\": {\"frequency\": 1, \"value\": 20720}, \"20734\": {\"frequency\": 1, \"value\": 20734}, \"20750\": {\"frequency\": 1, \"value\": 20750}, \"8920\": {\"frequency\": 2, \"value\": 8920}, \"217374\": {\"frequency\": 1, \"value\": 217374}, \"20785\": {\"frequency\": 1, \"value\": 20785}, \"20790\": {\"frequency\": 1, \"value\": 20790}, \"20805\": {\"frequency\": 1, \"value\": 20805}, \"53574\": {\"frequency\": 1, \"value\": 53574}, \"53578\": {\"frequency\": 5, \"value\": 53578}, \"20868\": {\"frequency\": 1, \"value\": 20868}, \"36246\": {\"frequency\": 1, \"value\": 36246}, \"20870\": {\"frequency\": 1, \"value\": 20870}, \"20873\": {\"frequency\": 1, \"value\": 20873}, \"20875\": {\"frequency\": 2, \"value\": 20875}, \"20917\": {\"frequency\": 1, \"value\": 20917}, \"20925\": {\"frequency\": 1, \"value\": 20925}, \"53696\": {\"frequency\": 1, \"value\": 53696}, \"20946\": {\"frequency\": 1, \"value\": 20946}, \"20954\": {\"frequency\": 1, \"value\": 20954}, \"20978\": {\"frequency\": 1, \"value\": 20978}, \"74495\": {\"frequency\": 1, \"value\": 74495}, \"21000\": {\"frequency\": 6, \"value\": 21000}, \"21043\": {\"frequency\": 2, \"value\": 21043}, \"21074\": {\"frequency\": 1, \"value\": 21074}, \"21096\": {\"frequency\": 1, \"value\": 21096}, \"86636\": {\"frequency\": 1, \"value\": 86636}, \"39639\": {\"frequency\": 3, \"value\": 39639}, \"21115\": {\"frequency\": 1, \"value\": 21115}, \"53898\": {\"frequency\": 1, \"value\": 53898}, \"21138\": {\"frequency\": 1, \"value\": 21138}, \"2323\": {\"frequency\": 1, \"value\": 2323}, \"217800\": {\"frequency\": 15, \"value\": 217800}, \"21235\": {\"frequency\": 1, \"value\": 21235}, \"54014\": {\"frequency\": 5, \"value\": 54014}, \"21262\": {\"frequency\": 1, \"value\": 21262}, \"54048\": {\"frequency\": 1, \"value\": 54048}, \"185130\": {\"frequency\": 2, \"value\": 185130}, \"21300\": {\"frequency\": 1, \"value\": 21300}, \"21303\": {\"frequency\": 3, \"value\": 21303}, \"21312\": {\"frequency\": 1, \"value\": 21312}, \"21336\": {\"frequency\": 1, \"value\": 21336}, \"21344\": {\"frequency\": 2, \"value\": 21344}, \"21357\": {\"frequency\": 1, \"value\": 21357}, \"21375\": {\"frequency\": 1, \"value\": 21375}, \"54160\": {\"frequency\": 2, \"value\": 54160}, \"21399\": {\"frequency\": 1, \"value\": 21399}, \"21465\": {\"frequency\": 1, \"value\": 21465}, \"119790\": {\"frequency\": 1, \"value\": 119790}, \"21514\": {\"frequency\": 1, \"value\": 21514}, \"21562\": {\"frequency\": 2, \"value\": 21562}, \"21578\": {\"frequency\": 1, \"value\": 21578}, \"87120\": {\"frequency\": 3, \"value\": 87120}, \"21587\": {\"frequency\": 1, \"value\": 21587}, \"21600\": {\"frequency\": 2, \"value\": 21600}, \"218235\": {\"frequency\": 2, \"value\": 218235}, \"21630\": {\"frequency\": 1, \"value\": 21630}, \"218252\": {\"frequency\": 1, \"value\": 218252}, \"21650\": {\"frequency\": 1, \"value\": 21650}, \"349351\": {\"frequency\": 1, \"value\": 349351}, \"87213\": {\"frequency\": 1, \"value\": 87213}, \"54450\": {\"frequency\": 8, \"value\": 54450}, \"21701\": {\"frequency\": 1, \"value\": 21701}, \"38912\": {\"frequency\": 1, \"value\": 38912}, \"52769\": {\"frequency\": 1, \"value\": 52769}, \"21750\": {\"frequency\": 1, \"value\": 21750}, \"21780\": {\"frequency\": 9, \"value\": 21780}, \"21781\": {\"frequency\": 3, \"value\": 21781}, \"21785\": {\"frequency\": 1, \"value\": 21785}, \"54557\": {\"frequency\": 1, \"value\": 54557}, \"36400\": {\"frequency\": 1, \"value\": 36400}, \"21794\": {\"frequency\": 1, \"value\": 21794}, \"21804\": {\"frequency\": 1, \"value\": 21804}, \"21810\": {\"frequency\": 1, \"value\": 21810}, \"218472\": {\"frequency\": 1, \"value\": 218472}, \"21883\": {\"frequency\": 2, \"value\": 21883}, \"21890\": {\"frequency\": 1, \"value\": 21890}, \"218506\": {\"frequency\": 1, \"value\": 218506}, \"21904\": {\"frequency\": 1, \"value\": 21904}, \"21907\": {\"frequency\": 1, \"value\": 21907}, \"21929\": {\"frequency\": 1, \"value\": 21929}, \"21937\": {\"frequency\": 1, \"value\": 21937}, \"54707\": {\"frequency\": 1, \"value\": 54707}, \"87497\": {\"frequency\": 1, \"value\": 87497}, \"251341\": {\"frequency\": 1, \"value\": 251341}, \"22000\": {\"frequency\": 6, \"value\": 22000}, \"87555\": {\"frequency\": 1, \"value\": 87555}, \"9132\": {\"frequency\": 2, \"value\": 9132}, \"22040\": {\"frequency\": 2, \"value\": 22040}, \"36445\": {\"frequency\": 1, \"value\": 36445}, \"22072\": {\"frequency\": 1, \"value\": 22072}, \"22081\": {\"frequency\": 2, \"value\": 22081}, \"22098\": {\"frequency\": 1, \"value\": 22098}, \"22100\": {\"frequency\": 3, \"value\": 22100}, \"22111\": {\"frequency\": 1, \"value\": 22111}, \"54885\": {\"frequency\": 1, \"value\": 54885}, \"22194\": {\"frequency\": 1, \"value\": 22194}, \"22215\": {\"frequency\": 1, \"value\": 22215}, \"11652\": {\"frequency\": 3, \"value\": 11652}, \"22267\": {\"frequency\": 1, \"value\": 22267}, \"22334\": {\"frequency\": 1, \"value\": 22334}, \"22357\": {\"frequency\": 1, \"value\": 22357}, \"22370\": {\"frequency\": 1, \"value\": 22370}, \"22410\": {\"frequency\": 1, \"value\": 22410}, \"22443\": {\"frequency\": 1, \"value\": 22443}, \"22445\": {\"frequency\": 1, \"value\": 22445}, \"87991\": {\"frequency\": 2, \"value\": 87991}, \"22482\": {\"frequency\": 1, \"value\": 22482}, \"22486\": {\"frequency\": 1, \"value\": 22486}, \"22489\": {\"frequency\": 1, \"value\": 22489}, \"219106\": {\"frequency\": 2, \"value\": 219106}, \"22500\": {\"frequency\": 2, \"value\": 22500}, \"22508\": {\"frequency\": 1, \"value\": 22508}, \"22518\": {\"frequency\": 1, \"value\": 22518}, \"9216\": {\"frequency\": 3, \"value\": 9216}, \"22547\": {\"frequency\": 1, \"value\": 22547}, \"55321\": {\"frequency\": 3, \"value\": 55321}, \"22594\": {\"frequency\": 1, \"value\": 22594}, \"22605\": {\"frequency\": 1, \"value\": 22605}, \"55387\": {\"frequency\": 1, \"value\": 55387}, \"22649\": {\"frequency\": 1, \"value\": 22649}, \"22651\": {\"frequency\": 2, \"value\": 22651}, \"22703\": {\"frequency\": 2, \"value\": 22703}, \"88327\": {\"frequency\": 1, \"value\": 88327}, \"22860\": {\"frequency\": 1, \"value\": 22860}, \"22863\": {\"frequency\": 1, \"value\": 22863}, \"88426\": {\"frequency\": 3, \"value\": 88426}, \"3817\": {\"frequency\": 2, \"value\": 3817}, \"219527\": {\"frequency\": 1, \"value\": 219527}, \"219542\": {\"frequency\": 3, \"value\": 219542}, \"107593\": {\"frequency\": 1, \"value\": 107593}, \"55756\": {\"frequency\": 2, \"value\": 55756}, \"23000\": {\"frequency\": 2, \"value\": 23000}, \"23085\": {\"frequency\": 1, \"value\": 23085}, \"42077\": {\"frequency\": 1, \"value\": 42077}, \"55867\": {\"frequency\": 1, \"value\": 55867}, \"23100\": {\"frequency\": 2, \"value\": 23100}, \"3866\": {\"frequency\": 1, \"value\": 3866}, \"23200\": {\"frequency\": 1, \"value\": 23200}, \"6232\": {\"frequency\": 4, \"value\": 6232}, \"23345\": {\"frequency\": 1, \"value\": 23345}, \"85813\": {\"frequency\": 1, \"value\": 85813}, \"219978\": {\"frequency\": 4, \"value\": 219978}, \"88909\": {\"frequency\": 1, \"value\": 88909}, \"23400\": {\"frequency\": 3, \"value\": 23400}, \"56192\": {\"frequency\": 4, \"value\": 56192}, \"187313\": {\"frequency\": 1, \"value\": 187313}, \"33981\": {\"frequency\": 1, \"value\": 33981}, \"23488\": {\"frequency\": 1, \"value\": 23488}, \"23507\": {\"frequency\": 1, \"value\": 23507}, \"23512\": {\"frequency\": 1, \"value\": 23512}, \"23522\": {\"frequency\": 4, \"value\": 23522}, \"6240\": {\"frequency\": 16, \"value\": 6240}, \"23568\": {\"frequency\": 1, \"value\": 23568}, \"23623\": {\"frequency\": 1, \"value\": 23623}, \"23625\": {\"frequency\": 1, \"value\": 23625}, \"23680\": {\"frequency\": 1, \"value\": 23680}, \"220308\": {\"frequency\": 1, \"value\": 220308}, \"122038\": {\"frequency\": 1, \"value\": 122038}, \"23760\": {\"frequency\": 1, \"value\": 23760}, \"89298\": {\"frequency\": 4, \"value\": 89298}, \"23781\": {\"frequency\": 1, \"value\": 23781}, \"23819\": {\"frequency\": 1, \"value\": 23819}, \"9432\": {\"frequency\": 1, \"value\": 9432}, \"56628\": {\"frequency\": 3, \"value\": 56628}, \"23885\": {\"frequency\": 1, \"value\": 23885}, \"23891\": {\"frequency\": 1, \"value\": 23891}, \"23899\": {\"frequency\": 1, \"value\": 23899}, \"23954\": {\"frequency\": 1, \"value\": 23954}, \"23962\": {\"frequency\": 1, \"value\": 23962}, \"23985\": {\"frequency\": 1, \"value\": 23985}, \"23994\": {\"frequency\": 1, \"value\": 23994}, \"24000\": {\"frequency\": 1, \"value\": 24000}, \"155073\": {\"frequency\": 1, \"value\": 155073}, \"24004\": {\"frequency\": 1, \"value\": 24004}, \"286181\": {\"frequency\": 1, \"value\": 286181}, \"155130\": {\"frequency\": 1, \"value\": 155130}, \"24069\": {\"frequency\": 1, \"value\": 24069}, \"50994\": {\"frequency\": 1, \"value\": 50994}, \"122403\": {\"frequency\": 1, \"value\": 122403}, \"843309\": {\"frequency\": 1, \"value\": 843309}, \"24186\": {\"frequency\": 1, \"value\": 24186}, \"24190\": {\"frequency\": 1, \"value\": 24190}, \"14959\": {\"frequency\": 1, \"value\": 14959}, \"57000\": {\"frequency\": 1, \"value\": 57000}, \"24237\": {\"frequency\": 1, \"value\": 24237}, \"57050\": {\"frequency\": 1, \"value\": 57050}, \"57063\": {\"frequency\": 6, \"value\": 57063}, \"36817\": {\"frequency\": 1, \"value\": 36817}, \"24330\": {\"frequency\": 1, \"value\": 24330}, \"46638\": {\"frequency\": 1, \"value\": 46638}, \"24354\": {\"frequency\": 1, \"value\": 24354}, \"36831\": {\"frequency\": 1, \"value\": 36831}, \"24437\": {\"frequency\": 1, \"value\": 24437}, \"24500\": {\"frequency\": 1, \"value\": 24500}, \"24501\": {\"frequency\": 1, \"value\": 24501}, \"9548\": {\"frequency\": 2, \"value\": 9548}, \"24527\": {\"frequency\": 1, \"value\": 24527}, \"24550\": {\"frequency\": 1, \"value\": 24550}, \"40098\": {\"frequency\": 1, \"value\": 40098}, \"57346\": {\"frequency\": 1, \"value\": 57346}, \"24586\": {\"frequency\": 1, \"value\": 24586}, \"24603\": {\"frequency\": 1, \"value\": 24603}, \"57381\": {\"frequency\": 1, \"value\": 57381}, \"24650\": {\"frequency\": 1, \"value\": 24650}, \"24663\": {\"frequency\": 1, \"value\": 24663}, \"221284\": {\"frequency\": 1, \"value\": 221284}, \"24684\": {\"frequency\": 2, \"value\": 24684}, \"24691\": {\"frequency\": 1, \"value\": 24691}, \"41194\": {\"frequency\": 1, \"value\": 41194}, \"24700\": {\"frequency\": 2, \"value\": 24700}, \"57499\": {\"frequency\": 7, \"value\": 57499}, \"24740\": {\"frequency\": 1, \"value\": 24740}, \"57514\": {\"frequency\": 1, \"value\": 57514}, \"4125\": {\"frequency\": 7, \"value\": 4125}, \"24755\": {\"frequency\": 1, \"value\": 24755}, \"24759\": {\"frequency\": 1, \"value\": 24759}, \"24767\": {\"frequency\": 1, \"value\": 24767}, \"24773\": {\"frequency\": 1, \"value\": 24773}, \"36900\": {\"frequency\": 2, \"value\": 36900}, \"24800\": {\"frequency\": 1, \"value\": 24800}, \"57587\": {\"frequency\": 1, \"value\": 57587}, \"24825\": {\"frequency\": 1, \"value\": 24825}, \"24829\": {\"frequency\": 2, \"value\": 24829}, \"24920\": {\"frequency\": 1, \"value\": 24920}, \"24931\": {\"frequency\": 1, \"value\": 24931}, \"24969\": {\"frequency\": 1, \"value\": 24969}, \"25000\": {\"frequency\": 2, \"value\": 25000}, \"25002\": {\"frequency\": 1, \"value\": 25002}, \"25046\": {\"frequency\": 1, \"value\": 25046}, \"36947\": {\"frequency\": 1, \"value\": 36947}, \"221720\": {\"frequency\": 1, \"value\": 221720}, \"25150\": {\"frequency\": 1, \"value\": 25150}, \"25175\": {\"frequency\": 1, \"value\": 25175}, \"189050\": {\"frequency\": 1, \"value\": 189050}, \"25211\": {\"frequency\": 1, \"value\": 25211}, \"25245\": {\"frequency\": 1, \"value\": 25245}, \"25248\": {\"frequency\": 1, \"value\": 25248}, \"90796\": {\"frequency\": 1, \"value\": 90796}, \"123600\": {\"frequency\": 1, \"value\": 123600}, \"25341\": {\"frequency\": 1, \"value\": 25341}, \"58157\": {\"frequency\": 1, \"value\": 58157}, \"37000\": {\"frequency\": 1, \"value\": 37000}, \"90968\": {\"frequency\": 1, \"value\": 90968}, \"25500\": {\"frequency\": 2, \"value\": 25500}, \"222156\": {\"frequency\": 2, \"value\": 222156}, \"25600\": {\"frequency\": 2, \"value\": 25600}, \"25639\": {\"frequency\": 1, \"value\": 25639}, \"25641\": {\"frequency\": 1, \"value\": 25641}, \"1074218\": {\"frequency\": 1, \"value\": 1074218}, \"189486\": {\"frequency\": 3, \"value\": 189486}, \"25663\": {\"frequency\": 1, \"value\": 25663}, \"25697\": {\"frequency\": 1, \"value\": 25697}, \"25700\": {\"frequency\": 1, \"value\": 25700}, \"25714\": {\"frequency\": 1, \"value\": 25714}, \"58488\": {\"frequency\": 1, \"value\": 58488}, \"25741\": {\"frequency\": 1, \"value\": 25741}, \"4298\": {\"frequency\": 1, \"value\": 4298}, \"25800\": {\"frequency\": 1, \"value\": 25800}, \"37076\": {\"frequency\": 1, \"value\": 37076}, \"156988\": {\"frequency\": 1, \"value\": 156988}, \"91476\": {\"frequency\": 2, \"value\": 91476}, \"58712\": {\"frequency\": 1, \"value\": 58712}, \"25958\": {\"frequency\": 1, \"value\": 25958}, \"25993\": {\"frequency\": 1, \"value\": 25993}, \"26000\": {\"frequency\": 2, \"value\": 26000}, \"189852\": {\"frequency\": 1, \"value\": 189852}, \"26027\": {\"frequency\": 1, \"value\": 26027}, \"26036\": {\"frequency\": 1, \"value\": 26036}, \"26040\": {\"frequency\": 1, \"value\": 26040}, \"26055\": {\"frequency\": 1, \"value\": 26055}, \"42580\": {\"frequency\": 1, \"value\": 42580}, \"26127\": {\"frequency\": 1, \"value\": 26127}, \"91681\": {\"frequency\": 1, \"value\": 91681}, \"59058\": {\"frequency\": 1, \"value\": 59058}, \"26300\": {\"frequency\": 1, \"value\": 26300}, \"26326\": {\"frequency\": 1, \"value\": 26326}, \"26329\": {\"frequency\": 1, \"value\": 26329}, \"26337\": {\"frequency\": 1, \"value\": 26337}, \"26359\": {\"frequency\": 1, \"value\": 26359}, \"26375\": {\"frequency\": 1, \"value\": 26375}, \"26400\": {\"frequency\": 1, \"value\": 26400}, \"26460\": {\"frequency\": 1, \"value\": 26460}, \"59242\": {\"frequency\": 1, \"value\": 59242}, \"26487\": {\"frequency\": 1, \"value\": 26487}, \"26500\": {\"frequency\": 2, \"value\": 26500}, \"190357\": {\"frequency\": 1, \"value\": 190357}, \"4425\": {\"frequency\": 2, \"value\": 4425}, \"26571\": {\"frequency\": 1, \"value\": 26571}, \"26615\": {\"frequency\": 1, \"value\": 26615}, \"26650\": {\"frequency\": 1, \"value\": 26650}, \"4443\": {\"frequency\": 2, \"value\": 4443}, \"26742\": {\"frequency\": 1, \"value\": 26742}, \"256132\": {\"frequency\": 1, \"value\": 256132}, \"223377\": {\"frequency\": 1, \"value\": 223377}, \"26784\": {\"frequency\": 1, \"value\": 26784}, \"157875\": {\"frequency\": 1, \"value\": 157875}, \"92347\": {\"frequency\": 2, \"value\": 92347}, \"26831\": {\"frequency\": 1, \"value\": 26831}, \"59612\": {\"frequency\": 1, \"value\": 59612}, \"223462\": {\"frequency\": 3, \"value\": 223462}, \"26895\": {\"frequency\": 1, \"value\": 26895}, \"59677\": {\"frequency\": 4, \"value\": 59677}, \"26977\": {\"frequency\": 1, \"value\": 26977}, \"26989\": {\"frequency\": 1, \"value\": 26989}, \"27000\": {\"frequency\": 1, \"value\": 27000}, \"27007\": {\"frequency\": 3, \"value\": 27007}, \"27072\": {\"frequency\": 1, \"value\": 27072}, \"27122\": {\"frequency\": 1, \"value\": 27122}, \"125452\": {\"frequency\": 2, \"value\": 125452}, \"92721\": {\"frequency\": 1, \"value\": 92721}, \"27200\": {\"frequency\": 1, \"value\": 27200}, \"27227\": {\"frequency\": 1, \"value\": 27227}, \"387684\": {\"frequency\": 1, \"value\": 387684}, \"27260\": {\"frequency\": 1, \"value\": 27260}, \"223898\": {\"frequency\": 1, \"value\": 223898}, \"27311\": {\"frequency\": 1, \"value\": 27311}, \"27319\": {\"frequency\": 1, \"value\": 27319}, \"27332\": {\"frequency\": 1, \"value\": 27332}, \"4557\": {\"frequency\": 2, \"value\": 4557}, \"60113\": {\"frequency\": 1, \"value\": 60113}, \"60123\": {\"frequency\": 1, \"value\": 60123}, \"191228\": {\"frequency\": 1, \"value\": 191228}, \"42800\": {\"frequency\": 1, \"value\": 42800}, \"27427\": {\"frequency\": 1, \"value\": 27427}, \"27441\": {\"frequency\": 2, \"value\": 27441}, \"158558\": {\"frequency\": 2, \"value\": 158558}, \"27505\": {\"frequency\": 1, \"value\": 27505}, \"27517\": {\"frequency\": 1, \"value\": 27517}, \"27540\": {\"frequency\": 1, \"value\": 27540}, \"37363\": {\"frequency\": 1, \"value\": 37363}, \"27586\": {\"frequency\": 1, \"value\": 27586}, \"27589\": {\"frequency\": 2, \"value\": 27589}, \"27591\": {\"frequency\": 1, \"value\": 27591}, \"27600\": {\"frequency\": 1, \"value\": 27600}, \"60392\": {\"frequency\": 1, \"value\": 60392}, \"27631\": {\"frequency\": 1, \"value\": 27631}, \"10072\": {\"frequency\": 2, \"value\": 10072}, \"93218\": {\"frequency\": 2, \"value\": 93218}, \"60467\": {\"frequency\": 1, \"value\": 60467}, \"27702\": {\"frequency\": 1, \"value\": 27702}, \"224334\": {\"frequency\": 1, \"value\": 224334}, \"27755\": {\"frequency\": 1, \"value\": 27755}, \"60548\": {\"frequency\": 3, \"value\": 60548}, \"27820\": {\"frequency\": 1, \"value\": 27820}, \"224442\": {\"frequency\": 2, \"value\": 224442}, \"453895\": {\"frequency\": 1, \"value\": 453895}, \"27951\": {\"frequency\": 1, \"value\": 27951}, \"60720\": {\"frequency\": 1, \"value\": 60720}, \"27972\": {\"frequency\": 1, \"value\": 27972}, \"37430\": {\"frequency\": 1, \"value\": 37430}, \"37431\": {\"frequency\": 1, \"value\": 37431}, \"28000\": {\"frequency\": 3, \"value\": 28000}, \"28005\": {\"frequency\": 1, \"value\": 28005}, \"28008\": {\"frequency\": 2, \"value\": 28008}, \"28014\": {\"frequency\": 1, \"value\": 28014}, \"28025\": {\"frequency\": 1, \"value\": 28025}, \"28037\": {\"frequency\": 1, \"value\": 28037}, \"28040\": {\"frequency\": 1, \"value\": 28040}, \"28046\": {\"frequency\": 1, \"value\": 28046}, \"28052\": {\"frequency\": 1, \"value\": 28052}, \"60840\": {\"frequency\": 1, \"value\": 60840}, \"28185\": {\"frequency\": 2, \"value\": 28185}, \"60960\": {\"frequency\": 1, \"value\": 60960}, \"108464\": {\"frequency\": 3, \"value\": 108464}, \"60984\": {\"frequency\": 4, \"value\": 60984}, \"28243\": {\"frequency\": 1, \"value\": 28243}, \"192099\": {\"frequency\": 1, \"value\": 192099}, \"28270\": {\"frequency\": 1, \"value\": 28270}, \"21100\": {\"frequency\": 1, \"value\": 21100}, \"28300\": {\"frequency\": 2, \"value\": 28300}, \"28405\": {\"frequency\": 1, \"value\": 28405}, \"126759\": {\"frequency\": 1, \"value\": 126759}, \"239580\": {\"frequency\": 1, \"value\": 239580}, \"28516\": {\"frequency\": 1, \"value\": 28516}, \"28535\": {\"frequency\": 1, \"value\": 28535}, \"28563\": {\"frequency\": 1, \"value\": 28563}, \"28593\": {\"frequency\": 1, \"value\": 28593}, \"28600\": {\"frequency\": 2, \"value\": 28600}, \"61419\": {\"frequency\": 5, \"value\": 61419}, \"389126\": {\"frequency\": 1, \"value\": 389126}, \"28703\": {\"frequency\": 2, \"value\": 28703}, \"28717\": {\"frequency\": 1, \"value\": 28717}, \"28718\": {\"frequency\": 1, \"value\": 28718}, \"28750\": {\"frequency\": 2, \"value\": 28750}, \"94300\": {\"frequency\": 1, \"value\": 94300}, \"159865\": {\"frequency\": 3, \"value\": 159865}, \"290980\": {\"frequency\": 1, \"value\": 290980}, \"94525\": {\"frequency\": 4, \"value\": 94525}, \"206910\": {\"frequency\": 2, \"value\": 206910}, \"29078\": {\"frequency\": 1, \"value\": 29078}, \"29111\": {\"frequency\": 1, \"value\": 29111}, \"43088\": {\"frequency\": 1, \"value\": 43088}, \"29163\": {\"frequency\": 2, \"value\": 29163}, \"29170\": {\"frequency\": 1, \"value\": 29170}, \"29224\": {\"frequency\": 1, \"value\": 29224}, \"29242\": {\"frequency\": 1, \"value\": 29242}, \"4874\": {\"frequency\": 2, \"value\": 4874}, \"29252\": {\"frequency\": 1, \"value\": 29252}, \"29258\": {\"frequency\": 1, \"value\": 29258}, \"4879\": {\"frequency\": 1, \"value\": 4879}, \"29347\": {\"frequency\": 1, \"value\": 29347}, \"258746\": {\"frequency\": 1, \"value\": 258746}, \"94960\": {\"frequency\": 2, \"value\": 94960}, \"62290\": {\"frequency\": 3, \"value\": 62290}, \"29536\": {\"frequency\": 1, \"value\": 29536}, \"62310\": {\"frequency\": 1, \"value\": 62310}, \"62365\": {\"frequency\": 1, \"value\": 62365}, \"174240\": {\"frequency\": 2, \"value\": 174240}, \"881654\": {\"frequency\": 1, \"value\": 881654}, \"422967\": {\"frequency\": 1, \"value\": 422967}, \"193593\": {\"frequency\": 1, \"value\": 193593}, \"234352\": {\"frequency\": 1, \"value\": 234352}, \"95396\": {\"frequency\": 2, \"value\": 95396}, \"40278\": {\"frequency\": 1, \"value\": 40278}, \"62726\": {\"frequency\": 2, \"value\": 62726}, \"29970\": {\"frequency\": 1, \"value\": 29970}, \"29982\": {\"frequency\": 1, \"value\": 29982}, \"30000\": {\"frequency\": 1, \"value\": 30000}, \"30007\": {\"frequency\": 1, \"value\": 30007}, \"39190\": {\"frequency\": 1, \"value\": 39190}, \"30056\": {\"frequency\": 1, \"value\": 30056}, \"30083\": {\"frequency\": 1, \"value\": 30083}, \"268329\": {\"frequency\": 1, \"value\": 268329}, \"30122\": {\"frequency\": 1, \"value\": 30122}, \"292288\": {\"frequency\": 1, \"value\": 292288}, \"5031\": {\"frequency\": 1, \"value\": 5031}, \"37800\": {\"frequency\": 2, \"value\": 37800}, \"30200\": {\"frequency\": 1, \"value\": 30200}, \"3190\": {\"frequency\": 1, \"value\": 3190}, \"48743\": {\"frequency\": 1, \"value\": 48743}, \"63118\": {\"frequency\": 1, \"value\": 63118}, \"63162\": {\"frequency\": 1, \"value\": 63162}, \"33747\": {\"frequency\": 1, \"value\": 33747}, \"194278\": {\"frequency\": 1, \"value\": 194278}, \"30476\": {\"frequency\": 1, \"value\": 30476}, \"30480\": {\"frequency\": 1, \"value\": 30480}, \"33750\": {\"frequency\": 2, \"value\": 33750}, \"292723\": {\"frequency\": 1, \"value\": 292723}, \"16020\": {\"frequency\": 2, \"value\": 16020}, \"30605\": {\"frequency\": 1, \"value\": 30605}, \"21486\": {\"frequency\": 1, \"value\": 21486}, \"423838\": {\"frequency\": 1, \"value\": 423838}, \"30736\": {\"frequency\": 1, \"value\": 30736}, \"63597\": {\"frequency\": 2, \"value\": 63597}, \"30869\": {\"frequency\": 1, \"value\": 30869}, \"30884\": {\"frequency\": 1, \"value\": 30884}, \"30886\": {\"frequency\": 1, \"value\": 30886}, \"10609\": {\"frequency\": 1, \"value\": 10609}, \"96574\": {\"frequency\": 1, \"value\": 96574}, \"63991\": {\"frequency\": 1, \"value\": 63991}, \"31238\": {\"frequency\": 1, \"value\": 31238}, \"64073\": {\"frequency\": 1, \"value\": 64073}, \"31314\": {\"frequency\": 1, \"value\": 31314}, \"31400\": {\"frequency\": 1, \"value\": 31400}, \"31465\": {\"frequency\": 1, \"value\": 31465}, \"31510\": {\"frequency\": 1, \"value\": 31510}, \"31550\": {\"frequency\": 1, \"value\": 31550}, \"37058\": {\"frequency\": 1, \"value\": 37058}, \"31564\": {\"frequency\": 1, \"value\": 31564}, \"38032\": {\"frequency\": 1, \"value\": 38032}, \"97138\": {\"frequency\": 2, \"value\": 97138}, \"228254\": {\"frequency\": 1, \"value\": 228254}, \"31675\": {\"frequency\": 1, \"value\": 31675}, \"64469\": {\"frequency\": 1, \"value\": 64469}, \"31747\": {\"frequency\": 1, \"value\": 31747}, \"1058\": {\"frequency\": 4, \"value\": 1058}, \"31796\": {\"frequency\": 1, \"value\": 31796}, \"31798\": {\"frequency\": 1, \"value\": 31798}, \"31838\": {\"frequency\": 1, \"value\": 31838}, \"31850\": {\"frequency\": 1, \"value\": 31850}, \"31920\": {\"frequency\": 1, \"value\": 31920}, \"130244\": {\"frequency\": 1, \"value\": 130244}, \"982278\": {\"frequency\": 1, \"value\": 982278}, \"114562\": {\"frequency\": 1, \"value\": 114562}, \"392475\": {\"frequency\": 1, \"value\": 392475}, \"32033\": {\"frequency\": 1, \"value\": 32033}, \"97574\": {\"frequency\": 1, \"value\": 97574}, \"32044\": {\"frequency\": 1, \"value\": 32044}, \"10807\": {\"frequency\": 1, \"value\": 10807}, \"32109\": {\"frequency\": 2, \"value\": 32109}, \"64904\": {\"frequency\": 1, \"value\": 64904}, \"32175\": {\"frequency\": 1, \"value\": 32175}, \"196020\": {\"frequency\": 1, \"value\": 196020}, \"32214\": {\"frequency\": 1, \"value\": 32214}, \"327135\": {\"frequency\": 1, \"value\": 327135}, \"32234\": {\"frequency\": 1, \"value\": 32234}, \"65005\": {\"frequency\": 1, \"value\": 65005}, \"32239\": {\"frequency\": 1, \"value\": 32239}, \"32340\": {\"frequency\": 1, \"value\": 32340}, \"130680\": {\"frequency\": 2, \"value\": 130680}, \"32450\": {\"frequency\": 1, \"value\": 32450}, \"32500\": {\"frequency\": 1, \"value\": 32500}, \"360241\": {\"frequency\": 1, \"value\": 360241}, \"65340\": {\"frequency\": 6, \"value\": 65340}, \"32633\": {\"frequency\": 1, \"value\": 32633}, \"262018\": {\"frequency\": 1, \"value\": 262018}, \"32647\": {\"frequency\": 1, \"value\": 32647}, \"32660\": {\"frequency\": 1, \"value\": 32660}, \"32666\": {\"frequency\": 1, \"value\": 32666}, \"32670\": {\"frequency\": 2, \"value\": 32670}, \"32700\": {\"frequency\": 3, \"value\": 32700}, \"32718\": {\"frequency\": 1, \"value\": 32718}, \"982998\": {\"frequency\": 1, \"value\": 982998}, \"65501\": {\"frequency\": 1, \"value\": 65501}, \"32757\": {\"frequency\": 1, \"value\": 32757}}, \"mean\": 15106.967565816867}}, \"selected_variable\": {\"name\": [\"<SFrame>\"], \"descriptives\": {\"rows\": 21613, \"columns\": 6}, \"view_component\": \"Summary\", \"view_file\": \"sframe\", \"view_params\": {\"y\": null, \"x\": null, \"columns\": [\"bedrooms\", \"bathrooms\", \"sqft_living\", \"sqft_lot\", \"floors\", \"zipcode\"], \"view\": null}, \"view_components\": [\"Summary\", \"Table\", \"Bar Chart\", \"BoxWhisker Plot\", \"Line Chart\", \"Scatter Plot\", \"Heat Map\", \"Plots\"], \"type\": \"SFrame\", \"columns\": [{\"dtype\": \"str\", \"name\": \"bedrooms\"}, {\"dtype\": \"str\", \"name\": \"bathrooms\"}, {\"dtype\": \"int\", \"name\": \"sqft_living\"}, {\"dtype\": \"int\", \"name\": \"sqft_lot\"}, {\"dtype\": \"str\", \"name\": \"floors\"}, {\"dtype\": \"str\", \"name\": \"zipcode\"}], \"column_identifiers\": [\"bathrooms\", \"bedrooms\", \"zipcode\", \"sqft_living\", \"floors\", \"sqft_lot\"]}, \"columns\": [{\"dtype\": \"str\", \"name\": \"bedrooms\"}, {\"dtype\": \"str\", \"name\": \"bathrooms\"}, {\"dtype\": \"int\", \"name\": \"sqft_living\"}, {\"dtype\": \"int\", \"name\": \"sqft_lot\"}, {\"dtype\": \"str\", \"name\": \"floors\"}, {\"dtype\": \"str\", \"name\": \"zipcode\"}]}, e);\n",
       "                });\n",
       "            })();\n",
       "        "
      ]
     },
     "metadata": {},
     "output_type": "display_data"
    }
   ],
   "source": [
    "sales[my_features].show()"
   ]
  },
  {
   "cell_type": "code",
   "execution_count": 19,
   "metadata": {
    "collapsed": false,
    "scrolled": true
   },
   "outputs": [
    {
     "data": {
      "application/javascript": [
       "$(\"head\").append($(\"<link/>\").attr({\n",
       "  rel:  \"stylesheet\",\n",
       "  type: \"text/css\",\n",
       "  href: \"//cdnjs.cloudflare.com/ajax/libs/font-awesome/4.1.0/css/font-awesome.min.css\"\n",
       "}));\n",
       "$(\"head\").append($(\"<link/>\").attr({\n",
       "  rel:  \"stylesheet\",\n",
       "  type: \"text/css\",\n",
       "  href: \"https://static.turi.com/products/graphlab-create/2.1/canvas/css/canvas.css\"\n",
       "}));\n",
       "\n",
       "            (function(){\n",
       "\n",
       "                var e = null;\n",
       "                if (typeof element == 'undefined') {\n",
       "                    var scripts = document.getElementsByTagName('script');\n",
       "                    var thisScriptTag = scripts[scripts.length-1];\n",
       "                    var parentDiv = thisScriptTag.parentNode;\n",
       "                    e = document.createElement('div');\n",
       "                    parentDiv.appendChild(e);\n",
       "                } else {\n",
       "                    e = element[0];\n",
       "                }\n",
       "\n",
       "                if (typeof requirejs !== 'undefined') {\n",
       "                    // disable load timeout; ipython_app.js is large and can take a while to load.\n",
       "                    requirejs.config({waitSeconds: 0});\n",
       "                }\n",
       "\n",
       "                require(['https://static.turi.com/products/graphlab-create/2.1/canvas/js/ipython_app.js'], function(IPythonApp){\n",
       "                    var app = new IPythonApp();\n",
       "                    app.attachView('sframe','Plots', {\"selected_variable\": {\"name\": [\"sales\"], \"descriptives\": {\"rows\": 21613, \"columns\": 21}, \"view_component\": \"Plots\", \"view_file\": \"sframe\", \"view_params\": {\"y\": \"price\", \"x\": \"zipcode\", \"columns\": [\"id\", \"date\", \"price\", \"bedrooms\", \"bathrooms\", \"sqft_living\", \"sqft_lot\", \"floors\", \"waterfront\", \"view\", \"condition\", \"grade\", \"sqft_above\", \"sqft_basement\", \"yr_built\", \"yr_renovated\", \"zipcode\", \"lat\", \"long\", \"sqft_living15\", \"sqft_lot15\"], \"view\": \"BoxWhisker Plot\"}, \"view_components\": [\"Summary\", \"Table\", \"Bar Chart\", \"BoxWhisker Plot\", \"Line Chart\", \"Scatter Plot\", \"Heat Map\", \"Plots\"], \"type\": \"SFrame\", \"columns\": [{\"dtype\": \"str\", \"name\": \"id\"}, {\"dtype\": \"datetime\", \"name\": \"date\"}, {\"dtype\": \"int\", \"name\": \"price\"}, {\"dtype\": \"str\", \"name\": \"bedrooms\"}, {\"dtype\": \"str\", \"name\": \"bathrooms\"}, {\"dtype\": \"int\", \"name\": \"sqft_living\"}, {\"dtype\": \"int\", \"name\": \"sqft_lot\"}, {\"dtype\": \"str\", \"name\": \"floors\"}, {\"dtype\": \"int\", \"name\": \"waterfront\"}, {\"dtype\": \"int\", \"name\": \"view\"}, {\"dtype\": \"int\", \"name\": \"condition\"}, {\"dtype\": \"int\", \"name\": \"grade\"}, {\"dtype\": \"int\", \"name\": \"sqft_above\"}, {\"dtype\": \"int\", \"name\": \"sqft_basement\"}, {\"dtype\": \"int\", \"name\": \"yr_built\"}, {\"dtype\": \"int\", \"name\": \"yr_renovated\"}, {\"dtype\": \"str\", \"name\": \"zipcode\"}, {\"dtype\": \"float\", \"name\": \"lat\"}, {\"dtype\": \"float\", \"name\": \"long\"}, {\"dtype\": \"float\", \"name\": \"sqft_living15\"}, {\"dtype\": \"float\", \"name\": \"sqft_lot15\"}], \"column_identifiers\": [\"bathrooms\", \"sqft_living15\", \"sqft_above\", \"grade\", \"yr_built\", \"price\", \"bedrooms\", \"zipcode\", \"long\", \"id\", \"sqft_lot15\", \"sqft_living\", \"floors\", \"sqft_lot\", \"date\", \"waterfront\", \"sqft_basement\", \"yr_renovated\", \"lat\", \"condition\", \"view\"]}, \"complete\": 1, \"ipython\": true, \"progress\": 1.0, \"data\": {\"grouped\": [[\"98001\", [100000.0, 115000.0, 180000.0, 184000.0, 215000.0, 260000.0, 320000.0, 420000.0, 427000.0, 625000.0, 850000.0]], [\"98002\", [95000.0, 111300.0, 160000.0, 163500.0, 199950.0, 235000.0, 269000.0, 298900.0, 300000.0, 370000.0, 389000.0]], [\"98003\", [128000.0, 152500.0, 199000.0, 200000.0, 229000.0, 267950.0, 333000.0, 420000.0, 429900.0, 740000.0, 950000.0]], [\"98004\", [425000.0, 595000.0, 695000.0, 720000.0, 845000.0, 1150000.0, 1691000.0, 2150000.0, 2200000.0, 3800000.0, 7062500.0]], [\"98005\", [400000.0, 411100.0, 542500.0, 549000.0, 638700.0, 768500.0, 915000.0, 1110000.0, 1125000.0, 1900000.0, 1960000.0]], [\"98006\", [247500.0, 295000.0, 450000.0, 455000.0, 575000.0, 760369.0, 978000.0, 1380000.0, 1400000.0, 2525000.0, 4208000.0]], [\"98007\", [295000.0, 330000.0, 415500.0, 419000.0, 465000.0, 555000.0, 730000.0, 900000.0, 907500.0, 1229000.0, 1315000.0]], [\"98008\", [250000.0, 277700.0, 405000.0, 415000.0, 465000.0, 545000.0, 660000.0, 850000.0, 899000.0, 3300000.0, 3567000.0]], [\"98010\", [135000.0, 162000.0, 208500.0, 212644.0, 257000.0, 360000.0, 600000.0, 712000.0, 720000.0, 935000.0, 935000.0]], [\"98011\", [245500.0, 260000.0, 347000.0, 361000.0, 411800.0, 470000.0, 550000.0, 632000.0, 650000.0, 870000.0, 1075000.0]], [\"98014\", [80000.0, 134000.0, 167000.0, 180000.0, 309000.0, 415000.0, 539000.0, 739000.0, 755000.0, 1610000.0, 1680000.0]], [\"98019\", [119500.0, 170000.0, 289275.0, 299950.0, 330000.0, 402500.0, 500000.0, 570000.0, 570000.0, 979500.0, 1015000.0]], [\"98022\", [75000.0, 152900.0, 199990.0, 200000.0, 235000.0, 280000.0, 350000.0, 475000.0, 487000.0, 750000.0, 858000.0]], [\"98023\", [86500.0, 115000.0, 188000.0, 193000.0, 224097.0, 268450.0, 316500.0, 402500.0, 415000.0, 629000.0, 1275000.0]], [\"98024\", [142000.0, 142000.0, 258000.0, 260000.0, 340000.0, 460000.0, 700000.0, 997950.0, 1065000.0, 1862000.0, 1862000.0]], [\"98027\", [130000.0, 240000.0, 352499.0, 361000.0, 450000.0, 571000.0, 716500.0, 865000.0, 890000.0, 1800000.0, 2700000.0]], [\"98028\", [160000.0, 196000.0, 300000.0, 310000.0, 379950.0, 445000.0, 526750.0, 610000.0, 619990.0, 1120000.0, 1600000.0]], [\"98029\", [285000.0, 310000.0, 413565.0, 420000.0, 485000.0, 575000.0, 690000.0, 795000.0, 812000.0, 1450000.0, 2200000.0]], [\"98030\", [120000.0, 140000.0, 213400.0, 220000.0, 249950.0, 282510.0, 339950.0, 380000.0, 386000.0, 491000.0, 565000.0]], [\"98031\", [147500.0, 152000.0, 223000.0, 230000.0, 252000.0, 288400.0, 327500.0, 377000.0, 382500.0, 680000.0, 800000.0]], [\"98032\", [85000.0, 85000.0, 165000.0, 169000.0, 221700.0, 249000.0, 285000.0, 321000.0, 324900.0, 400000.0, 545000.0]], [\"98033\", [130000.0, 305000.0, 425000.0, 437500.0, 535000.0, 678700.0, 902000.0, 1339000.0, 1378000.0, 2650000.0, 5110800.0]], [\"98034\", [90000.0, 257000.0, 330000.0, 335000.0, 387000.0, 445950.0, 525000.0, 749950.0, 799950.0, 2125000.0, 3120000.0]], [\"98038\", [110000.0, 176000.0, 240000.0, 245000.0, 285000.0, 342000.0, 410000.0, 533000.0, 540000.0, 849000.0, 1350000.0]], [\"98039\", [787500.0, 787500.0, 940000.0, 1000000.0, 1398000.0, 1905000.0, 2575000.0, 3640900.0, 3640900.0, 6885000.0, 6885000.0]], [\"98040\", [500000.0, 550000.0, 685000.0, 698000.0, 821000.0, 994000.0, 1387000.0, 1815000.0, 1900000.0, 3850000.0, 5300000.0]], [\"98042\", [105000.0, 132825.0, 200000.0, 204000.0, 240000.0, 292500.0, 359950.0, 444900.0, 450000.0, 734000.0, 859000.0]], [\"98045\", [175000.0, 189000.0, 259000.0, 271000.0, 305000.0, 399500.0, 495000.0, 665000.0, 688000.0, 1075000.0, 1950000.0]], [\"98052\", [225000.0, 315000.0, 425000.0, 432100.0, 509250.0, 615000.0, 751000.0, 852500.0, 872750.0, 1299888.0, 2200000.0]], [\"98053\", [170000.0, 300000.0, 400000.0, 405000.0, 485000.0, 635000.0, 790500.0, 955990.0, 975000.0, 1769000.0, 2280000.0]], [\"98055\", [100000.0, 126000.0, 192000.0, 197500.0, 240000.0, 295000.0, 350000.0, 430000.0, 440000.0, 580000.0, 631000.0]], [\"98056\", [139000.0, 155000.0, 230000.0, 231500.0, 289000.0, 380000.0, 510000.0, 635000.0, 640000.0, 980000.0, 3000000.0]], [\"98058\", [95000.0, 144000.0, 225000.0, 230000.0, 285000.0, 335000.0, 392000.0, 475000.0, 485000.0, 790000.0, 1500000.0]], [\"98059\", [172500.0, 217000.0, 291375.0, 294500.0, 340000.0, 435000.0, 552500.0, 751000.0, 785000.0, 1300000.0, 1780000.0]], [\"98065\", [170000.0, 208000.0, 323000.0, 335000.0, 424950.0, 500000.0, 619000.0, 710000.0, 723000.0, 1145000.0, 1998000.0]], [\"98070\", [160000.0, 181000.0, 280000.0, 285000.0, 340000.0, 465000.0, 575000.0, 729000.0, 730000.0, 1350000.0, 1379900.0]], [\"98072\", [200000.0, 275000.0, 357823.0, 365000.0, 422800.0, 515000.0, 642860.0, 879000.0, 905000.0, 1350000.0, 1565000.0]], [\"98074\", [280000.0, 325000.0, 420000.0, 434900.0, 532000.0, 642000.0, 798000.0, 922755.0, 929000.0, 1675000.0, 3075000.0]], [\"98075\", [406430.0, 432000.0, 545000.0, 550000.0, 641000.0, 739999.0, 870000.0, 1060000.0, 1062500.0, 2000000.0, 3200000.0]], [\"98077\", [250000.0, 274975.0, 335000.0, 353000.0, 510000.0, 654950.0, 835000.0, 950000.0, 985000.0, 1820000.0, 1920000.0]], [\"98092\", [90000.0, 148226.0, 210000.0, 216000.0, 263950.0, 309780.0, 379500.0, 471275.0, 480000.0, 835000.0, 930000.0]], [\"98102\", [330000.0, 350000.0, 440000.0, 475000.0, 575000.0, 720000.0, 979700.0, 1440000.0, 1443917.0, 2479000.0, 7700000.0]], [\"98103\", [238000.0, 259250.0, 352950.0, 355000.0, 432000.0, 550000.0, 695000.0, 830000.0, 850000.0, 1350000.0, 1695000.0]], [\"98105\", [380000.0, 395000.0, 483000.0, 485000.0, 550000.0, 675000.0, 1005000.0, 1415000.0, 1482500.0, 2555000.0, 3650000.0]], [\"98106\", [90000.0, 107000.0, 208400.0, 210000.0, 260000.0, 315000.0, 366000.0, 426000.0, 435000.0, 625000.0, 795000.0]], [\"98107\", [290000.0, 356000.0, 425000.0, 430000.0, 470000.0, 529950.0, 630000.0, 752500.0, 769950.0, 1205000.0, 2945000.0]], [\"98108\", [90000.0, 130000.0, 230000.0, 230000.0, 284000.0, 345000.0, 425000.0, 491000.0, 500000.0, 635000.0, 640000.0]], [\"98109\", [216650.0, 216650.0, 478000.0, 479000.0, 620000.0, 736000.0, 1000000.0, 1450000.0, 1450000.0, 2900000.0, 3200000.0]], [\"98112\", [169317.0, 350000.0, 515000.0, 524000.0, 680000.0, 915000.0, 1328000.0, 1975000.0, 2048000.0, 3000000.0, 3400000.0]], [\"98115\", [200000.0, 289500.0, 395000.0, 399000.0, 455000.0, 567000.0, 719000.0, 897000.0, 925000.0, 1500000.0, 2300000.0]], [\"98116\", [130000.0, 252000.0, 386950.0, 390000.0, 460000.0, 565500.0, 703000.0, 930000.0, 950000.0, 1598888.0, 2050000.0]], [\"98117\", [125000.0, 280000.0, 375000.0, 390000.0, 450000.0, 544000.0, 657500.0, 825000.0, 850000.0, 1275000.0, 1370000.0]], [\"98118\", [109000.0, 155000.0, 221000.0, 226000.0, 289000.0, 367500.0, 476500.0, 665000.0, 680000.0, 1309500.0, 2903000.0]], [\"98119\", [300523.0, 365000.0, 485000.0, 490000.0, 600000.0, 749950.0, 940000.0, 1320000.0, 1330000.0, 2630000.0, 3065000.0]], [\"98122\", [202000.0, 260000.0, 375000.0, 385000.0, 450000.0, 574000.0, 720000.0, 920000.0, 925000.0, 1850000.0, 2050000.0]], [\"98125\", [175000.0, 228000.0, 303697.0, 310000.0, 357250.0, 425000.0, 518000.0, 675000.0, 689000.0, 1335000.0, 2050000.0]], [\"98126\", [110000.0, 183000.0, 250000.0, 255000.0, 320000.0, 396500.0, 485000.0, 643500.0, 661000.0, 901000.0, 1085000.0]], [\"98133\", [130000.0, 210000.0, 275000.0, 277500.0, 318000.0, 375000.0, 435000.0, 507000.0, 518000.0, 729953.0, 808100.0]], [\"98136\", [200000.0, 229050.0, 340000.0, 345000.0, 398000.0, 489950.0, 660000.0, 838000.0, 850000.0, 1662000.0, 2230000.0]], [\"98144\", [181000.0, 230000.0, 325000.0, 327000.0, 374950.0, 450000.0, 666000.0, 970000.0, 1039000.0, 2450000.0, 3600000.0]], [\"98146\", [82000.0, 104950.0, 158800.0, 175000.0, 229500.0, 307000.0, 409000.0, 605000.0, 665900.0, 1250000.0, 1410000.0]], [\"98148\", [105500.0, 105500.0, 193000.0, 193000.0, 240000.0, 278000.0, 319990.0, 375000.0, 375000.0, 600600.0, 600600.0]], [\"98155\", [153000.0, 195000.0, 267800.0, 270000.0, 315000.0, 375000.0, 460000.0, 590000.0, 600000.0, 1680000.0, 4500000.0]], [\"98166\", [100000.0, 129888.0, 220000.0, 229000.0, 292000.0, 390000.0, 540500.0, 755000.0, 770000.0, 1899000.0, 2510000.0]], [\"98168\", [78000.0, 82500.0, 150550.0, 158000.0, 199950.0, 235000.0, 285000.0, 325000.0, 327200.0, 424305.0, 600000.0]], [\"98177\", [245560.0, 276000.0, 355950.0, 367500.0, 427000.0, 554000.0, 749950.0, 1075000.0, 1200000.0, 2880500.0, 3800000.0]], [\"98178\", [90000.0, 119900.0, 180000.0, 188000.0, 223000.0, 279000.0, 350000.0, 450000.0, 460000.0, 869000.0, 1700000.0]], [\"98188\", [110000.0, 110700.0, 179000.0, 179950.0, 230000.0, 265000.0, 335000.0, 400200.0, 408000.0, 706000.0, 707000.0]], [\"98198\", [95000.0, 120000.0, 174500.0, 175000.0, 216500.0, 265000.0, 340000.0, 455000.0, 475000.0, 950000.0, 1350000.0]], [\"98199\", [323000.0, 334000.0, 419000.0, 425000.0, 535000.0, 689800.0, 950000.0, 1289000.0, 1300000.0, 2160000.0, 3200000.0]]], \"omitted\": 0}, \"columns\": [{\"dtype\": \"str\", \"name\": \"id\"}, {\"dtype\": \"datetime\", \"name\": \"date\"}, {\"dtype\": \"int\", \"name\": \"price\"}, {\"dtype\": \"str\", \"name\": \"bedrooms\"}, {\"dtype\": \"str\", \"name\": \"bathrooms\"}, {\"dtype\": \"int\", \"name\": \"sqft_living\"}, {\"dtype\": \"int\", \"name\": \"sqft_lot\"}, {\"dtype\": \"str\", \"name\": \"floors\"}, {\"dtype\": \"int\", \"name\": \"waterfront\"}, {\"dtype\": \"int\", \"name\": \"view\"}, {\"dtype\": \"int\", \"name\": \"condition\"}, {\"dtype\": \"int\", \"name\": \"grade\"}, {\"dtype\": \"int\", \"name\": \"sqft_above\"}, {\"dtype\": \"int\", \"name\": \"sqft_basement\"}, {\"dtype\": \"int\", \"name\": \"yr_built\"}, {\"dtype\": \"int\", \"name\": \"yr_renovated\"}, {\"dtype\": \"str\", \"name\": \"zipcode\"}, {\"dtype\": \"float\", \"name\": \"lat\"}, {\"dtype\": \"float\", \"name\": \"long\"}, {\"dtype\": \"float\", \"name\": \"sqft_living15\"}, {\"dtype\": \"float\", \"name\": \"sqft_lot15\"}]}, e);\n",
       "                });\n",
       "            })();\n",
       "        "
      ]
     },
     "metadata": {},
     "output_type": "display_data"
    }
   ],
   "source": [
    "sales.show(view='BoxWhisker Plot', x='zipcode', y='price')"
   ]
  },
  {
   "cell_type": "markdown",
   "metadata": {},
   "source": [
    "Pull the bar at the bottom to view more of the data.  \n",
    "\n",
    "98039 is the most expensive zip code."
   ]
  },
  {
   "cell_type": "markdown",
   "metadata": {},
   "source": [
    "# Build a regression model with more features"
   ]
  },
  {
   "cell_type": "code",
   "execution_count": 20,
   "metadata": {
    "collapsed": false
   },
   "outputs": [
    {
     "data": {
      "text/html": [
       "<pre>Linear regression:</pre>"
      ],
      "text/plain": [
       "Linear regression:"
      ]
     },
     "metadata": {},
     "output_type": "display_data"
    },
    {
     "data": {
      "text/html": [
       "<pre>--------------------------------------------------------</pre>"
      ],
      "text/plain": [
       "--------------------------------------------------------"
      ]
     },
     "metadata": {},
     "output_type": "display_data"
    },
    {
     "data": {
      "text/html": [
       "<pre>Number of examples          : 17384</pre>"
      ],
      "text/plain": [
       "Number of examples          : 17384"
      ]
     },
     "metadata": {},
     "output_type": "display_data"
    },
    {
     "data": {
      "text/html": [
       "<pre>Number of features          : 6</pre>"
      ],
      "text/plain": [
       "Number of features          : 6"
      ]
     },
     "metadata": {},
     "output_type": "display_data"
    },
    {
     "data": {
      "text/html": [
       "<pre>Number of unpacked features : 6</pre>"
      ],
      "text/plain": [
       "Number of unpacked features : 6"
      ]
     },
     "metadata": {},
     "output_type": "display_data"
    },
    {
     "data": {
      "text/html": [
       "<pre>Number of coefficients    : 115</pre>"
      ],
      "text/plain": [
       "Number of coefficients    : 115"
      ]
     },
     "metadata": {},
     "output_type": "display_data"
    },
    {
     "data": {
      "text/html": [
       "<pre>Starting Newton Method</pre>"
      ],
      "text/plain": [
       "Starting Newton Method"
      ]
     },
     "metadata": {},
     "output_type": "display_data"
    },
    {
     "data": {
      "text/html": [
       "<pre>--------------------------------------------------------</pre>"
      ],
      "text/plain": [
       "--------------------------------------------------------"
      ]
     },
     "metadata": {},
     "output_type": "display_data"
    },
    {
     "data": {
      "text/html": [
       "<pre>+-----------+----------+--------------+--------------------+---------------+</pre>"
      ],
      "text/plain": [
       "+-----------+----------+--------------+--------------------+---------------+"
      ]
     },
     "metadata": {},
     "output_type": "display_data"
    },
    {
     "data": {
      "text/html": [
       "<pre>| Iteration | Passes   | Elapsed Time | Training-max_error | Training-rmse |</pre>"
      ],
      "text/plain": [
       "| Iteration | Passes   | Elapsed Time | Training-max_error | Training-rmse |"
      ]
     },
     "metadata": {},
     "output_type": "display_data"
    },
    {
     "data": {
      "text/html": [
       "<pre>+-----------+----------+--------------+--------------------+---------------+</pre>"
      ],
      "text/plain": [
       "+-----------+----------+--------------+--------------------+---------------+"
      ]
     },
     "metadata": {},
     "output_type": "display_data"
    },
    {
     "data": {
      "text/html": [
       "<pre>| 1         | 2        | 0.174650     | 3763208.270524     | 181908.848367 |</pre>"
      ],
      "text/plain": [
       "| 1         | 2        | 0.174650     | 3763208.270524     | 181908.848367 |"
      ]
     },
     "metadata": {},
     "output_type": "display_data"
    },
    {
     "data": {
      "text/html": [
       "<pre>+-----------+----------+--------------+--------------------+---------------+</pre>"
      ],
      "text/plain": [
       "+-----------+----------+--------------+--------------------+---------------+"
      ]
     },
     "metadata": {},
     "output_type": "display_data"
    },
    {
     "data": {
      "text/html": [
       "<pre>SUCCESS: Optimal solution found.</pre>"
      ],
      "text/plain": [
       "SUCCESS: Optimal solution found."
      ]
     },
     "metadata": {},
     "output_type": "display_data"
    },
    {
     "data": {
      "text/html": [
       "<pre></pre>"
      ],
      "text/plain": []
     },
     "metadata": {},
     "output_type": "display_data"
    }
   ],
   "source": [
    "my_features_model = graphlab.linear_regression.create(train_data,target='price',features=my_features,validation_set=None)"
   ]
  },
  {
   "cell_type": "code",
   "execution_count": 21,
   "metadata": {
    "collapsed": false
   },
   "outputs": [
    {
     "name": "stdout",
     "output_type": "stream",
     "text": [
      "['bedrooms', 'bathrooms', 'sqft_living', 'sqft_lot', 'floors', 'zipcode']\n"
     ]
    }
   ],
   "source": [
    "print my_features"
   ]
  },
  {
   "cell_type": "markdown",
   "metadata": {},
   "source": [
    "## Comparing the results of the simple model with adding more features"
   ]
  },
  {
   "cell_type": "code",
   "execution_count": 22,
   "metadata": {
    "collapsed": false
   },
   "outputs": [
    {
     "name": "stdout",
     "output_type": "stream",
     "text": [
      "{'max_error': 4143550.8825285914, 'rmse': 255191.02870527367}\n",
      "{'max_error': 3486584.509381928, 'rmse': 179542.43331269105}\n"
     ]
    }
   ],
   "source": [
    "print sqft_model.evaluate(test_data)\n",
    "print my_features_model.evaluate(test_data)"
   ]
  },
  {
   "cell_type": "markdown",
   "metadata": {},
   "source": [
    "The RMSE goes down from \\$255,170 to \\$179,508 with more features."
   ]
  },
  {
   "cell_type": "markdown",
   "metadata": {},
   "source": [
    "# Apply learned models to predict prices of 3 houses"
   ]
  },
  {
   "cell_type": "markdown",
   "metadata": {},
   "source": [
    "The first house we will use is considered an \"average\" house in Seattle. "
   ]
  },
  {
   "cell_type": "code",
   "execution_count": 23,
   "metadata": {
    "collapsed": true
   },
   "outputs": [],
   "source": [
    "house1 = sales[sales['id']=='5309101200']"
   ]
  },
  {
   "cell_type": "code",
   "execution_count": 24,
   "metadata": {
    "collapsed": false
   },
   "outputs": [
    {
     "data": {
      "text/html": [
       "<div style=\"max-height:1000px;max-width:1500px;overflow:auto;\"><table frame=\"box\" rules=\"cols\">\n",
       "    <tr>\n",
       "        <th style=\"padding-left: 1em; padding-right: 1em; text-align: center\">id</th>\n",
       "        <th style=\"padding-left: 1em; padding-right: 1em; text-align: center\">date</th>\n",
       "        <th style=\"padding-left: 1em; padding-right: 1em; text-align: center\">price</th>\n",
       "        <th style=\"padding-left: 1em; padding-right: 1em; text-align: center\">bedrooms</th>\n",
       "        <th style=\"padding-left: 1em; padding-right: 1em; text-align: center\">bathrooms</th>\n",
       "        <th style=\"padding-left: 1em; padding-right: 1em; text-align: center\">sqft_living</th>\n",
       "        <th style=\"padding-left: 1em; padding-right: 1em; text-align: center\">sqft_lot</th>\n",
       "        <th style=\"padding-left: 1em; padding-right: 1em; text-align: center\">floors</th>\n",
       "        <th style=\"padding-left: 1em; padding-right: 1em; text-align: center\">waterfront</th>\n",
       "    </tr>\n",
       "    <tr>\n",
       "        <td style=\"padding-left: 1em; padding-right: 1em; text-align: center; vertical-align: top\">5309101200</td>\n",
       "        <td style=\"padding-left: 1em; padding-right: 1em; text-align: center; vertical-align: top\">2014-06-05 00:00:00+00:00</td>\n",
       "        <td style=\"padding-left: 1em; padding-right: 1em; text-align: center; vertical-align: top\">620000</td>\n",
       "        <td style=\"padding-left: 1em; padding-right: 1em; text-align: center; vertical-align: top\">4</td>\n",
       "        <td style=\"padding-left: 1em; padding-right: 1em; text-align: center; vertical-align: top\">2.25</td>\n",
       "        <td style=\"padding-left: 1em; padding-right: 1em; text-align: center; vertical-align: top\">2400</td>\n",
       "        <td style=\"padding-left: 1em; padding-right: 1em; text-align: center; vertical-align: top\">5350</td>\n",
       "        <td style=\"padding-left: 1em; padding-right: 1em; text-align: center; vertical-align: top\">1.5</td>\n",
       "        <td style=\"padding-left: 1em; padding-right: 1em; text-align: center; vertical-align: top\">0</td>\n",
       "    </tr>\n",
       "</table>\n",
       "<table frame=\"box\" rules=\"cols\">\n",
       "    <tr>\n",
       "        <th style=\"padding-left: 1em; padding-right: 1em; text-align: center\">view</th>\n",
       "        <th style=\"padding-left: 1em; padding-right: 1em; text-align: center\">condition</th>\n",
       "        <th style=\"padding-left: 1em; padding-right: 1em; text-align: center\">grade</th>\n",
       "        <th style=\"padding-left: 1em; padding-right: 1em; text-align: center\">sqft_above</th>\n",
       "        <th style=\"padding-left: 1em; padding-right: 1em; text-align: center\">sqft_basement</th>\n",
       "        <th style=\"padding-left: 1em; padding-right: 1em; text-align: center\">yr_built</th>\n",
       "        <th style=\"padding-left: 1em; padding-right: 1em; text-align: center\">yr_renovated</th>\n",
       "        <th style=\"padding-left: 1em; padding-right: 1em; text-align: center\">zipcode</th>\n",
       "        <th style=\"padding-left: 1em; padding-right: 1em; text-align: center\">lat</th>\n",
       "    </tr>\n",
       "    <tr>\n",
       "        <td style=\"padding-left: 1em; padding-right: 1em; text-align: center; vertical-align: top\">0</td>\n",
       "        <td style=\"padding-left: 1em; padding-right: 1em; text-align: center; vertical-align: top\">4</td>\n",
       "        <td style=\"padding-left: 1em; padding-right: 1em; text-align: center; vertical-align: top\">7</td>\n",
       "        <td style=\"padding-left: 1em; padding-right: 1em; text-align: center; vertical-align: top\">1460</td>\n",
       "        <td style=\"padding-left: 1em; padding-right: 1em; text-align: center; vertical-align: top\">940</td>\n",
       "        <td style=\"padding-left: 1em; padding-right: 1em; text-align: center; vertical-align: top\">1929</td>\n",
       "        <td style=\"padding-left: 1em; padding-right: 1em; text-align: center; vertical-align: top\">0</td>\n",
       "        <td style=\"padding-left: 1em; padding-right: 1em; text-align: center; vertical-align: top\">98117</td>\n",
       "        <td style=\"padding-left: 1em; padding-right: 1em; text-align: center; vertical-align: top\">47.67632376</td>\n",
       "    </tr>\n",
       "</table>\n",
       "<table frame=\"box\" rules=\"cols\">\n",
       "    <tr>\n",
       "        <th style=\"padding-left: 1em; padding-right: 1em; text-align: center\">long</th>\n",
       "        <th style=\"padding-left: 1em; padding-right: 1em; text-align: center\">sqft_living15</th>\n",
       "        <th style=\"padding-left: 1em; padding-right: 1em; text-align: center\">sqft_lot15</th>\n",
       "    </tr>\n",
       "    <tr>\n",
       "        <td style=\"padding-left: 1em; padding-right: 1em; text-align: center; vertical-align: top\">-122.37010126</td>\n",
       "        <td style=\"padding-left: 1em; padding-right: 1em; text-align: center; vertical-align: top\">1250.0</td>\n",
       "        <td style=\"padding-left: 1em; padding-right: 1em; text-align: center; vertical-align: top\">4880.0</td>\n",
       "    </tr>\n",
       "</table>\n",
       "[? rows x 21 columns]<br/>Note: Only the head of the SFrame is printed. This SFrame is lazily evaluated.<br/>You can use sf.materialize() to force materialization.\n",
       "</div>"
      ],
      "text/plain": [
       "Columns:\n",
       "\tid\tstr\n",
       "\tdate\tdatetime\n",
       "\tprice\tint\n",
       "\tbedrooms\tstr\n",
       "\tbathrooms\tstr\n",
       "\tsqft_living\tint\n",
       "\tsqft_lot\tint\n",
       "\tfloors\tstr\n",
       "\twaterfront\tint\n",
       "\tview\tint\n",
       "\tcondition\tint\n",
       "\tgrade\tint\n",
       "\tsqft_above\tint\n",
       "\tsqft_basement\tint\n",
       "\tyr_built\tint\n",
       "\tyr_renovated\tint\n",
       "\tzipcode\tstr\n",
       "\tlat\tfloat\n",
       "\tlong\tfloat\n",
       "\tsqft_living15\tfloat\n",
       "\tsqft_lot15\tfloat\n",
       "\n",
       "Rows: Unknown\n",
       "\n",
       "Data:\n",
       "+------------+---------------------------+--------+----------+-----------+-------------+\n",
       "|     id     |            date           | price  | bedrooms | bathrooms | sqft_living |\n",
       "+------------+---------------------------+--------+----------+-----------+-------------+\n",
       "| 5309101200 | 2014-06-05 00:00:00+00:00 | 620000 |    4     |    2.25   |     2400    |\n",
       "+------------+---------------------------+--------+----------+-----------+-------------+\n",
       "+----------+--------+------------+------+-----------+-------+------------+---------------+\n",
       "| sqft_lot | floors | waterfront | view | condition | grade | sqft_above | sqft_basement |\n",
       "+----------+--------+------------+------+-----------+-------+------------+---------------+\n",
       "|   5350   |  1.5   |     0      |  0   |     4     |   7   |    1460    |      940      |\n",
       "+----------+--------+------------+------+-----------+-------+------------+---------------+\n",
       "+----------+--------------+---------+-------------+---------------+---------------+-----+\n",
       "| yr_built | yr_renovated | zipcode |     lat     |      long     | sqft_living15 | ... |\n",
       "+----------+--------------+---------+-------------+---------------+---------------+-----+\n",
       "|   1929   |      0       |  98117  | 47.67632376 | -122.37010126 |     1250.0    | ... |\n",
       "+----------+--------------+---------+-------------+---------------+---------------+-----+\n",
       "[? rows x 21 columns]\n",
       "Note: Only the head of the SFrame is printed. This SFrame is lazily evaluated.\n",
       "You can use sf.materialize() to force materialization."
      ]
     },
     "execution_count": 24,
     "metadata": {},
     "output_type": "execute_result"
    }
   ],
   "source": [
    "house1"
   ]
  },
  {
   "cell_type": "markdown",
   "metadata": {},
   "source": [
    "<img src=\"http://info.kingcounty.gov/Assessor/eRealProperty/MediaHandler.aspx?Media=2916871\">"
   ]
  },
  {
   "cell_type": "code",
   "execution_count": 25,
   "metadata": {
    "collapsed": false
   },
   "outputs": [
    {
     "name": "stdout",
     "output_type": "stream",
     "text": [
      "[620000, ... ]\n"
     ]
    }
   ],
   "source": [
    "print house1['price']"
   ]
  },
  {
   "cell_type": "code",
   "execution_count": 26,
   "metadata": {
    "collapsed": false
   },
   "outputs": [
    {
     "name": "stdout",
     "output_type": "stream",
     "text": [
      "[629584.8197281547]\n"
     ]
    }
   ],
   "source": [
    "print sqft_model.predict(house1)"
   ]
  },
  {
   "cell_type": "code",
   "execution_count": 27,
   "metadata": {
    "collapsed": false
   },
   "outputs": [
    {
     "name": "stdout",
     "output_type": "stream",
     "text": [
      "[721918.9333272816]\n"
     ]
    }
   ],
   "source": [
    "print my_features_model.predict(house1)"
   ]
  },
  {
   "cell_type": "markdown",
   "metadata": {},
   "source": [
    "In this case, the model with more features provides a worse prediction than the simpler model with only 1 feature.  However, on average, the model with more features is better."
   ]
  },
  {
   "cell_type": "markdown",
   "metadata": {},
   "source": [
    "## Prediction for a second, fancier house\n",
    "\n",
    "We will now examine the predictions for a fancier house."
   ]
  },
  {
   "cell_type": "code",
   "execution_count": 28,
   "metadata": {
    "collapsed": true
   },
   "outputs": [],
   "source": [
    "house2 = sales[sales['id']=='1925069082']"
   ]
  },
  {
   "cell_type": "code",
   "execution_count": 29,
   "metadata": {
    "collapsed": false
   },
   "outputs": [
    {
     "data": {
      "text/html": [
       "<div style=\"max-height:1000px;max-width:1500px;overflow:auto;\"><table frame=\"box\" rules=\"cols\">\n",
       "    <tr>\n",
       "        <th style=\"padding-left: 1em; padding-right: 1em; text-align: center\">id</th>\n",
       "        <th style=\"padding-left: 1em; padding-right: 1em; text-align: center\">date</th>\n",
       "        <th style=\"padding-left: 1em; padding-right: 1em; text-align: center\">price</th>\n",
       "        <th style=\"padding-left: 1em; padding-right: 1em; text-align: center\">bedrooms</th>\n",
       "        <th style=\"padding-left: 1em; padding-right: 1em; text-align: center\">bathrooms</th>\n",
       "        <th style=\"padding-left: 1em; padding-right: 1em; text-align: center\">sqft_living</th>\n",
       "        <th style=\"padding-left: 1em; padding-right: 1em; text-align: center\">sqft_lot</th>\n",
       "        <th style=\"padding-left: 1em; padding-right: 1em; text-align: center\">floors</th>\n",
       "        <th style=\"padding-left: 1em; padding-right: 1em; text-align: center\">waterfront</th>\n",
       "    </tr>\n",
       "    <tr>\n",
       "        <td style=\"padding-left: 1em; padding-right: 1em; text-align: center; vertical-align: top\">1925069082</td>\n",
       "        <td style=\"padding-left: 1em; padding-right: 1em; text-align: center; vertical-align: top\">2015-05-11 00:00:00+00:00</td>\n",
       "        <td style=\"padding-left: 1em; padding-right: 1em; text-align: center; vertical-align: top\">2200000</td>\n",
       "        <td style=\"padding-left: 1em; padding-right: 1em; text-align: center; vertical-align: top\">5</td>\n",
       "        <td style=\"padding-left: 1em; padding-right: 1em; text-align: center; vertical-align: top\">4.25</td>\n",
       "        <td style=\"padding-left: 1em; padding-right: 1em; text-align: center; vertical-align: top\">4640</td>\n",
       "        <td style=\"padding-left: 1em; padding-right: 1em; text-align: center; vertical-align: top\">22703</td>\n",
       "        <td style=\"padding-left: 1em; padding-right: 1em; text-align: center; vertical-align: top\">2</td>\n",
       "        <td style=\"padding-left: 1em; padding-right: 1em; text-align: center; vertical-align: top\">1</td>\n",
       "    </tr>\n",
       "</table>\n",
       "<table frame=\"box\" rules=\"cols\">\n",
       "    <tr>\n",
       "        <th style=\"padding-left: 1em; padding-right: 1em; text-align: center\">view</th>\n",
       "        <th style=\"padding-left: 1em; padding-right: 1em; text-align: center\">condition</th>\n",
       "        <th style=\"padding-left: 1em; padding-right: 1em; text-align: center\">grade</th>\n",
       "        <th style=\"padding-left: 1em; padding-right: 1em; text-align: center\">sqft_above</th>\n",
       "        <th style=\"padding-left: 1em; padding-right: 1em; text-align: center\">sqft_basement</th>\n",
       "        <th style=\"padding-left: 1em; padding-right: 1em; text-align: center\">yr_built</th>\n",
       "        <th style=\"padding-left: 1em; padding-right: 1em; text-align: center\">yr_renovated</th>\n",
       "        <th style=\"padding-left: 1em; padding-right: 1em; text-align: center\">zipcode</th>\n",
       "        <th style=\"padding-left: 1em; padding-right: 1em; text-align: center\">lat</th>\n",
       "    </tr>\n",
       "    <tr>\n",
       "        <td style=\"padding-left: 1em; padding-right: 1em; text-align: center; vertical-align: top\">4</td>\n",
       "        <td style=\"padding-left: 1em; padding-right: 1em; text-align: center; vertical-align: top\">5</td>\n",
       "        <td style=\"padding-left: 1em; padding-right: 1em; text-align: center; vertical-align: top\">8</td>\n",
       "        <td style=\"padding-left: 1em; padding-right: 1em; text-align: center; vertical-align: top\">2860</td>\n",
       "        <td style=\"padding-left: 1em; padding-right: 1em; text-align: center; vertical-align: top\">1780</td>\n",
       "        <td style=\"padding-left: 1em; padding-right: 1em; text-align: center; vertical-align: top\">1952</td>\n",
       "        <td style=\"padding-left: 1em; padding-right: 1em; text-align: center; vertical-align: top\">0</td>\n",
       "        <td style=\"padding-left: 1em; padding-right: 1em; text-align: center; vertical-align: top\">98052</td>\n",
       "        <td style=\"padding-left: 1em; padding-right: 1em; text-align: center; vertical-align: top\">47.63925783</td>\n",
       "    </tr>\n",
       "</table>\n",
       "<table frame=\"box\" rules=\"cols\">\n",
       "    <tr>\n",
       "        <th style=\"padding-left: 1em; padding-right: 1em; text-align: center\">long</th>\n",
       "        <th style=\"padding-left: 1em; padding-right: 1em; text-align: center\">sqft_living15</th>\n",
       "        <th style=\"padding-left: 1em; padding-right: 1em; text-align: center\">sqft_lot15</th>\n",
       "    </tr>\n",
       "    <tr>\n",
       "        <td style=\"padding-left: 1em; padding-right: 1em; text-align: center; vertical-align: top\">-122.09722322</td>\n",
       "        <td style=\"padding-left: 1em; padding-right: 1em; text-align: center; vertical-align: top\">3140.0</td>\n",
       "        <td style=\"padding-left: 1em; padding-right: 1em; text-align: center; vertical-align: top\">14200.0</td>\n",
       "    </tr>\n",
       "</table>\n",
       "[? rows x 21 columns]<br/>Note: Only the head of the SFrame is printed. This SFrame is lazily evaluated.<br/>You can use sf.materialize() to force materialization.\n",
       "</div>"
      ],
      "text/plain": [
       "Columns:\n",
       "\tid\tstr\n",
       "\tdate\tdatetime\n",
       "\tprice\tint\n",
       "\tbedrooms\tstr\n",
       "\tbathrooms\tstr\n",
       "\tsqft_living\tint\n",
       "\tsqft_lot\tint\n",
       "\tfloors\tstr\n",
       "\twaterfront\tint\n",
       "\tview\tint\n",
       "\tcondition\tint\n",
       "\tgrade\tint\n",
       "\tsqft_above\tint\n",
       "\tsqft_basement\tint\n",
       "\tyr_built\tint\n",
       "\tyr_renovated\tint\n",
       "\tzipcode\tstr\n",
       "\tlat\tfloat\n",
       "\tlong\tfloat\n",
       "\tsqft_living15\tfloat\n",
       "\tsqft_lot15\tfloat\n",
       "\n",
       "Rows: Unknown\n",
       "\n",
       "Data:\n",
       "+------------+---------------------------+---------+----------+-----------+-------------+\n",
       "|     id     |            date           |  price  | bedrooms | bathrooms | sqft_living |\n",
       "+------------+---------------------------+---------+----------+-----------+-------------+\n",
       "| 1925069082 | 2015-05-11 00:00:00+00:00 | 2200000 |    5     |    4.25   |     4640    |\n",
       "+------------+---------------------------+---------+----------+-----------+-------------+\n",
       "+----------+--------+------------+------+-----------+-------+------------+---------------+\n",
       "| sqft_lot | floors | waterfront | view | condition | grade | sqft_above | sqft_basement |\n",
       "+----------+--------+------------+------+-----------+-------+------------+---------------+\n",
       "|  22703   |   2    |     1      |  4   |     5     |   8   |    2860    |      1780     |\n",
       "+----------+--------+------------+------+-----------+-------+------------+---------------+\n",
       "+----------+--------------+---------+-------------+---------------+---------------+-----+\n",
       "| yr_built | yr_renovated | zipcode |     lat     |      long     | sqft_living15 | ... |\n",
       "+----------+--------------+---------+-------------+---------------+---------------+-----+\n",
       "|   1952   |      0       |  98052  | 47.63925783 | -122.09722322 |     3140.0    | ... |\n",
       "+----------+--------------+---------+-------------+---------------+---------------+-----+\n",
       "[? rows x 21 columns]\n",
       "Note: Only the head of the SFrame is printed. This SFrame is lazily evaluated.\n",
       "You can use sf.materialize() to force materialization."
      ]
     },
     "execution_count": 29,
     "metadata": {},
     "output_type": "execute_result"
    }
   ],
   "source": [
    "house2"
   ]
  },
  {
   "cell_type": "markdown",
   "metadata": {},
   "source": [
    "<img src=\"https://ssl.cdn-redfin.com/photo/1/bigphoto/302/734302_0.jpg\">"
   ]
  },
  {
   "cell_type": "code",
   "execution_count": 34,
   "metadata": {
    "collapsed": false
   },
   "outputs": [
    {
     "name": "stdout",
     "output_type": "stream",
     "text": [
      "[2200000]\n"
     ]
    }
   ],
   "source": [
    "print house2['price']"
   ]
  },
  {
   "cell_type": "code",
   "execution_count": 35,
   "metadata": {
    "collapsed": false
   },
   "outputs": [
    {
     "name": "stdout",
     "output_type": "stream",
     "text": [
      "[1261170.4040999692]\n"
     ]
    }
   ],
   "source": [
    "print sqft_model.predict(house2)"
   ]
  },
  {
   "cell_type": "code",
   "execution_count": 36,
   "metadata": {
    "collapsed": false
   },
   "outputs": [
    {
     "name": "stdout",
     "output_type": "stream",
     "text": [
      "[1446472.4690774996]\n"
     ]
    }
   ],
   "source": [
    "print my_features_model.predict(house2)"
   ]
  },
  {
   "cell_type": "markdown",
   "metadata": {},
   "source": [
    "In this case, the model with more features provides a better prediction.  This behavior is expected here, because this house is more differentiated by features that go beyond its square feet of living space, especially the fact that it's a waterfront house. "
   ]
  },
  {
   "cell_type": "markdown",
   "metadata": {},
   "source": [
    "## Last house, super fancy\n",
    "\n",
    "Our last house is a very large one owned by a famous Seattleite."
   ]
  },
  {
   "cell_type": "code",
   "execution_count": 37,
   "metadata": {
    "collapsed": true
   },
   "outputs": [],
   "source": [
    "bill_gates = {'bedrooms':[8], \n",
    "              'bathrooms':[25], \n",
    "              'sqft_living':[50000], \n",
    "              'sqft_lot':[225000],\n",
    "              'floors':[4], \n",
    "              'zipcode':['98039'], \n",
    "              'condition':[10], \n",
    "              'grade':[10],\n",
    "              'waterfront':[1],\n",
    "              'view':[4],\n",
    "              'sqft_above':[37500],\n",
    "              'sqft_basement':[12500],\n",
    "              'yr_built':[1994],\n",
    "              'yr_renovated':[2010],\n",
    "              'lat':[47.627606],\n",
    "              'long':[-122.242054],\n",
    "              'sqft_living15':[5000],\n",
    "              'sqft_lot15':[40000]}"
   ]
  },
  {
   "cell_type": "markdown",
   "metadata": {},
   "source": [
    "<img src=\"https://upload.wikimedia.org/wikipedia/commons/thumb/d/d9/Bill_gates%27_house.jpg/2560px-Bill_gates%27_house.jpg\">"
   ]
  },
  {
   "cell_type": "code",
   "execution_count": 39,
   "metadata": {
    "collapsed": false
   },
   "outputs": [
    {
     "name": "stdout",
     "output_type": "stream",
     "text": [
      "[13749825.525717655]\n"
     ]
    }
   ],
   "source": [
    "print my_features_model.predict(graphlab.SFrame(bill_gates))"
   ]
  },
  {
   "cell_type": "markdown",
   "metadata": {
    "collapsed": true
   },
   "source": [
    "The model predicts a price of over $13M for this house! But we expect the house to cost much more.  (There are very few samples in the dataset of houses that are this fancy, so we don't expect the model to capture a perfect prediction here.)"
   ]
  },
  {
   "cell_type": "markdown",
   "metadata": {},
   "source": [
    "# group houses by specific zipcode"
   ]
  },
  {
   "cell_type": "code",
   "execution_count": 40,
   "metadata": {
    "collapsed": false
   },
   "outputs": [
    {
     "data": {
      "text/html": [
       "<div style=\"max-height:1000px;max-width:1500px;overflow:auto;\"><table frame=\"box\" rules=\"cols\">\n",
       "    <tr>\n",
       "        <th style=\"padding-left: 1em; padding-right: 1em; text-align: center\">id</th>\n",
       "        <th style=\"padding-left: 1em; padding-right: 1em; text-align: center\">date</th>\n",
       "        <th style=\"padding-left: 1em; padding-right: 1em; text-align: center\">price</th>\n",
       "        <th style=\"padding-left: 1em; padding-right: 1em; text-align: center\">bedrooms</th>\n",
       "        <th style=\"padding-left: 1em; padding-right: 1em; text-align: center\">bathrooms</th>\n",
       "        <th style=\"padding-left: 1em; padding-right: 1em; text-align: center\">sqft_living</th>\n",
       "        <th style=\"padding-left: 1em; padding-right: 1em; text-align: center\">sqft_lot</th>\n",
       "        <th style=\"padding-left: 1em; padding-right: 1em; text-align: center\">floors</th>\n",
       "        <th style=\"padding-left: 1em; padding-right: 1em; text-align: center\">waterfront</th>\n",
       "    </tr>\n",
       "    <tr>\n",
       "        <td style=\"padding-left: 1em; padding-right: 1em; text-align: center; vertical-align: top\">3625049014</td>\n",
       "        <td style=\"padding-left: 1em; padding-right: 1em; text-align: center; vertical-align: top\">2014-08-29 00:00:00+00:00</td>\n",
       "        <td style=\"padding-left: 1em; padding-right: 1em; text-align: center; vertical-align: top\">2950000</td>\n",
       "        <td style=\"padding-left: 1em; padding-right: 1em; text-align: center; vertical-align: top\">4</td>\n",
       "        <td style=\"padding-left: 1em; padding-right: 1em; text-align: center; vertical-align: top\">3.5</td>\n",
       "        <td style=\"padding-left: 1em; padding-right: 1em; text-align: center; vertical-align: top\">4860</td>\n",
       "        <td style=\"padding-left: 1em; padding-right: 1em; text-align: center; vertical-align: top\">23885</td>\n",
       "        <td style=\"padding-left: 1em; padding-right: 1em; text-align: center; vertical-align: top\">2</td>\n",
       "        <td style=\"padding-left: 1em; padding-right: 1em; text-align: center; vertical-align: top\">0</td>\n",
       "    </tr>\n",
       "    <tr>\n",
       "        <td style=\"padding-left: 1em; padding-right: 1em; text-align: center; vertical-align: top\">2540700110</td>\n",
       "        <td style=\"padding-left: 1em; padding-right: 1em; text-align: center; vertical-align: top\">2015-02-12 00:00:00+00:00</td>\n",
       "        <td style=\"padding-left: 1em; padding-right: 1em; text-align: center; vertical-align: top\">1905000</td>\n",
       "        <td style=\"padding-left: 1em; padding-right: 1em; text-align: center; vertical-align: top\">4</td>\n",
       "        <td style=\"padding-left: 1em; padding-right: 1em; text-align: center; vertical-align: top\">3.5</td>\n",
       "        <td style=\"padding-left: 1em; padding-right: 1em; text-align: center; vertical-align: top\">4210</td>\n",
       "        <td style=\"padding-left: 1em; padding-right: 1em; text-align: center; vertical-align: top\">18564</td>\n",
       "        <td style=\"padding-left: 1em; padding-right: 1em; text-align: center; vertical-align: top\">2</td>\n",
       "        <td style=\"padding-left: 1em; padding-right: 1em; text-align: center; vertical-align: top\">0</td>\n",
       "    </tr>\n",
       "    <tr>\n",
       "        <td style=\"padding-left: 1em; padding-right: 1em; text-align: center; vertical-align: top\">3262300940</td>\n",
       "        <td style=\"padding-left: 1em; padding-right: 1em; text-align: center; vertical-align: top\">2014-11-07 00:00:00+00:00</td>\n",
       "        <td style=\"padding-left: 1em; padding-right: 1em; text-align: center; vertical-align: top\">875000</td>\n",
       "        <td style=\"padding-left: 1em; padding-right: 1em; text-align: center; vertical-align: top\">3</td>\n",
       "        <td style=\"padding-left: 1em; padding-right: 1em; text-align: center; vertical-align: top\">1</td>\n",
       "        <td style=\"padding-left: 1em; padding-right: 1em; text-align: center; vertical-align: top\">1220</td>\n",
       "        <td style=\"padding-left: 1em; padding-right: 1em; text-align: center; vertical-align: top\">8119</td>\n",
       "        <td style=\"padding-left: 1em; padding-right: 1em; text-align: center; vertical-align: top\">1</td>\n",
       "        <td style=\"padding-left: 1em; padding-right: 1em; text-align: center; vertical-align: top\">0</td>\n",
       "    </tr>\n",
       "    <tr>\n",
       "        <td style=\"padding-left: 1em; padding-right: 1em; text-align: center; vertical-align: top\">3262300940</td>\n",
       "        <td style=\"padding-left: 1em; padding-right: 1em; text-align: center; vertical-align: top\">2015-02-10 00:00:00+00:00</td>\n",
       "        <td style=\"padding-left: 1em; padding-right: 1em; text-align: center; vertical-align: top\">940000</td>\n",
       "        <td style=\"padding-left: 1em; padding-right: 1em; text-align: center; vertical-align: top\">3</td>\n",
       "        <td style=\"padding-left: 1em; padding-right: 1em; text-align: center; vertical-align: top\">1</td>\n",
       "        <td style=\"padding-left: 1em; padding-right: 1em; text-align: center; vertical-align: top\">1220</td>\n",
       "        <td style=\"padding-left: 1em; padding-right: 1em; text-align: center; vertical-align: top\">8119</td>\n",
       "        <td style=\"padding-left: 1em; padding-right: 1em; text-align: center; vertical-align: top\">1</td>\n",
       "        <td style=\"padding-left: 1em; padding-right: 1em; text-align: center; vertical-align: top\">0</td>\n",
       "    </tr>\n",
       "    <tr>\n",
       "        <td style=\"padding-left: 1em; padding-right: 1em; text-align: center; vertical-align: top\">6447300265</td>\n",
       "        <td style=\"padding-left: 1em; padding-right: 1em; text-align: center; vertical-align: top\">2014-10-14 00:00:00+00:00</td>\n",
       "        <td style=\"padding-left: 1em; padding-right: 1em; text-align: center; vertical-align: top\">4000000</td>\n",
       "        <td style=\"padding-left: 1em; padding-right: 1em; text-align: center; vertical-align: top\">4</td>\n",
       "        <td style=\"padding-left: 1em; padding-right: 1em; text-align: center; vertical-align: top\">5.5</td>\n",
       "        <td style=\"padding-left: 1em; padding-right: 1em; text-align: center; vertical-align: top\">7080</td>\n",
       "        <td style=\"padding-left: 1em; padding-right: 1em; text-align: center; vertical-align: top\">16573</td>\n",
       "        <td style=\"padding-left: 1em; padding-right: 1em; text-align: center; vertical-align: top\">2</td>\n",
       "        <td style=\"padding-left: 1em; padding-right: 1em; text-align: center; vertical-align: top\">0</td>\n",
       "    </tr>\n",
       "    <tr>\n",
       "        <td style=\"padding-left: 1em; padding-right: 1em; text-align: center; vertical-align: top\">2470100110</td>\n",
       "        <td style=\"padding-left: 1em; padding-right: 1em; text-align: center; vertical-align: top\">2014-08-04 00:00:00+00:00</td>\n",
       "        <td style=\"padding-left: 1em; padding-right: 1em; text-align: center; vertical-align: top\">5570000</td>\n",
       "        <td style=\"padding-left: 1em; padding-right: 1em; text-align: center; vertical-align: top\">5</td>\n",
       "        <td style=\"padding-left: 1em; padding-right: 1em; text-align: center; vertical-align: top\">5.75</td>\n",
       "        <td style=\"padding-left: 1em; padding-right: 1em; text-align: center; vertical-align: top\">9200</td>\n",
       "        <td style=\"padding-left: 1em; padding-right: 1em; text-align: center; vertical-align: top\">35069</td>\n",
       "        <td style=\"padding-left: 1em; padding-right: 1em; text-align: center; vertical-align: top\">2</td>\n",
       "        <td style=\"padding-left: 1em; padding-right: 1em; text-align: center; vertical-align: top\">0</td>\n",
       "    </tr>\n",
       "    <tr>\n",
       "        <td style=\"padding-left: 1em; padding-right: 1em; text-align: center; vertical-align: top\">2210500019</td>\n",
       "        <td style=\"padding-left: 1em; padding-right: 1em; text-align: center; vertical-align: top\">2015-03-24 00:00:00+00:00</td>\n",
       "        <td style=\"padding-left: 1em; padding-right: 1em; text-align: center; vertical-align: top\">937500</td>\n",
       "        <td style=\"padding-left: 1em; padding-right: 1em; text-align: center; vertical-align: top\">3</td>\n",
       "        <td style=\"padding-left: 1em; padding-right: 1em; text-align: center; vertical-align: top\">1</td>\n",
       "        <td style=\"padding-left: 1em; padding-right: 1em; text-align: center; vertical-align: top\">1320</td>\n",
       "        <td style=\"padding-left: 1em; padding-right: 1em; text-align: center; vertical-align: top\">8500</td>\n",
       "        <td style=\"padding-left: 1em; padding-right: 1em; text-align: center; vertical-align: top\">1</td>\n",
       "        <td style=\"padding-left: 1em; padding-right: 1em; text-align: center; vertical-align: top\">0</td>\n",
       "    </tr>\n",
       "    <tr>\n",
       "        <td style=\"padding-left: 1em; padding-right: 1em; text-align: center; vertical-align: top\">6447300345</td>\n",
       "        <td style=\"padding-left: 1em; padding-right: 1em; text-align: center; vertical-align: top\">2015-04-06 00:00:00+00:00</td>\n",
       "        <td style=\"padding-left: 1em; padding-right: 1em; text-align: center; vertical-align: top\">1160000</td>\n",
       "        <td style=\"padding-left: 1em; padding-right: 1em; text-align: center; vertical-align: top\">4</td>\n",
       "        <td style=\"padding-left: 1em; padding-right: 1em; text-align: center; vertical-align: top\">3</td>\n",
       "        <td style=\"padding-left: 1em; padding-right: 1em; text-align: center; vertical-align: top\">2680</td>\n",
       "        <td style=\"padding-left: 1em; padding-right: 1em; text-align: center; vertical-align: top\">15438</td>\n",
       "        <td style=\"padding-left: 1em; padding-right: 1em; text-align: center; vertical-align: top\">2</td>\n",
       "        <td style=\"padding-left: 1em; padding-right: 1em; text-align: center; vertical-align: top\">0</td>\n",
       "    </tr>\n",
       "    <tr>\n",
       "        <td style=\"padding-left: 1em; padding-right: 1em; text-align: center; vertical-align: top\">6447300225</td>\n",
       "        <td style=\"padding-left: 1em; padding-right: 1em; text-align: center; vertical-align: top\">2014-11-06 00:00:00+00:00</td>\n",
       "        <td style=\"padding-left: 1em; padding-right: 1em; text-align: center; vertical-align: top\">1880000</td>\n",
       "        <td style=\"padding-left: 1em; padding-right: 1em; text-align: center; vertical-align: top\">3</td>\n",
       "        <td style=\"padding-left: 1em; padding-right: 1em; text-align: center; vertical-align: top\">2.75</td>\n",
       "        <td style=\"padding-left: 1em; padding-right: 1em; text-align: center; vertical-align: top\">2620</td>\n",
       "        <td style=\"padding-left: 1em; padding-right: 1em; text-align: center; vertical-align: top\">17919</td>\n",
       "        <td style=\"padding-left: 1em; padding-right: 1em; text-align: center; vertical-align: top\">1</td>\n",
       "        <td style=\"padding-left: 1em; padding-right: 1em; text-align: center; vertical-align: top\">0</td>\n",
       "    </tr>\n",
       "    <tr>\n",
       "        <td style=\"padding-left: 1em; padding-right: 1em; text-align: center; vertical-align: top\">2525049148</td>\n",
       "        <td style=\"padding-left: 1em; padding-right: 1em; text-align: center; vertical-align: top\">2014-10-07 00:00:00+00:00</td>\n",
       "        <td style=\"padding-left: 1em; padding-right: 1em; text-align: center; vertical-align: top\">3418800</td>\n",
       "        <td style=\"padding-left: 1em; padding-right: 1em; text-align: center; vertical-align: top\">5</td>\n",
       "        <td style=\"padding-left: 1em; padding-right: 1em; text-align: center; vertical-align: top\">5</td>\n",
       "        <td style=\"padding-left: 1em; padding-right: 1em; text-align: center; vertical-align: top\">5450</td>\n",
       "        <td style=\"padding-left: 1em; padding-right: 1em; text-align: center; vertical-align: top\">20412</td>\n",
       "        <td style=\"padding-left: 1em; padding-right: 1em; text-align: center; vertical-align: top\">2</td>\n",
       "        <td style=\"padding-left: 1em; padding-right: 1em; text-align: center; vertical-align: top\">0</td>\n",
       "    </tr>\n",
       "</table>\n",
       "<table frame=\"box\" rules=\"cols\">\n",
       "    <tr>\n",
       "        <th style=\"padding-left: 1em; padding-right: 1em; text-align: center\">view</th>\n",
       "        <th style=\"padding-left: 1em; padding-right: 1em; text-align: center\">condition</th>\n",
       "        <th style=\"padding-left: 1em; padding-right: 1em; text-align: center\">grade</th>\n",
       "        <th style=\"padding-left: 1em; padding-right: 1em; text-align: center\">sqft_above</th>\n",
       "        <th style=\"padding-left: 1em; padding-right: 1em; text-align: center\">sqft_basement</th>\n",
       "        <th style=\"padding-left: 1em; padding-right: 1em; text-align: center\">yr_built</th>\n",
       "        <th style=\"padding-left: 1em; padding-right: 1em; text-align: center\">yr_renovated</th>\n",
       "        <th style=\"padding-left: 1em; padding-right: 1em; text-align: center\">zipcode</th>\n",
       "        <th style=\"padding-left: 1em; padding-right: 1em; text-align: center\">lat</th>\n",
       "    </tr>\n",
       "    <tr>\n",
       "        <td style=\"padding-left: 1em; padding-right: 1em; text-align: center; vertical-align: top\">0</td>\n",
       "        <td style=\"padding-left: 1em; padding-right: 1em; text-align: center; vertical-align: top\">3</td>\n",
       "        <td style=\"padding-left: 1em; padding-right: 1em; text-align: center; vertical-align: top\">12</td>\n",
       "        <td style=\"padding-left: 1em; padding-right: 1em; text-align: center; vertical-align: top\">4860</td>\n",
       "        <td style=\"padding-left: 1em; padding-right: 1em; text-align: center; vertical-align: top\">0</td>\n",
       "        <td style=\"padding-left: 1em; padding-right: 1em; text-align: center; vertical-align: top\">1996</td>\n",
       "        <td style=\"padding-left: 1em; padding-right: 1em; text-align: center; vertical-align: top\">0</td>\n",
       "        <td style=\"padding-left: 1em; padding-right: 1em; text-align: center; vertical-align: top\">98039</td>\n",
       "        <td style=\"padding-left: 1em; padding-right: 1em; text-align: center; vertical-align: top\">47.61717049</td>\n",
       "    </tr>\n",
       "    <tr>\n",
       "        <td style=\"padding-left: 1em; padding-right: 1em; text-align: center; vertical-align: top\">0</td>\n",
       "        <td style=\"padding-left: 1em; padding-right: 1em; text-align: center; vertical-align: top\">3</td>\n",
       "        <td style=\"padding-left: 1em; padding-right: 1em; text-align: center; vertical-align: top\">11</td>\n",
       "        <td style=\"padding-left: 1em; padding-right: 1em; text-align: center; vertical-align: top\">4210</td>\n",
       "        <td style=\"padding-left: 1em; padding-right: 1em; text-align: center; vertical-align: top\">0</td>\n",
       "        <td style=\"padding-left: 1em; padding-right: 1em; text-align: center; vertical-align: top\">2001</td>\n",
       "        <td style=\"padding-left: 1em; padding-right: 1em; text-align: center; vertical-align: top\">0</td>\n",
       "        <td style=\"padding-left: 1em; padding-right: 1em; text-align: center; vertical-align: top\">98039</td>\n",
       "        <td style=\"padding-left: 1em; padding-right: 1em; text-align: center; vertical-align: top\">47.62060082</td>\n",
       "    </tr>\n",
       "    <tr>\n",
       "        <td style=\"padding-left: 1em; padding-right: 1em; text-align: center; vertical-align: top\">0</td>\n",
       "        <td style=\"padding-left: 1em; padding-right: 1em; text-align: center; vertical-align: top\">4</td>\n",
       "        <td style=\"padding-left: 1em; padding-right: 1em; text-align: center; vertical-align: top\">7</td>\n",
       "        <td style=\"padding-left: 1em; padding-right: 1em; text-align: center; vertical-align: top\">1220</td>\n",
       "        <td style=\"padding-left: 1em; padding-right: 1em; text-align: center; vertical-align: top\">0</td>\n",
       "        <td style=\"padding-left: 1em; padding-right: 1em; text-align: center; vertical-align: top\">1955</td>\n",
       "        <td style=\"padding-left: 1em; padding-right: 1em; text-align: center; vertical-align: top\">0</td>\n",
       "        <td style=\"padding-left: 1em; padding-right: 1em; text-align: center; vertical-align: top\">98039</td>\n",
       "        <td style=\"padding-left: 1em; padding-right: 1em; text-align: center; vertical-align: top\">47.63281908</td>\n",
       "    </tr>\n",
       "    <tr>\n",
       "        <td style=\"padding-left: 1em; padding-right: 1em; text-align: center; vertical-align: top\">0</td>\n",
       "        <td style=\"padding-left: 1em; padding-right: 1em; text-align: center; vertical-align: top\">4</td>\n",
       "        <td style=\"padding-left: 1em; padding-right: 1em; text-align: center; vertical-align: top\">7</td>\n",
       "        <td style=\"padding-left: 1em; padding-right: 1em; text-align: center; vertical-align: top\">1220</td>\n",
       "        <td style=\"padding-left: 1em; padding-right: 1em; text-align: center; vertical-align: top\">0</td>\n",
       "        <td style=\"padding-left: 1em; padding-right: 1em; text-align: center; vertical-align: top\">1955</td>\n",
       "        <td style=\"padding-left: 1em; padding-right: 1em; text-align: center; vertical-align: top\">0</td>\n",
       "        <td style=\"padding-left: 1em; padding-right: 1em; text-align: center; vertical-align: top\">98039</td>\n",
       "        <td style=\"padding-left: 1em; padding-right: 1em; text-align: center; vertical-align: top\">47.63281908</td>\n",
       "    </tr>\n",
       "    <tr>\n",
       "        <td style=\"padding-left: 1em; padding-right: 1em; text-align: center; vertical-align: top\">0</td>\n",
       "        <td style=\"padding-left: 1em; padding-right: 1em; text-align: center; vertical-align: top\">3</td>\n",
       "        <td style=\"padding-left: 1em; padding-right: 1em; text-align: center; vertical-align: top\">12</td>\n",
       "        <td style=\"padding-left: 1em; padding-right: 1em; text-align: center; vertical-align: top\">5760</td>\n",
       "        <td style=\"padding-left: 1em; padding-right: 1em; text-align: center; vertical-align: top\">1320</td>\n",
       "        <td style=\"padding-left: 1em; padding-right: 1em; text-align: center; vertical-align: top\">2008</td>\n",
       "        <td style=\"padding-left: 1em; padding-right: 1em; text-align: center; vertical-align: top\">0</td>\n",
       "        <td style=\"padding-left: 1em; padding-right: 1em; text-align: center; vertical-align: top\">98039</td>\n",
       "        <td style=\"padding-left: 1em; padding-right: 1em; text-align: center; vertical-align: top\">47.61512031</td>\n",
       "    </tr>\n",
       "    <tr>\n",
       "        <td style=\"padding-left: 1em; padding-right: 1em; text-align: center; vertical-align: top\">0</td>\n",
       "        <td style=\"padding-left: 1em; padding-right: 1em; text-align: center; vertical-align: top\">3</td>\n",
       "        <td style=\"padding-left: 1em; padding-right: 1em; text-align: center; vertical-align: top\">13</td>\n",
       "        <td style=\"padding-left: 1em; padding-right: 1em; text-align: center; vertical-align: top\">6200</td>\n",
       "        <td style=\"padding-left: 1em; padding-right: 1em; text-align: center; vertical-align: top\">3000</td>\n",
       "        <td style=\"padding-left: 1em; padding-right: 1em; text-align: center; vertical-align: top\">2001</td>\n",
       "        <td style=\"padding-left: 1em; padding-right: 1em; text-align: center; vertical-align: top\">0</td>\n",
       "        <td style=\"padding-left: 1em; padding-right: 1em; text-align: center; vertical-align: top\">98039</td>\n",
       "        <td style=\"padding-left: 1em; padding-right: 1em; text-align: center; vertical-align: top\">47.62888314</td>\n",
       "    </tr>\n",
       "    <tr>\n",
       "        <td style=\"padding-left: 1em; padding-right: 1em; text-align: center; vertical-align: top\">0</td>\n",
       "        <td style=\"padding-left: 1em; padding-right: 1em; text-align: center; vertical-align: top\">4</td>\n",
       "        <td style=\"padding-left: 1em; padding-right: 1em; text-align: center; vertical-align: top\">7</td>\n",
       "        <td style=\"padding-left: 1em; padding-right: 1em; text-align: center; vertical-align: top\">1320</td>\n",
       "        <td style=\"padding-left: 1em; padding-right: 1em; text-align: center; vertical-align: top\">0</td>\n",
       "        <td style=\"padding-left: 1em; padding-right: 1em; text-align: center; vertical-align: top\">1954</td>\n",
       "        <td style=\"padding-left: 1em; padding-right: 1em; text-align: center; vertical-align: top\">0</td>\n",
       "        <td style=\"padding-left: 1em; padding-right: 1em; text-align: center; vertical-align: top\">98039</td>\n",
       "        <td style=\"padding-left: 1em; padding-right: 1em; text-align: center; vertical-align: top\">47.61872888</td>\n",
       "    </tr>\n",
       "    <tr>\n",
       "        <td style=\"padding-left: 1em; padding-right: 1em; text-align: center; vertical-align: top\">2</td>\n",
       "        <td style=\"padding-left: 1em; padding-right: 1em; text-align: center; vertical-align: top\">3</td>\n",
       "        <td style=\"padding-left: 1em; padding-right: 1em; text-align: center; vertical-align: top\">8</td>\n",
       "        <td style=\"padding-left: 1em; padding-right: 1em; text-align: center; vertical-align: top\">2680</td>\n",
       "        <td style=\"padding-left: 1em; padding-right: 1em; text-align: center; vertical-align: top\">0</td>\n",
       "        <td style=\"padding-left: 1em; padding-right: 1em; text-align: center; vertical-align: top\">1902</td>\n",
       "        <td style=\"padding-left: 1em; padding-right: 1em; text-align: center; vertical-align: top\">1956</td>\n",
       "        <td style=\"padding-left: 1em; padding-right: 1em; text-align: center; vertical-align: top\">98039</td>\n",
       "        <td style=\"padding-left: 1em; padding-right: 1em; text-align: center; vertical-align: top\">47.61089438</td>\n",
       "    </tr>\n",
       "    <tr>\n",
       "        <td style=\"padding-left: 1em; padding-right: 1em; text-align: center; vertical-align: top\">1</td>\n",
       "        <td style=\"padding-left: 1em; padding-right: 1em; text-align: center; vertical-align: top\">4</td>\n",
       "        <td style=\"padding-left: 1em; padding-right: 1em; text-align: center; vertical-align: top\">9</td>\n",
       "        <td style=\"padding-left: 1em; padding-right: 1em; text-align: center; vertical-align: top\">2620</td>\n",
       "        <td style=\"padding-left: 1em; padding-right: 1em; text-align: center; vertical-align: top\">0</td>\n",
       "        <td style=\"padding-left: 1em; padding-right: 1em; text-align: center; vertical-align: top\">1949</td>\n",
       "        <td style=\"padding-left: 1em; padding-right: 1em; text-align: center; vertical-align: top\">0</td>\n",
       "        <td style=\"padding-left: 1em; padding-right: 1em; text-align: center; vertical-align: top\">98039</td>\n",
       "        <td style=\"padding-left: 1em; padding-right: 1em; text-align: center; vertical-align: top\">47.61435052</td>\n",
       "    </tr>\n",
       "    <tr>\n",
       "        <td style=\"padding-left: 1em; padding-right: 1em; text-align: center; vertical-align: top\">0</td>\n",
       "        <td style=\"padding-left: 1em; padding-right: 1em; text-align: center; vertical-align: top\">3</td>\n",
       "        <td style=\"padding-left: 1em; padding-right: 1em; text-align: center; vertical-align: top\">11</td>\n",
       "        <td style=\"padding-left: 1em; padding-right: 1em; text-align: center; vertical-align: top\">5450</td>\n",
       "        <td style=\"padding-left: 1em; padding-right: 1em; text-align: center; vertical-align: top\">0</td>\n",
       "        <td style=\"padding-left: 1em; padding-right: 1em; text-align: center; vertical-align: top\">2014</td>\n",
       "        <td style=\"padding-left: 1em; padding-right: 1em; text-align: center; vertical-align: top\">0</td>\n",
       "        <td style=\"padding-left: 1em; padding-right: 1em; text-align: center; vertical-align: top\">98039</td>\n",
       "        <td style=\"padding-left: 1em; padding-right: 1em; text-align: center; vertical-align: top\">47.62087993</td>\n",
       "    </tr>\n",
       "</table>\n",
       "<table frame=\"box\" rules=\"cols\">\n",
       "    <tr>\n",
       "        <th style=\"padding-left: 1em; padding-right: 1em; text-align: center\">long</th>\n",
       "        <th style=\"padding-left: 1em; padding-right: 1em; text-align: center\">sqft_living15</th>\n",
       "        <th style=\"padding-left: 1em; padding-right: 1em; text-align: center\">sqft_lot15</th>\n",
       "    </tr>\n",
       "    <tr>\n",
       "        <td style=\"padding-left: 1em; padding-right: 1em; text-align: center; vertical-align: top\">-122.23040939</td>\n",
       "        <td style=\"padding-left: 1em; padding-right: 1em; text-align: center; vertical-align: top\">3580.0</td>\n",
       "        <td style=\"padding-left: 1em; padding-right: 1em; text-align: center; vertical-align: top\">16054.0</td>\n",
       "    </tr>\n",
       "    <tr>\n",
       "        <td style=\"padding-left: 1em; padding-right: 1em; text-align: center; vertical-align: top\">-122.2245047</td>\n",
       "        <td style=\"padding-left: 1em; padding-right: 1em; text-align: center; vertical-align: top\">3520.0</td>\n",
       "        <td style=\"padding-left: 1em; padding-right: 1em; text-align: center; vertical-align: top\">18564.0</td>\n",
       "    </tr>\n",
       "    <tr>\n",
       "        <td style=\"padding-left: 1em; padding-right: 1em; text-align: center; vertical-align: top\">-122.23554392</td>\n",
       "        <td style=\"padding-left: 1em; padding-right: 1em; text-align: center; vertical-align: top\">1910.0</td>\n",
       "        <td style=\"padding-left: 1em; padding-right: 1em; text-align: center; vertical-align: top\">8119.0</td>\n",
       "    </tr>\n",
       "    <tr>\n",
       "        <td style=\"padding-left: 1em; padding-right: 1em; text-align: center; vertical-align: top\">-122.23554392</td>\n",
       "        <td style=\"padding-left: 1em; padding-right: 1em; text-align: center; vertical-align: top\">1910.0</td>\n",
       "        <td style=\"padding-left: 1em; padding-right: 1em; text-align: center; vertical-align: top\">8119.0</td>\n",
       "    </tr>\n",
       "    <tr>\n",
       "        <td style=\"padding-left: 1em; padding-right: 1em; text-align: center; vertical-align: top\">-122.22420058</td>\n",
       "        <td style=\"padding-left: 1em; padding-right: 1em; text-align: center; vertical-align: top\">3140.0</td>\n",
       "        <td style=\"padding-left: 1em; padding-right: 1em; text-align: center; vertical-align: top\">15996.0</td>\n",
       "    </tr>\n",
       "    <tr>\n",
       "        <td style=\"padding-left: 1em; padding-right: 1em; text-align: center; vertical-align: top\">-122.23346379</td>\n",
       "        <td style=\"padding-left: 1em; padding-right: 1em; text-align: center; vertical-align: top\">3560.0</td>\n",
       "        <td style=\"padding-left: 1em; padding-right: 1em; text-align: center; vertical-align: top\">24345.0</td>\n",
       "    </tr>\n",
       "    <tr>\n",
       "        <td style=\"padding-left: 1em; padding-right: 1em; text-align: center; vertical-align: top\">-122.22643371</td>\n",
       "        <td style=\"padding-left: 1em; padding-right: 1em; text-align: center; vertical-align: top\">2790.0</td>\n",
       "        <td style=\"padding-left: 1em; padding-right: 1em; text-align: center; vertical-align: top\">10800.0</td>\n",
       "    </tr>\n",
       "    <tr>\n",
       "        <td style=\"padding-left: 1em; padding-right: 1em; text-align: center; vertical-align: top\">-122.22582388</td>\n",
       "        <td style=\"padding-left: 1em; padding-right: 1em; text-align: center; vertical-align: top\">4480.0</td>\n",
       "        <td style=\"padding-left: 1em; padding-right: 1em; text-align: center; vertical-align: top\">14406.0</td>\n",
       "    </tr>\n",
       "    <tr>\n",
       "        <td style=\"padding-left: 1em; padding-right: 1em; text-align: center; vertical-align: top\">-122.22772057</td>\n",
       "        <td style=\"padding-left: 1em; padding-right: 1em; text-align: center; vertical-align: top\">3400.0</td>\n",
       "        <td style=\"padding-left: 1em; padding-right: 1em; text-align: center; vertical-align: top\">14400.0</td>\n",
       "    </tr>\n",
       "    <tr>\n",
       "        <td style=\"padding-left: 1em; padding-right: 1em; text-align: center; vertical-align: top\">-122.23726918</td>\n",
       "        <td style=\"padding-left: 1em; padding-right: 1em; text-align: center; vertical-align: top\">3160.0</td>\n",
       "        <td style=\"padding-left: 1em; padding-right: 1em; text-align: center; vertical-align: top\">17825.0</td>\n",
       "    </tr>\n",
       "</table>\n",
       "[50 rows x 21 columns]<br/>Note: Only the head of the SFrame is printed.<br/>You can use print_rows(num_rows=m, num_columns=n) to print more rows and columns.\n",
       "</div>"
      ],
      "text/plain": [
       "Columns:\n",
       "\tid\tstr\n",
       "\tdate\tdatetime\n",
       "\tprice\tint\n",
       "\tbedrooms\tstr\n",
       "\tbathrooms\tstr\n",
       "\tsqft_living\tint\n",
       "\tsqft_lot\tint\n",
       "\tfloors\tstr\n",
       "\twaterfront\tint\n",
       "\tview\tint\n",
       "\tcondition\tint\n",
       "\tgrade\tint\n",
       "\tsqft_above\tint\n",
       "\tsqft_basement\tint\n",
       "\tyr_built\tint\n",
       "\tyr_renovated\tint\n",
       "\tzipcode\tstr\n",
       "\tlat\tfloat\n",
       "\tlong\tfloat\n",
       "\tsqft_living15\tfloat\n",
       "\tsqft_lot15\tfloat\n",
       "\n",
       "Rows: 50\n",
       "\n",
       "Data:\n",
       "+------------+---------------------------+---------+----------+-----------+-------------+\n",
       "|     id     |            date           |  price  | bedrooms | bathrooms | sqft_living |\n",
       "+------------+---------------------------+---------+----------+-----------+-------------+\n",
       "| 3625049014 | 2014-08-29 00:00:00+00:00 | 2950000 |    4     |    3.5    |     4860    |\n",
       "| 2540700110 | 2015-02-12 00:00:00+00:00 | 1905000 |    4     |    3.5    |     4210    |\n",
       "| 3262300940 | 2014-11-07 00:00:00+00:00 |  875000 |    3     |     1     |     1220    |\n",
       "| 3262300940 | 2015-02-10 00:00:00+00:00 |  940000 |    3     |     1     |     1220    |\n",
       "| 6447300265 | 2014-10-14 00:00:00+00:00 | 4000000 |    4     |    5.5    |     7080    |\n",
       "| 2470100110 | 2014-08-04 00:00:00+00:00 | 5570000 |    5     |    5.75   |     9200    |\n",
       "| 2210500019 | 2015-03-24 00:00:00+00:00 |  937500 |    3     |     1     |     1320    |\n",
       "| 6447300345 | 2015-04-06 00:00:00+00:00 | 1160000 |    4     |     3     |     2680    |\n",
       "| 6447300225 | 2014-11-06 00:00:00+00:00 | 1880000 |    3     |    2.75   |     2620    |\n",
       "| 2525049148 | 2014-10-07 00:00:00+00:00 | 3418800 |    5     |     5     |     5450    |\n",
       "+------------+---------------------------+---------+----------+-----------+-------------+\n",
       "+----------+--------+------------+------+-----------+-------+------------+---------------+\n",
       "| sqft_lot | floors | waterfront | view | condition | grade | sqft_above | sqft_basement |\n",
       "+----------+--------+------------+------+-----------+-------+------------+---------------+\n",
       "|  23885   |   2    |     0      |  0   |     3     |   12  |    4860    |       0       |\n",
       "|  18564   |   2    |     0      |  0   |     3     |   11  |    4210    |       0       |\n",
       "|   8119   |   1    |     0      |  0   |     4     |   7   |    1220    |       0       |\n",
       "|   8119   |   1    |     0      |  0   |     4     |   7   |    1220    |       0       |\n",
       "|  16573   |   2    |     0      |  0   |     3     |   12  |    5760    |      1320     |\n",
       "|  35069   |   2    |     0      |  0   |     3     |   13  |    6200    |      3000     |\n",
       "|   8500   |   1    |     0      |  0   |     4     |   7   |    1320    |       0       |\n",
       "|  15438   |   2    |     0      |  2   |     3     |   8   |    2680    |       0       |\n",
       "|  17919   |   1    |     0      |  1   |     4     |   9   |    2620    |       0       |\n",
       "|  20412   |   2    |     0      |  0   |     3     |   11  |    5450    |       0       |\n",
       "+----------+--------+------------+------+-----------+-------+------------+---------------+\n",
       "+----------+--------------+---------+-------------+---------------+---------------+-----+\n",
       "| yr_built | yr_renovated | zipcode |     lat     |      long     | sqft_living15 | ... |\n",
       "+----------+--------------+---------+-------------+---------------+---------------+-----+\n",
       "|   1996   |      0       |  98039  | 47.61717049 | -122.23040939 |     3580.0    | ... |\n",
       "|   2001   |      0       |  98039  | 47.62060082 |  -122.2245047 |     3520.0    | ... |\n",
       "|   1955   |      0       |  98039  | 47.63281908 | -122.23554392 |     1910.0    | ... |\n",
       "|   1955   |      0       |  98039  | 47.63281908 | -122.23554392 |     1910.0    | ... |\n",
       "|   2008   |      0       |  98039  | 47.61512031 | -122.22420058 |     3140.0    | ... |\n",
       "|   2001   |      0       |  98039  | 47.62888314 | -122.23346379 |     3560.0    | ... |\n",
       "|   1954   |      0       |  98039  | 47.61872888 | -122.22643371 |     2790.0    | ... |\n",
       "|   1902   |     1956     |  98039  | 47.61089438 | -122.22582388 |     4480.0    | ... |\n",
       "|   1949   |      0       |  98039  | 47.61435052 | -122.22772057 |     3400.0    | ... |\n",
       "|   2014   |      0       |  98039  | 47.62087993 | -122.23726918 |     3160.0    | ... |\n",
       "+----------+--------------+---------+-------------+---------------+---------------+-----+\n",
       "[50 rows x 21 columns]\n",
       "Note: Only the head of the SFrame is printed.\n",
       "You can use print_rows(num_rows=m, num_columns=n) to print more rows and columns."
      ]
     },
     "execution_count": 40,
     "metadata": {},
     "output_type": "execute_result"
    }
   ],
   "source": [
    "sales.filter_by('98039','zipcode' )"
   ]
  },
  {
   "cell_type": "markdown",
   "metadata": {},
   "source": [
    "## filter houses by square feet range "
   ]
  },
  {
   "cell_type": "code",
   "execution_count": 41,
   "metadata": {
    "collapsed": false
   },
   "outputs": [
    {
     "data": {
      "text/html": [
       "<div style=\"max-height:1000px;max-width:1500px;overflow:auto;\"><table frame=\"box\" rules=\"cols\">\n",
       "    <tr>\n",
       "        <th style=\"padding-left: 1em; padding-right: 1em; text-align: center\">id</th>\n",
       "        <th style=\"padding-left: 1em; padding-right: 1em; text-align: center\">date</th>\n",
       "        <th style=\"padding-left: 1em; padding-right: 1em; text-align: center\">price</th>\n",
       "        <th style=\"padding-left: 1em; padding-right: 1em; text-align: center\">bedrooms</th>\n",
       "        <th style=\"padding-left: 1em; padding-right: 1em; text-align: center\">bathrooms</th>\n",
       "        <th style=\"padding-left: 1em; padding-right: 1em; text-align: center\">sqft_living</th>\n",
       "        <th style=\"padding-left: 1em; padding-right: 1em; text-align: center\">sqft_lot</th>\n",
       "        <th style=\"padding-left: 1em; padding-right: 1em; text-align: center\">floors</th>\n",
       "        <th style=\"padding-left: 1em; padding-right: 1em; text-align: center\">waterfront</th>\n",
       "    </tr>\n",
       "    <tr>\n",
       "        <td style=\"padding-left: 1em; padding-right: 1em; text-align: center; vertical-align: top\">6414100192</td>\n",
       "        <td style=\"padding-left: 1em; padding-right: 1em; text-align: center; vertical-align: top\">2014-12-09 00:00:00+00:00</td>\n",
       "        <td style=\"padding-left: 1em; padding-right: 1em; text-align: center; vertical-align: top\">538000</td>\n",
       "        <td style=\"padding-left: 1em; padding-right: 1em; text-align: center; vertical-align: top\">3</td>\n",
       "        <td style=\"padding-left: 1em; padding-right: 1em; text-align: center; vertical-align: top\">2.25</td>\n",
       "        <td style=\"padding-left: 1em; padding-right: 1em; text-align: center; vertical-align: top\">2570</td>\n",
       "        <td style=\"padding-left: 1em; padding-right: 1em; text-align: center; vertical-align: top\">7242</td>\n",
       "        <td style=\"padding-left: 1em; padding-right: 1em; text-align: center; vertical-align: top\">2</td>\n",
       "        <td style=\"padding-left: 1em; padding-right: 1em; text-align: center; vertical-align: top\">0</td>\n",
       "    </tr>\n",
       "    <tr>\n",
       "        <td style=\"padding-left: 1em; padding-right: 1em; text-align: center; vertical-align: top\">1736800520</td>\n",
       "        <td style=\"padding-left: 1em; padding-right: 1em; text-align: center; vertical-align: top\">2015-04-03 00:00:00+00:00</td>\n",
       "        <td style=\"padding-left: 1em; padding-right: 1em; text-align: center; vertical-align: top\">662500</td>\n",
       "        <td style=\"padding-left: 1em; padding-right: 1em; text-align: center; vertical-align: top\">3</td>\n",
       "        <td style=\"padding-left: 1em; padding-right: 1em; text-align: center; vertical-align: top\">2.5</td>\n",
       "        <td style=\"padding-left: 1em; padding-right: 1em; text-align: center; vertical-align: top\">3560</td>\n",
       "        <td style=\"padding-left: 1em; padding-right: 1em; text-align: center; vertical-align: top\">9796</td>\n",
       "        <td style=\"padding-left: 1em; padding-right: 1em; text-align: center; vertical-align: top\">1</td>\n",
       "        <td style=\"padding-left: 1em; padding-right: 1em; text-align: center; vertical-align: top\">0</td>\n",
       "    </tr>\n",
       "    <tr>\n",
       "        <td style=\"padding-left: 1em; padding-right: 1em; text-align: center; vertical-align: top\">9297300055</td>\n",
       "        <td style=\"padding-left: 1em; padding-right: 1em; text-align: center; vertical-align: top\">2015-01-24 00:00:00+00:00</td>\n",
       "        <td style=\"padding-left: 1em; padding-right: 1em; text-align: center; vertical-align: top\">650000</td>\n",
       "        <td style=\"padding-left: 1em; padding-right: 1em; text-align: center; vertical-align: top\">4</td>\n",
       "        <td style=\"padding-left: 1em; padding-right: 1em; text-align: center; vertical-align: top\">3</td>\n",
       "        <td style=\"padding-left: 1em; padding-right: 1em; text-align: center; vertical-align: top\">2950</td>\n",
       "        <td style=\"padding-left: 1em; padding-right: 1em; text-align: center; vertical-align: top\">5000</td>\n",
       "        <td style=\"padding-left: 1em; padding-right: 1em; text-align: center; vertical-align: top\">2</td>\n",
       "        <td style=\"padding-left: 1em; padding-right: 1em; text-align: center; vertical-align: top\">0</td>\n",
       "    </tr>\n",
       "    <tr>\n",
       "        <td style=\"padding-left: 1em; padding-right: 1em; text-align: center; vertical-align: top\">2524049179</td>\n",
       "        <td style=\"padding-left: 1em; padding-right: 1em; text-align: center; vertical-align: top\">2014-08-26 00:00:00+00:00</td>\n",
       "        <td style=\"padding-left: 1em; padding-right: 1em; text-align: center; vertical-align: top\">2000000</td>\n",
       "        <td style=\"padding-left: 1em; padding-right: 1em; text-align: center; vertical-align: top\">3</td>\n",
       "        <td style=\"padding-left: 1em; padding-right: 1em; text-align: center; vertical-align: top\">2.75</td>\n",
       "        <td style=\"padding-left: 1em; padding-right: 1em; text-align: center; vertical-align: top\">3050</td>\n",
       "        <td style=\"padding-left: 1em; padding-right: 1em; text-align: center; vertical-align: top\">44867</td>\n",
       "        <td style=\"padding-left: 1em; padding-right: 1em; text-align: center; vertical-align: top\">1</td>\n",
       "        <td style=\"padding-left: 1em; padding-right: 1em; text-align: center; vertical-align: top\">0</td>\n",
       "    </tr>\n",
       "    <tr>\n",
       "        <td style=\"padding-left: 1em; padding-right: 1em; text-align: center; vertical-align: top\">7137970340</td>\n",
       "        <td style=\"padding-left: 1em; padding-right: 1em; text-align: center; vertical-align: top\">2014-07-03 00:00:00+00:00</td>\n",
       "        <td style=\"padding-left: 1em; padding-right: 1em; text-align: center; vertical-align: top\">285000</td>\n",
       "        <td style=\"padding-left: 1em; padding-right: 1em; text-align: center; vertical-align: top\">5</td>\n",
       "        <td style=\"padding-left: 1em; padding-right: 1em; text-align: center; vertical-align: top\">2.5</td>\n",
       "        <td style=\"padding-left: 1em; padding-right: 1em; text-align: center; vertical-align: top\">2270</td>\n",
       "        <td style=\"padding-left: 1em; padding-right: 1em; text-align: center; vertical-align: top\">6300</td>\n",
       "        <td style=\"padding-left: 1em; padding-right: 1em; text-align: center; vertical-align: top\">2</td>\n",
       "        <td style=\"padding-left: 1em; padding-right: 1em; text-align: center; vertical-align: top\">0</td>\n",
       "    </tr>\n",
       "    <tr>\n",
       "        <td style=\"padding-left: 1em; padding-right: 1em; text-align: center; vertical-align: top\">3814700200</td>\n",
       "        <td style=\"padding-left: 1em; padding-right: 1em; text-align: center; vertical-align: top\">2014-11-20 00:00:00+00:00</td>\n",
       "        <td style=\"padding-left: 1em; padding-right: 1em; text-align: center; vertical-align: top\">329000</td>\n",
       "        <td style=\"padding-left: 1em; padding-right: 1em; text-align: center; vertical-align: top\">3</td>\n",
       "        <td style=\"padding-left: 1em; padding-right: 1em; text-align: center; vertical-align: top\">2.25</td>\n",
       "        <td style=\"padding-left: 1em; padding-right: 1em; text-align: center; vertical-align: top\">2450</td>\n",
       "        <td style=\"padding-left: 1em; padding-right: 1em; text-align: center; vertical-align: top\">6500</td>\n",
       "        <td style=\"padding-left: 1em; padding-right: 1em; text-align: center; vertical-align: top\">2</td>\n",
       "        <td style=\"padding-left: 1em; padding-right: 1em; text-align: center; vertical-align: top\">0</td>\n",
       "    </tr>\n",
       "    <tr>\n",
       "        <td style=\"padding-left: 1em; padding-right: 1em; text-align: center; vertical-align: top\">1794500383</td>\n",
       "        <td style=\"padding-left: 1em; padding-right: 1em; text-align: center; vertical-align: top\">2014-06-26 00:00:00+00:00</td>\n",
       "        <td style=\"padding-left: 1em; padding-right: 1em; text-align: center; vertical-align: top\">937000</td>\n",
       "        <td style=\"padding-left: 1em; padding-right: 1em; text-align: center; vertical-align: top\">3</td>\n",
       "        <td style=\"padding-left: 1em; padding-right: 1em; text-align: center; vertical-align: top\">1.75</td>\n",
       "        <td style=\"padding-left: 1em; padding-right: 1em; text-align: center; vertical-align: top\">2450</td>\n",
       "        <td style=\"padding-left: 1em; padding-right: 1em; text-align: center; vertical-align: top\">2691</td>\n",
       "        <td style=\"padding-left: 1em; padding-right: 1em; text-align: center; vertical-align: top\">2</td>\n",
       "        <td style=\"padding-left: 1em; padding-right: 1em; text-align: center; vertical-align: top\">0</td>\n",
       "    </tr>\n",
       "    <tr>\n",
       "        <td style=\"padding-left: 1em; padding-right: 1em; text-align: center; vertical-align: top\">1873100390</td>\n",
       "        <td style=\"padding-left: 1em; padding-right: 1em; text-align: center; vertical-align: top\">2015-03-02 00:00:00+00:00</td>\n",
       "        <td style=\"padding-left: 1em; padding-right: 1em; text-align: center; vertical-align: top\">719000</td>\n",
       "        <td style=\"padding-left: 1em; padding-right: 1em; text-align: center; vertical-align: top\">4</td>\n",
       "        <td style=\"padding-left: 1em; padding-right: 1em; text-align: center; vertical-align: top\">2.5</td>\n",
       "        <td style=\"padding-left: 1em; padding-right: 1em; text-align: center; vertical-align: top\">2570</td>\n",
       "        <td style=\"padding-left: 1em; padding-right: 1em; text-align: center; vertical-align: top\">7173</td>\n",
       "        <td style=\"padding-left: 1em; padding-right: 1em; text-align: center; vertical-align: top\">2</td>\n",
       "        <td style=\"padding-left: 1em; padding-right: 1em; text-align: center; vertical-align: top\">0</td>\n",
       "    </tr>\n",
       "    <tr>\n",
       "        <td style=\"padding-left: 1em; padding-right: 1em; text-align: center; vertical-align: top\">8562750320</td>\n",
       "        <td style=\"padding-left: 1em; padding-right: 1em; text-align: center; vertical-align: top\">2014-11-10 00:00:00+00:00</td>\n",
       "        <td style=\"padding-left: 1em; padding-right: 1em; text-align: center; vertical-align: top\">580500</td>\n",
       "        <td style=\"padding-left: 1em; padding-right: 1em; text-align: center; vertical-align: top\">3</td>\n",
       "        <td style=\"padding-left: 1em; padding-right: 1em; text-align: center; vertical-align: top\">2.5</td>\n",
       "        <td style=\"padding-left: 1em; padding-right: 1em; text-align: center; vertical-align: top\">2320</td>\n",
       "        <td style=\"padding-left: 1em; padding-right: 1em; text-align: center; vertical-align: top\">3980</td>\n",
       "        <td style=\"padding-left: 1em; padding-right: 1em; text-align: center; vertical-align: top\">2</td>\n",
       "        <td style=\"padding-left: 1em; padding-right: 1em; text-align: center; vertical-align: top\">0</td>\n",
       "    </tr>\n",
       "    <tr>\n",
       "        <td style=\"padding-left: 1em; padding-right: 1em; text-align: center; vertical-align: top\">0461000390</td>\n",
       "        <td style=\"padding-left: 1em; padding-right: 1em; text-align: center; vertical-align: top\">2014-06-24 00:00:00+00:00</td>\n",
       "        <td style=\"padding-left: 1em; padding-right: 1em; text-align: center; vertical-align: top\">687500</td>\n",
       "        <td style=\"padding-left: 1em; padding-right: 1em; text-align: center; vertical-align: top\">4</td>\n",
       "        <td style=\"padding-left: 1em; padding-right: 1em; text-align: center; vertical-align: top\">1.75</td>\n",
       "        <td style=\"padding-left: 1em; padding-right: 1em; text-align: center; vertical-align: top\">2330</td>\n",
       "        <td style=\"padding-left: 1em; padding-right: 1em; text-align: center; vertical-align: top\">5000</td>\n",
       "        <td style=\"padding-left: 1em; padding-right: 1em; text-align: center; vertical-align: top\">1.5</td>\n",
       "        <td style=\"padding-left: 1em; padding-right: 1em; text-align: center; vertical-align: top\">0</td>\n",
       "    </tr>\n",
       "</table>\n",
       "<table frame=\"box\" rules=\"cols\">\n",
       "    <tr>\n",
       "        <th style=\"padding-left: 1em; padding-right: 1em; text-align: center\">view</th>\n",
       "        <th style=\"padding-left: 1em; padding-right: 1em; text-align: center\">condition</th>\n",
       "        <th style=\"padding-left: 1em; padding-right: 1em; text-align: center\">grade</th>\n",
       "        <th style=\"padding-left: 1em; padding-right: 1em; text-align: center\">sqft_above</th>\n",
       "        <th style=\"padding-left: 1em; padding-right: 1em; text-align: center\">sqft_basement</th>\n",
       "        <th style=\"padding-left: 1em; padding-right: 1em; text-align: center\">yr_built</th>\n",
       "        <th style=\"padding-left: 1em; padding-right: 1em; text-align: center\">yr_renovated</th>\n",
       "        <th style=\"padding-left: 1em; padding-right: 1em; text-align: center\">zipcode</th>\n",
       "        <th style=\"padding-left: 1em; padding-right: 1em; text-align: center\">lat</th>\n",
       "    </tr>\n",
       "    <tr>\n",
       "        <td style=\"padding-left: 1em; padding-right: 1em; text-align: center; vertical-align: top\">0</td>\n",
       "        <td style=\"padding-left: 1em; padding-right: 1em; text-align: center; vertical-align: top\">3</td>\n",
       "        <td style=\"padding-left: 1em; padding-right: 1em; text-align: center; vertical-align: top\">7</td>\n",
       "        <td style=\"padding-left: 1em; padding-right: 1em; text-align: center; vertical-align: top\">2170</td>\n",
       "        <td style=\"padding-left: 1em; padding-right: 1em; text-align: center; vertical-align: top\">400</td>\n",
       "        <td style=\"padding-left: 1em; padding-right: 1em; text-align: center; vertical-align: top\">1951</td>\n",
       "        <td style=\"padding-left: 1em; padding-right: 1em; text-align: center; vertical-align: top\">1991</td>\n",
       "        <td style=\"padding-left: 1em; padding-right: 1em; text-align: center; vertical-align: top\">98125</td>\n",
       "        <td style=\"padding-left: 1em; padding-right: 1em; text-align: center; vertical-align: top\">47.72102274</td>\n",
       "    </tr>\n",
       "    <tr>\n",
       "        <td style=\"padding-left: 1em; padding-right: 1em; text-align: center; vertical-align: top\">0</td>\n",
       "        <td style=\"padding-left: 1em; padding-right: 1em; text-align: center; vertical-align: top\">3</td>\n",
       "        <td style=\"padding-left: 1em; padding-right: 1em; text-align: center; vertical-align: top\">8</td>\n",
       "        <td style=\"padding-left: 1em; padding-right: 1em; text-align: center; vertical-align: top\">1860</td>\n",
       "        <td style=\"padding-left: 1em; padding-right: 1em; text-align: center; vertical-align: top\">1700</td>\n",
       "        <td style=\"padding-left: 1em; padding-right: 1em; text-align: center; vertical-align: top\">1965</td>\n",
       "        <td style=\"padding-left: 1em; padding-right: 1em; text-align: center; vertical-align: top\">0</td>\n",
       "        <td style=\"padding-left: 1em; padding-right: 1em; text-align: center; vertical-align: top\">98007</td>\n",
       "        <td style=\"padding-left: 1em; padding-right: 1em; text-align: center; vertical-align: top\">47.60065993</td>\n",
       "    </tr>\n",
       "    <tr>\n",
       "        <td style=\"padding-left: 1em; padding-right: 1em; text-align: center; vertical-align: top\">3</td>\n",
       "        <td style=\"padding-left: 1em; padding-right: 1em; text-align: center; vertical-align: top\">3</td>\n",
       "        <td style=\"padding-left: 1em; padding-right: 1em; text-align: center; vertical-align: top\">9</td>\n",
       "        <td style=\"padding-left: 1em; padding-right: 1em; text-align: center; vertical-align: top\">1980</td>\n",
       "        <td style=\"padding-left: 1em; padding-right: 1em; text-align: center; vertical-align: top\">970</td>\n",
       "        <td style=\"padding-left: 1em; padding-right: 1em; text-align: center; vertical-align: top\">1979</td>\n",
       "        <td style=\"padding-left: 1em; padding-right: 1em; text-align: center; vertical-align: top\">0</td>\n",
       "        <td style=\"padding-left: 1em; padding-right: 1em; text-align: center; vertical-align: top\">98126</td>\n",
       "        <td style=\"padding-left: 1em; padding-right: 1em; text-align: center; vertical-align: top\">47.57136955</td>\n",
       "    </tr>\n",
       "    <tr>\n",
       "        <td style=\"padding-left: 1em; padding-right: 1em; text-align: center; vertical-align: top\">4</td>\n",
       "        <td style=\"padding-left: 1em; padding-right: 1em; text-align: center; vertical-align: top\">3</td>\n",
       "        <td style=\"padding-left: 1em; padding-right: 1em; text-align: center; vertical-align: top\">9</td>\n",
       "        <td style=\"padding-left: 1em; padding-right: 1em; text-align: center; vertical-align: top\">2330</td>\n",
       "        <td style=\"padding-left: 1em; padding-right: 1em; text-align: center; vertical-align: top\">720</td>\n",
       "        <td style=\"padding-left: 1em; padding-right: 1em; text-align: center; vertical-align: top\">1968</td>\n",
       "        <td style=\"padding-left: 1em; padding-right: 1em; text-align: center; vertical-align: top\">0</td>\n",
       "        <td style=\"padding-left: 1em; padding-right: 1em; text-align: center; vertical-align: top\">98040</td>\n",
       "        <td style=\"padding-left: 1em; padding-right: 1em; text-align: center; vertical-align: top\">47.53164379</td>\n",
       "    </tr>\n",
       "    <tr>\n",
       "        <td style=\"padding-left: 1em; padding-right: 1em; text-align: center; vertical-align: top\">0</td>\n",
       "        <td style=\"padding-left: 1em; padding-right: 1em; text-align: center; vertical-align: top\">3</td>\n",
       "        <td style=\"padding-left: 1em; padding-right: 1em; text-align: center; vertical-align: top\">8</td>\n",
       "        <td style=\"padding-left: 1em; padding-right: 1em; text-align: center; vertical-align: top\">2270</td>\n",
       "        <td style=\"padding-left: 1em; padding-right: 1em; text-align: center; vertical-align: top\">0</td>\n",
       "        <td style=\"padding-left: 1em; padding-right: 1em; text-align: center; vertical-align: top\">1995</td>\n",
       "        <td style=\"padding-left: 1em; padding-right: 1em; text-align: center; vertical-align: top\">0</td>\n",
       "        <td style=\"padding-left: 1em; padding-right: 1em; text-align: center; vertical-align: top\">98092</td>\n",
       "        <td style=\"padding-left: 1em; padding-right: 1em; text-align: center; vertical-align: top\">47.32658071</td>\n",
       "    </tr>\n",
       "    <tr>\n",
       "        <td style=\"padding-left: 1em; padding-right: 1em; text-align: center; vertical-align: top\">0</td>\n",
       "        <td style=\"padding-left: 1em; padding-right: 1em; text-align: center; vertical-align: top\">4</td>\n",
       "        <td style=\"padding-left: 1em; padding-right: 1em; text-align: center; vertical-align: top\">8</td>\n",
       "        <td style=\"padding-left: 1em; padding-right: 1em; text-align: center; vertical-align: top\">2450</td>\n",
       "        <td style=\"padding-left: 1em; padding-right: 1em; text-align: center; vertical-align: top\">0</td>\n",
       "        <td style=\"padding-left: 1em; padding-right: 1em; text-align: center; vertical-align: top\">1985</td>\n",
       "        <td style=\"padding-left: 1em; padding-right: 1em; text-align: center; vertical-align: top\">0</td>\n",
       "        <td style=\"padding-left: 1em; padding-right: 1em; text-align: center; vertical-align: top\">98030</td>\n",
       "        <td style=\"padding-left: 1em; padding-right: 1em; text-align: center; vertical-align: top\">47.37386303</td>\n",
       "    </tr>\n",
       "    <tr>\n",
       "        <td style=\"padding-left: 1em; padding-right: 1em; text-align: center; vertical-align: top\">0</td>\n",
       "        <td style=\"padding-left: 1em; padding-right: 1em; text-align: center; vertical-align: top\">3</td>\n",
       "        <td style=\"padding-left: 1em; padding-right: 1em; text-align: center; vertical-align: top\">8</td>\n",
       "        <td style=\"padding-left: 1em; padding-right: 1em; text-align: center; vertical-align: top\">1750</td>\n",
       "        <td style=\"padding-left: 1em; padding-right: 1em; text-align: center; vertical-align: top\">700</td>\n",
       "        <td style=\"padding-left: 1em; padding-right: 1em; text-align: center; vertical-align: top\">1915</td>\n",
       "        <td style=\"padding-left: 1em; padding-right: 1em; text-align: center; vertical-align: top\">0</td>\n",
       "        <td style=\"padding-left: 1em; padding-right: 1em; text-align: center; vertical-align: top\">98119</td>\n",
       "        <td style=\"padding-left: 1em; padding-right: 1em; text-align: center; vertical-align: top\">47.63855772</td>\n",
       "    </tr>\n",
       "    <tr>\n",
       "        <td style=\"padding-left: 1em; padding-right: 1em; text-align: center; vertical-align: top\">0</td>\n",
       "        <td style=\"padding-left: 1em; padding-right: 1em; text-align: center; vertical-align: top\">3</td>\n",
       "        <td style=\"padding-left: 1em; padding-right: 1em; text-align: center; vertical-align: top\">8</td>\n",
       "        <td style=\"padding-left: 1em; padding-right: 1em; text-align: center; vertical-align: top\">2570</td>\n",
       "        <td style=\"padding-left: 1em; padding-right: 1em; text-align: center; vertical-align: top\">0</td>\n",
       "        <td style=\"padding-left: 1em; padding-right: 1em; text-align: center; vertical-align: top\">2005</td>\n",
       "        <td style=\"padding-left: 1em; padding-right: 1em; text-align: center; vertical-align: top\">0</td>\n",
       "        <td style=\"padding-left: 1em; padding-right: 1em; text-align: center; vertical-align: top\">98052</td>\n",
       "        <td style=\"padding-left: 1em; padding-right: 1em; text-align: center; vertical-align: top\">47.70732168</td>\n",
       "    </tr>\n",
       "    <tr>\n",
       "        <td style=\"padding-left: 1em; padding-right: 1em; text-align: center; vertical-align: top\">0</td>\n",
       "        <td style=\"padding-left: 1em; padding-right: 1em; text-align: center; vertical-align: top\">3</td>\n",
       "        <td style=\"padding-left: 1em; padding-right: 1em; text-align: center; vertical-align: top\">8</td>\n",
       "        <td style=\"padding-left: 1em; padding-right: 1em; text-align: center; vertical-align: top\">2320</td>\n",
       "        <td style=\"padding-left: 1em; padding-right: 1em; text-align: center; vertical-align: top\">0</td>\n",
       "        <td style=\"padding-left: 1em; padding-right: 1em; text-align: center; vertical-align: top\">2003</td>\n",
       "        <td style=\"padding-left: 1em; padding-right: 1em; text-align: center; vertical-align: top\">0</td>\n",
       "        <td style=\"padding-left: 1em; padding-right: 1em; text-align: center; vertical-align: top\">98027</td>\n",
       "        <td style=\"padding-left: 1em; padding-right: 1em; text-align: center; vertical-align: top\">47.5391103</td>\n",
       "    </tr>\n",
       "    <tr>\n",
       "        <td style=\"padding-left: 1em; padding-right: 1em; text-align: center; vertical-align: top\">0</td>\n",
       "        <td style=\"padding-left: 1em; padding-right: 1em; text-align: center; vertical-align: top\">4</td>\n",
       "        <td style=\"padding-left: 1em; padding-right: 1em; text-align: center; vertical-align: top\">7</td>\n",
       "        <td style=\"padding-left: 1em; padding-right: 1em; text-align: center; vertical-align: top\">1510</td>\n",
       "        <td style=\"padding-left: 1em; padding-right: 1em; text-align: center; vertical-align: top\">820</td>\n",
       "        <td style=\"padding-left: 1em; padding-right: 1em; text-align: center; vertical-align: top\">1929</td>\n",
       "        <td style=\"padding-left: 1em; padding-right: 1em; text-align: center; vertical-align: top\">0</td>\n",
       "        <td style=\"padding-left: 1em; padding-right: 1em; text-align: center; vertical-align: top\">98117</td>\n",
       "        <td style=\"padding-left: 1em; padding-right: 1em; text-align: center; vertical-align: top\">47.68228235</td>\n",
       "    </tr>\n",
       "</table>\n",
       "<table frame=\"box\" rules=\"cols\">\n",
       "    <tr>\n",
       "        <th style=\"padding-left: 1em; padding-right: 1em; text-align: center\">long</th>\n",
       "        <th style=\"padding-left: 1em; padding-right: 1em; text-align: center\">sqft_living15</th>\n",
       "        <th style=\"padding-left: 1em; padding-right: 1em; text-align: center\">sqft_lot15</th>\n",
       "    </tr>\n",
       "    <tr>\n",
       "        <td style=\"padding-left: 1em; padding-right: 1em; text-align: center; vertical-align: top\">-122.3188624</td>\n",
       "        <td style=\"padding-left: 1em; padding-right: 1em; text-align: center; vertical-align: top\">1690.0</td>\n",
       "        <td style=\"padding-left: 1em; padding-right: 1em; text-align: center; vertical-align: top\">7639.0</td>\n",
       "    </tr>\n",
       "    <tr>\n",
       "        <td style=\"padding-left: 1em; padding-right: 1em; text-align: center; vertical-align: top\">-122.14529566</td>\n",
       "        <td style=\"padding-left: 1em; padding-right: 1em; text-align: center; vertical-align: top\">2210.0</td>\n",
       "        <td style=\"padding-left: 1em; padding-right: 1em; text-align: center; vertical-align: top\">8925.0</td>\n",
       "    </tr>\n",
       "    <tr>\n",
       "        <td style=\"padding-left: 1em; padding-right: 1em; text-align: center; vertical-align: top\">-122.37541218</td>\n",
       "        <td style=\"padding-left: 1em; padding-right: 1em; text-align: center; vertical-align: top\">2140.0</td>\n",
       "        <td style=\"padding-left: 1em; padding-right: 1em; text-align: center; vertical-align: top\">4000.0</td>\n",
       "    </tr>\n",
       "    <tr>\n",
       "        <td style=\"padding-left: 1em; padding-right: 1em; text-align: center; vertical-align: top\">-122.23345881</td>\n",
       "        <td style=\"padding-left: 1em; padding-right: 1em; text-align: center; vertical-align: top\">4110.0</td>\n",
       "        <td style=\"padding-left: 1em; padding-right: 1em; text-align: center; vertical-align: top\">20336.0</td>\n",
       "    </tr>\n",
       "    <tr>\n",
       "        <td style=\"padding-left: 1em; padding-right: 1em; text-align: center; vertical-align: top\">-122.16892624</td>\n",
       "        <td style=\"padding-left: 1em; padding-right: 1em; text-align: center; vertical-align: top\">2240.0</td>\n",
       "        <td style=\"padding-left: 1em; padding-right: 1em; text-align: center; vertical-align: top\">7005.0</td>\n",
       "    </tr>\n",
       "    <tr>\n",
       "        <td style=\"padding-left: 1em; padding-right: 1em; text-align: center; vertical-align: top\">-122.17228981</td>\n",
       "        <td style=\"padding-left: 1em; padding-right: 1em; text-align: center; vertical-align: top\">2200.0</td>\n",
       "        <td style=\"padding-left: 1em; padding-right: 1em; text-align: center; vertical-align: top\">6865.0</td>\n",
       "    </tr>\n",
       "    <tr>\n",
       "        <td style=\"padding-left: 1em; padding-right: 1em; text-align: center; vertical-align: top\">-122.35985573</td>\n",
       "        <td style=\"padding-left: 1em; padding-right: 1em; text-align: center; vertical-align: top\">1760.0</td>\n",
       "        <td style=\"padding-left: 1em; padding-right: 1em; text-align: center; vertical-align: top\">3573.0</td>\n",
       "    </tr>\n",
       "    <tr>\n",
       "        <td style=\"padding-left: 1em; padding-right: 1em; text-align: center; vertical-align: top\">-122.11029785</td>\n",
       "        <td style=\"padding-left: 1em; padding-right: 1em; text-align: center; vertical-align: top\">2630.0</td>\n",
       "        <td style=\"padding-left: 1em; padding-right: 1em; text-align: center; vertical-align: top\">6026.0</td>\n",
       "    </tr>\n",
       "    <tr>\n",
       "        <td style=\"padding-left: 1em; padding-right: 1em; text-align: center; vertical-align: top\">-122.06971484</td>\n",
       "        <td style=\"padding-left: 1em; padding-right: 1em; text-align: center; vertical-align: top\">2580.0</td>\n",
       "        <td style=\"padding-left: 1em; padding-right: 1em; text-align: center; vertical-align: top\">3980.0</td>\n",
       "    </tr>\n",
       "    <tr>\n",
       "        <td style=\"padding-left: 1em; padding-right: 1em; text-align: center; vertical-align: top\">-122.36760203</td>\n",
       "        <td style=\"padding-left: 1em; padding-right: 1em; text-align: center; vertical-align: top\">1460.0</td>\n",
       "        <td style=\"padding-left: 1em; padding-right: 1em; text-align: center; vertical-align: top\">5000.0</td>\n",
       "    </tr>\n",
       "</table>\n",
       "[9214 rows x 21 columns]<br/>Note: Only the head of the SFrame is printed.<br/>You can use print_rows(num_rows=m, num_columns=n) to print more rows and columns.\n",
       "</div>"
      ],
      "text/plain": [
       "Columns:\n",
       "\tid\tstr\n",
       "\tdate\tdatetime\n",
       "\tprice\tint\n",
       "\tbedrooms\tstr\n",
       "\tbathrooms\tstr\n",
       "\tsqft_living\tint\n",
       "\tsqft_lot\tint\n",
       "\tfloors\tstr\n",
       "\twaterfront\tint\n",
       "\tview\tint\n",
       "\tcondition\tint\n",
       "\tgrade\tint\n",
       "\tsqft_above\tint\n",
       "\tsqft_basement\tint\n",
       "\tyr_built\tint\n",
       "\tyr_renovated\tint\n",
       "\tzipcode\tstr\n",
       "\tlat\tfloat\n",
       "\tlong\tfloat\n",
       "\tsqft_living15\tfloat\n",
       "\tsqft_lot15\tfloat\n",
       "\n",
       "Rows: 9214\n",
       "\n",
       "Data:\n",
       "+------------+---------------------------+---------+----------+-----------+-------------+\n",
       "|     id     |            date           |  price  | bedrooms | bathrooms | sqft_living |\n",
       "+------------+---------------------------+---------+----------+-----------+-------------+\n",
       "| 6414100192 | 2014-12-09 00:00:00+00:00 |  538000 |    3     |    2.25   |     2570    |\n",
       "| 1736800520 | 2015-04-03 00:00:00+00:00 |  662500 |    3     |    2.5    |     3560    |\n",
       "| 9297300055 | 2015-01-24 00:00:00+00:00 |  650000 |    4     |     3     |     2950    |\n",
       "| 2524049179 | 2014-08-26 00:00:00+00:00 | 2000000 |    3     |    2.75   |     3050    |\n",
       "| 7137970340 | 2014-07-03 00:00:00+00:00 |  285000 |    5     |    2.5    |     2270    |\n",
       "| 3814700200 | 2014-11-20 00:00:00+00:00 |  329000 |    3     |    2.25   |     2450    |\n",
       "| 1794500383 | 2014-06-26 00:00:00+00:00 |  937000 |    3     |    1.75   |     2450    |\n",
       "| 1873100390 | 2015-03-02 00:00:00+00:00 |  719000 |    4     |    2.5    |     2570    |\n",
       "| 8562750320 | 2014-11-10 00:00:00+00:00 |  580500 |    3     |    2.5    |     2320    |\n",
       "| 0461000390 | 2014-06-24 00:00:00+00:00 |  687500 |    4     |    1.75   |     2330    |\n",
       "+------------+---------------------------+---------+----------+-----------+-------------+\n",
       "+----------+--------+------------+------+-----------+-------+------------+---------------+\n",
       "| sqft_lot | floors | waterfront | view | condition | grade | sqft_above | sqft_basement |\n",
       "+----------+--------+------------+------+-----------+-------+------------+---------------+\n",
       "|   7242   |   2    |     0      |  0   |     3     |   7   |    2170    |      400      |\n",
       "|   9796   |   1    |     0      |  0   |     3     |   8   |    1860    |      1700     |\n",
       "|   5000   |   2    |     0      |  3   |     3     |   9   |    1980    |      970      |\n",
       "|  44867   |   1    |     0      |  4   |     3     |   9   |    2330    |      720      |\n",
       "|   6300   |   2    |     0      |  0   |     3     |   8   |    2270    |       0       |\n",
       "|   6500   |   2    |     0      |  0   |     4     |   8   |    2450    |       0       |\n",
       "|   2691   |   2    |     0      |  0   |     3     |   8   |    1750    |      700      |\n",
       "|   7173   |   2    |     0      |  0   |     3     |   8   |    2570    |       0       |\n",
       "|   3980   |   2    |     0      |  0   |     3     |   8   |    2320    |       0       |\n",
       "|   5000   |  1.5   |     0      |  0   |     4     |   7   |    1510    |      820      |\n",
       "+----------+--------+------------+------+-----------+-------+------------+---------------+\n",
       "+----------+--------------+---------+-------------+---------------+---------------+-----+\n",
       "| yr_built | yr_renovated | zipcode |     lat     |      long     | sqft_living15 | ... |\n",
       "+----------+--------------+---------+-------------+---------------+---------------+-----+\n",
       "|   1951   |     1991     |  98125  | 47.72102274 |  -122.3188624 |     1690.0    | ... |\n",
       "|   1965   |      0       |  98007  | 47.60065993 | -122.14529566 |     2210.0    | ... |\n",
       "|   1979   |      0       |  98126  | 47.57136955 | -122.37541218 |     2140.0    | ... |\n",
       "|   1968   |      0       |  98040  | 47.53164379 | -122.23345881 |     4110.0    | ... |\n",
       "|   1995   |      0       |  98092  | 47.32658071 | -122.16892624 |     2240.0    | ... |\n",
       "|   1985   |      0       |  98030  | 47.37386303 | -122.17228981 |     2200.0    | ... |\n",
       "|   1915   |      0       |  98119  | 47.63855772 | -122.35985573 |     1760.0    | ... |\n",
       "|   2005   |      0       |  98052  | 47.70732168 | -122.11029785 |     2630.0    | ... |\n",
       "|   2003   |      0       |  98027  |  47.5391103 | -122.06971484 |     2580.0    | ... |\n",
       "|   1929   |      0       |  98117  | 47.68228235 | -122.36760203 |     1460.0    | ... |\n",
       "+----------+--------------+---------+-------------+---------------+---------------+-----+\n",
       "[9214 rows x 21 columns]\n",
       "Note: Only the head of the SFrame is printed.\n",
       "You can use print_rows(num_rows=m, num_columns=n) to print more rows and columns."
      ]
     },
     "execution_count": 41,
     "metadata": {},
     "output_type": "execute_result"
    }
   ],
   "source": [
    "sales.filter_by(range(2000,4000),'sqft_living')"
   ]
  },
  {
   "cell_type": "code",
   "execution_count": 42,
   "metadata": {
    "collapsed": false
   },
   "outputs": [
    {
     "data": {
      "text/plain": [
       "9214"
      ]
     },
     "execution_count": 42,
     "metadata": {},
     "output_type": "execute_result"
    }
   ],
   "source": [
    "sales.filter_by(range(2000,4000),'sqft_living').num_rows()"
   ]
  },
  {
   "cell_type": "markdown",
   "metadata": {},
   "source": [
    "# build a model with more a dvancaded features"
   ]
  },
  {
   "cell_type": "code",
   "execution_count": 43,
   "metadata": {
    "collapsed": false
   },
   "outputs": [],
   "source": [
    "advanced_features = [\n",
    "'bedrooms', 'bathrooms', 'sqft_living', 'sqft_lot', 'floors', 'zipcode',\n",
    "'condition', # condition of house\t\t\t\t\n",
    "'grade', # measure of quality of construction\t\t\t\t\n",
    "'waterfront', # waterfront property\t\t\t\t\n",
    "'view', # type of view\t\t\t\t\n",
    "'sqft_above', # square feet above ground\t\t\t\t\n",
    "'sqft_basement', # square feet in basement\t\t\t\t\n",
    "'yr_built', # the year built\t\t\t\t\n",
    "'yr_renovated', # the year renovated\t\t\t\t\n",
    "'lat', 'long', # the lat-long of the parcel\t\t\t\t\n",
    "'sqft_living15', # average sq.ft. of 15 nearest neighbors \t\t\t\t\n",
    "'sqft_lot15', # average lot size of 15 nearest neighbors \n",
    "]"
   ]
  },
  {
   "cell_type": "code",
   "execution_count": 63,
   "metadata": {
    "collapsed": false
   },
   "outputs": [
    {
     "data": {
      "text/html": [
       "<pre>Linear regression:</pre>"
      ],
      "text/plain": [
       "Linear regression:"
      ]
     },
     "metadata": {},
     "output_type": "display_data"
    },
    {
     "data": {
      "text/html": [
       "<pre>--------------------------------------------------------</pre>"
      ],
      "text/plain": [
       "--------------------------------------------------------"
      ]
     },
     "metadata": {},
     "output_type": "display_data"
    },
    {
     "data": {
      "text/html": [
       "<pre>Number of examples          : 17384</pre>"
      ],
      "text/plain": [
       "Number of examples          : 17384"
      ]
     },
     "metadata": {},
     "output_type": "display_data"
    },
    {
     "data": {
      "text/html": [
       "<pre>Number of features          : 18</pre>"
      ],
      "text/plain": [
       "Number of features          : 18"
      ]
     },
     "metadata": {},
     "output_type": "display_data"
    },
    {
     "data": {
      "text/html": [
       "<pre>Number of unpacked features : 18</pre>"
      ],
      "text/plain": [
       "Number of unpacked features : 18"
      ]
     },
     "metadata": {},
     "output_type": "display_data"
    },
    {
     "data": {
      "text/html": [
       "<pre>Number of coefficients    : 127</pre>"
      ],
      "text/plain": [
       "Number of coefficients    : 127"
      ]
     },
     "metadata": {},
     "output_type": "display_data"
    },
    {
     "data": {
      "text/html": [
       "<pre>Starting Newton Method</pre>"
      ],
      "text/plain": [
       "Starting Newton Method"
      ]
     },
     "metadata": {},
     "output_type": "display_data"
    },
    {
     "data": {
      "text/html": [
       "<pre>--------------------------------------------------------</pre>"
      ],
      "text/plain": [
       "--------------------------------------------------------"
      ]
     },
     "metadata": {},
     "output_type": "display_data"
    },
    {
     "data": {
      "text/html": [
       "<pre>+-----------+----------+--------------+--------------------+---------------+</pre>"
      ],
      "text/plain": [
       "+-----------+----------+--------------+--------------------+---------------+"
      ]
     },
     "metadata": {},
     "output_type": "display_data"
    },
    {
     "data": {
      "text/html": [
       "<pre>| Iteration | Passes   | Elapsed Time | Training-max_error | Training-rmse |</pre>"
      ],
      "text/plain": [
       "| Iteration | Passes   | Elapsed Time | Training-max_error | Training-rmse |"
      ]
     },
     "metadata": {},
     "output_type": "display_data"
    },
    {
     "data": {
      "text/html": [
       "<pre>+-----------+----------+--------------+--------------------+---------------+</pre>"
      ],
      "text/plain": [
       "+-----------+----------+--------------+--------------------+---------------+"
      ]
     },
     "metadata": {},
     "output_type": "display_data"
    },
    {
     "data": {
      "text/html": [
       "<pre>| 1         | 2        | 0.107941     | 3469012.450663     | 154580.940735 |</pre>"
      ],
      "text/plain": [
       "| 1         | 2        | 0.107941     | 3469012.450663     | 154580.940735 |"
      ]
     },
     "metadata": {},
     "output_type": "display_data"
    },
    {
     "data": {
      "text/html": [
       "<pre>+-----------+----------+--------------+--------------------+---------------+</pre>"
      ],
      "text/plain": [
       "+-----------+----------+--------------+--------------------+---------------+"
      ]
     },
     "metadata": {},
     "output_type": "display_data"
    },
    {
     "data": {
      "text/html": [
       "<pre>SUCCESS: Optimal solution found.</pre>"
      ],
      "text/plain": [
       "SUCCESS: Optimal solution found."
      ]
     },
     "metadata": {},
     "output_type": "display_data"
    },
    {
     "data": {
      "text/html": [
       "<pre></pre>"
      ],
      "text/plain": []
     },
     "metadata": {},
     "output_type": "display_data"
    }
   ],
   "source": [
    "model = graphlab.linear_regression.create(train_data, target='price',features = advanced_features,validation_set = None)"
   ]
  },
  {
   "cell_type": "code",
   "execution_count": 64,
   "metadata": {
    "collapsed": false
   },
   "outputs": [
    {
     "data": {
      "text/plain": [
       "{'max_error': 3556849.413848093, 'rmse': 156831.11680191013}"
      ]
     },
     "execution_count": 64,
     "metadata": {},
     "output_type": "execute_result"
    }
   ],
   "source": [
    "model.evaluate(test_data)"
   ]
  },
  {
   "cell_type": "code",
   "execution_count": null,
   "metadata": {
    "collapsed": true
   },
   "outputs": [],
   "source": []
  }
 ],
 "metadata": {
  "kernelspec": {
   "display_name": "Python 2",
   "language": "python",
   "name": "python2"
  },
  "language_info": {
   "codemirror_mode": {
    "name": "ipython",
    "version": 2
   },
   "file_extension": ".py",
   "mimetype": "text/x-python",
   "name": "python",
   "nbconvert_exporter": "python",
   "pygments_lexer": "ipython2",
   "version": "2.7.13"
  }
 },
 "nbformat": 4,
 "nbformat_minor": 0
}
