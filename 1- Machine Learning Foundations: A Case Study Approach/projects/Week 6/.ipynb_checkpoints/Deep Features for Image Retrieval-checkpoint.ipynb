{
 "cells": [
  {
   "cell_type": "markdown",
   "metadata": {},
   "source": [
    "# Building an image retrieval system with deep features\n",
    "\n",
    "\n",
    "# Fire up GraphLab Create\n",
    "(See [Getting Started with SFrames](../Week%201/Getting%20Started%20with%20SFrames.ipynb) for setup instructions)"
   ]
  },
  {
   "cell_type": "code",
   "execution_count": 1,
   "metadata": {
    "collapsed": false
   },
   "outputs": [
    {
     "name": "stderr",
     "output_type": "stream",
     "text": [
      "Vendor:  Continuum Analytics, Inc.\n",
      "Package: mkl\n",
      "Message: trial mode expires in 30 days\n",
      "/opt/conda/lib/python2.7/site-packages/pandas/computation/__init__.py:19: UserWarning: The installed version of numexpr 2.4.4 is not supported in pandas and will be not be used\n",
      "\n",
      "  UserWarning)\n"
     ]
    }
   ],
   "source": [
    "import graphlab"
   ]
  },
  {
   "cell_type": "code",
   "execution_count": 2,
   "metadata": {
    "collapsed": false
   },
   "outputs": [
    {
     "name": "stderr",
     "output_type": "stream",
     "text": [
      "/opt/conda/lib/python2.7/site-packages/requests/packages/urllib3/connection.py:266: SubjectAltNameWarning: Certificate for beta.graphlab.com has no `subjectAltName`, falling back to check for a `commonName` for now. This feature is being removed by major browsers and deprecated by RFC 2818. (See https://github.com/shazow/urllib3/issues/497 for details.)\n",
      "  SubjectAltNameWarning\n",
      "[INFO] graphlab.cython.cy_server: GraphLab Create v2.1 started. Logging: /tmp/graphlab_server_1519132432.log\n"
     ]
    },
    {
     "name": "stdout",
     "output_type": "stream",
     "text": [
      "This non-commercial license of GraphLab Create for academic use is assigned to mmaghraby134@gmail.com and will expire on November 15, 2018.\n"
     ]
    }
   ],
   "source": [
    "# Limit number of worker processes. This preserves system memory, which prevents hosted notebooks from crashing.\n",
    "graphlab.set_runtime_config('GRAPHLAB_DEFAULT_NUM_PYLAMBDA_WORKERS', 4)"
   ]
  },
  {
   "cell_type": "markdown",
   "metadata": {},
   "source": [
    "# Load the CIFAR-10 dataset\n",
    "\n",
    "We will use a popular benchmark dataset in computer vision called CIFAR-10.  \n",
    "\n",
    "(We've reduced the data to just 4 categories = {'cat','bird','automobile','dog'}.)\n",
    "\n",
    "This dataset is already split into a training set and test set. In this simple retrieval example, there is no notion of \"testing\", so we will only use the training data."
   ]
  },
  {
   "cell_type": "code",
   "execution_count": 3,
   "metadata": {
    "collapsed": false
   },
   "outputs": [],
   "source": [
    "image_train = graphlab.SFrame('image_train_data/')"
   ]
  },
  {
   "cell_type": "markdown",
   "metadata": {},
   "source": [
    "# Computing deep features for our images\n",
    "\n",
    "The two lines below allow us to compute deep features.  This computation takes a little while, so we have already computed them and saved the results as a column in the data you loaded. \n",
    "\n",
    "(Note that if you would like to compute such deep features and have a GPU on your machine, you should use the GPU enabled GraphLab Create, which will be significantly faster for this task.)"
   ]
  },
  {
   "cell_type": "code",
   "execution_count": 4,
   "metadata": {
    "collapsed": true
   },
   "outputs": [],
   "source": [
    "# deep_learning_model = graphlab.load_model('http://s3.amazonaws.com/GraphLab-Datasets/deeplearning/imagenet_model_iter45')\n",
    "# image_train['deep_features'] = deep_learning_model.extract_features(image_train)"
   ]
  },
  {
   "cell_type": "code",
   "execution_count": 5,
   "metadata": {
    "collapsed": false
   },
   "outputs": [
    {
     "data": {
      "text/html": [
       "<div style=\"max-height:1000px;max-width:1500px;overflow:auto;\"><table frame=\"box\" rules=\"cols\">\n",
       "    <tr>\n",
       "        <th style=\"padding-left: 1em; padding-right: 1em; text-align: center\">id</th>\n",
       "        <th style=\"padding-left: 1em; padding-right: 1em; text-align: center\">image</th>\n",
       "        <th style=\"padding-left: 1em; padding-right: 1em; text-align: center\">label</th>\n",
       "        <th style=\"padding-left: 1em; padding-right: 1em; text-align: center\">deep_features</th>\n",
       "        <th style=\"padding-left: 1em; padding-right: 1em; text-align: center\">image_array</th>\n",
       "    </tr>\n",
       "    <tr>\n",
       "        <td style=\"padding-left: 1em; padding-right: 1em; text-align: center; vertical-align: top\">24</td>\n",
       "        <td style=\"padding-left: 1em; padding-right: 1em; text-align: center; vertical-align: top\">Height: 32 Width: 32</td>\n",
       "        <td style=\"padding-left: 1em; padding-right: 1em; text-align: center; vertical-align: top\">bird</td>\n",
       "        <td style=\"padding-left: 1em; padding-right: 1em; text-align: center; vertical-align: top\">[0.242871761322,<br>1.09545373917, 0.0, ...</td>\n",
       "        <td style=\"padding-left: 1em; padding-right: 1em; text-align: center; vertical-align: top\">[73.0, 77.0, 58.0, 71.0,<br>68.0, 50.0, 77.0, 69.0, ...</td>\n",
       "    </tr>\n",
       "    <tr>\n",
       "        <td style=\"padding-left: 1em; padding-right: 1em; text-align: center; vertical-align: top\">33</td>\n",
       "        <td style=\"padding-left: 1em; padding-right: 1em; text-align: center; vertical-align: top\">Height: 32 Width: 32</td>\n",
       "        <td style=\"padding-left: 1em; padding-right: 1em; text-align: center; vertical-align: top\">cat</td>\n",
       "        <td style=\"padding-left: 1em; padding-right: 1em; text-align: center; vertical-align: top\">[0.525087952614, 0.0,<br>0.0, 0.0, 0.0, 0.0, ...</td>\n",
       "        <td style=\"padding-left: 1em; padding-right: 1em; text-align: center; vertical-align: top\">[7.0, 5.0, 8.0, 7.0, 5.0,<br>8.0, 5.0, 4.0, 6.0, 7.0, ...</td>\n",
       "    </tr>\n",
       "    <tr>\n",
       "        <td style=\"padding-left: 1em; padding-right: 1em; text-align: center; vertical-align: top\">36</td>\n",
       "        <td style=\"padding-left: 1em; padding-right: 1em; text-align: center; vertical-align: top\">Height: 32 Width: 32</td>\n",
       "        <td style=\"padding-left: 1em; padding-right: 1em; text-align: center; vertical-align: top\">cat</td>\n",
       "        <td style=\"padding-left: 1em; padding-right: 1em; text-align: center; vertical-align: top\">[0.566015958786, 0.0,<br>0.0, 0.0, 0.0, 0.0, ...</td>\n",
       "        <td style=\"padding-left: 1em; padding-right: 1em; text-align: center; vertical-align: top\">[169.0, 122.0, 65.0,<br>131.0, 108.0, 75.0, ...</td>\n",
       "    </tr>\n",
       "    <tr>\n",
       "        <td style=\"padding-left: 1em; padding-right: 1em; text-align: center; vertical-align: top\">70</td>\n",
       "        <td style=\"padding-left: 1em; padding-right: 1em; text-align: center; vertical-align: top\">Height: 32 Width: 32</td>\n",
       "        <td style=\"padding-left: 1em; padding-right: 1em; text-align: center; vertical-align: top\">dog</td>\n",
       "        <td style=\"padding-left: 1em; padding-right: 1em; text-align: center; vertical-align: top\">[1.12979578972, 0.0, 0.0,<br>0.778194487095, 0.0, ...</td>\n",
       "        <td style=\"padding-left: 1em; padding-right: 1em; text-align: center; vertical-align: top\">[154.0, 179.0, 152.0,<br>159.0, 183.0, 157.0, ...</td>\n",
       "    </tr>\n",
       "    <tr>\n",
       "        <td style=\"padding-left: 1em; padding-right: 1em; text-align: center; vertical-align: top\">90</td>\n",
       "        <td style=\"padding-left: 1em; padding-right: 1em; text-align: center; vertical-align: top\">Height: 32 Width: 32</td>\n",
       "        <td style=\"padding-left: 1em; padding-right: 1em; text-align: center; vertical-align: top\">bird</td>\n",
       "        <td style=\"padding-left: 1em; padding-right: 1em; text-align: center; vertical-align: top\">[1.71786928177, 0.0, 0.0,<br>0.0, 0.0, 0.0, ...</td>\n",
       "        <td style=\"padding-left: 1em; padding-right: 1em; text-align: center; vertical-align: top\">[216.0, 195.0, 180.0,<br>201.0, 178.0, 160.0, ...</td>\n",
       "    </tr>\n",
       "    <tr>\n",
       "        <td style=\"padding-left: 1em; padding-right: 1em; text-align: center; vertical-align: top\">97</td>\n",
       "        <td style=\"padding-left: 1em; padding-right: 1em; text-align: center; vertical-align: top\">Height: 32 Width: 32</td>\n",
       "        <td style=\"padding-left: 1em; padding-right: 1em; text-align: center; vertical-align: top\">automobile</td>\n",
       "        <td style=\"padding-left: 1em; padding-right: 1em; text-align: center; vertical-align: top\">[1.57818555832, 0.0, 0.0,<br>0.0, 0.0, 0.0, ...</td>\n",
       "        <td style=\"padding-left: 1em; padding-right: 1em; text-align: center; vertical-align: top\">[33.0, 44.0, 27.0, 29.0,<br>44.0, 31.0, 32.0, 45.0, ...</td>\n",
       "    </tr>\n",
       "    <tr>\n",
       "        <td style=\"padding-left: 1em; padding-right: 1em; text-align: center; vertical-align: top\">107</td>\n",
       "        <td style=\"padding-left: 1em; padding-right: 1em; text-align: center; vertical-align: top\">Height: 32 Width: 32</td>\n",
       "        <td style=\"padding-left: 1em; padding-right: 1em; text-align: center; vertical-align: top\">dog</td>\n",
       "        <td style=\"padding-left: 1em; padding-right: 1em; text-align: center; vertical-align: top\">[0.0, 0.0,<br>0.220677852631, 0.0,  ...</td>\n",
       "        <td style=\"padding-left: 1em; padding-right: 1em; text-align: center; vertical-align: top\">[97.0, 51.0, 31.0, 104.0,<br>58.0, 38.0, 107.0, 61.0, ...</td>\n",
       "    </tr>\n",
       "    <tr>\n",
       "        <td style=\"padding-left: 1em; padding-right: 1em; text-align: center; vertical-align: top\">121</td>\n",
       "        <td style=\"padding-left: 1em; padding-right: 1em; text-align: center; vertical-align: top\">Height: 32 Width: 32</td>\n",
       "        <td style=\"padding-left: 1em; padding-right: 1em; text-align: center; vertical-align: top\">bird</td>\n",
       "        <td style=\"padding-left: 1em; padding-right: 1em; text-align: center; vertical-align: top\">[0.0, 0.23753464222, 0.0,<br>0.0, 0.0, 0.0, ...</td>\n",
       "        <td style=\"padding-left: 1em; padding-right: 1em; text-align: center; vertical-align: top\">[93.0, 96.0, 88.0, 102.0,<br>106.0, 97.0, 117.0, ...</td>\n",
       "    </tr>\n",
       "    <tr>\n",
       "        <td style=\"padding-left: 1em; padding-right: 1em; text-align: center; vertical-align: top\">136</td>\n",
       "        <td style=\"padding-left: 1em; padding-right: 1em; text-align: center; vertical-align: top\">Height: 32 Width: 32</td>\n",
       "        <td style=\"padding-left: 1em; padding-right: 1em; text-align: center; vertical-align: top\">automobile</td>\n",
       "        <td style=\"padding-left: 1em; padding-right: 1em; text-align: center; vertical-align: top\">[0.0, 0.0, 0.0, 0.0, 0.0,<br>0.0, 7.5737862587, 0.0, ...</td>\n",
       "        <td style=\"padding-left: 1em; padding-right: 1em; text-align: center; vertical-align: top\">[35.0, 59.0, 53.0, 36.0,<br>56.0, 56.0, 42.0, 62.0, ...</td>\n",
       "    </tr>\n",
       "    <tr>\n",
       "        <td style=\"padding-left: 1em; padding-right: 1em; text-align: center; vertical-align: top\">138</td>\n",
       "        <td style=\"padding-left: 1em; padding-right: 1em; text-align: center; vertical-align: top\">Height: 32 Width: 32</td>\n",
       "        <td style=\"padding-left: 1em; padding-right: 1em; text-align: center; vertical-align: top\">bird</td>\n",
       "        <td style=\"padding-left: 1em; padding-right: 1em; text-align: center; vertical-align: top\">[0.658935725689, 0.0,<br>0.0, 0.0, 0.0, 0.0, ...</td>\n",
       "        <td style=\"padding-left: 1em; padding-right: 1em; text-align: center; vertical-align: top\">[205.0, 193.0, 195.0,<br>200.0, 187.0, 193.0, ...</td>\n",
       "    </tr>\n",
       "</table>\n",
       "[10 rows x 5 columns]<br/>\n",
       "</div>"
      ],
      "text/plain": [
       "Columns:\n",
       "\tid\tint\n",
       "\timage\tImage\n",
       "\tlabel\tstr\n",
       "\tdeep_features\tarray\n",
       "\timage_array\tarray\n",
       "\n",
       "Rows: 10\n",
       "\n",
       "Data:\n",
       "+-----+----------------------+------------+-------------------------------+\n",
       "|  id |        image         |   label    |         deep_features         |\n",
       "+-----+----------------------+------------+-------------------------------+\n",
       "|  24 | Height: 32 Width: 32 |    bird    | [0.242871761322, 1.0954537... |\n",
       "|  33 | Height: 32 Width: 32 |    cat     | [0.525087952614, 0.0, 0.0,... |\n",
       "|  36 | Height: 32 Width: 32 |    cat     | [0.566015958786, 0.0, 0.0,... |\n",
       "|  70 | Height: 32 Width: 32 |    dog     | [1.12979578972, 0.0, 0.0, ... |\n",
       "|  90 | Height: 32 Width: 32 |    bird    | [1.71786928177, 0.0, 0.0, ... |\n",
       "|  97 | Height: 32 Width: 32 | automobile | [1.57818555832, 0.0, 0.0, ... |\n",
       "| 107 | Height: 32 Width: 32 |    dog     | [0.0, 0.0, 0.220677852631,... |\n",
       "| 121 | Height: 32 Width: 32 |    bird    | [0.0, 0.23753464222, 0.0, ... |\n",
       "| 136 | Height: 32 Width: 32 | automobile | [0.0, 0.0, 0.0, 0.0, 0.0, ... |\n",
       "| 138 | Height: 32 Width: 32 |    bird    | [0.658935725689, 0.0, 0.0,... |\n",
       "+-----+----------------------+------------+-------------------------------+\n",
       "+-------------------------------+\n",
       "|          image_array          |\n",
       "+-------------------------------+\n",
       "| [73.0, 77.0, 58.0, 71.0, 6... |\n",
       "| [7.0, 5.0, 8.0, 7.0, 5.0, ... |\n",
       "| [169.0, 122.0, 65.0, 131.0... |\n",
       "| [154.0, 179.0, 152.0, 159.... |\n",
       "| [216.0, 195.0, 180.0, 201.... |\n",
       "| [33.0, 44.0, 27.0, 29.0, 4... |\n",
       "| [97.0, 51.0, 31.0, 104.0, ... |\n",
       "| [93.0, 96.0, 88.0, 102.0, ... |\n",
       "| [35.0, 59.0, 53.0, 36.0, 5... |\n",
       "| [205.0, 193.0, 195.0, 200.... |\n",
       "+-------------------------------+\n",
       "[10 rows x 5 columns]"
      ]
     },
     "execution_count": 5,
     "metadata": {},
     "output_type": "execute_result"
    }
   ],
   "source": [
    "image_train.head()"
   ]
  },
  {
   "cell_type": "markdown",
   "metadata": {},
   "source": [
    "# Train a nearest-neighbors model for retrieving images using deep features\n",
    "\n",
    "We will now build a simple image retrieval system that finds the nearest neighbors for any image."
   ]
  },
  {
   "cell_type": "code",
   "execution_count": 6,
   "metadata": {
    "collapsed": false
   },
   "outputs": [
    {
     "data": {
      "text/html": [
       "<pre>Starting brute force nearest neighbors model training.</pre>"
      ],
      "text/plain": [
       "Starting brute force nearest neighbors model training."
      ]
     },
     "metadata": {},
     "output_type": "display_data"
    }
   ],
   "source": [
    "knn_model = graphlab.nearest_neighbors.create(image_train,features=['deep_features'],\n",
    "                                             label='id')"
   ]
  },
  {
   "cell_type": "markdown",
   "metadata": {},
   "source": [
    "# Use image retrieval model with deep features to find similar images\n",
    "\n",
    "Let's find similar images to this cat picture."
   ]
  },
  {
   "cell_type": "code",
   "execution_count": 7,
   "metadata": {
    "collapsed": false
   },
   "outputs": [
    {
     "data": {
      "application/javascript": [
       "$(\"head\").append($(\"<link/>\").attr({\n",
       "  rel:  \"stylesheet\",\n",
       "  type: \"text/css\",\n",
       "  href: \"//cdnjs.cloudflare.com/ajax/libs/font-awesome/4.1.0/css/font-awesome.min.css\"\n",
       "}));\n",
       "$(\"head\").append($(\"<link/>\").attr({\n",
       "  rel:  \"stylesheet\",\n",
       "  type: \"text/css\",\n",
       "  href: \"https://static.turi.com/products/graphlab-create/2.1/canvas/css/canvas.css\"\n",
       "}));\n",
       "\n",
       "            (function(){\n",
       "\n",
       "                var e = null;\n",
       "                if (typeof element == 'undefined') {\n",
       "                    var scripts = document.getElementsByTagName('script');\n",
       "                    var thisScriptTag = scripts[scripts.length-1];\n",
       "                    var parentDiv = thisScriptTag.parentNode;\n",
       "                    e = document.createElement('div');\n",
       "                    parentDiv.appendChild(e);\n",
       "                } else {\n",
       "                    e = element[0];\n",
       "                }\n",
       "\n",
       "                if (typeof requirejs !== 'undefined') {\n",
       "                    // disable load timeout; ipython_app.js is large and can take a while to load.\n",
       "                    requirejs.config({waitSeconds: 0});\n",
       "                }\n",
       "\n",
       "                require(['https://static.turi.com/products/graphlab-create/2.1/canvas/js/ipython_app.js'], function(IPythonApp){\n",
       "                    var app = new IPythonApp();\n",
       "                    app.attachView('sarray','Images', {\"ipython\": true, \"rows\": [{\"format\": \"raw\", \"value\": [46, 45, 50, 47, 45, 51, 45, 44, 49, 41, 40, 45, 35, 34, 39, 28, 27, 32, 22, 21, 25, 16, 15, 18, 12, 12, 14, 12, 11, 14, 10, 10, 13, 8, 8, 10, 5, 5, 7, 3, 2, 4, 2, 2, 3, 2, 2, 2, 3, 3, 3, 4, 4, 4, 3, 3, 3, 3, 3, 3, 4, 4, 4, 5, 5, 6, 4, 3, 7, 4, 3, 8, 4, 3, 8, 4, 3, 8, 4, 3, 8, 4, 3, 8, 4, 3, 8, 4, 3, 9, 4, 3, 11, 4, 3, 11, 40, 39, 44, 43, 42, 47, 43, 42, 47, 39, 38, 43, 35, 34, 39, 30, 29, 34, 34, 32, 34, 52, 49, 47, 54, 52, 48, 31, 29, 27, 11, 11, 9, 8, 8, 7, 5, 6, 5, 3, 4, 4, 2, 3, 3, 2, 2, 2, 2, 2, 2, 2, 2, 2, 3, 3, 3, 4, 4, 4, 5, 5, 5, 6, 6, 6, 5, 5, 7, 5, 4, 7, 5, 5, 7, 5, 5, 7, 4, 4, 6, 4, 4, 6, 4, 4, 6, 4, 3, 9, 4, 3, 12, 5, 3, 12, 38, 37, 42, 41, 40, 45, 42, 41, 46, 40, 39, 44, 36, 35, 40, 37, 36, 40, 62, 57, 58, 101, 91, 84, 119, 108, 101, 108, 100, 94, 59, 52, 49, 18, 14, 12, 9, 6, 6, 8, 6, 6, 5, 5, 5, 3, 3, 3, 2, 2, 2, 2, 2, 2, 4, 4, 4, 5, 5, 5, 7, 7, 6, 7, 7, 7, 6, 6, 6, 6, 6, 7, 8, 8, 8, 6, 6, 6, 4, 4, 4, 3, 3, 4, 3, 4, 4, 4, 4, 6, 3, 3, 7, 2, 2, 6, 38, 37, 42, 41, 40, 46, 43, 42, 47, 41, 40, 46, 38, 37, 42, 41, 40, 44, 72, 65, 64, 107, 91, 85, 123, 105, 97, 139, 123, 116, 135, 122, 117, 77, 66, 64, 21, 14, 13, 9, 5, 5, 7, 5, 7, 5, 5, 6, 4, 4, 5, 4, 5, 6, 5, 6, 7, 6, 6, 7, 8, 8, 9, 8, 8, 9, 8, 7, 7, 9, 9, 8, 9, 9, 9, 6, 7, 6, 5, 5, 4, 6, 5, 5, 7, 5, 4, 5, 3, 2, 7, 5, 2, 31, 29, 26, 36, 37, 42, 39, 39, 46, 40, 39, 48, 41, 40, 47, 38, 36, 41, 41, 39, 40, 72, 65, 63, 109, 95, 90, 129, 113, 105, 143, 126, 115, 154, 137, 125, 143, 130, 119, 84, 75, 66, 26, 21, 15, 12, 8, 6, 9, 6, 6, 2, 1, 1, 0, 0, 0, 0, 0, 0, 2, 3, 3, 7, 5, 6, 7, 4, 6, 8, 5, 7, 6, 8, 7, 3, 9, 6, 2, 9, 5, 3, 8, 4, 5, 4, 2, 13, 5, 5, 38, 26, 21, 87, 75, 64, 129, 119, 108, 34, 36, 41, 37, 37, 45, 39, 37, 47, 39, 38, 45, 37, 35, 40, 38, 35, 37, 65, 57, 54, 102, 88, 81, 124, 107, 96, 145, 126, 111, 162, 141, 123, 164, 143, 124, 154, 133, 114, 122, 102, 84, 106, 87, 70, 97, 80, 64, 77, 65, 50, 68, 60, 46, 61, 55, 42, 47, 41, 29, 46, 39, 29, 54, 44, 36, 52, 44, 37, 38, 34, 26, 23, 23, 14, 13, 15, 6, 16, 15, 8, 35, 29, 23, 73, 61, 56, 121, 106, 95, 160, 146, 133, 167, 157, 147, 35, 37, 41, 37, 37, 45, 39, 37, 47, 39, 37, 45, 38, 35, 40, 38, 35, 36, 62, 53, 48, 103, 86, 73, 132, 112, 95, 156, 134, 116, 173, 148, 128, 187, 159, 136, 194, 162, 137, 195, 161, 135, 192, 160, 132, 191, 163, 133, 197, 173, 144, 205, 186, 157, 186, 169, 141, 165, 147, 122, 170, 150, 126, 173, 150, 126, 169, 143, 116, 152, 127, 99, 128, 106, 78, 108, 86, 60, 108, 85, 61, 130, 105, 83, 155, 129, 108, 169, 148, 133, 178, 164, 153, 176, 167, 161, 35, 37, 41, 37, 36, 44, 39, 37, 47, 40, 39, 46, 41, 39, 44, 47, 44, 46, 83, 73, 65, 129, 109, 89, 153, 131, 108, 163, 141, 121, 160, 135, 116, 158, 130, 109, 183, 150, 127, 196, 160, 135, 204, 171, 145, 194, 166, 139, 205, 179, 150, 211, 187, 156, 187, 162, 130, 198, 170, 137, 199, 166, 134, 194, 158, 124, 199, 163, 125, 199, 164, 125, 196, 162, 124, 191, 157, 122, 180, 147, 114, 171, 140, 109, 175, 146, 117, 180, 160, 143, 187, 175, 167, 180, 172, 168, 37, 38, 43, 38, 39, 46, 39, 40, 48, 42, 40, 46, 50, 44, 44, 76, 66, 60, 108, 92, 78, 109, 85, 65, 96, 71, 52, 109, 85, 69, 141, 120, 104, 155, 134, 117, 180, 155, 136, 200, 169, 149, 210, 184, 162, 218, 196, 175, 229, 206, 185, 207, 183, 161, 167, 140, 117, 161, 130, 104, 166, 132, 104, 182, 147, 116, 196, 163, 129, 199, 167, 131, 198, 165, 131, 198, 165, 133, 197, 167, 137, 196, 169, 141, 193, 170, 145, 183, 169, 154, 182, 174, 166, 179, 172, 166, 38, 39, 44, 37, 39, 46, 37, 38, 43, 46, 41, 40, 74, 59, 48, 124, 100, 79, 139, 111, 86, 96, 66, 44, 73, 37, 20, 106, 67, 53, 149, 114, 100, 173, 147, 128, 191, 166, 145, 197, 168, 146, 208, 182, 157, 210, 187, 163, 191, 166, 146, 134, 107, 90, 82, 54, 38, 80, 52, 35, 105, 76, 55, 128, 97, 70, 174, 141, 110, 195, 160, 126, 193, 155, 120, 193, 155, 120, 194, 159, 126, 199, 168, 138, 198, 171, 145, 169, 149, 131, 154, 137, 124, 163, 145, 134, 42, 42, 49, 43, 43, 47, 48, 44, 42, 62, 51, 42, 85, 63, 46, 113, 82, 58, 137, 108, 80, 142, 114, 88, 122, 80, 63, 131, 74, 64, 138, 83, 73, 142, 99, 84, 169, 137, 116, 187, 160, 135, 190, 161, 131, 164, 133, 101, 160, 128, 97, 147, 114, 83, 144, 110, 78, 155, 120, 85, 176, 141, 103, 169, 134, 95, 184, 148, 111, 199, 161, 125, 195, 157, 120, 191, 153, 116, 196, 159, 123, 195, 160, 125, 190, 156, 124, 169, 135, 112, 140, 106, 89, 148, 113, 97, 42, 42, 50, 50, 48, 48, 71, 64, 56, 95, 81, 67, 98, 77, 58, 117, 90, 70, 140, 118, 100, 167, 153, 139, 182, 154, 150, 166, 123, 127, 188, 146, 152, 215, 186, 186, 220, 203, 196, 211, 197, 185, 202, 178, 155, 193, 161, 131, 184, 151, 119, 177, 144, 107, 170, 137, 97, 174, 140, 98, 183, 148, 106, 186, 151, 111, 187, 153, 116, 197, 163, 127, 205, 172, 137, 196, 163, 128, 192, 158, 122, 200, 165, 128, 198, 162, 124, 192, 159, 127, 191, 159, 131, 189, 158, 129, 53, 50, 59, 65, 61, 59, 90, 83, 72, 106, 96, 81, 119, 105, 92, 149, 133, 123, 158, 144, 138, 162, 152, 149, 169, 151, 154, 152, 128, 136, 171, 152, 160, 203, 194, 197, 216, 210, 209, 205, 195, 192, 201, 181, 171, 209, 184, 167, 213, 187, 164, 203, 177, 147, 191, 164, 129, 182, 154, 118, 185, 156, 121, 191, 162, 128, 198, 169, 135, 215, 188, 156, 234, 208, 177, 226, 201, 170, 196, 169, 136, 194, 162, 126, 203, 168, 130, 198, 164, 128, 197, 166, 132, 204, 175, 142, 58, 57, 63, 78, 72, 69, 104, 93, 83, 117, 104, 90, 130, 116, 104, 141, 127, 120, 140, 125, 120, 128, 110, 107, 117, 96, 96, 122, 102, 103, 139, 122, 123, 156, 143, 143, 182, 168, 167, 192, 174, 173, 191, 172, 164, 196, 177, 163, 218, 200, 183, 225, 208, 186, 218, 200, 177, 204, 186, 161, 188, 167, 140, 179, 155, 127, 181, 155, 124, 183, 157, 127, 197, 173, 144, 225, 201, 172, 222, 197, 168, 190, 163, 132, 180, 151, 119, 188, 156, 120, 196, 161, 125, 198, 163, 129, 72, 73, 76, 86, 78, 74, 99, 83, 73, 107, 86, 73, 112, 91, 78, 111, 93, 80, 106, 88, 81, 113, 95, 92, 143, 125, 124, 172, 155, 154, 180, 164, 164, 171, 154, 155, 156, 141, 142, 157, 142, 143, 167, 153, 144, 180, 168, 154, 194, 183, 170, 216, 207, 194, 231, 223, 207, 232, 220, 202, 210, 196, 174, 190, 171, 146, 186, 163, 135, 181, 156, 127, 170, 145, 115, 187, 161, 131, 218, 190, 161, 217, 189, 159, 197, 168, 138, 188, 156, 121, 189, 155, 117, 186, 152, 115, 55, 54, 55, 71, 62, 57, 87, 69, 58, 96, 75, 60, 96, 74, 59, 94, 74, 61, 93, 76, 67, 117, 103, 99, 154, 141, 139, 176, 165, 163, 200, 190, 190, 212, 204, 206, 196, 190, 193, 167, 162, 165, 150, 145, 142, 160, 156, 148, 164, 162, 155, 191, 189, 181, 226, 223, 213, 238, 232, 217, 221, 212, 193, 205, 190, 168, 193, 173, 148, 192, 169, 143, 190, 166, 138, 177, 150, 120, 181, 151, 119, 197, 164, 130, 209, 175, 139, 207, 173, 136, 200, 167, 129, 189, 156, 119, 48, 46, 46, 73, 62, 56, 87, 68, 56, 91, 68, 52, 94, 71, 55, 101, 79, 65, 113, 95, 84, 129, 115, 105, 141, 130, 122, 155, 146, 140, 182, 176, 172, 198, 195, 193, 206, 206, 206, 210, 211, 213, 204, 205, 203, 211, 212, 208, 206, 208, 204, 211, 213, 208, 239, 239, 230, 247, 242, 228, 230, 219, 201, 214, 198, 176, 192, 169, 144, 180, 155, 127, 184, 157, 127, 183, 154, 122, 174, 142, 109, 167, 133, 98, 171, 136, 100, 177, 144, 108, 193, 161, 124, 191, 160, 124, 51, 47, 48, 65, 53, 46, 78, 59, 45, 88, 63, 47, 92, 67, 51, 98, 75, 60, 111, 92, 77, 122, 106, 90, 127, 113, 99, 131, 121, 108, 145, 137, 128, 158, 155, 148, 162, 162, 157, 175, 177, 174, 192, 194, 191, 214, 215, 212, 219, 221, 217, 226, 227, 220, 237, 234, 224, 237, 229, 213, 226, 213, 192, 212, 193, 167, 193, 166, 136, 180, 150, 119, 180, 150, 118, 184, 154, 122, 191, 161, 128, 192, 162, 130, 190, 159, 127, 186, 156, 122, 194, 164, 129, 193, 163, 129, 52, 48, 51, 64, 54, 49, 82, 65, 53, 95, 72, 56, 97, 71, 56, 95, 69, 56, 99, 75, 62, 105, 87, 72, 112, 96, 82, 120, 106, 93, 124, 114, 102, 131, 123, 112, 141, 135, 126, 152, 148, 139, 170, 169, 161, 180, 180, 171, 192, 189, 177, 207, 200, 185, 215, 204, 186, 213, 200, 179, 204, 190, 168, 203, 188, 164, 205, 187, 160, 209, 189, 162, 209, 187, 160, 209, 187, 160, 211, 188, 160, 209, 184, 157, 204, 178, 151, 198, 172, 143, 195, 168, 138, 186, 159, 130, 55, 51, 56, 62, 53, 50, 78, 63, 51, 98, 76, 61, 108, 83, 66, 110, 82, 69, 106, 80, 66, 102, 79, 64, 108, 87, 71, 116, 97, 82, 119, 103, 88, 124, 111, 96, 132, 121, 106, 152, 142, 128, 169, 162, 147, 172, 165, 149, 187, 176, 158, 185, 172, 151, 194, 179, 156, 213, 200, 178, 215, 203, 184, 222, 212, 192, 229, 217, 194, 229, 216, 192, 224, 209, 184, 221, 203, 179, 219, 199, 173, 211, 188, 162, 203, 180, 154, 196, 171, 145, 193, 167, 140, 187, 160, 133, 54, 50, 53, 60, 52, 46, 68, 53, 39, 84, 63, 45, 102, 77, 58, 111, 84, 68, 110, 82, 66, 110, 84, 65, 120, 94, 74, 124, 101, 82, 126, 106, 87, 127, 110, 91, 122, 105, 87, 122, 106, 89, 122, 108, 90, 139, 124, 106, 148, 132, 111, 138, 121, 98, 160, 143, 121, 175, 161, 141, 182, 170, 153, 208, 198, 180, 222, 209, 187, 221, 206, 182, 210, 194, 170, 201, 182, 158, 200, 179, 153, 200, 178, 151, 200, 176, 150, 197, 171, 144, 197, 169, 141, 190, 161, 134, 52, 49, 50, 62, 54, 46, 68, 54, 38, 77, 56, 36, 91, 66, 45, 101, 74, 56, 103, 76, 59, 110, 84, 65, 126, 101, 82, 137, 114, 94, 139, 119, 100, 141, 123, 105, 138, 122, 104, 131, 116, 99, 129, 115, 98, 141, 126, 108, 135, 117, 96, 127, 107, 84, 147, 126, 103, 140, 119, 98, 149, 132, 112, 181, 167, 146, 183, 169, 147, 183, 169, 145, 190, 175, 150, 193, 175, 150, 197, 177, 151, 196, 173, 147, 199, 175, 149, 199, 172, 143, 194, 164, 132, 187, 157, 125, 54, 51, 50, 68, 59, 49, 78, 63, 45, 86, 64, 43, 94, 68, 47, 99, 72, 53, 102, 76, 59, 110, 87, 71, 128, 107, 90, 145, 126, 108, 151, 134, 116, 153, 137, 121, 156, 142, 125, 158, 145, 129, 161, 149, 135, 173, 160, 145, 173, 156, 138, 153, 133, 111, 157, 135, 111, 153, 129, 104, 158, 136, 111, 157, 137, 113, 164, 148, 124, 186, 171, 147, 205, 188, 163, 209, 190, 165, 207, 186, 160, 204, 181, 154, 196, 171, 144, 184, 156, 123, 188, 158, 120, 193, 162, 124, 57, 53, 50, 83, 71, 56, 92, 72, 50, 93, 66, 46, 93, 64, 46, 103, 75, 55, 113, 88, 68, 113, 92, 75, 122, 102, 85, 138, 119, 99, 154, 137, 115, 179, 163, 141, 187, 171, 151, 177, 162, 145, 164, 148, 133, 174, 158, 142, 190, 176, 160, 190, 177, 158, 194, 180, 158, 179, 163, 136, 174, 156, 125, 169, 148, 117, 177, 154, 126, 178, 155, 127, 182, 157, 129, 189, 163, 135, 194, 167, 137, 190, 162, 132, 180, 151, 120, 191, 158, 124, 202, 166, 130, 196, 159, 122, 50, 45, 41, 77, 64, 46, 87, 65, 42, 97, 67, 47, 107, 75, 57, 113, 84, 62, 115, 87, 63, 120, 92, 70, 137, 110, 87, 159, 135, 110, 177, 157, 131, 193, 176, 152, 202, 187, 167, 196, 181, 165, 185, 172, 154, 184, 170, 151, 188, 175, 156, 208, 195, 175, 193, 179, 156, 196, 177, 150, 199, 175, 144, 198, 171, 137, 192, 162, 129, 186, 155, 122, 181, 149, 116, 177, 144, 110, 174, 140, 105, 180, 145, 110, 192, 157, 121, 202, 163, 126, 201, 160, 122, 196, 154, 116, 47, 40, 35, 87, 73, 54, 104, 80, 56, 113, 82, 61, 119, 86, 66, 122, 91, 67, 129, 97, 70, 138, 103, 75, 142, 108, 80, 150, 120, 90, 169, 144, 115, 190, 170, 143, 198, 181, 159, 199, 183, 165, 204, 190, 168, 211, 197, 174, 207, 193, 170, 194, 178, 154, 185, 166, 141, 203, 178, 149, 198, 167, 134, 199, 165, 130, 202, 167, 131, 197, 161, 124, 192, 154, 117, 195, 157, 118, 202, 163, 123, 208, 168, 127, 205, 164, 123, 190, 148, 107, 179, 137, 95, 180, 138, 96, 67, 59, 52, 106, 89, 69, 117, 91, 66, 117, 84, 62, 120, 85, 64, 131, 98, 73, 136, 103, 74, 138, 101, 73, 141, 105, 75, 153, 119, 87, 167, 137, 103, 181, 154, 122, 187, 161, 133, 196, 171, 145, 211, 188, 163, 201, 180, 156, 187, 167, 143, 205, 186, 160, 194, 173, 144, 190, 165, 132, 195, 165, 129, 201, 168, 130, 208, 172, 135, 211, 175, 138, 208, 170, 133, 198, 159, 121, 187, 147, 108, 187, 146, 106, 196, 155, 114, 196, 157, 116, 197, 159, 118, 200, 163, 123, 71, 63, 54, 113, 97, 77, 130, 105, 81, 134, 103, 81, 144, 113, 91, 151, 122, 97, 150, 122, 94, 152, 121, 93, 161, 129, 99, 173, 142, 110, 182, 151, 117, 188, 157, 124, 187, 157, 125, 183, 153, 123, 189, 161, 135, 193, 167, 143, 188, 164, 138, 213, 189, 163, 206, 182, 153, 196, 172, 139, 199, 173, 136, 211, 181, 144, 217, 183, 148, 217, 181, 147, 210, 174, 138, 197, 161, 123, 195, 158, 119, 200, 163, 121, 202, 164, 123, 201, 165, 125, 205, 171, 132, 219, 186, 148, 60, 56, 42, 101, 88, 70, 119, 97, 76, 135, 109, 85, 148, 124, 98, 147, 126, 99, 153, 132, 105, 166, 142, 116, 174, 149, 122, 180, 155, 128, 185, 159, 133, 193, 167, 141, 206, 180, 154, 191, 165, 139, 185, 163, 138, 208, 187, 163, 186, 165, 140, 221, 199, 173, 222, 199, 172, 193, 169, 141, 207, 182, 153, 227, 200, 170, 227, 195, 165, 226, 192, 160, 224, 190, 155, 221, 188, 150, 214, 181, 141, 213, 181, 138, 221, 189, 144, 217, 186, 145, 212, 181, 144, 208, 177, 141, 60, 55, 41, 83, 69, 52, 94, 72, 49, 111, 83, 56, 120, 90, 61, 132, 103, 73, 153, 126, 96, 163, 136, 109, 164, 137, 111, 175, 148, 122, 188, 161, 135, 195, 168, 142, 202, 176, 150, 189, 162, 136, 184, 157, 130, 199, 171, 143, 166, 137, 108, 189, 160, 130, 232, 202, 170, 219, 187, 156, 176, 144, 112, 196, 164, 130, 221, 188, 153, 223, 190, 154, 219, 186, 148, 214, 181, 141, 211, 179, 137, 209, 177, 133, 211, 179, 134, 205, 171, 130, 191, 155, 118, 175, 140, 103, 52, 46, 36, 77, 66, 52, 87, 70, 51, 92, 71, 48, 95, 71, 47, 110, 84, 60, 135, 108, 83, 151, 122, 95, 152, 122, 96, 149, 119, 92, 151, 121, 95, 170, 140, 113, 188, 158, 132, 192, 162, 136, 182, 150, 121, 172, 138, 108, 169, 135, 104, 162, 127, 95, 176, 140, 106, 194, 157, 122, 180, 143, 108, 154, 117, 82, 173, 137, 102, 188, 153, 117, 193, 158, 121, 180, 146, 108, 168, 133, 95, 169, 134, 95, 173, 139, 99, 175, 139, 102, 171, 132, 97, 154, 116, 81, 41, 38, 36, 52, 49, 43, 49, 45, 36, 35, 30, 21, 35, 27, 19, 37, 28, 22, 46, 35, 29, 70, 57, 49, 75, 62, 53, 73, 60, 52, 79, 66, 58, 84, 70, 61, 88, 75, 65, 89, 75, 67, 90, 75, 65, 81, 65, 53, 84, 68, 57, 82, 66, 54, 76, 58, 46, 78, 59, 44, 81, 62, 48, 83, 63, 49, 78, 60, 48, 78, 59, 48, 69, 51, 40, 58, 40, 30, 50, 32, 22, 60, 42, 31, 86, 68, 55, 95, 77, 64, 87, 69, 59, 87, 69, 58], \"height\": 32, \"channels\": 3, \"width\": 32, \"type\": \"image\", \"id\": 140277259416144}], \"selected_variable\": {\"name\": [\"<SArray>\"], \"dtype\": \"Image\", \"view_component\": \"Images\", \"view_file\": \"sarray\", \"descriptives\": {\"rows\": 1}, \"type\": \"SArray\", \"view_components\": [\"Images\"]}}, e);\n",
       "                });\n",
       "            })();\n",
       "        "
      ]
     },
     "metadata": {},
     "output_type": "display_data"
    }
   ],
   "source": [
    "graphlab.canvas.set_target('ipynb')\n",
    "cat = image_train[18:19]\n",
    "cat['image'].show()"
   ]
  },
  {
   "cell_type": "code",
   "execution_count": null,
   "metadata": {
    "collapsed": false
   },
   "outputs": [],
   "source": [
    "knn_model.query(cat)"
   ]
  },
  {
   "cell_type": "markdown",
   "metadata": {},
   "source": [
    "We are going to create a simple function to view the nearest neighbors to save typing:"
   ]
  },
  {
   "cell_type": "code",
   "execution_count": null,
   "metadata": {
    "collapsed": true
   },
   "outputs": [],
   "source": [
    "def get_images_from_ids(query_result):\n",
    "    return image_train.filter_by(query_result['reference_label'],'id')"
   ]
  },
  {
   "cell_type": "code",
   "execution_count": null,
   "metadata": {
    "collapsed": false
   },
   "outputs": [],
   "source": [
    "cat_neighbors = get_images_from_ids(knn_model.query(cat))"
   ]
  },
  {
   "cell_type": "code",
   "execution_count": null,
   "metadata": {
    "collapsed": false
   },
   "outputs": [],
   "source": [
    "cat_neighbors['image'].show()"
   ]
  },
  {
   "cell_type": "markdown",
   "metadata": {},
   "source": [
    "Very cool results showing similar cats.\n",
    "\n",
    "## Finding similar images to a car"
   ]
  },
  {
   "cell_type": "code",
   "execution_count": null,
   "metadata": {
    "collapsed": false
   },
   "outputs": [],
   "source": [
    "car = image_train[8:9]\n",
    "car['image'].show()"
   ]
  },
  {
   "cell_type": "code",
   "execution_count": null,
   "metadata": {
    "collapsed": false
   },
   "outputs": [],
   "source": [
    "get_images_from_ids(knn_model.query(car))['image'].show()"
   ]
  },
  {
   "cell_type": "markdown",
   "metadata": {},
   "source": [
    "# Just for fun, let's create a lambda to find and show nearest neighbor images"
   ]
  },
  {
   "cell_type": "code",
   "execution_count": null,
   "metadata": {
    "collapsed": true
   },
   "outputs": [],
   "source": [
    "show_neighbors = lambda i: get_images_from_ids(knn_model.query(image_train[i:i+1]))['image'].show()"
   ]
  },
  {
   "cell_type": "code",
   "execution_count": null,
   "metadata": {
    "collapsed": false
   },
   "outputs": [],
   "source": [
    "show_neighbors(8)"
   ]
  },
  {
   "cell_type": "code",
   "execution_count": null,
   "metadata": {
    "collapsed": false
   },
   "outputs": [],
   "source": [
    "show_neighbors(26)"
   ]
  },
  {
   "cell_type": "code",
   "execution_count": null,
   "metadata": {
    "collapsed": true
   },
   "outputs": [],
   "source": []
  }
 ],
 "metadata": {
  "kernelspec": {
   "display_name": "Python 2",
   "language": "python",
   "name": "python2"
  },
  "language_info": {
   "codemirror_mode": {
    "name": "ipython",
    "version": 2
   },
   "file_extension": ".py",
   "mimetype": "text/x-python",
   "name": "python",
   "nbconvert_exporter": "python",
   "pygments_lexer": "ipython2",
   "version": "2.7.12"
  }
 },
 "nbformat": 4,
 "nbformat_minor": 0
}
